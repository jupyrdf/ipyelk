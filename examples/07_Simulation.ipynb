{
 "cells": [
  {
   "cell_type": "markdown",
   "metadata": {},
   "source": [
    "# 🦌 ELK Simulation Plumbing 🐺🤓\n",
    "\n",
    "`IPyElk` can serve as a rich, interactive visualization for complex systems that change\n",
    "over time.\n",
    "\n",
    "> This is a _🤓-behind-the-curtain_ notebook: see the\n",
    "> [demo notebook](08_Simulation_App.ipynb) for what you'd want to show to an audience,\n",
    "> while still having interactive control of key simulation parameters."
   ]
  },
  {
   "cell_type": "code",
   "execution_count": null,
   "metadata": {},
   "outputs": [],
   "source": [
    "import json\n",
    "import math\n",
    "import re\n",
    "from datetime import datetime\n",
    "from datetime import datetime as dt\n",
    "from datetime import timedelta\n",
    "from pathlib import Path\n",
    "\n",
    "import bqplot as B\n",
    "import bqplot.pyplot as plt\n",
    "import ipywidgets as W\n",
    "import networkx\n",
    "import pandas\n",
    "import traitlets as T\n",
    "from bqplot.traits import convert_to_date\n",
    "from IPython.display import HTML, display\n",
    "from numpy.random import normal, uniform\n",
    "\n",
    "import ipyelk\n",
    "import ipyelk.tools\n",
    "from ipyelk.contrib.molds.connectors import StraightArrow\n",
    "from ipyelk.elements import Label, Node, Port, layout_options"
   ]
  },
  {
   "cell_type": "markdown",
   "metadata": {},
   "source": [
    "## Model Populations"
   ]
  },
  {
   "cell_type": "markdown",
   "metadata": {},
   "source": [
    "The models will be \"dumb\" sliders."
   ]
  },
  {
   "cell_type": "code",
   "execution_count": null,
   "metadata": {},
   "outputs": [],
   "source": [
    "populations = earth, grass, deer, wolves, corpses, poop = [\n",
    "    W.IntSlider(value=v, description=d, min_value=0, max_value=1000)\n",
    "    for d, v in {\"🌎\": 10, \"🌱\": 60, \"🦌\": 30, \"🐺\": 2, \"💀\": 5, \"💩\": 5}.items()\n",
    "]"
   ]
  },
  {
   "cell_type": "markdown",
   "metadata": {},
   "source": [
    "## Model Time"
   ]
  },
  {
   "cell_type": "code",
   "execution_count": null,
   "metadata": {},
   "outputs": [],
   "source": [
    "speed = W.IntSlider(value=2000, description=\"🐢🐰\", min=1, max=5000)\n",
    "play = W.Play(max=1000, show_repeat=False)\n",
    "live_plot = W.Checkbox(True, description=\"📉\", layout=dict(max_width=\"12em\"))\n",
    "live_elk = W.Checkbox(True, description=\"🌐\", layout=dict(max_width=\"12em\"))\n",
    "T.link((speed, \"value\"), (play, \"interval\"))\n",
    "date = W.DatePicker(value=datetime.now(), description=\"📆\")\n",
    "months = [\n",
    "    (datetime(month=m, year=date.value.year, day=1).strftime(\"%b\"), m)\n",
    "    for m in range(1, 13)\n",
    "]\n",
    "history = None"
   ]
  },
  {
   "cell_type": "code",
   "execution_count": null,
   "metadata": {},
   "outputs": [],
   "source": [
    "def update_history():\n",
    "    global history\n",
    "\n",
    "    update = pandas.DataFrame(\n",
    "        [\n",
    "            dict(Date=date.value, Name=p.description, Population=p.value)\n",
    "            for p in populations\n",
    "        ]\n",
    "    )\n",
    "    if history is None:\n",
    "        history = update\n",
    "    else:\n",
    "        history = pandas.concat([history, update])\n",
    "\n",
    "\n",
    "update_history()"
   ]
  },
  {
   "cell_type": "markdown",
   "metadata": {},
   "source": [
    "# Model Behaviors\n",
    "\n",
    "The running of a simulation is entertaining to watch, but even more fun if it can be\n",
    "configured."
   ]
  },
  {
   "cell_type": "code",
   "execution_count": null,
   "metadata": {},
   "outputs": [],
   "source": [
    "behaviors = set()\n",
    "knobs = set()"
   ]
  },
  {
   "cell_type": "markdown",
   "metadata": {},
   "source": [
    "### 🌱 Behaviors"
   ]
  },
  {
   "cell_type": "code",
   "execution_count": null,
   "metadata": {},
   "outputs": [],
   "source": [
    "sprout_season = W.SelectionRangeSlider(description=\"🌱📆\", value=(3, 10), options=months)\n",
    "sprout_rate = W.IntSlider(10, description=\"🌱📶\")\n",
    "knobs |= {sprout_season, sprout_rate}\n",
    "behaviors |= {(earth, \"grows\", grass, \"up\")}"
   ]
  },
  {
   "cell_type": "code",
   "execution_count": null,
   "metadata": {},
   "outputs": [],
   "source": [
    "def grass_tick():\n",
    "    start, end = sprout_season.value\n",
    "    if start <= date.value.month <= end:\n",
    "        grass.value += sprout_rate.value\n",
    "        earth.value -= 1"
   ]
  },
  {
   "cell_type": "markdown",
   "metadata": {},
   "source": [
    "### 🦌 Behaviors"
   ]
  },
  {
   "cell_type": "code",
   "execution_count": null,
   "metadata": {},
   "outputs": [],
   "source": [
    "deer_appetite = W.FloatSlider(0.15, description=\"🦌🍽️\")\n",
    "fawn_season = W.SelectionRangeSlider(description=\"🦌📆\", value=(4, 7), options=months)\n",
    "fawn_rate = W.FloatSlider(0.25, description=\"🦌🍼\")\n",
    "knobs |= {deer_appetite, fawn_season, fawn_rate}\n",
    "behaviors |= {\n",
    "    (grass, \"eaten by\", deer, \"down\"),\n",
    "    (deer, \"make\", poop, \"up\"),\n",
    "    (deer, \"becomes\", corpses, \"up\"),\n",
    "    (deer, \"reproduce\", deer, \"up\"),\n",
    "}"
   ]
  },
  {
   "cell_type": "code",
   "execution_count": null,
   "metadata": {},
   "outputs": [],
   "source": [
    "def deer_tick():\n",
    "    if not deer.value:\n",
    "        return\n",
    "    start, end = fawn_season.value\n",
    "    if start <= date.value.month <= end:\n",
    "        new_deer = (deer.value * fawn_rate.value) or 1\n",
    "        deer.value += new_deer\n",
    "    eaten = deer.value * deer_appetite.value\n",
    "    grass.value -= eaten\n",
    "    poop.value += eaten\n",
    "    if not grass.value:\n",
    "        died = deer.value / 4\n",
    "        deer.value -= died\n",
    "        corpses.value += died\n",
    "    if uniform() > 0.8:\n",
    "        deer.value -= 1\n",
    "        corpses.value += 1"
   ]
  },
  {
   "cell_type": "markdown",
   "metadata": {},
   "source": [
    "### 🐺 Behaviors"
   ]
  },
  {
   "cell_type": "code",
   "execution_count": null,
   "metadata": {},
   "outputs": [],
   "source": [
    "wolf_appetite = W.FloatSlider(0.1, description=\"🐺🍽️\")\n",
    "pup_season = W.SelectionRangeSlider(description=\"🐺📆\", value=(4, 4), options=months)\n",
    "pup_rate = W.FloatSlider(0.25, description=\"🐺🍼\")\n",
    "pack_size = W.IntSlider(6, description=\"🐺🐺\", min_value=1)\n",
    "knobs |= {wolf_appetite, pup_season, pup_rate, pack_size}\n",
    "behaviors |= {\n",
    "    (deer, \"eaten by\", wolves, \"down\"),\n",
    "    (wolves, \"make\", poop, \"up\"),\n",
    "    (corpses, \"eaten by\", wolves, \"down\"),\n",
    "    (wolves, \"becomes\", corpses, \"up\"),\n",
    "    (wolves, \"reproduce\", wolves, \"up\"),\n",
    "}"
   ]
  },
  {
   "cell_type": "code",
   "execution_count": null,
   "metadata": {},
   "outputs": [],
   "source": [
    "def wolf_tick():\n",
    "    if not wolves.value:\n",
    "        return\n",
    "    start, end = pup_season.value\n",
    "    if start <= date.value.month <= end:\n",
    "        wolves.value += pup_rate.value\n",
    "    hungry = wolves.value\n",
    "\n",
    "    if uniform() > 0.1:\n",
    "        kills = min(deer.value, wolves.value / pack_size.value)\n",
    "        deer.value -= kills\n",
    "        corpses.value += kills\n",
    "        hungry -= kills * pack_size.value\n",
    "        poop.value += kills\n",
    "\n",
    "    if hungry > 0 and corpses.value:\n",
    "        corpses.value -= 1\n",
    "        hungry = hungry - pack_size.value\n",
    "        poop.value += 1\n",
    "\n",
    "    if hungry > 0:\n",
    "        corpses.value += 1\n",
    "        wolves.value -= 1"
   ]
  },
  {
   "cell_type": "markdown",
   "metadata": {},
   "source": [
    "### 💀 Behaviors"
   ]
  },
  {
   "cell_type": "code",
   "execution_count": null,
   "metadata": {},
   "outputs": [],
   "source": [
    "behaviors |= {\n",
    "    (corpses, \"decomposes into\", earth, \"up\"),\n",
    "}"
   ]
  },
  {
   "cell_type": "code",
   "execution_count": null,
   "metadata": {},
   "outputs": [],
   "source": [
    "def corpses_tick():\n",
    "    if not corpses.value:\n",
    "        return\n",
    "    decayed = corpses.value / 4\n",
    "    earth.value += decayed\n",
    "    corpses.value -= decayed"
   ]
  },
  {
   "cell_type": "markdown",
   "metadata": {},
   "source": [
    "### 💩 Behaviors"
   ]
  },
  {
   "cell_type": "code",
   "execution_count": null,
   "metadata": {},
   "outputs": [],
   "source": [
    "behaviors |= {\n",
    "    (poop, \"decomposes into\", earth, \"up\"),\n",
    "}"
   ]
  },
  {
   "cell_type": "code",
   "execution_count": null,
   "metadata": {},
   "outputs": [],
   "source": [
    "def poop_tick():\n",
    "    if not poop.value:\n",
    "        return\n",
    "    decayed = poop.value / 2\n",
    "    earth.value += decayed\n",
    "    poop.value -= decayed"
   ]
  },
  {
   "cell_type": "markdown",
   "metadata": {},
   "source": [
    "## Build the Graph\n",
    "\n",
    "Get ready to build up the new `networkx` graph from the populations/history.\n",
    "\n",
    "We'll do some heavy customization, going a little deeper than the\n",
    "[layout transformer options example](./103_transformer_layout_options.ipynb)."
   ]
  },
  {
   "cell_type": "code",
   "execution_count": null,
   "metadata": {},
   "outputs": [],
   "source": [
    "node_label_options = dict(\n",
    "    layoutOptions={\n",
    "        layout_options.NodeLabelPlacement.identifier: \"H_CENTER V_CENTER INSIDE\"\n",
    "    }\n",
    ")\n",
    "\n",
    "node_options = dict(\n",
    "    layoutOptions={\n",
    "        layout_options.NodeSizeConstraints.identifier: \"NODE_LABELS PORTS PORT_LABELS\",\n",
    "        layout_options.NodeLabelPlacement.identifier: \"H_CENTER V_CENTER\",\n",
    "    }\n",
    ")\n",
    "\n",
    "edge_label_options = dict(\n",
    "    layoutOptions={layout_options.EdgeLabelSideSelection.identifier: \"SMART_UP\"}\n",
    ")"
   ]
  },
  {
   "cell_type": "markdown",
   "metadata": {},
   "source": [
    "We'll draw some \"cute\" labels, consisting of the emoji repeated a number of times, put\n",
    "into a box."
   ]
  },
  {
   "cell_type": "code",
   "execution_count": null,
   "metadata": {},
   "outputs": [],
   "source": [
    "def pretty_label(population):\n",
    "    txt = population.description * population.value\n",
    "    d = math.ceil(math.sqrt(len(txt)))\n",
    "    return re.sub(f\"(.{{,{d}}})\", r\"\\1\\n\", txt).strip().splitlines()"
   ]
  },
  {
   "cell_type": "code",
   "execution_count": null,
   "metadata": {},
   "outputs": [],
   "source": [
    "arrow = StraightArrow(identifier=\"arrow\")\n",
    "\n",
    "\n",
    "def make_edge_properties(direction):\n",
    "    return dict(\n",
    "        properties=dict(\n",
    "            cssClasses=direction,\n",
    "            shape=dict(\n",
    "                end=arrow.identifier,\n",
    "            ),\n",
    "        )\n",
    "    )"
   ]
  },
  {
   "cell_type": "code",
   "execution_count": null,
   "metadata": {},
   "outputs": [],
   "source": [
    "def make_graph():\n",
    "\n",
    "    graph = networkx.MultiDiGraph()\n",
    "    [\n",
    "        graph.add_node(\n",
    "            p.description,\n",
    "            id=f\"{p.description}\",\n",
    "            labels=[\n",
    "                Label(id=f\"l_{p.description}_{i}\", text=line, **node_label_options)\n",
    "                for i, line in enumerate(pretty_label(p))\n",
    "            ],\n",
    "            **node_options,\n",
    "        )\n",
    "        # hide a behavior if empty\n",
    "        for p in populations\n",
    "        if p.value\n",
    "    ]\n",
    "\n",
    "    [\n",
    "        graph.add_edge(\n",
    "            eaten.description,\n",
    "            eater.description,\n",
    "            id=f\"e_{eater.description}_eats_{eaten.description}\",\n",
    "            labels=[\n",
    "                Label(\n",
    "                    text=text,\n",
    "                    id=f\"l_{eater.description}_eats_{eaten.description}\",\n",
    "                    **edge_label_options,\n",
    "                )\n",
    "            ],\n",
    "            **make_edge_properties(direction),\n",
    "        )\n",
    "        for eaten, text, eater, direction in behaviors\n",
    "        # hide a behavior if either party is empty\n",
    "        if eater.value and eaten.value\n",
    "    ]\n",
    "    return graph"
   ]
  },
  {
   "cell_type": "markdown",
   "metadata": {},
   "source": [
    "## Make the Elk"
   ]
  },
  {
   "cell_type": "code",
   "execution_count": null,
   "metadata": {},
   "outputs": [],
   "source": [
    "loader = ipyelk.NXLoader(\n",
    "    default_root_opts={\n",
    "        layout_options.EdgeRouting.identifier: \"SPLINES\",\n",
    "        layout_options.NodeSizeConstraints.identifier: \"NODE_LABELS\",\n",
    "        layout_options.HierarchyHandling.identifier: \"INCLUDE_CHILDREN\",\n",
    "    },\n",
    ")\n",
    "\n",
    "elk = ipyelk.Diagram(\n",
    "    source=loader.load(graph=make_graph(), root_id=\"🏡\"),\n",
    "    layout=dict(display=\"flex\", flex=\"1\"),\n",
    "    style={\n",
    "        \" rect.elknode\": {\n",
    "            \"stroke\": \"transparent !important\",\n",
    "            \"fill\": \"transparent !important\",\n",
    "        },\n",
    "        \" .elkedge\": {\"font-weight\": \"bold\"},\n",
    "        \" .up path\": {\"stroke\": \"blue !important\", \"opacity\": \"0.7\"},\n",
    "        \" .up .arrow\": {\"fill\": \"blue !important\", \"opacity\": \"0.7\"},\n",
    "        \" .down path\": {\"stroke\": \"red !important\", \"opacity\": \"0.7\"},\n",
    "        \" .down.elkedge\": {\"stroke-dasharray\": \"4\", \"opacity\": \"0.7\"},\n",
    "        \" .down .arrow\": {\"fill\": \"red !important\", \"opacity\": \"0.7\"},\n",
    "    },\n",
    ")"
   ]
  },
  {
   "cell_type": "markdown",
   "metadata": {},
   "source": [
    "## Handle time changing"
   ]
  },
  {
   "cell_type": "code",
   "execution_count": null,
   "metadata": {},
   "outputs": [],
   "source": [
    "def update_elk(change=None):\n",
    "    if not live_elk.value:\n",
    "        return\n",
    "    elk.source = loader.load(graph=make_graph(), root_id=\"🏡\")"
   ]
  },
  {
   "cell_type": "code",
   "execution_count": null,
   "metadata": {},
   "outputs": [],
   "source": [
    "def tick(change=None):\n",
    "    date.value = date.value + timedelta(days=7)\n",
    "    poop_tick()\n",
    "    corpses_tick()\n",
    "    grass_tick()\n",
    "    deer_tick()\n",
    "    wolf_tick()\n",
    "    update_history()\n",
    "    update_elk()\n",
    "    update_plot()"
   ]
  },
  {
   "cell_type": "markdown",
   "metadata": {},
   "source": [
    "Wire up observers. Using `lambda` allows for live modification of the behaviors, even\n",
    "while the simulation is running."
   ]
  },
  {
   "cell_type": "code",
   "execution_count": null,
   "metadata": {},
   "outputs": [],
   "source": [
    "[p.observe(lambda c: update_elk(), \"value\") for p in populations]\n",
    "live_plot.observe(lambda c: update_plot(), \"value\")\n",
    "live_elk.observe(lambda c: update_elk(), \"value\")\n",
    "play.observe(lambda c: tick(), \"value\")"
   ]
  },
  {
   "cell_type": "markdown",
   "metadata": {},
   "source": [
    "## Visualize Time"
   ]
  },
  {
   "cell_type": "markdown",
   "metadata": {},
   "source": [
    "Graph diagrams aren't great for showing changes over time. To see these, we'll use\n",
    "[bqplot](https://github.com/bqplot/bqplot)."
   ]
  },
  {
   "cell_type": "code",
   "execution_count": null,
   "metadata": {},
   "outputs": [],
   "source": [
    "COLORS = [\n",
    "    \"rgb(228,26,28)\",\n",
    "    \"rgb(55,126,184)\",\n",
    "    \"rgb(77,175,74)\",\n",
    "    \"rgb(152,78,163)\",\n",
    "    \"rgb(255,127,0)\",\n",
    "    \"rgb(255,255,51)\",\n",
    "    \"rgb(166,86,40)\",\n",
    "    \"rgb(247,129,191)\",\n",
    "    \"rgb(153,153,153)\",\n",
    "]\n",
    "\n",
    "\n",
    "def make_bqplot():\n",
    "    x = B.DateScale()\n",
    "    y = B.LinearScale()\n",
    "    scales = dict(x=x, y=y)\n",
    "    line_opts = dict(scales=scales, stroke_width=1, display_legend=True)\n",
    "\n",
    "    lines = {\n",
    "        name: B.Lines(\n",
    "            x=history[history[\"Name\"] == name][\"Date\"],\n",
    "            y=history[history[\"Name\"] == name][\"Population\"],\n",
    "            labels=[name],\n",
    "            colors=[COLORS[i]],\n",
    "            **line_opts\n",
    "        )\n",
    "        for i, name in enumerate(history[\"Name\"])\n",
    "    }\n",
    "\n",
    "    ax_x = B.Axis(scale=x, grid_lines=\"solid\", label=\"Date\")\n",
    "    ax_y = B.Axis(\n",
    "        scale=y, orientation=\"vertical\", grid_lines=\"solid\", label=\"Population\"\n",
    "    )\n",
    "\n",
    "    fig = B.Figure(\n",
    "        marks=[*lines.values()],\n",
    "        axes=[ax_x, ax_y],\n",
    "        title=\"Populations over time\",\n",
    "        legend_location=\"top-left\",\n",
    "        layout=dict(max_height=\"250px\"),\n",
    "    )\n",
    "    return fig, lines\n",
    "\n",
    "\n",
    "def update_lines(lines):\n",
    "    for name in history[\"Name\"]:\n",
    "        with lines[name].hold_trait_notifications():\n",
    "            lines[name].x = history[history[\"Name\"] == name][\"Date\"]\n",
    "            lines[name].y = history[history[\"Name\"] == name][\"Population\"]\n",
    "\n",
    "    return lines\n",
    "\n",
    "\n",
    "plot, plot_lines = make_bqplot()\n",
    "update_lines(plot_lines)\n",
    "plot"
   ]
  },
  {
   "cell_type": "markdown",
   "metadata": {},
   "source": [
    "DataFrames aren't evented."
   ]
  },
  {
   "cell_type": "code",
   "execution_count": null,
   "metadata": {},
   "outputs": [],
   "source": [
    "def update_plot():\n",
    "    update_lines(plot_lines)"
   ]
  },
  {
   "cell_type": "markdown",
   "metadata": {},
   "source": [
    "## Showtime!\n",
    "\n",
    "Actually draw the app."
   ]
  },
  {
   "cell_type": "code",
   "execution_count": null,
   "metadata": {},
   "outputs": [],
   "source": [
    "app = W.HBox(\n",
    "    [\n",
    "        W.VBox(\n",
    "            [\n",
    "                W.HTML(\"<h3>Simulation</h3>\"),\n",
    "                play,\n",
    "                speed,\n",
    "                date,\n",
    "                W.HTML(\"<h3>Populations</h3>\"),\n",
    "                *populations,\n",
    "                W.HTML(\"<h3>Parameters</h3>\"),\n",
    "                *sorted(knobs, key=lambda w: w.description),\n",
    "            ]\n",
    "        ),\n",
    "        W.VBox(\n",
    "            [\n",
    "                W.HBox(\n",
    "                    [live_elk, W.HTML(\"\"\"<h3>Simulation State</h3>\"\"\")],\n",
    "                    layout=dict(align_items=\"center\"),\n",
    "                ),\n",
    "                elk,\n",
    "                W.HBox(\n",
    "                    [live_plot, W.HTML(\"\"\"<h3>Populations over time</h3>\"\"\")],\n",
    "                    layout=dict(align_items=\"center\"),\n",
    "                ),\n",
    "                plot,\n",
    "            ],\n",
    "            layout=dict(flex=\"1\"),\n",
    "        ),\n",
    "    ],\n",
    "    layout=dict(flex=\"1\", height=\"100%\", min_height=\"80vh\"),\n",
    ")"
   ]
  },
  {
   "cell_type": "code",
   "execution_count": null,
   "metadata": {},
   "outputs": [],
   "source": [
    "if __name__ == \"__main__\":\n",
    "    display(app)\n",
    "    update_plot()\n",
    "    update_elk()"
   ]
  },
  {
   "cell_type": "markdown",
   "metadata": {},
   "source": [
    "## 🦌 Learn More 📖\n",
    "\n",
    "See the [other examples](./_index.ipynb)."
   ]
  }
 ],
 "metadata": {
  "kernelspec": {
   "display_name": "Python 3",
   "language": "python",
   "name": "python3"
  },
  "language_info": {
   "codemirror_mode": {
    "name": "ipython",
    "version": 3
   },
   "file_extension": ".py",
   "mimetype": "text/x-python",
   "name": "python",
   "nbconvert_exporter": "python",
   "pygments_lexer": "ipython3",
   "version": "3.7.10"
  }
 },
 "nbformat": 4,
 "nbformat_minor": 4
}
