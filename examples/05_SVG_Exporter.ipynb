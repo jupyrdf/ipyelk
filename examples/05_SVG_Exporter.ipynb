{
 "cells": [
  {
   "cell_type": "markdown",
   "id": "1949eb88-60ac-489d-a8d5-d88993967557",
   "metadata": {},
   "source": [
    "# 🦌 SVG Exporter 🥡\n",
    "\n",
    "The `ElkExporter` can capture the SVG generated in the browser, making it available for\n",
    "offline usage.\n",
    "\n",
    "> Note: this requires a browser in the loop to do the rendering."
   ]
  },
  {
   "cell_type": "code",
   "execution_count": null,
   "id": "839077d7-d24f-4c3f-aee7-b28c52731089",
   "metadata": {},
   "outputs": [],
   "source": [
    "if __name__ == \"__main__\":\n",
    "    %pip install -q -r requirements.txt"
   ]
  },
  {
   "cell_type": "code",
   "execution_count": null,
   "id": "f59c7407-4196-43e4-ab23-783e1e04b195",
   "metadata": {},
   "outputs": [],
   "source": [
    "import pathlib\n",
    "\n",
    "import importnb\n",
    "import ipywidgets\n",
    "from IPython.display import SVG, display\n",
    "\n",
    "import ipyelk.diagram.export"
   ]
  },
  {
   "cell_type": "code",
   "execution_count": null,
   "id": "ac06fae0-7ddc-4354-b9f8-a60afc896975",
   "metadata": {},
   "outputs": [],
   "source": [
    "with importnb.Notebook():\n",
    "    from __00_Introduction import a_simple_elk_json_example"
   ]
  },
  {
   "cell_type": "code",
   "execution_count": null,
   "id": "fdbcfb4d-cfd2-4c69-80e7-85bbb5408dd4",
   "metadata": {},
   "outputs": [],
   "source": [
    "def a_simple_elk_svg_export_example(elk=None, filename=\"untitled_example.svg\"):\n",
    "    elk = elk or a_simple_elk_json_example()\n",
    "    out = ipywidgets.Output(layout=dict(flex=\"1\"))\n",
    "    exporter = ipyelk.diagram.export.Exporter(diagram=elk)\n",
    "    on_disk = pathlib.Path(filename)\n",
    "\n",
    "    def _on_export(*args):\n",
    "        if exporter.value:\n",
    "            out.clear_output()\n",
    "            with out:\n",
    "                display(SVG(exporter.value))\n",
    "            on_disk.write_text(exporter.value)\n",
    "            raise Exception(\"booo\")\n",
    "\n",
    "    exporter.observe(_on_export, \"value\")\n",
    "\n",
    "    box = ipywidgets.HBox([elk, out], layout=dict(height=\"100%\", min_height=\"400px\"))\n",
    "\n",
    "    return box, out, exporter, elk"
   ]
  },
  {
   "cell_type": "code",
   "execution_count": null,
   "id": "51be3bd2-e8d3-4f25-ae5b-44a221eb21b7",
   "metadata": {},
   "outputs": [],
   "source": [
    "if __name__ == \"__main__\":\n",
    "    box, out, exporter, elk = a_simple_elk_svg_export_example()\n",
    "    display(box)"
   ]
  },
  {
   "cell_type": "markdown",
   "id": "e6b95c92-fcf6-444a-9b86-b0b9d6b188f7",
   "metadata": {},
   "source": [
    "Once written out to disk, the SVG can be used in Markdown cells.\n",
    "\n",
    "![](./untitled_example.svg)\n",
    "\n",
    "> Note: files get cached in the browser, so it may be necessary to re-render this cell"
   ]
  },
  {
   "cell_type": "markdown",
   "id": "02633bfa-72f6-4b64-8568-8959de435ffe",
   "metadata": {},
   "source": [
    "## 🦌 Learn More 📖\n",
    "\n",
    "See the [other examples](./_index.ipynb)."
   ]
  }
 ],
 "metadata": {
  "kernelspec": {
   "display_name": "Python 3 (ipykernel)",
   "language": "python",
   "name": "python3"
  },
  "language_info": {
   "codemirror_mode": {
    "name": "ipython",
    "version": 3
   },
   "file_extension": ".py",
   "mimetype": "text/x-python",
   "name": "python",
   "nbconvert_exporter": "python",
   "pygments_lexer": "ipython3",
   "version": "3.10.6"
  }
 },
 "nbformat": 4,
 "nbformat_minor": 5
}
