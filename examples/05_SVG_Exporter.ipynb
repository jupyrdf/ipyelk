{
 "cells": [
  {
   "cell_type": "markdown",
   "metadata": {},
   "source": [
    "# 🦌 SVG Exporter 🥡\n",
    "\n",
    "The `ElkExporter` can capture the SVG generated in the browser, making it available for\n",
    "offline usage.\n",
    "\n",
    "> Note: this requires a browser in the loop to do the rendering."
   ]
  },
  {
   "cell_type": "code",
   "execution_count": null,
   "metadata": {},
   "outputs": [],
   "source": [
    "import json\n",
    "import pathlib\n",
    "\n",
    "import importnb\n",
    "import ipywidgets\n",
    "import traitlets\n",
    "from IPython.display import SVG, display\n",
    "\n",
    "import ipyelk.diagram.export"
   ]
  },
  {
   "cell_type": "code",
   "execution_count": null,
   "metadata": {},
   "outputs": [],
   "source": [
    "with importnb.Notebook():\n",
    "    from __00_Introduction import a_simple_elk_json_example"
   ]
  },
  {
   "cell_type": "code",
   "execution_count": null,
   "metadata": {},
   "outputs": [],
   "source": [
    "def a_simple_elk_svg_export_example(elk=None, filename=\"untitled_example.svg\"):\n",
    "    elk = elk or a_simple_elk_json_example()\n",
    "    out = ipywidgets.Output(layout=dict(flex=\"1\"))\n",
    "    exporter = ipyelk.diagram.export.Exporter(diagram=elk)\n",
    "    on_disk = pathlib.Path(filename)\n",
    "\n",
    "    def _on_export(*args):\n",
    "        if exporter.value:\n",
    "            out.clear_output()\n",
    "            with out:\n",
    "                display(SVG(exporter.value))\n",
    "            on_disk.write_text(exporter.value)\n",
    "            raise Exception(\"booo\")\n",
    "\n",
    "    exporter.observe(_on_export, \"value\")\n",
    "\n",
    "    box = ipywidgets.HBox([elk, out], layout=dict(height=\"100%\", min_height=\"400px\"))\n",
    "\n",
    "    return box, out, exporter, elk"
   ]
  },
  {
   "cell_type": "code",
   "execution_count": null,
   "metadata": {},
   "outputs": [],
   "source": [
    "if __name__ == \"__main__\":\n",
    "    box, out, exporter, elk = a_simple_elk_svg_export_example()\n",
    "    display(box)"
   ]
  },
  {
   "cell_type": "code",
   "execution_count": null,
   "metadata": {},
   "outputs": [],
   "source": [
    "exporter.viewer"
   ]
  },
  {
   "cell_type": "code",
   "execution_count": null,
   "metadata": {},
   "outputs": [],
   "source": [
    "exporter.value"
   ]
  },
  {
   "cell_type": "markdown",
   "metadata": {},
   "source": [
    "Once written out to disk, the SVG can be used in Markdown cells.\n",
    "\n",
    "![](./untitled_example.svg)\n",
    "\n",
    "> Note: files get cached in the browser, so it may be necessary to re-render this cell"
   ]
  },
  {
   "cell_type": "markdown",
   "metadata": {},
   "source": [
    "## 🦌 Learn More 📖\n",
    "\n",
    "See the [other examples](./_index.ipynb)."
   ]
  }
 ],
 "metadata": {
  "kernelspec": {
   "display_name": "Python 3",
   "language": "python",
   "name": "python3"
  },
  "language_info": {
   "codemirror_mode": {
    "name": "ipython",
    "version": 3
   },
   "file_extension": ".py",
   "mimetype": "text/x-python",
   "name": "python",
   "nbconvert_exporter": "python",
   "pygments_lexer": "ipython3",
   "version": "3.7.10"
  }
 },
 "nbformat": 4,
 "nbformat_minor": 4
}
