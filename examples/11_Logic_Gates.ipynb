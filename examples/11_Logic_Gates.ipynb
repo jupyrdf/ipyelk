{
 "cells": [
  {
   "cell_type": "markdown",
   "metadata": {},
   "source": [
    "# 🦌 Logic Gate Symbol Library 🔣\n",
    "\n",
    "`IPyElk` can serve as a jumpping off point for building different types of diagrams\n",
    "based on defined shapes. This notebook demonstrates importing the logic gate symbol\n",
    "library."
   ]
  },
  {
   "cell_type": "code",
   "execution_count": 1,
   "metadata": {},
   "outputs": [],
   "source": [
    "import importnb\n",
    "import networkx as nx\n",
    "\n",
    "import ipyelk\n",
    "import ipyelk.nx\n",
    "import ipyelk.tools.tools\n",
    "from ipyelk.contrib.library import logic_gates as logic\n",
    "from ipyelk.elements import layout_options as opt"
   ]
  },
  {
   "cell_type": "markdown",
   "metadata": {},
   "source": [
    "# Logic Gates\n",
    "\n",
    "https://upload.wikimedia.org/wikipedia/commons/c/cb/Circuit_elements.svg"
   ]
  },
  {
   "cell_type": "code",
   "execution_count": 2,
   "metadata": {},
   "outputs": [],
   "source": [
    "gate_library = logic.Gate.make_defs()"
   ]
  },
  {
   "cell_type": "markdown",
   "metadata": {},
   "source": [
    "# Simple Graph to draw the Logic Gate Symbol Library"
   ]
  },
  {
   "cell_type": "code",
   "execution_count": 3,
   "metadata": {},
   "outputs": [
    {
     "data": {
      "application/vnd.jupyter.widget-view+json": {
       "model_id": "ba6695acb827410e9194baf12136e008",
       "version_major": 2,
       "version_minor": 0
      },
      "text/plain": [
       "Diagram(children=[HTML(value='<style></style>', layout=Layout(display='None')), SprottyViewer(hover=Hover(tee=…"
      ]
     },
     "metadata": {},
     "output_type": "display_data"
    }
   ],
   "source": [
    "def logic_library():\n",
    "    # build graph\n",
    "    symbols = [symbol() for symbol in logic.Gate.__subclasses__()]\n",
    "    g = nx.Graph()\n",
    "    tree = nx.DiGraph()\n",
    "\n",
    "    for s in symbols:\n",
    "        name = s.__class__.__name__\n",
    "        g.add_node(name, **s.node(id=name).dict(exclude_none=True))\n",
    "\n",
    "    # configure app\n",
    "    app = ipyelk.from_nx(\n",
    "        graph=g,\n",
    "        layout={\"height\": \"100%\"},\n",
    "    )\n",
    "    app.view.symbols = gate_library\n",
    "    return app\n",
    "\n",
    "\n",
    "if __name__ == \"__main__\":\n",
    "    app = logic_library()\n",
    "    display(app)"
   ]
  },
  {
   "cell_type": "markdown",
   "metadata": {},
   "source": [
    "# 1-bit memory circuit"
   ]
  },
  {
   "cell_type": "code",
   "execution_count": 4,
   "metadata": {},
   "outputs": [],
   "source": [
    "sizing_opts = opt.OptionsWidget(\n",
    "    options=[\n",
    "        opt.NodeSizeConstraints(),\n",
    "        opt.NodeLabelPlacement(horizontal=\"center\", vertical=\"center\"),\n",
    "    ]\n",
    ").value\n",
    "\n",
    "HIGH = \"on\"\n",
    "LOW = \"off\"\n",
    "\n",
    "\n",
    "states = {\n",
    "    (\"nor 1\", \"a\"): {\n",
    "        \"value\": 0,\n",
    "    },\n",
    "    (\"nor 1\", \"b\"): {\n",
    "        \"value\": 0,\n",
    "    },\n",
    "    (\"nor 1\", \"out\"): {\n",
    "        \"targets\": [(\"nor 2\", \"b\")],\n",
    "        \"value\": 0,\n",
    "    },\n",
    "    (\"nor 2\", \"a\"): {\n",
    "        \"value\": 0,\n",
    "    },\n",
    "    (\"nor 2\", \"b\"): {\n",
    "        \"value\": 0,\n",
    "    },\n",
    "    (\"nor 2\", \"out\"): {\n",
    "        \"targets\": [(\"one_b\", \"out\"), (\"nor 1\", \"a\")],\n",
    "        \"value\": 0,\n",
    "    },\n",
    "    \"set\": {\n",
    "        \"targets\": [(\"one_b\", \"set\")],\n",
    "        \"value\": 0,\n",
    "    },\n",
    "    \"reset\": {\n",
    "        \"targets\": [(\"one_b\", \"reset\")],\n",
    "        \"value\": 0,\n",
    "    },\n",
    "    (\"one_b\", \"set\"): {\n",
    "        \"targets\": [(\"nor 1\", \"b\")],\n",
    "        \"value\": 0,\n",
    "    },\n",
    "    (\"one_b\", \"reset\"): {\n",
    "        \"targets\": [(\"nor 2\", \"a\")],\n",
    "        \"value\": 0,\n",
    "    },\n",
    "    (\"one_b\", \"out\"): {\n",
    "        \"targets\": [(\"output\", None)],\n",
    "        \"value\": 0,\n",
    "    },\n",
    "    \"output\": {\n",
    "        \"value\": 0,\n",
    "    },\n",
    "}\n",
    "\n",
    "\n",
    "def xor(a, b):\n",
    "    return (a and not b) or (b and not a)\n",
    "\n",
    "\n",
    "def step_state(states, set_, reset):\n",
    "    nor1_a = states[(\"nor 1\", \"a\")][\"value\"]\n",
    "    nor2_a = states[(\"nor 2\", \"a\")][\"value\"]\n",
    "\n",
    "    nor1_b = set_\n",
    "    nor2_b = reset\n",
    "    nor2 = not (nor2_a or nor2_b)\n",
    "    nor1 = not (nor1_a or nor1_b)\n",
    "\n",
    "    output = nor2\n",
    "    nor1_a = nor2\n",
    "    nor2_a = nor1\n",
    "\n",
    "    states[(\"nor 1\", \"a\")][\"value\"] = nor1_a\n",
    "    states[(\"nor 1\", \"b\")][\"value\"] = nor1_b\n",
    "    states[(\"nor 1\", \"out\")][\"value\"] = nor1\n",
    "    states[(\"nor 2\", \"a\")][\"value\"] = nor2_a\n",
    "    states[(\"nor 2\", \"b\")][\"value\"] = nor2_b\n",
    "    states[(\"nor 2\", \"out\")][\"value\"] = nor2\n",
    "    states[\"set\"][\"value\"] = set_\n",
    "    states[(\"one_b\", \"set\")][\"value\"] = set_\n",
    "    states[(\"one_b\", \"reset\")][\"value\"] = reset\n",
    "    states[(\"one_b\", \"out\")][\"value\"] = output\n",
    "    states[\"reset\"][\"value\"] = reset\n",
    "    states[\"output\"][\"value\"] = output\n",
    "    \n",
    "    \n",
    "def get_el_state(state, el_map):\n",
    "    if isinstance(state, tuple):\n",
    "        s, p = state\n",
    "        return el_map[s].get_port(p)\n",
    "    else:\n",
    "        return el_map[state]\n",
    "    \n",
    "def paint(el, value):\n",
    "    new, old = (HIGH, LOW) if value else (LOW, HIGH)\n",
    "    el.add_class(new).remove_class(old)\n",
    "\n",
    "def get_endpoint(u, port, el_map):\n",
    "    node = el_map[u]\n",
    "    if port:\n",
    "        return node.get_port(port)\n",
    "    return node\n",
    "\n",
    "def update_colors(states, el_map):\n",
    "    for state, data in states.items():\n",
    "        value = data[\"value\"]\n",
    "        new, old = (HIGH, LOW) if value else (LOW, HIGH)\n",
    "\n",
    "        # paint source state\n",
    "        source = get_el_state(state, el_map)\n",
    "        paint(source, value)\n",
    "\n",
    "        # paint targets\n",
    "        for target in data.get(\"targets\",[]):\n",
    "            paint(get_el_state(target, el_map), value)\n",
    "\n",
    "        # paint edges\n",
    "        for key, edge in el_map.edges(source=source):\n",
    "            paint(edge, value)\n",
    "            \n",
    "        \n",
    "def step(change):\n",
    "    el_map = dia.view.source.index.elements\n",
    "    set_ = \"set\" in change.new\n",
    "    reset = \"reset\" in change.new\n",
    "    step_state(states, set_, reset)\n",
    "    step_state(states, set_, reset)\n",
    "    update_colors(states, el_map)\n",
    "    dia.view.source._notify_trait(\"value\", old_value=None, new_value=None)    \n"
   ]
  },
  {
   "cell_type": "code",
   "execution_count": 5,
   "metadata": {},
   "outputs": [
    {
     "data": {
      "application/vnd.jupyter.widget-view+json": {
       "model_id": "e799f001d6ff47808cc9fee207350d3e",
       "version_major": 2,
       "version_minor": 0
      },
      "text/plain": [
       "Diagram(children=[HTML(value='<style>.styled-widget-140438077627728 .on rect.elknode, .on .elkport{fill: var(-…"
      ]
     },
     "metadata": {},
     "output_type": "display_data"
    }
   ],
   "source": [
    "from ipyelk.elements import Node, Label, Port, ElementIndex, index, Registry, EMPTY_SENTINEL\n",
    "\n",
    "g = nx.MultiDiGraph()\n",
    "tree = nx.DiGraph()\n",
    "\n",
    "for name in [\"set\", 'reset', \"output\"]:\n",
    "    g.add_node(\n",
    "        Node(\n",
    "            id=name,\n",
    "            labels=[Label(text=name)],\n",
    "            layoutOptions=sizing_opts,\n",
    "        )\n",
    "    )\n",
    "        \n",
    "\n",
    "one_b = Node(\n",
    "    id=\"one_b\",\n",
    "    labels=[Label(text=\"One Bit Memory\")],\n",
    "    layoutOptions={\n",
    "        'org.eclipse.elk.nodeSize.constraints': 'NODE_LABELS PORTS PORT_LABELS MINIMUM_SIZE',\n",
    "        'org.eclipse.elk.nodeLabels.placement': 'H_CENTER V_TOP INSIDE'\n",
    "    },\n",
    "    ports=[\n",
    "        Port(\n",
    "            width=\"5\",\n",
    "            height=\"5\",\n",
    "            properties={\n",
    "                \"key\":\"set\"\n",
    "            },\n",
    "            layoutOptions= {\n",
    "                \"org.eclipse.elk.port.side\": \"WEST\",\n",
    "            },\n",
    "        ),\n",
    "        Port(\n",
    "            width=\"5\",\n",
    "            height=\"5\",\n",
    "            properties={\n",
    "                \"key\":\"reset\"\n",
    "            },\n",
    "            layoutOptions= {\n",
    "                \"org.eclipse.elk.port.side\": \"WEST\",\n",
    "            },\n",
    "        ),\n",
    "        Port(\n",
    "            width=\"5\",\n",
    "            height=\"5\",\n",
    "            properties={\n",
    "                \"key\":\"out\"\n",
    "            },\n",
    "            layoutOptions= {\n",
    "                \"org.eclipse.elk.port.side\": \"EAST\",\n",
    "            },\n",
    "        ),        \n",
    "    ]\n",
    ")        \n",
    "g.add_node(one_b)\n",
    "\n",
    "nor_gate = logic.Nor_Gate()\n",
    "for gate_id in ['nor 1', \"nor 2\"]:\n",
    "    gate = nor_gate.node(id=gate_id)\n",
    "    g.add_node(gate)\n",
    "    tree.add_edge(one_b, gate)\n",
    "    gate.labels = [\n",
    "        Label(\n",
    "            text=gate_id,\n",
    "            layoutOptions={\n",
    "                'org.eclipse.elk.nodeLabels.placement': 'H_CENTER V_BOTTOM OUTSIDE'\n",
    "            }\n",
    "        )\n",
    "    ]\n",
    "    \n",
    "with Registry():\n",
    "    el_map = ElementIndex.from_els(*list(g.nodes()))\n",
    "    \n",
    "for state, data in states.items():\n",
    "    if isinstance(state, tuple):\n",
    "        u, source_port = state\n",
    "    else:\n",
    "        u, source_port = state, None  \n",
    "    for i, target in enumerate(data.get(\"targets\", [])):\n",
    "        v, target_port = target    \n",
    "        \n",
    "        \n",
    "        edge_data = {\n",
    "            \"targetPort\":target_port,\n",
    "            \"properties\":{\"cssClasses\": HIGH if data.get(\"value\") else LOW},            \n",
    "        }\n",
    "        if source_port:\n",
    "            edge_data['sourcePort']=source_port\n",
    "            \n",
    "        g.add_edge(\n",
    "            el_map[u],\n",
    "            el_map[v],\n",
    "            **edge_data,\n",
    "        )\n",
    "\n",
    "dia = ipyelk.from_nx(\n",
    "    graph=g,\n",
    "    hierarchy=tree,\n",
    "    style={\n",
    "    \" .on rect.elknode, .on .elkport\": {\n",
    "        \"fill\": \"var(--jp-brand-color2)\",\n",
    "    },\n",
    "    \" .on .elklabel\": {\n",
    "        \"fill\": \"white\",\n",
    "    },\n",
    "    \" .on, .on .elknode\": {\n",
    "        \"stroke\": \"var(--jp-brand-color2)\",\n",
    "        \"stroke-width\": \"4\",\n",
    "        \"transition\": \"all 0.2s\",\n",
    "    },\n",
    "    \" .off, .off .elknode\": {\n",
    "        \"transition\": \"all 0.2s\",\n",
    "    },\n",
    "    },\n",
    ")\n",
    "\n",
    "dia.view.symbols = gate_library\n",
    "\n",
    "dia        "
   ]
  },
  {
   "cell_type": "code",
   "execution_count": 6,
   "metadata": {},
   "outputs": [
    {
     "name": "stdout",
     "output_type": "stream",
     "text": [
      "cancelling...? False\n"
     ]
    }
   ],
   "source": [
    "dia.tools[1].handler()"
   ]
  },
  {
   "cell_type": "code",
   "execution_count": 7,
   "metadata": {},
   "outputs": [],
   "source": [
    "dia.tools[0].observe(step,'ids')"
   ]
  },
  {
   "cell_type": "code",
   "execution_count": 8,
   "metadata": {},
   "outputs": [
    {
     "data": {
      "application/json": {
       "children": [
        {
         "children": [],
         "edges": [],
         "height": 26,
         "id": "XOR_Gate",
         "labels": [
          {
           "height": 0,
           "id": "6b85b835-08c0-47aa-9f99-71db1afa9922",
           "labels": [],
           "layoutOptions": {
            "org.eclipse.elk.nodeLabels.placement": "H_CENTER V_TOP INSIDE"
           },
           "properties": {
            "cssClasses": "",
            "hidden": null,
            "key": null,
            "selectable": false,
            "shape": null
           },
           "text": "XOR_Gate",
           "width": 0,
           "x": null,
           "y": null
          }
         ],
         "layoutOptions": {
          "org.eclipse.elk.nodeSize.constraints": "MINIMUM_SIZE",
          "org.eclipse.elk.nodeSize.minimum": "(36, 26)",
          "org.eclipse.elk.portConstraints": "FIXED_SIDE"
         },
         "ports": [
          {
           "height": 0.1,
           "id": "XOR_Gate.a",
           "labels": [],
           "layoutOptions": {
            "org.eclipse.elk.port.side": "WEST"
           },
           "properties": {
            "cssClasses": "",
            "hidden": null,
            "key": "a",
            "shape": null
           },
           "width": 0.1,
           "x": null,
           "y": null
          },
          {
           "height": 0.1,
           "id": "XOR_Gate.b",
           "labels": [],
           "layoutOptions": {
            "org.eclipse.elk.port.side": "WEST"
           },
           "properties": {
            "cssClasses": "",
            "hidden": null,
            "key": "b",
            "shape": null
           },
           "width": 0.1,
           "x": null,
           "y": null
          },
          {
           "height": 0.1,
           "id": "XOR_Gate.out",
           "labels": [],
           "layoutOptions": {
            "org.eclipse.elk.port.side": "EAST"
           },
           "properties": {
            "cssClasses": "",
            "hidden": null,
            "key": "out",
            "shape": null
           },
           "width": 0.1,
           "x": null,
           "y": null
          }
         ],
         "properties": {
          "cssClasses": "",
          "hidden": null,
          "key": null,
          "shape": {
           "height": null,
           "type": "node:use",
           "use": "xor_gate",
           "width": null,
           "x": null,
           "y": null
          }
         },
         "width": 36,
         "x": null,
         "y": null
        },
        {
         "children": [],
         "edges": [],
         "height": 26,
         "id": "And_Gate",
         "labels": [
          {
           "height": 0,
           "id": "f34410a8-e209-4936-8fdc-07945d49f76c",
           "labels": [],
           "layoutOptions": {
            "org.eclipse.elk.nodeLabels.placement": "H_CENTER V_TOP INSIDE"
           },
           "properties": {
            "cssClasses": "",
            "hidden": null,
            "key": null,
            "selectable": false,
            "shape": null
           },
           "text": "And_Gate",
           "width": 0,
           "x": null,
           "y": null
          }
         ],
         "layoutOptions": {
          "org.eclipse.elk.nodeSize.constraints": "MINIMUM_SIZE",
          "org.eclipse.elk.nodeSize.minimum": "(36, 26)",
          "org.eclipse.elk.portConstraints": "FIXED_SIDE"
         },
         "ports": [
          {
           "height": 0.1,
           "id": "And_Gate.a",
           "labels": [],
           "layoutOptions": {
            "org.eclipse.elk.port.side": "WEST"
           },
           "properties": {
            "cssClasses": "",
            "hidden": null,
            "key": "a",
            "shape": null
           },
           "width": 0.1,
           "x": null,
           "y": null
          },
          {
           "height": 0.1,
           "id": "And_Gate.b",
           "labels": [],
           "layoutOptions": {
            "org.eclipse.elk.port.side": "WEST"
           },
           "properties": {
            "cssClasses": "",
            "hidden": null,
            "key": "b",
            "shape": null
           },
           "width": 0.1,
           "x": null,
           "y": null
          },
          {
           "height": 0.1,
           "id": "And_Gate.out",
           "labels": [],
           "layoutOptions": {
            "org.eclipse.elk.port.side": "EAST"
           },
           "properties": {
            "cssClasses": "",
            "hidden": null,
            "key": "out",
            "shape": null
           },
           "width": 0.1,
           "x": null,
           "y": null
          }
         ],
         "properties": {
          "cssClasses": "",
          "hidden": null,
          "key": null,
          "shape": {
           "height": null,
           "type": "node:use",
           "use": "and_gate",
           "width": null,
           "x": null,
           "y": null
          }
         },
         "width": 36,
         "x": null,
         "y": null
        },
        {
         "children": [],
         "edges": [],
         "height": 26,
         "id": "Or_Gate",
         "labels": [
          {
           "height": 0,
           "id": "1bc0624e-8c75-4a55-8ab0-c94cd92a25e2",
           "labels": [],
           "layoutOptions": {
            "org.eclipse.elk.nodeLabels.placement": "H_CENTER V_TOP INSIDE"
           },
           "properties": {
            "cssClasses": "",
            "hidden": null,
            "key": null,
            "selectable": false,
            "shape": null
           },
           "text": "Or_Gate",
           "width": 0,
           "x": null,
           "y": null
          }
         ],
         "layoutOptions": {
          "org.eclipse.elk.nodeSize.constraints": "MINIMUM_SIZE",
          "org.eclipse.elk.nodeSize.minimum": "(29, 26)",
          "org.eclipse.elk.portConstraints": "FIXED_SIDE"
         },
         "ports": [
          {
           "height": 0.1,
           "id": "Or_Gate.a",
           "labels": [],
           "layoutOptions": {
            "org.eclipse.elk.port.side": "WEST"
           },
           "properties": {
            "cssClasses": "",
            "hidden": null,
            "key": "a",
            "shape": null
           },
           "width": 0.1,
           "x": null,
           "y": null
          },
          {
           "height": 0.1,
           "id": "Or_Gate.b",
           "labels": [],
           "layoutOptions": {
            "org.eclipse.elk.port.side": "WEST"
           },
           "properties": {
            "cssClasses": "",
            "hidden": null,
            "key": "b",
            "shape": null
           },
           "width": 0.1,
           "x": null,
           "y": null
          },
          {
           "height": 0.1,
           "id": "Or_Gate.out",
           "labels": [],
           "layoutOptions": {
            "org.eclipse.elk.port.side": "EAST"
           },
           "properties": {
            "cssClasses": "",
            "hidden": null,
            "key": "out",
            "shape": null
           },
           "width": 0.1,
           "x": null,
           "y": null
          }
         ],
         "properties": {
          "cssClasses": "",
          "hidden": null,
          "key": null,
          "shape": {
           "height": null,
           "type": "node:use",
           "use": "or_gate",
           "width": null,
           "x": null,
           "y": null
          }
         },
         "width": 29,
         "x": null,
         "y": null
        },
        {
         "children": [],
         "edges": [],
         "height": 26,
         "id": "Nor_Gate",
         "labels": [
          {
           "height": 0,
           "id": "deae6fbf-37b5-4d88-978e-df7f1758edd4",
           "labels": [],
           "layoutOptions": {
            "org.eclipse.elk.nodeLabels.placement": "H_CENTER V_TOP INSIDE"
           },
           "properties": {
            "cssClasses": "",
            "hidden": null,
            "key": null,
            "selectable": false,
            "shape": null
           },
           "text": "Nor_Gate",
           "width": 0,
           "x": null,
           "y": null
          }
         ],
         "layoutOptions": {
          "org.eclipse.elk.nodeSize.constraints": "MINIMUM_SIZE",
          "org.eclipse.elk.nodeSize.minimum": "(35, 26)",
          "org.eclipse.elk.portConstraints": "FIXED_SIDE"
         },
         "ports": [
          {
           "height": 0.1,
           "id": "Nor_Gate.a",
           "labels": [],
           "layoutOptions": {
            "org.eclipse.elk.port.side": "WEST"
           },
           "properties": {
            "cssClasses": "",
            "hidden": null,
            "key": "a",
            "shape": null
           },
           "width": 0.1,
           "x": null,
           "y": null
          },
          {
           "height": 0.1,
           "id": "Nor_Gate.b",
           "labels": [],
           "layoutOptions": {
            "org.eclipse.elk.port.side": "WEST"
           },
           "properties": {
            "cssClasses": "",
            "hidden": null,
            "key": "b",
            "shape": null
           },
           "width": 0.1,
           "x": null,
           "y": null
          },
          {
           "height": 0.1,
           "id": "Nor_Gate.out",
           "labels": [],
           "layoutOptions": {
            "org.eclipse.elk.port.side": "EAST"
           },
           "properties": {
            "cssClasses": "",
            "hidden": null,
            "key": "out",
            "shape": null
           },
           "width": 0.1,
           "x": null,
           "y": null
          }
         ],
         "properties": {
          "cssClasses": "",
          "hidden": null,
          "key": null,
          "shape": {
           "height": null,
           "type": "node:use",
           "use": "nor_gate",
           "width": null,
           "x": null,
           "y": null
          }
         },
         "width": 35.3,
         "x": null,
         "y": null
        },
        {
         "children": [],
         "edges": [],
         "height": 26,
         "id": "Nand_Gate",
         "labels": [
          {
           "height": 0,
           "id": "f69c0876-cfec-4643-a125-dbc275a2cae0",
           "labels": [],
           "layoutOptions": {
            "org.eclipse.elk.nodeLabels.placement": "H_CENTER V_TOP INSIDE"
           },
           "properties": {
            "cssClasses": "",
            "hidden": null,
            "key": null,
            "selectable": false,
            "shape": null
           },
           "text": "Nand_Gate",
           "width": 0,
           "x": null,
           "y": null
          }
         ],
         "layoutOptions": {
          "org.eclipse.elk.nodeSize.constraints": "MINIMUM_SIZE",
          "org.eclipse.elk.nodeSize.minimum": "(45, 26)",
          "org.eclipse.elk.portConstraints": "FIXED_SIDE"
         },
         "ports": [
          {
           "height": 0.1,
           "id": "Nand_Gate.a",
           "labels": [],
           "layoutOptions": {
            "org.eclipse.elk.port.side": "WEST"
           },
           "properties": {
            "cssClasses": "",
            "hidden": null,
            "key": "a",
            "shape": null
           },
           "width": 0.1,
           "x": null,
           "y": null
          },
          {
           "height": 0.1,
           "id": "Nand_Gate.b",
           "labels": [],
           "layoutOptions": {
            "org.eclipse.elk.port.side": "WEST"
           },
           "properties": {
            "cssClasses": "",
            "hidden": null,
            "key": "b",
            "shape": null
           },
           "width": 0.1,
           "x": null,
           "y": null
          },
          {
           "height": 0.1,
           "id": "Nand_Gate.out",
           "labels": [],
           "layoutOptions": {
            "org.eclipse.elk.port.side": "EAST"
           },
           "properties": {
            "cssClasses": "",
            "hidden": null,
            "key": "out",
            "shape": null
           },
           "width": 0.1,
           "x": null,
           "y": null
          }
         ],
         "properties": {
          "cssClasses": "",
          "hidden": null,
          "key": null,
          "shape": {
           "height": null,
           "type": "node:use",
           "use": "nand_gate",
           "width": null,
           "x": null,
           "y": null
          }
         },
         "width": 45.4,
         "x": null,
         "y": null
        },
        {
         "children": [],
         "edges": [],
         "height": 26,
         "id": "Not_Gate",
         "labels": [
          {
           "height": 0,
           "id": "2d642e2d-58b4-4d05-9c94-e5a98c90bab8",
           "labels": [],
           "layoutOptions": {
            "org.eclipse.elk.nodeLabels.placement": "H_CENTER V_TOP INSIDE"
           },
           "properties": {
            "cssClasses": "",
            "hidden": null,
            "key": null,
            "selectable": false,
            "shape": null
           },
           "text": "Not_Gate",
           "width": 0,
           "x": null,
           "y": null
          }
         ],
         "layoutOptions": {
          "org.eclipse.elk.nodeSize.constraints": "MINIMUM_SIZE",
          "org.eclipse.elk.nodeSize.minimum": "(35, 26)",
          "org.eclipse.elk.portConstraints": "FIXED_SIDE"
         },
         "ports": [
          {
           "height": 0.1,
           "id": "Not_Gate.in",
           "labels": [],
           "layoutOptions": {
            "org.eclipse.elk.port.side": "WEST"
           },
           "properties": {
            "cssClasses": "",
            "hidden": null,
            "key": "in",
            "shape": null
           },
           "width": 0.1,
           "x": null,
           "y": null
          },
          {
           "height": 0.1,
           "id": "Not_Gate.out",
           "labels": [],
           "layoutOptions": {
            "org.eclipse.elk.port.side": "EAST"
           },
           "properties": {
            "cssClasses": "",
            "hidden": null,
            "key": "out",
            "shape": null
           },
           "width": 0.1,
           "x": null,
           "y": null
          }
         ],
         "properties": {
          "cssClasses": "",
          "hidden": null,
          "key": null,
          "shape": {
           "height": null,
           "type": "node:use",
           "use": "not_gate",
           "width": null,
           "x": null,
           "y": null
          }
         },
         "width": 35,
         "x": null,
         "y": null
        }
       ],
       "edges": [],
       "height": 0,
       "id": "4624df1a-a945-401b-ac87-413fea5a1da9",
       "labels": [],
       "layoutOptions": {
        "org.eclipse.elk.hierarchyHandling": "INCLUDE_CHILDREN"
       },
       "ports": [],
       "properties": {
        "cssClasses": "",
        "hidden": null,
        "key": null,
        "shape": null
       },
       "width": 0,
       "x": null,
       "y": null
      },
      "text/plain": [
       "<IPython.core.display.JSON object>"
      ]
     },
     "execution_count": 8,
     "metadata": {
      "application/json": {
       "expanded": false,
       "root": "root"
      }
     },
     "output_type": "execute_result"
    }
   ],
   "source": [
    "from IPython.display import JSON\n",
    "JSON(app.source.value.dict())"
   ]
  }
 ],
 "metadata": {
  "kernelspec": {
   "display_name": "Python 3",
   "language": "python",
   "name": "python3"
  },
  "language_info": {
   "codemirror_mode": {
    "name": "ipython",
    "version": 3
   },
   "file_extension": ".py",
   "mimetype": "text/x-python",
   "name": "python",
   "nbconvert_exporter": "python",
   "pygments_lexer": "ipython3",
   "version": "3.7.10"
  }
 },
 "nbformat": 4,
 "nbformat_minor": 4
}
