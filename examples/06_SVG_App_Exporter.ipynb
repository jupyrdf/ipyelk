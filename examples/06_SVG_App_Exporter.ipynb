{
 "cells": [
  {
   "cell_type": "markdown",
   "metadata": {},
   "source": [
    "# 🦌 SVG App Exporter 🥡\n",
    "\n",
    "Custom CSS created on an `Elk` app will also be exported.\n",
    "\n",
    "> Note: this requires a browser in the loop to do the rendering."
   ]
  },
  {
   "cell_type": "code",
   "execution_count": null,
   "metadata": {},
   "outputs": [],
   "source": [
    "if __name__ == \"__main__\":\n",
    "    %pip install -q -r requirements.txt"
   ]
  },
  {
   "cell_type": "code",
   "execution_count": null,
   "metadata": {},
   "outputs": [],
   "source": [
    "import importnb\n",
    "import ipywidgets\n",
    "from IPython.display import display"
   ]
  },
  {
   "cell_type": "code",
   "execution_count": null,
   "metadata": {},
   "outputs": [],
   "source": [
    "with importnb.Notebook():\n",
    "    from __03_App import a_styled_elk_app_example\n",
    "    from __05_SVG_Exporter import a_simple_elk_svg_export_example"
   ]
  },
  {
   "cell_type": "code",
   "execution_count": null,
   "metadata": {},
   "outputs": [],
   "source": [
    "def a_stylish_elk_svg_export_example(filename=\"untitled_stylish_example.svg\"):\n",
    "    box1, elk = a_styled_elk_app_example()\n",
    "    box2, out, exporter, elk2 = a_simple_elk_svg_export_example(\n",
    "        elk=elk, filename=filename\n",
    "    )\n",
    "    elk.layout.flex = out.layout.flex = \"1\"\n",
    "    exporter.diagram = elk\n",
    "    box = ipywidgets.HBox([elk, out], layout=dict(height=\"100%\", min_height=\"400px\"))\n",
    "    return box, out, exporter, elk, elk2"
   ]
  },
  {
   "cell_type": "code",
   "execution_count": null,
   "metadata": {},
   "outputs": [],
   "source": [
    "if __name__ == \"__main__\":\n",
    "    box, out, exporter, elk, elk2 = a_stylish_elk_svg_export_example()\n",
    "    display(box)"
   ]
  },
  {
   "cell_type": "markdown",
   "metadata": {},
   "source": [
    "## 🦌 Learn More 📖\n",
    "\n",
    "See the [other examples](./_index.ipynb)."
   ]
  }
 ],
 "metadata": {
  "kernelspec": {
   "display_name": "Python 3 (ipykernel)",
   "language": "python",
   "name": "python3"
  },
  "language_info": {
   "codemirror_mode": {
    "name": "ipython",
    "version": 3
   },
   "file_extension": ".py",
   "mimetype": "text/x-python",
   "name": "python",
   "nbconvert_exporter": "python",
   "pygments_lexer": "ipython3",
   "version": "3.10.6"
  }
 },
 "nbformat": 4,
 "nbformat_minor": 4
}
