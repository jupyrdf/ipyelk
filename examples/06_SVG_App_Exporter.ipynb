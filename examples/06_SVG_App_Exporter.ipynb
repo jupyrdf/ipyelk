{
 "cells": [
  {
   "cell_type": "markdown",
   "metadata": {},
   "source": [
    "# 🦌 SVG App Exporter 🥡\n",
    "\n",
    "Custom CSS created on an `Elk` app will also be exported.\n",
    "\n",
    "> Note: this requires a browser in the loop to do the rendering."
   ]
  },
  {
   "cell_type": "code",
   "execution_count": null,
   "metadata": {},
   "outputs": [],
   "source": [
    "import json\n",
    "import pathlib\n",
    "\n",
    "import importnb\n",
    "import ipywidgets\n",
    "import traitlets\n",
    "from IPython.display import SVG, display\n",
    "\n",
    "import ipyelk.diagram.elk_export"
   ]
  },
  {
   "cell_type": "code",
   "execution_count": null,
   "metadata": {},
   "outputs": [],
   "source": [
    "with importnb.Notebook():\n",
    "    from __03_App import a_more_stylish_elk_app_example\n",
    "    from __05_SVG_Exporter import a_simple_elk_svg_export_example"
   ]
  },
  {
   "cell_type": "code",
   "execution_count": null,
   "metadata": {},
   "outputs": [],
   "source": [
    "def a_stylish_elk_svg_export_example(filename=\"untitled_stylish_example.svg\"):\n",
    "    app, box1, xelk, elk = a_more_stylish_elk_app_example()\n",
    "    box2, out, exporter, elk2 = a_simple_elk_svg_export_example(\n",
    "        elk=elk, filename=filename\n",
    "    )\n",
    "    app.layout.flex = out.layout.flex = \"1\"\n",
    "    exporter.app = app\n",
    "    box = ipywidgets.HBox([app, out], layout=dict(height=\"100%\", min_height=\"400px\"))\n",
    "    return box, out, exporter, app, xelk, elk"
   ]
  },
  {
   "cell_type": "code",
   "execution_count": null,
   "metadata": {},
   "outputs": [],
   "source": [
    "if __name__ == \"__main__\":\n",
    "    box, out, exporter, app, xelk, elk = a_stylish_elk_svg_export_example()\n",
    "    display(box)"
   ]
  },
  {
   "cell_type": "markdown",
   "metadata": {},
   "source": [
    "## 🦌 Learn More 📖\n",
    "\n",
    "See the [other examples](./_index.ipynb)."
   ]
  }
 ],
 "metadata": {
  "kernelspec": {
   "display_name": "Python 3",
   "language": "python",
   "name": "python3"
  },
  "language_info": {
   "codemirror_mode": {
    "name": "ipython",
    "version": 3
   },
   "file_extension": ".py",
   "mimetype": "text/x-python",
   "name": "python",
   "nbconvert_exporter": "python",
   "pygments_lexer": "ipython3",
   "version": "3.7.9"
  }
 },
 "nbformat": 4,
 "nbformat_minor": 4
}
