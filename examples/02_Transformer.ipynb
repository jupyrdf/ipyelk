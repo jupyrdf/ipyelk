{
 "cells": [
  {
   "cell_type": "markdown",
   "id": "f624dc64-d48a-4303-91bd-6083d6d46566",
   "metadata": {},
   "source": [
    "# 🦌 ELK Transformer 🤖\n",
    "\n",
    "A transformer object that will convert some input source into valid Elk Json. This\n",
    "example using a transformer around a networkx graph."
   ]
  },
  {
   "cell_type": "code",
   "execution_count": null,
   "id": "45d4555a-7f9b-4ee2-b5af-13a7fca32164",
   "metadata": {},
   "outputs": [],
   "source": [
    "if __name__ == \"__main__\":\n",
    "    %pip install -q -r requirements.txt"
   ]
  },
  {
   "cell_type": "code",
   "execution_count": null,
   "id": "adc9e311-7eb0-40a8-8c2f-922774296b07",
   "metadata": {
    "tags": []
   },
   "outputs": [],
   "source": [
    "import json\n",
    "import pathlib\n",
    "\n",
    "import ipywidgets\n",
    "import networkx\n",
    "from IPython.display import display\n",
    "\n",
    "import ipyelk\n",
    "from ipyelk.tools import ToggleCollapsedTool\n",
    "\n",
    "NX_VINFO = tuple(map(int, networkx.__version__.split(\".\")[:2]))\n",
    "NX_EDGES = \"edges\" if NX_VINFO >= (3, 4) else \"link\""
   ]
  },
  {
   "cell_type": "code",
   "execution_count": null,
   "id": "6bdb6030-e68b-4828-9c91-f8eaad9e97e8",
   "metadata": {},
   "outputs": [],
   "source": [
    "def load_nx_graph(filename: str) -> networkx.MultiDiGraph:\n",
    "    return networkx.readwrite.json_graph.node_link_graph(\n",
    "        json.loads(pathlib.Path(filename).resolve().read_text(encoding=\"utf-8\")),\n",
    "        **{NX_EDGES: \"links\"},\n",
    "    )"
   ]
  },
  {
   "cell_type": "markdown",
   "id": "b270ed79-c932-4f1a-a223-026dd470be3f",
   "metadata": {
    "user_expressions": []
   },
   "source": [
    "## Flat structure\n",
    "\n",
    "A `networkx.MultiDigraph` can be used to create a flat graph.\n",
    "\n",
    "> _TODO: There should be an option to specify if ports should be created or only connect\n",
    "> edges between the nodes_"
   ]
  },
  {
   "cell_type": "code",
   "execution_count": null,
   "id": "86977366-5079-47c2-bd10-c00d2e8ee11d",
   "metadata": {
    "tags": []
   },
   "outputs": [],
   "source": [
    "def a_flat_elk_json_example(graph: networkx.MultiDiGraph = None):\n",
    "    graph = graph or load_nx_graph(\"flat_graph.json\")\n",
    "    elk = ipyelk.from_nx(graph=graph, layout=dict(min_height=\"200px\"))\n",
    "    return elk"
   ]
  },
  {
   "cell_type": "code",
   "execution_count": null,
   "id": "6d091c39-8e36-409d-bf86-c3f7356d2c63",
   "metadata": {
    "tags": []
   },
   "outputs": [],
   "source": [
    "if __name__ == \"__main__\":\n",
    "    flat = a_flat_elk_json_example()\n",
    "    display(flat)"
   ]
  },
  {
   "cell_type": "markdown",
   "id": "98028e9d-0815-43c5-b0c3-2ed0aa130434",
   "metadata": {
    "user_expressions": []
   },
   "source": [
    "## Hierarchical Diagram with Ports"
   ]
  },
  {
   "cell_type": "code",
   "execution_count": null,
   "id": "e505ee90-c7e0-4162-bb49-7920e9f699f6",
   "metadata": {
    "tags": []
   },
   "outputs": [],
   "source": [
    "def a_hierarchical_elk_example(\n",
    "    tree: networkx.MultiDiGraph = None, ports: networkx.MultiDiGraph = None\n",
    "):\n",
    "    tree = tree or load_nx_graph(\"hier_tree.json\")\n",
    "    ports = ports or load_nx_graph(\"hier_ports.json\")\n",
    "    elk = ipyelk.from_nx(\n",
    "        graph=ports,\n",
    "        hierarchy=tree,\n",
    "        layout=dict(\n",
    "            min_height=\"200px\",\n",
    "            height=\"100%\",\n",
    "        ),\n",
    "    )\n",
    "    return elk"
   ]
  },
  {
   "cell_type": "code",
   "execution_count": null,
   "id": "62f44cca-8d3b-4b72-b6e1-10ac51337bae",
   "metadata": {
    "tags": []
   },
   "outputs": [],
   "source": [
    "def a_collapsible_elk_example(elk=None):\n",
    "    elk = elk or a_hierarchical_elk_example()\n",
    "\n",
    "    collapser = elk.get_tool(ToggleCollapsedTool)\n",
    "    toggle = ipywidgets.Button(description=\"Toggle\")\n",
    "    toggle.on_click(collapser.handler)\n",
    "\n",
    "    box = ipywidgets.VBox(\n",
    "        [\n",
    "            ipywidgets.HBox([\n",
    "                ipywidgets.HTML(\"<h2>👇 click a group node then click 👉</h2>\"),\n",
    "                toggle,\n",
    "            ]),\n",
    "            elk,\n",
    "        ],\n",
    "        layout={\n",
    "            \"height\": \"100%\",\n",
    "        },\n",
    "    )\n",
    "    return box, elk"
   ]
  },
  {
   "cell_type": "code",
   "execution_count": null,
   "id": "ad0c6fc0-6e12-418f-951c-f2319f184679",
   "metadata": {
    "tags": []
   },
   "outputs": [],
   "source": [
    "if __name__ == \"__main__\":\n",
    "    hier_box, hier_elk = a_collapsible_elk_example()\n",
    "    display(hier_box)"
   ]
  },
  {
   "cell_type": "markdown",
   "id": "5b475d73-212d-4cf9-b901-69b03cea3e22",
   "metadata": {},
   "source": [
    "## 🦌 Learn More 📖\n",
    "\n",
    "See the [other examples](./_index.ipynb)."
   ]
  }
 ],
 "metadata": {
  "kernelspec": {
   "display_name": "Python 3 (ipykernel)",
   "language": "python",
   "name": "python3"
  },
  "language_info": {
   "codemirror_mode": {
    "name": "ipython",
    "version": 3
   },
   "file_extension": ".py",
   "mimetype": "text/x-python",
   "name": "python",
   "nbconvert_exporter": "python",
   "pygments_lexer": "ipython3",
   "version": "3.12.7"
  }
 },
 "nbformat": 4,
 "nbformat_minor": 5
}
