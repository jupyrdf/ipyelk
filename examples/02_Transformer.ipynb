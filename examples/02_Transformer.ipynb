{
 "cells": [
  {
   "cell_type": "markdown",
   "metadata": {},
   "source": [
    "# 🦌 ELK Transformer 🤖\n",
    "\n",
    "A transformer object that will convert some input source into valid Elk Json. This\n",
    "example using a transformer around a networkx graph."
   ]
  },
  {
   "cell_type": "code",
   "execution_count": 2,
   "metadata": {},
   "outputs": [],
   "source": [
    "import json\n",
    "import pathlib\n",
    "\n",
    "import ipywidgets\n",
    "\n",
    "import networkx\n",
    "import traitlets\n",
    "from IPython.display import display\n",
    "\n",
    "import ipyelk\n",
    "import ipyelk.nx\n",
    "# import ipyelk.tools"
   ]
  },
  {
   "cell_type": "markdown",
   "metadata": {},
   "source": [
    "\n",
    "\n",
    "## Flat structure\n",
    "\n",
    "A `networkx.MultiDigraph` can be used to create a flat graph.\n",
    "\n",
    "> _TODO: There should be an option to specify if ports should be created or only connect\n",
    "> edges between the nodes_"
   ]
  },
  {
   "cell_type": "code",
   "execution_count": 3,
   "metadata": {},
   "outputs": [],
   "source": [
    "def a_flat_elk_json_example(graph: networkx.MultiDiGraph = None):\n",
    "    graph = graph or networkx.readwrite.json_graph.node_link_graph(\n",
    "        json.loads(pathlib.Path(\"flat_graph.json\").read_text(encoding=\"utf-8\"))\n",
    "    )\n",
    "    elk = ipyelk.from_nx(\n",
    "        graph=graph,\n",
    "        layout=dict(min_height=\"200px\")\n",
    "    )\n",
    "#     elk = ipyelk.nx.Diagram(\n",
    "#         source=ipyelk.nx.NXSource(\n",
    "#             graph = graph,\n",
    "#         ),\n",
    "#         layout=dict(min_height=\"200px\")\n",
    "#     )\n",
    "    return elk"
   ]
  },
  {
   "cell_type": "code",
   "execution_count": 4,
   "metadata": {},
   "outputs": [
    {
     "data": {
      "application/vnd.jupyter.widget-view+json": {
       "model_id": "30c04d15ea2b4884ae618ef605eb48cb",
       "version_major": 2,
       "version_minor": 0
      },
      "text/plain": [
       "Diagram(children=[HTML(value='<style></style>', layout=Layout(display='None')), SprottyViewer(hover=Hover(tee=…"
      ]
     },
     "metadata": {},
     "output_type": "display_data"
    }
   ],
   "source": [
    "if __name__ == \"__main__\":\n",
    "    flat = a_flat_elk_json_example()\n",
    "    display(flat)"
   ]
  },
  {
   "cell_type": "markdown",
   "metadata": {},
   "source": [
    "\n",
    "\n",
    "\n",
    "## Hierarchical Diagram with Ports"
   ]
  },
  {
   "cell_type": "code",
   "execution_count": 7,
   "metadata": {},
   "outputs": [
    {
     "data": {
      "application/vnd.jupyter.widget-view+json": {
       "model_id": "d70fe018d34c44e48d7a14918259c100",
       "version_major": 2,
       "version_minor": 0
      },
      "text/plain": [
       "Diagram(children=[HTML(value='<style></style>', layout=Layout(display='None')), SprottyViewer(hover=Hover(tee=…"
      ]
     },
     "metadata": {},
     "output_type": "display_data"
    }
   ],
   "source": [
    "def a_hierarchical_elk_example(\n",
    "    tree: networkx.MultiDiGraph = None, ports: networkx.MultiDiGraph = None\n",
    "):\n",
    "    tree = tree or networkx.readwrite.json_graph.node_link_graph(\n",
    "        json.loads(pathlib.Path(\"hier_tree.json\").read_text(encoding=\"utf-8\"))\n",
    "    )\n",
    "    ports = ports or networkx.readwrite.json_graph.node_link_graph(\n",
    "        json.loads(pathlib.Path(\"hier_ports.json\").read_text(encoding=\"utf-8\"))\n",
    "    )\n",
    "    elk = ipyelk.from_nx(\n",
    "        graph=ports,\n",
    "        hierarchy = tree,\n",
    "        layout=dict(min_height=\"200px\")\n",
    "    )\n",
    "        \n",
    "#     elk = ipyelk.nx.Diagram(\n",
    "#         source=ipyelk.nx.NXSource(\n",
    "#             graph = ports,\n",
    "#             hierarchy = tree\n",
    "#         ),\n",
    "#         layout=dict(min_height=\"200px\")\n",
    "#     )\n",
    "    return elk\n",
    "\n",
    "elk = a_hierarchical_elk_example()\n",
    "\n",
    "elk"
   ]
  },
  {
   "cell_type": "code",
   "execution_count": 28,
   "metadata": {
    "tags": []
   },
   "outputs": [
    {
     "data": {
      "text/plain": [
       "11"
      ]
     },
     "execution_count": 28,
     "metadata": {},
     "output_type": "execute_result"
    }
   ],
   "source": [
    "from ipyelk.pipes.visibility import exclude_hidden, VisibilityPipe\n",
    "from ipyelk.elements.serialization import from_elk_json\n",
    "from ipyelk.elements import VisIndex, ElementIndex\n",
    "from IPython.display import JSON\n",
    "\n",
    "\n",
    "# root = elk.view.source.value\n",
    "root.children[0].children[0].properties.hidden=True\n",
    "vis_index = VisIndex.from_els(root)\n",
    "len(vis_index)"
   ]
  },
  {
   "cell_type": "code",
   "execution_count": 17,
   "metadata": {},
   "outputs": [
    {
     "data": {
      "text/plain": [
       "VisibilityPipe()"
      ]
     },
     "metadata": {},
     "output_type": "display_data"
    }
   ],
   "source": [
    "for p in elk.pipe.pipes:\n",
    "    if isinstance(p, VisibilityPipe):\n",
    "        break\n",
    "p"
   ]
  },
  {
   "cell_type": "code",
   "execution_count": 30,
   "metadata": {},
   "outputs": [],
   "source": [
    "import asyncio\n",
    "root.children[0].children[0].properties.hidden=False\n",
    "task = asyncio.create_task(elk.pipe.run(start_pipe=p, value=root))"
   ]
  },
  {
   "cell_type": "code",
   "execution_count": 10,
   "metadata": {},
   "outputs": [
    {
     "data": {
      "text/plain": [
       "Edge(id='27932a90-4eb6-4d66-9c4c-ee9742fc81ac', labels=[], layoutOptions={}, metadata=ElementMetadata(), properties=EdgeProperties(cssClasses='', shape=None, key=None, hidden=None), source=Port(id='6efae1db-b6f8-4330-bca3-a8d9c1e61871.ba9a19af-d306-4860-aa72-54e9709fecca', labels=[], layoutOptions={}, metadata=ElementMetadata(), properties=PortProperties(cssClasses='', shape=None, key='y', hidden=None), x=-5.0, y=55.015625, width=5.0, height=5.0), target=Port(id='cbcc9a05-e31f-40e2-ae39-74dd77b10440.034a3d75-24ef-4014-b29b-182846c0a77e', labels=[], layoutOptions={}, metadata=ElementMetadata(), properties=PortProperties(cssClasses='', shape=None, key='y', hidden=None), x=-5.0, y=40.0, width=5.0, height=5.0), sections=[EdgeSection(id='27932a90-4eb6-4d66-9c4c-ee9742fc81ac_s0', startPoint=Point(x=34.0, y=110.03125), endPoint=Point(x=147.96875, y=72.515625), bendPoints=[Point(x=24.0, y=110.03125), Point(x=24.0, y=144.53125), Point(x=137.96875, y=144.53125), Point(x=137.96875, y=72.515625)], incomingShape='6efae1db-b6f8-4330-bca3-a8d9c1e61871.ba9a19af-d306-4860-aa72-54e9709fecca', outgoingShape='cbcc9a05-e31f-40e2-ae39-74dd77b10440.034a3d75-24ef-4014-b29b-182846c0a77e', incomingSections=None, outgoingSections=None)])"
      ]
     },
     "execution_count": 10,
     "metadata": {},
     "output_type": "execute_result"
    }
   ],
   "source": [
    "root.edges[0]"
   ]
  },
  {
   "cell_type": "code",
   "execution_count": 17,
   "metadata": {},
   "outputs": [
    {
     "ename": "KeyError",
     "evalue": "'d92a873d-1d35-47ab-b746-cde160c51933.feefdeb2-117e-4c9f-8e33-4ceb0e93df80'",
     "output_type": "error",
     "traceback": [
      "\u001b[0;31m---------------------------------------------------------------------------\u001b[0m",
      "\u001b[0;31mKeyError\u001b[0m                                  Traceback (most recent call last)",
      "\u001b[0;32m<ipython-input-17-c82574b89a08>\u001b[0m in \u001b[0;36m<module>\u001b[0;34m\u001b[0m\n\u001b[1;32m      1\u001b[0m \u001b[0mindex2\u001b[0m \u001b[0;34m=\u001b[0m \u001b[0mElementIndex\u001b[0m\u001b[0;34m.\u001b[0m\u001b[0mfrom_els\u001b[0m\u001b[0;34m(\u001b[0m\u001b[0mp\u001b[0m\u001b[0;34m.\u001b[0m\u001b[0moutlet\u001b[0m\u001b[0;34m.\u001b[0m\u001b[0mvalue\u001b[0m\u001b[0;34m)\u001b[0m\u001b[0;34m\u001b[0m\u001b[0;34m\u001b[0m\u001b[0m\n\u001b[0;32m----> 2\u001b[0;31m \u001b[0mindex2\u001b[0m\u001b[0;34m.\u001b[0m\u001b[0mget\u001b[0m\u001b[0;34m(\u001b[0m\u001b[0;34m'd92a873d-1d35-47ab-b746-cde160c51933.feefdeb2-117e-4c9f-8e33-4ceb0e93df80'\u001b[0m\u001b[0;34m)\u001b[0m\u001b[0;34m\u001b[0m\u001b[0;34m\u001b[0m\u001b[0m\n\u001b[0m",
      "\u001b[0;32m~/Documents/ipyelk/py_src/ipyelk/elements/index.py\u001b[0m in \u001b[0;36mget\u001b[0;34m(self, key)\u001b[0m\n\u001b[1;32m     52\u001b[0m             \u001b[0;32mreturn\u001b[0m \u001b[0mself\u001b[0m\u001b[0;34m.\u001b[0m\u001b[0melements\u001b[0m\u001b[0;34m[\u001b[0m\u001b[0mkey\u001b[0m\u001b[0;34m]\u001b[0m\u001b[0;34m\u001b[0m\u001b[0;34m\u001b[0m\u001b[0m\n\u001b[1;32m     53\u001b[0m         \u001b[0;31m# make slack port / tag edge as slack as well...\u001b[0m\u001b[0;34m\u001b[0m\u001b[0;34m\u001b[0m\u001b[0;34m\u001b[0m\u001b[0m\n\u001b[0;32m---> 54\u001b[0;31m         \u001b[0;32mreturn\u001b[0m \u001b[0mself\u001b[0m\u001b[0;34m.\u001b[0m\u001b[0melements\u001b[0m\u001b[0;34m[\u001b[0m\u001b[0mkey\u001b[0m\u001b[0;34m]\u001b[0m\u001b[0;34m\u001b[0m\u001b[0;34m\u001b[0m\u001b[0m\n\u001b[0m\u001b[1;32m     55\u001b[0m \u001b[0;34m\u001b[0m\u001b[0m\n\u001b[1;32m     56\u001b[0m     \u001b[0;32mdef\u001b[0m \u001b[0m__getitem__\u001b[0m\u001b[0;34m(\u001b[0m\u001b[0mself\u001b[0m\u001b[0;34m,\u001b[0m \u001b[0mkey\u001b[0m\u001b[0;34m)\u001b[0m\u001b[0;34m:\u001b[0m\u001b[0;34m\u001b[0m\u001b[0;34m\u001b[0m\u001b[0m\n",
      "\u001b[0;31mKeyError\u001b[0m: 'd92a873d-1d35-47ab-b746-cde160c51933.feefdeb2-117e-4c9f-8e33-4ceb0e93df80'"
     ]
    }
   ],
   "source": [
    "\n",
    "index2 = ElementIndex.from_els(p.outlet.value)\n",
    "# index2.get('d92a873d-1d35-47ab-b746-cde160c51933.feefdeb2-117e-4c9f-8e33-4ceb0e93df80')"
   ]
  },
  {
   "cell_type": "code",
   "execution_count": 10,
   "metadata": {},
   "outputs": [
    {
     "data": {
      "text/plain": [
       "('56ab23e9-5046-4b2d-b8a5-319375483c39.c22fa774-d367-42dd-ba0e-cba0424d39d3',\n",
       " '56ab23e9-5046-4b2d-b8a5-319375483c39.c22fa774-d367-42dd-ba0e-cba0424d39d3')"
      ]
     },
     "execution_count": 10,
     "metadata": {},
     "output_type": "execute_result"
    }
   ],
   "source": [
    "port = p.outlet.value.children[0].ports[0]\n",
    "port.id, port.properties.key"
   ]
  },
  {
   "cell_type": "code",
   "execution_count": 11,
   "metadata": {
    "tags": []
   },
   "outputs": [
    {
     "data": {
      "application/json": {
       "children": [
        {
         "children": [],
         "edges": [],
         "height": 145.03125,
         "id": "n0",
         "labels": [
          {
           "height": 13.015625,
           "id": "3c1ce76c-1305-42b5-9dc5-7357c701e6d7",
           "labels": [],
           "layoutOptions": {
            "org.eclipse.elk.nodeLabels.placement": "H_CENTER V_TOP INSIDE"
           },
           "properties": {
            "cssClasses": "",
            "hidden": null,
            "key": null,
            "selectable": false,
            "shape": null
           },
           "text": "n0",
           "width": 13.484375,
           "x": 43.7421875,
           "y": 5
          }
         ],
         "layoutOptions": {
          "org.eclipse.elk.nodeSize.constraints": "NODE_LABELS PORTS PORT_LABELS MINIMUM_SIZE"
         },
         "ports": [
          {
           "height": 0,
           "id": "56ab23e9-5046-4b2d-b8a5-319375483c39.c22fa774-d367-42dd-ba0e-cba0424d39d3",
           "labels": [],
           "layoutOptions": {},
           "properties": {
            "cssClasses": "slack-port",
            "hidden": null,
            "key": "56ab23e9-5046-4b2d-b8a5-319375483c39.c22fa774-d367-42dd-ba0e-cba0424d39d3",
            "shape": null
           },
           "width": 0,
           "x": null,
           "y": null
          },
          {
           "height": 0,
           "id": "56ab23e9-5046-4b2d-b8a5-319375483c39.cca482c7-b4ef-42e2-969b-6c8ce1f9b141",
           "labels": [],
           "layoutOptions": {},
           "properties": {
            "cssClasses": "slack-port",
            "hidden": null,
            "key": "56ab23e9-5046-4b2d-b8a5-319375483c39.cca482c7-b4ef-42e2-969b-6c8ce1f9b141",
            "shape": null
           },
           "width": 0,
           "x": null,
           "y": null
          },
          {
           "height": 0,
           "id": "1917720f-47d4-4174-b32b-c3b7309f3ccd.f6e7c629-92d6-4f42-a084-14a6c7486199",
           "labels": [],
           "layoutOptions": {},
           "properties": {
            "cssClasses": "slack-port",
            "hidden": null,
            "key": "1917720f-47d4-4174-b32b-c3b7309f3ccd.f6e7c629-92d6-4f42-a084-14a6c7486199",
            "shape": null
           },
           "width": 0,
           "x": null,
           "y": null
          }
         ],
         "properties": {
          "cssClasses": "example-data-node-class-from-ports",
          "hidden": null,
          "key": null,
          "shape": null
         },
         "width": 100.96875,
         "x": 12,
         "y": 12
        },
        {
         "children": [],
         "edges": [],
         "height": 55,
         "id": "n3",
         "labels": [
          {
           "height": 13.015625,
           "id": "1c37080c-f037-42b7-b0e3-f248af1a1e2d",
           "labels": [],
           "layoutOptions": {
            "org.eclipse.elk.nodeLabels.placement": "H_CENTER V_TOP INSIDE"
           },
           "properties": {
            "cssClasses": "",
            "hidden": null,
            "key": null,
            "selectable": false,
            "shape": null
           },
           "text": "n3",
           "width": 12.96875,
           "x": 5,
           "y": 5
          }
         ],
         "layoutOptions": {
          "org.eclipse.elk.nodeSize.constraints": "NODE_LABELS PORTS PORT_LABELS MINIMUM_SIZE"
         },
         "ports": [
          {
           "height": 5,
           "id": "cbb2fa09-7f23-4208-a518-eebc2f69f9f2.5902c86c-579e-47b8-94c3-c9bf9bba2b6c",
           "labels": [],
           "layoutOptions": {},
           "properties": {
            "cssClasses": "",
            "hidden": null,
            "key": "y",
            "shape": null
           },
           "width": 5,
           "x": -5,
           "y": 40
          },
          {
           "height": 5,
           "id": "cbb2fa09-7f23-4208-a518-eebc2f69f9f2.43f29f9b-3e6d-4056-9b16-c3acf7b98897",
           "labels": [],
           "layoutOptions": {},
           "properties": {
            "cssClasses": "",
            "hidden": null,
            "key": "w",
            "shape": null
           },
           "width": 5,
           "x": -5,
           "y": 10
          },
          {
           "height": 5,
           "id": "cbb2fa09-7f23-4208-a518-eebc2f69f9f2.c0a9dba9-a2e5-4f1c-83fd-e326f0f63aa6",
           "labels": [],
           "layoutOptions": {},
           "properties": {
            "cssClasses": "",
            "hidden": null,
            "key": "x",
            "shape": null
           },
           "width": 5,
           "x": -5,
           "y": 25
          }
         ],
         "properties": {
          "cssClasses": "",
          "hidden": null,
          "key": null,
          "shape": null
         },
         "width": 22.96875,
         "x": 152.96875,
         "y": 30.015625
        }
       ],
       "edges": [
        {
         "id": "8402a3f4-854a-4589-a4b5-3b92589423c7",
         "labels": [],
         "layoutOptions": {},
         "properties": {
          "cssClasses": "slack-edge",
          "hidden": null,
          "key": null,
          "shape": null
         },
         "sections": [
          {
           "bendPoints": [
            {
             "x": 24,
             "y": 110.03125
            },
            {
             "x": 24,
             "y": 144.53125
            },
            {
             "x": 137.96875,
             "y": 144.53125
            },
            {
             "x": 137.96875,
             "y": 72.515625
            }
           ],
           "endPoint": {
            "x": 147.96875,
            "y": 72.515625
           },
           "id": "8402a3f4-854a-4589-a4b5-3b92589423c7_s0",
           "incomingSections": null,
           "incomingShape": "56ab23e9-5046-4b2d-b8a5-319375483c39.c22fa774-d367-42dd-ba0e-cba0424d39d3",
           "outgoingSections": null,
           "outgoingShape": "cbb2fa09-7f23-4208-a518-eebc2f69f9f2.5902c86c-579e-47b8-94c3-c9bf9bba2b6c",
           "startPoint": {
            "x": 34,
            "y": 110.03125
           }
          }
         ],
         "sources": [
          "56ab23e9-5046-4b2d-b8a5-319375483c39.c22fa774-d367-42dd-ba0e-cba0424d39d3"
         ],
         "targets": [
          "cbb2fa09-7f23-4208-a518-eebc2f69f9f2.5902c86c-579e-47b8-94c3-c9bf9bba2b6c"
         ]
        },
        {
         "id": "90284876-5471-4105-8357-abcb6d997ce7",
         "labels": [],
         "layoutOptions": {},
         "properties": {
          "cssClasses": "slack-edge",
          "hidden": null,
          "key": null,
          "shape": null
         },
         "sections": [
          {
           "bendPoints": [
            {
             "x": 24,
             "y": 95.03125
            },
            {
             "x": 24,
             "y": 42.515625
            }
           ],
           "endPoint": {
            "x": 147.96875,
            "y": 42.515625
           },
           "id": "90284876-5471-4105-8357-abcb6d997ce7_s0",
           "incomingSections": null,
           "incomingShape": "56ab23e9-5046-4b2d-b8a5-319375483c39.cca482c7-b4ef-42e2-969b-6c8ce1f9b141",
           "outgoingSections": null,
           "outgoingShape": "cbb2fa09-7f23-4208-a518-eebc2f69f9f2.43f29f9b-3e6d-4056-9b16-c3acf7b98897",
           "startPoint": {
            "x": 34,
            "y": 95.03125
           }
          }
         ],
         "sources": [
          "56ab23e9-5046-4b2d-b8a5-319375483c39.cca482c7-b4ef-42e2-969b-6c8ce1f9b141"
         ],
         "targets": [
          "cbb2fa09-7f23-4208-a518-eebc2f69f9f2.43f29f9b-3e6d-4056-9b16-c3acf7b98897"
         ]
        },
        {
         "id": "7fc73992-e7cb-4b11-a7ad-5110e42d1009",
         "labels": [],
         "layoutOptions": {},
         "properties": {
          "cssClasses": "slack-edge example-data-edge-class-from-ports",
          "hidden": null,
          "key": null,
          "shape": null
         },
         "sections": [
          {
           "bendPoints": [
            {
             "x": 127.96875,
             "y": 102.53125
            },
            {
             "x": 127.96875,
             "y": 57.515625
            }
           ],
           "endPoint": {
            "x": 147.96875,
            "y": 57.515625
           },
           "id": "7fc73992-e7cb-4b11-a7ad-5110e42d1009_s0",
           "incomingSections": null,
           "incomingShape": "1917720f-47d4-4174-b32b-c3b7309f3ccd.f6e7c629-92d6-4f42-a084-14a6c7486199",
           "outgoingSections": null,
           "outgoingShape": "cbb2fa09-7f23-4208-a518-eebc2f69f9f2.c0a9dba9-a2e5-4f1c-83fd-e326f0f63aa6",
           "startPoint": {
            "x": 83.96875,
            "y": 102.53125
           }
          }
         ],
         "sources": [
          "1917720f-47d4-4174-b32b-c3b7309f3ccd.f6e7c629-92d6-4f42-a084-14a6c7486199"
         ],
         "targets": [
          "cbb2fa09-7f23-4208-a518-eebc2f69f9f2.c0a9dba9-a2e5-4f1c-83fd-e326f0f63aa6"
         ]
        }
       ],
       "height": 169.03125,
       "id": "bb2a33db-ab57-4e5f-8ea6-0fd7aecf141b",
       "labels": [],
       "layoutOptions": {
        "org.eclipse.elk.hierarchyHandling": "INCLUDE_CHILDREN"
       },
       "ports": [],
       "properties": {
        "cssClasses": "",
        "hidden": null,
        "key": null,
        "shape": null
       },
       "width": 187.9375,
       "x": 0,
       "y": 0
      },
      "text/plain": [
       "<IPython.core.display.JSON object>"
      ]
     },
     "execution_count": 11,
     "metadata": {
      "application/json": {
       "expanded": false,
       "root": "root"
      }
     },
     "output_type": "execute_result"
    }
   ],
   "source": [
    "JSON(p.outlet.value.dict())"
   ]
  },
  {
   "cell_type": "code",
   "execution_count": null,
   "metadata": {},
   "outputs": [],
   "source": [
    "1+1"
   ]
  },
  {
   "cell_type": "code",
   "execution_count": 13,
   "metadata": {},
   "outputs": [
    {
     "name": "stdout",
     "output_type": "stream",
     "text": [
      "> \u001b[0;32m/home/dfreeman6/Documents/ipyelk/examples/pydantic/main.py\u001b[0m(400)\u001b[0;36mpydantic.main.BaseModel.__init__\u001b[0;34m()\u001b[0m\n",
      "\n"
     ]
    },
    {
     "name": "stdin",
     "output_type": "stream",
     "text": [
      "ipdb>  u\n"
     ]
    },
    {
     "name": "stdout",
     "output_type": "stream",
     "text": [
      "> \u001b[0;32m/home/dfreeman6/Documents/ipyelk/py_src/ipyelk/elements/index.py\u001b[0m(71)\u001b[0;36mfrom_els\u001b[0;34m()\u001b[0m\n",
      "\u001b[0;32m     69 \u001b[0;31m        return cls(\n",
      "\u001b[0m\u001b[0;32m     70 \u001b[0;31m            \u001b[0melements\u001b[0m \u001b[0;34m=\u001b[0m \u001b[0melements\u001b[0m\u001b[0;34m,\u001b[0m\u001b[0;34m\u001b[0m\u001b[0;34m\u001b[0m\u001b[0m\n",
      "\u001b[0m\u001b[0;32m---> 71 \u001b[0;31m            \u001b[0mvis_index\u001b[0m \u001b[0;34m=\u001b[0m \u001b[0mvis_index\u001b[0m\u001b[0;34m,\u001b[0m\u001b[0;34m\u001b[0m\u001b[0;34m\u001b[0m\u001b[0m\n",
      "\u001b[0m\u001b[0;32m     72 \u001b[0;31m        )\n",
      "\u001b[0m\u001b[0;32m     73 \u001b[0;31m\u001b[0;34m\u001b[0m\u001b[0m\n",
      "\u001b[0m\n"
     ]
    },
    {
     "name": "stdin",
     "output_type": "stream",
     "text": [
      "ipdb>  u\n"
     ]
    },
    {
     "name": "stdout",
     "output_type": "stream",
     "text": [
      "> \u001b[0;32m/home/dfreeman6/Documents/ipyelk/py_src/ipyelk/elements/serialization.py\u001b[0m(38)\u001b[0;36mfrom_elkjson\u001b[0;34m()\u001b[0m\n",
      "\u001b[0;32m     36 \u001b[0;31m    \u001b[0medges_map\u001b[0m \u001b[0;34m=\u001b[0m \u001b[0mpop_edges\u001b[0m\u001b[0;34m(\u001b[0m\u001b[0mdata\u001b[0m\u001b[0;34m)\u001b[0m  \u001b[0;31m# dict of node.id to edge list\u001b[0m\u001b[0;34m\u001b[0m\u001b[0;34m\u001b[0m\u001b[0m\n",
      "\u001b[0m\u001b[0;32m     37 \u001b[0;31m    \u001b[0mroot\u001b[0m \u001b[0;34m=\u001b[0m \u001b[0mNode\u001b[0m\u001b[0;34m(\u001b[0m\u001b[0;34m**\u001b[0m\u001b[0mdata\u001b[0m\u001b[0;34m)\u001b[0m  \u001b[0;31m# new element hierarchy without edges\u001b[0m\u001b[0;34m\u001b[0m\u001b[0;34m\u001b[0m\u001b[0m\n",
      "\u001b[0m\u001b[0;32m---> 38 \u001b[0;31m    \u001b[0mel_map\u001b[0m \u001b[0;34m=\u001b[0m \u001b[0mElementIndex\u001b[0m\u001b[0;34m.\u001b[0m\u001b[0mfrom_els\u001b[0m\u001b[0;34m(\u001b[0m\u001b[0mroot\u001b[0m\u001b[0;34m,\u001b[0m \u001b[0mvis_index\u001b[0m\u001b[0;34m=\u001b[0m\u001b[0mvis_index\u001b[0m\u001b[0;34m)\u001b[0m  \u001b[0;31m# get mapping of ids to elements\u001b[0m\u001b[0;34m\u001b[0m\u001b[0;34m\u001b[0m\u001b[0m\n",
      "\u001b[0m\u001b[0;32m     39 \u001b[0;31m    \u001b[0mel_map\u001b[0m\u001b[0;34m.\u001b[0m\u001b[0mlink_edges\u001b[0m\u001b[0;34m(\u001b[0m\u001b[0medges_map\u001b[0m\u001b[0;34m)\u001b[0m\u001b[0;34m\u001b[0m\u001b[0;34m\u001b[0m\u001b[0m\n",
      "\u001b[0m\u001b[0;32m     40 \u001b[0;31m    \u001b[0;31m# reapplies edges to `data`\u001b[0m\u001b[0;34m\u001b[0m\u001b[0;34m\u001b[0m\u001b[0;34m\u001b[0m\u001b[0m\n",
      "\u001b[0m\n"
     ]
    },
    {
     "name": "stdin",
     "output_type": "stream",
     "text": [
      "ipdb>  data\n"
     ]
    },
    {
     "name": "stdout",
     "output_type": "stream",
     "text": [
      "{}\n"
     ]
    },
    {
     "name": "stdin",
     "output_type": "stream",
     "text": [
      "ipdb>  ll\n"
     ]
    },
    {
     "name": "stdout",
     "output_type": "stream",
     "text": [
      "\u001b[1;32m     34 \u001b[0m\u001b[0;32mdef\u001b[0m \u001b[0mfrom_elkjson\u001b[0m\u001b[0;34m(\u001b[0m\u001b[0mdata\u001b[0m\u001b[0;34m,\u001b[0m \u001b[0mvis_index\u001b[0m\u001b[0;34m:\u001b[0m \u001b[0mVisIndex\u001b[0m\u001b[0;34m=\u001b[0m\u001b[0;32mNone\u001b[0m\u001b[0;34m)\u001b[0m\u001b[0;34m:\u001b[0m\u001b[0;34m\u001b[0m\u001b[0;34m\u001b[0m\u001b[0m\n",
      "\u001b[1;32m     35 \u001b[0m    \u001b[0;31m# pop_edges currently mutates `data` by popping the edge dict\u001b[0m\u001b[0;34m\u001b[0m\u001b[0;34m\u001b[0m\u001b[0;34m\u001b[0m\u001b[0m\n",
      "\u001b[1;32m     36 \u001b[0m    \u001b[0medges_map\u001b[0m \u001b[0;34m=\u001b[0m \u001b[0mpop_edges\u001b[0m\u001b[0;34m(\u001b[0m\u001b[0mdata\u001b[0m\u001b[0;34m)\u001b[0m  \u001b[0;31m# dict of node.id to edge list\u001b[0m\u001b[0;34m\u001b[0m\u001b[0;34m\u001b[0m\u001b[0m\n",
      "\u001b[1;32m     37 \u001b[0m    \u001b[0mroot\u001b[0m \u001b[0;34m=\u001b[0m \u001b[0mNode\u001b[0m\u001b[0;34m(\u001b[0m\u001b[0;34m**\u001b[0m\u001b[0mdata\u001b[0m\u001b[0;34m)\u001b[0m  \u001b[0;31m# new element hierarchy without edges\u001b[0m\u001b[0;34m\u001b[0m\u001b[0;34m\u001b[0m\u001b[0m\n",
      "\u001b[0;32m---> 38 \u001b[0;31m    \u001b[0mel_map\u001b[0m \u001b[0;34m=\u001b[0m \u001b[0mElementIndex\u001b[0m\u001b[0;34m.\u001b[0m\u001b[0mfrom_els\u001b[0m\u001b[0;34m(\u001b[0m\u001b[0mroot\u001b[0m\u001b[0;34m,\u001b[0m \u001b[0mvis_index\u001b[0m\u001b[0;34m=\u001b[0m\u001b[0mvis_index\u001b[0m\u001b[0;34m)\u001b[0m  \u001b[0;31m# get mapping of ids to elements\u001b[0m\u001b[0;34m\u001b[0m\u001b[0;34m\u001b[0m\u001b[0m\n",
      "\u001b[0m\u001b[1;32m     39 \u001b[0m    \u001b[0mel_map\u001b[0m\u001b[0;34m.\u001b[0m\u001b[0mlink_edges\u001b[0m\u001b[0;34m(\u001b[0m\u001b[0medges_map\u001b[0m\u001b[0;34m)\u001b[0m\u001b[0;34m\u001b[0m\u001b[0;34m\u001b[0m\u001b[0m\n",
      "\u001b[1;32m     40 \u001b[0m    \u001b[0;31m# reapplies edges to `data`\u001b[0m\u001b[0;34m\u001b[0m\u001b[0;34m\u001b[0m\u001b[0;34m\u001b[0m\u001b[0m\n",
      "\u001b[1;32m     41 \u001b[0m    \u001b[0mapply_edges\u001b[0m\u001b[0;34m(\u001b[0m\u001b[0mdata\u001b[0m\u001b[0;34m,\u001b[0m \u001b[0medges_map\u001b[0m\u001b[0;34m)\u001b[0m\u001b[0;34m\u001b[0m\u001b[0;34m\u001b[0m\u001b[0m\n",
      "\u001b[1;32m     42 \u001b[0m\u001b[0;34m\u001b[0m\u001b[0m\n",
      "\u001b[1;32m     43 \u001b[0m    \u001b[0;32mreturn\u001b[0m \u001b[0mroot\u001b[0m\u001b[0;34m\u001b[0m\u001b[0;34m\u001b[0m\u001b[0m\n",
      "\u001b[1;32m     44 \u001b[0m\u001b[0;34m\u001b[0m\u001b[0m\n",
      "\n"
     ]
    },
    {
     "name": "stdin",
     "output_type": "stream",
     "text": [
      "ipdb>  u\n"
     ]
    },
    {
     "name": "stdout",
     "output_type": "stream",
     "text": [
      "> \u001b[0;32m/home/dfreeman6/Documents/ipyelk/py_src/ipyelk/elements/serialization.py\u001b[0m(61)\u001b[0;36mfrom_elk_json\u001b[0;34m()\u001b[0m\n",
      "\u001b[0;32m     59 \u001b[0;31m    \u001b[0;32mif\u001b[0m \u001b[0mjs\u001b[0m \u001b[0;32mis\u001b[0m \u001b[0;32mNone\u001b[0m\u001b[0;34m:\u001b[0m\u001b[0;34m\u001b[0m\u001b[0;34m\u001b[0m\u001b[0m\n",
      "\u001b[0m\u001b[0;32m     60 \u001b[0;31m        \u001b[0;32mreturn\u001b[0m \u001b[0;32mNone\u001b[0m\u001b[0;34m\u001b[0m\u001b[0;34m\u001b[0m\u001b[0m\n",
      "\u001b[0m\u001b[0;32m---> 61 \u001b[0;31m    \u001b[0;32mreturn\u001b[0m \u001b[0mfrom_elkjson\u001b[0m\u001b[0;34m(\u001b[0m\u001b[0mjs\u001b[0m\u001b[0;34m)\u001b[0m\u001b[0;34m\u001b[0m\u001b[0;34m\u001b[0m\u001b[0m\n",
      "\u001b[0m\u001b[0;32m     62 \u001b[0;31m\u001b[0;34m\u001b[0m\u001b[0m\n",
      "\u001b[0m\u001b[0;32m     63 \u001b[0;31m\u001b[0;34m\u001b[0m\u001b[0m\n",
      "\u001b[0m\n"
     ]
    },
    {
     "name": "stdin",
     "output_type": "stream",
     "text": [
      "ipdb>  js\n"
     ]
    },
    {
     "name": "stdout",
     "output_type": "stream",
     "text": [
      "{}\n"
     ]
    },
    {
     "name": "stdin",
     "output_type": "stream",
     "text": [
      "ipdb>  c\n"
     ]
    }
   ],
   "source": [
    "%debug"
   ]
  },
  {
   "cell_type": "code",
   "execution_count": 6,
   "metadata": {},
   "outputs": [
    {
     "data": {
      "application/json": {
       "children": [
        {
         "children": [],
         "edges": [],
         "height": 145.03125,
         "id": "n0",
         "labels": [
          {
           "height": 13.015625,
           "id": "333568f8-923d-4d39-8255-a2e73ef3cc19",
           "labels": [],
           "layoutOptions": {
            "org.eclipse.elk.nodeLabels.placement": "H_CENTER V_TOP INSIDE"
           },
           "properties": {
            "cssClasses": "",
            "hidden": null,
            "key": null,
            "selectable": false,
            "shape": null
           },
           "text": "n0",
           "width": 13.484375,
           "x": 43.7421875,
           "y": 5
          }
         ],
         "layoutOptions": {
          "org.eclipse.elk.nodeSize.constraints": "NODE_LABELS PORTS PORT_LABELS MINIMUM_SIZE"
         },
         "ports": [],
         "properties": {
          "cssClasses": "example-data-node-class-from-ports",
          "hidden": null,
          "key": null,
          "shape": null
         },
         "width": 100.96875,
         "x": 12,
         "y": 12
        },
        {
         "children": [],
         "edges": [],
         "height": 55,
         "id": "n3",
         "labels": [
          {
           "height": 13.015625,
           "id": "beb18a10-3d21-4bdf-9035-28f4218ae7f0",
           "labels": [],
           "layoutOptions": {
            "org.eclipse.elk.nodeLabels.placement": "H_CENTER V_TOP INSIDE"
           },
           "properties": {
            "cssClasses": "",
            "hidden": null,
            "key": null,
            "selectable": false,
            "shape": null
           },
           "text": "n3",
           "width": 12.96875,
           "x": 5,
           "y": 5
          }
         ],
         "layoutOptions": {
          "org.eclipse.elk.nodeSize.constraints": "NODE_LABELS PORTS PORT_LABELS MINIMUM_SIZE"
         },
         "ports": [
          {
           "height": 5,
           "id": "75e33531-78b9-4f3e-8d60-8049d228ffdb.a1cb7181-8d62-431a-a56d-db60dda6fb44",
           "labels": [],
           "layoutOptions": {},
           "properties": {
            "cssClasses": "",
            "hidden": null,
            "key": "y",
            "shape": null
           },
           "width": 5,
           "x": -5,
           "y": 40
          },
          {
           "height": 5,
           "id": "75e33531-78b9-4f3e-8d60-8049d228ffdb.de7b30c9-8c96-4c8d-91b8-61ef1fa79b4a",
           "labels": [],
           "layoutOptions": {},
           "properties": {
            "cssClasses": "",
            "hidden": null,
            "key": "w",
            "shape": null
           },
           "width": 5,
           "x": -5,
           "y": 10
          },
          {
           "height": 5,
           "id": "75e33531-78b9-4f3e-8d60-8049d228ffdb.0e1a2ba5-2f46-4411-b929-85fb705f069c",
           "labels": [],
           "layoutOptions": {},
           "properties": {
            "cssClasses": "",
            "hidden": null,
            "key": "x",
            "shape": null
           },
           "width": 5,
           "x": -5,
           "y": 25
          }
         ],
         "properties": {
          "cssClasses": "",
          "hidden": null,
          "key": null,
          "shape": null
         },
         "width": 22.96875,
         "x": 152.96875,
         "y": 30.015625
        }
       ],
       "edges": [
        {
         "id": "19bfdddd-9d01-4c93-a07c-6cb9c90eab31",
         "labels": [],
         "layoutOptions": {},
         "properties": {
          "cssClasses": "",
          "hidden": null,
          "key": null,
          "shape": null
         },
         "sections": [
          {
           "bendPoints": [
            {
             "x": 24,
             "y": 110.03125
            },
            {
             "x": 24,
             "y": 144.53125
            },
            {
             "x": 137.96875,
             "y": 144.53125
            },
            {
             "x": 137.96875,
             "y": 72.515625
            }
           ],
           "endPoint": {
            "x": 147.96875,
            "y": 72.515625
           },
           "id": "19bfdddd-9d01-4c93-a07c-6cb9c90eab31_s0",
           "incomingSections": null,
           "incomingShape": "053141f6-043c-4595-afc1-92003d4263a4.ecfe7eeb-0bfb-422c-b376-8c07732a375e",
           "outgoingSections": null,
           "outgoingShape": "75e33531-78b9-4f3e-8d60-8049d228ffdb.a1cb7181-8d62-431a-a56d-db60dda6fb44",
           "startPoint": {
            "x": 34,
            "y": 110.03125
           }
          }
         ],
         "sources": [
          "053141f6-043c-4595-afc1-92003d4263a4.ecfe7eeb-0bfb-422c-b376-8c07732a375e"
         ],
         "targets": [
          "75e33531-78b9-4f3e-8d60-8049d228ffdb.a1cb7181-8d62-431a-a56d-db60dda6fb44"
         ]
        },
        {
         "id": "d4f1c897-09d0-4d5c-9bb1-716599829c66",
         "labels": [],
         "layoutOptions": {},
         "properties": {
          "cssClasses": "",
          "hidden": null,
          "key": null,
          "shape": null
         },
         "sections": [
          {
           "bendPoints": [
            {
             "x": 24,
             "y": 95.03125
            },
            {
             "x": 24,
             "y": 42.515625
            }
           ],
           "endPoint": {
            "x": 147.96875,
            "y": 42.515625
           },
           "id": "d4f1c897-09d0-4d5c-9bb1-716599829c66_s0",
           "incomingSections": null,
           "incomingShape": "053141f6-043c-4595-afc1-92003d4263a4.cd534e1d-fcef-4ece-bf4f-76eedcb558b3",
           "outgoingSections": null,
           "outgoingShape": "75e33531-78b9-4f3e-8d60-8049d228ffdb.de7b30c9-8c96-4c8d-91b8-61ef1fa79b4a",
           "startPoint": {
            "x": 34,
            "y": 95.03125
           }
          }
         ],
         "sources": [
          "053141f6-043c-4595-afc1-92003d4263a4.cd534e1d-fcef-4ece-bf4f-76eedcb558b3"
         ],
         "targets": [
          "75e33531-78b9-4f3e-8d60-8049d228ffdb.de7b30c9-8c96-4c8d-91b8-61ef1fa79b4a"
         ]
        },
        {
         "id": "22868627-ed01-48df-bdec-78be23d8eaf7",
         "labels": [],
         "layoutOptions": {},
         "properties": {
          "cssClasses": "example-data-edge-class-from-ports",
          "hidden": null,
          "key": null,
          "shape": null
         },
         "sections": [
          {
           "bendPoints": [
            {
             "x": 127.96875,
             "y": 102.53125
            },
            {
             "x": 127.96875,
             "y": 57.515625
            }
           ],
           "endPoint": {
            "x": 147.96875,
            "y": 57.515625
           },
           "id": "22868627-ed01-48df-bdec-78be23d8eaf7_s0",
           "incomingSections": null,
           "incomingShape": "863db8d8-ac9c-4a23-a9ba-8991cc816462.3f4768ce-e8f5-48d5-b8d9-0dbd0e9e33df",
           "outgoingSections": null,
           "outgoingShape": "75e33531-78b9-4f3e-8d60-8049d228ffdb.0e1a2ba5-2f46-4411-b929-85fb705f069c",
           "startPoint": {
            "x": 83.96875,
            "y": 102.53125
           }
          }
         ],
         "sources": [
          "863db8d8-ac9c-4a23-a9ba-8991cc816462.3f4768ce-e8f5-48d5-b8d9-0dbd0e9e33df"
         ],
         "targets": [
          "75e33531-78b9-4f3e-8d60-8049d228ffdb.0e1a2ba5-2f46-4411-b929-85fb705f069c"
         ]
        }
       ],
       "height": 169.03125,
       "id": "b2e7c8f0-6ebf-49d5-99e8-765ce8193885",
       "labels": [],
       "layoutOptions": {
        "org.eclipse.elk.hierarchyHandling": "INCLUDE_CHILDREN"
       },
       "ports": [],
       "properties": {
        "cssClasses": "",
        "hidden": null,
        "key": null,
        "shape": null
       },
       "width": 187.9375,
       "x": 0,
       "y": 0
      },
      "text/plain": [
       "<IPython.core.display.JSON object>"
      ]
     },
     "execution_count": 6,
     "metadata": {
      "application/json": {
       "expanded": false,
       "root": "root"
      }
     },
     "output_type": "execute_result"
    }
   ],
   "source": [
    "JSON(root.dict())\n"
   ]
  },
  {
   "cell_type": "code",
   "execution_count": 7,
   "metadata": {
    "tags": []
   },
   "outputs": [
    {
     "data": {
      "text/plain": [
       "140538878876720"
      ]
     },
     "execution_count": 7,
     "metadata": {},
     "output_type": "execute_result"
    }
   ],
   "source": [
    "with exclude_hidden:\n",
    "    data = root.dict()\n",
    "#     elk.view.source.value = from_elk_json(data, None)\n",
    "id(elk.view.source.value)"
   ]
  },
  {
   "cell_type": "code",
   "execution_count": 8,
   "metadata": {},
   "outputs": [
    {
     "data": {
      "application/json": {
       "children": [
        {
         "children": [],
         "edges": [],
         "height": 145.03125,
         "id": "n0",
         "labels": [
          {
           "height": 13.015625,
           "id": "333568f8-923d-4d39-8255-a2e73ef3cc19",
           "labels": [],
           "layoutOptions": {
            "org.eclipse.elk.nodeLabels.placement": "H_CENTER V_TOP INSIDE"
           },
           "properties": {
            "cssClasses": "",
            "hidden": null,
            "key": null,
            "selectable": false,
            "shape": null
           },
           "text": "n0",
           "width": 13.484375,
           "x": 43.7421875,
           "y": 5
          }
         ],
         "layoutOptions": {
          "org.eclipse.elk.nodeSize.constraints": "NODE_LABELS PORTS PORT_LABELS MINIMUM_SIZE"
         },
         "ports": [],
         "properties": {
          "cssClasses": "example-data-node-class-from-ports",
          "hidden": null,
          "key": null,
          "shape": null
         },
         "width": 100.96875,
         "x": 12,
         "y": 12
        },
        {
         "children": [],
         "edges": [],
         "height": 55,
         "id": "n3",
         "labels": [
          {
           "height": 13.015625,
           "id": "beb18a10-3d21-4bdf-9035-28f4218ae7f0",
           "labels": [],
           "layoutOptions": {
            "org.eclipse.elk.nodeLabels.placement": "H_CENTER V_TOP INSIDE"
           },
           "properties": {
            "cssClasses": "",
            "hidden": null,
            "key": null,
            "selectable": false,
            "shape": null
           },
           "text": "n3",
           "width": 12.96875,
           "x": 5,
           "y": 5
          }
         ],
         "layoutOptions": {
          "org.eclipse.elk.nodeSize.constraints": "NODE_LABELS PORTS PORT_LABELS MINIMUM_SIZE"
         },
         "ports": [
          {
           "height": 5,
           "id": "75e33531-78b9-4f3e-8d60-8049d228ffdb.a1cb7181-8d62-431a-a56d-db60dda6fb44",
           "labels": [],
           "layoutOptions": {},
           "properties": {
            "cssClasses": "",
            "hidden": null,
            "key": "y",
            "shape": null
           },
           "width": 5,
           "x": -5,
           "y": 40
          },
          {
           "height": 5,
           "id": "75e33531-78b9-4f3e-8d60-8049d228ffdb.de7b30c9-8c96-4c8d-91b8-61ef1fa79b4a",
           "labels": [],
           "layoutOptions": {},
           "properties": {
            "cssClasses": "",
            "hidden": null,
            "key": "w",
            "shape": null
           },
           "width": 5,
           "x": -5,
           "y": 10
          },
          {
           "height": 5,
           "id": "75e33531-78b9-4f3e-8d60-8049d228ffdb.0e1a2ba5-2f46-4411-b929-85fb705f069c",
           "labels": [],
           "layoutOptions": {},
           "properties": {
            "cssClasses": "",
            "hidden": null,
            "key": "x",
            "shape": null
           },
           "width": 5,
           "x": -5,
           "y": 25
          }
         ],
         "properties": {
          "cssClasses": "",
          "hidden": null,
          "key": null,
          "shape": null
         },
         "width": 22.96875,
         "x": 152.96875,
         "y": 30.015625
        }
       ],
       "edges": [
        {
         "id": "19bfdddd-9d01-4c93-a07c-6cb9c90eab31",
         "labels": [],
         "layoutOptions": {},
         "properties": {
          "cssClasses": "",
          "hidden": null,
          "key": null,
          "shape": null
         },
         "sections": [
          {
           "bendPoints": [
            {
             "x": 24,
             "y": 110.03125
            },
            {
             "x": 24,
             "y": 144.53125
            },
            {
             "x": 137.96875,
             "y": 144.53125
            },
            {
             "x": 137.96875,
             "y": 72.515625
            }
           ],
           "endPoint": {
            "x": 147.96875,
            "y": 72.515625
           },
           "id": "19bfdddd-9d01-4c93-a07c-6cb9c90eab31_s0",
           "incomingSections": null,
           "incomingShape": "053141f6-043c-4595-afc1-92003d4263a4.ecfe7eeb-0bfb-422c-b376-8c07732a375e",
           "outgoingSections": null,
           "outgoingShape": "75e33531-78b9-4f3e-8d60-8049d228ffdb.a1cb7181-8d62-431a-a56d-db60dda6fb44",
           "startPoint": {
            "x": 34,
            "y": 110.03125
           }
          }
         ],
         "sources": [
          "053141f6-043c-4595-afc1-92003d4263a4.ecfe7eeb-0bfb-422c-b376-8c07732a375e"
         ],
         "targets": [
          "75e33531-78b9-4f3e-8d60-8049d228ffdb.a1cb7181-8d62-431a-a56d-db60dda6fb44"
         ]
        },
        {
         "id": "d4f1c897-09d0-4d5c-9bb1-716599829c66",
         "labels": [],
         "layoutOptions": {},
         "properties": {
          "cssClasses": "",
          "hidden": null,
          "key": null,
          "shape": null
         },
         "sections": [
          {
           "bendPoints": [
            {
             "x": 24,
             "y": 95.03125
            },
            {
             "x": 24,
             "y": 42.515625
            }
           ],
           "endPoint": {
            "x": 147.96875,
            "y": 42.515625
           },
           "id": "d4f1c897-09d0-4d5c-9bb1-716599829c66_s0",
           "incomingSections": null,
           "incomingShape": "053141f6-043c-4595-afc1-92003d4263a4.cd534e1d-fcef-4ece-bf4f-76eedcb558b3",
           "outgoingSections": null,
           "outgoingShape": "75e33531-78b9-4f3e-8d60-8049d228ffdb.de7b30c9-8c96-4c8d-91b8-61ef1fa79b4a",
           "startPoint": {
            "x": 34,
            "y": 95.03125
           }
          }
         ],
         "sources": [
          "053141f6-043c-4595-afc1-92003d4263a4.cd534e1d-fcef-4ece-bf4f-76eedcb558b3"
         ],
         "targets": [
          "75e33531-78b9-4f3e-8d60-8049d228ffdb.de7b30c9-8c96-4c8d-91b8-61ef1fa79b4a"
         ]
        },
        {
         "id": "22868627-ed01-48df-bdec-78be23d8eaf7",
         "labels": [],
         "layoutOptions": {},
         "properties": {
          "cssClasses": "example-data-edge-class-from-ports",
          "hidden": null,
          "key": null,
          "shape": null
         },
         "sections": [
          {
           "bendPoints": [
            {
             "x": 127.96875,
             "y": 102.53125
            },
            {
             "x": 127.96875,
             "y": 57.515625
            }
           ],
           "endPoint": {
            "x": 147.96875,
            "y": 57.515625
           },
           "id": "22868627-ed01-48df-bdec-78be23d8eaf7_s0",
           "incomingSections": null,
           "incomingShape": "863db8d8-ac9c-4a23-a9ba-8991cc816462.3f4768ce-e8f5-48d5-b8d9-0dbd0e9e33df",
           "outgoingSections": null,
           "outgoingShape": "75e33531-78b9-4f3e-8d60-8049d228ffdb.0e1a2ba5-2f46-4411-b929-85fb705f069c",
           "startPoint": {
            "x": 83.96875,
            "y": 102.53125
           }
          }
         ],
         "sources": [
          "863db8d8-ac9c-4a23-a9ba-8991cc816462.3f4768ce-e8f5-48d5-b8d9-0dbd0e9e33df"
         ],
         "targets": [
          "75e33531-78b9-4f3e-8d60-8049d228ffdb.0e1a2ba5-2f46-4411-b929-85fb705f069c"
         ]
        }
       ],
       "height": 169.03125,
       "id": "b2e7c8f0-6ebf-49d5-99e8-765ce8193885",
       "labels": [],
       "layoutOptions": {
        "org.eclipse.elk.hierarchyHandling": "INCLUDE_CHILDREN"
       },
       "ports": [],
       "properties": {
        "cssClasses": "",
        "hidden": null,
        "key": null,
        "shape": null
       },
       "width": 187.9375,
       "x": 0,
       "y": 0
      },
      "text/plain": [
       "<IPython.core.display.JSON object>"
      ]
     },
     "execution_count": 8,
     "metadata": {
      "application/json": {
       "expanded": false,
       "root": "root"
      }
     },
     "output_type": "execute_result"
    }
   ],
   "source": [
    "JSON(data)"
   ]
  },
  {
   "cell_type": "code",
   "execution_count": 9,
   "metadata": {},
   "outputs": [
    {
     "name": "stdout",
     "output_type": "stream",
     "text": [
      "652b428c-82c4-44bb-823b-cdef69b610e3.a348080a-6e38-44e6-9af1-21b85f55729b\n",
      "652b428c-82c4-44bb-823b-cdef69b610e3.e29d567a-31d8-4692-b864-89a32ca36331\n",
      "652b428c-82c4-44bb-823b-cdef69b610e3.6a37252a-983f-477e-82c4-a55c8dac90a2\n",
      "1e5f0691-de00-4e38-af6b-923d8bf6e5e3.d7c980bb-7287-4b18-9b46-7b561a4c97b9\n",
      "1e5f0691-de00-4e38-af6b-923d8bf6e5e3.ec735dfd-37fa-4807-8daf-30cdfb914e3b\n",
      "1e5f0691-de00-4e38-af6b-923d8bf6e5e3.032242fe-f68d-4315-99d4-937df18fdeab\n"
     ]
    },
    {
     "data": {
      "text/plain": [
       "Edge(id='73e1d989-7cd8-4c4b-81de-0c6cd0c672e0', labels=[], layoutOptions={}, metadata=ElementMetadata(), properties=EdgeProperties(cssClasses='slack-edge', shape=None, key=None, hidden=None), source=Port(id='652b428c-82c4-44bb-823b-cdef69b610e3.6a37252a-983f-477e-82c4-a55c8dac90a2', labels=[], layoutOptions={}, metadata=ElementMetadata(), properties=PortProperties(cssClasses='slack-port', shape=None, key='3ab34ba7-0ac9-4d5f-aca2-d674b87b6247.3264be9d-6834-4ada-bbc4-7c382669527a', hidden=None), x=None, y=None, width=None, height=None), target=Port(id='1e5f0691-de00-4e38-af6b-923d8bf6e5e3.032242fe-f68d-4315-99d4-937df18fdeab', labels=[], layoutOptions={}, metadata=ElementMetadata(), properties=PortProperties(cssClasses='', shape=None, key=None, hidden=None), x=-5.0, y=25.0, width=5.0, height=5.0), sections=[EdgeSection(id='73e1d989-7cd8-4c4b-81de-0c6cd0c672e0_s0', startPoint=Point(x=83.96875, y=102.53125), endPoint=Point(x=147.96875, y=57.515625), bendPoints=[Point(x=127.96875, y=102.53125), Point(x=127.96875, y=57.515625)], incomingShape='3ab34ba7-0ac9-4d5f-aca2-d674b87b6247.3264be9d-6834-4ada-bbc4-7c382669527a', outgoingShape='1e5f0691-de00-4e38-af6b-923d8bf6e5e3.032242fe-f68d-4315-99d4-937df18fdeab', incomingSections=None, outgoingSections=None)])"
      ]
     },
     "execution_count": 9,
     "metadata": {},
     "output_type": "execute_result"
    }
   ],
   "source": [
    "from ipyelk.elements.serialization import pop_edges, ElementIndex, apply_edges\n",
    "from ipyelk.elements import Node, Registry, index, Port\n",
    "\n",
    "context = Registry()\n",
    "\n",
    "ports = []\n",
    "with context:\n",
    "\n",
    "    edges_map = pop_edges(data)  # dict of node.id to edge list\n",
    "    root = Node(**data)  # element hierarchy without edges\n",
    "    el_map = ElementIndex.from_els(root, vis_index=vis_index)  # get dict of id to element\n",
    "    el_map.link_edges(edges_map)\n",
    "    # reapplies edges to `data`\n",
    "\n",
    "    apply_edges(data, edges_map)\n",
    "    \n",
    "    for el in index.iter_elements(root):\n",
    "        \n",
    "        el.id = el.get_id()\n",
    "        if isinstance(el, Port):\n",
    "            print(el.id)\n",
    "            ports.append(el)\n",
    "el\n"
   ]
  },
  {
   "cell_type": "code",
   "execution_count": 10,
   "metadata": {},
   "outputs": [
    {
     "name": "stderr",
     "output_type": "stream",
     "text": [
      "ERROR:root:No traceback has been produced, nothing to debug.\n"
     ]
    }
   ],
   "source": [
    "%debug"
   ]
  },
  {
   "cell_type": "code",
   "execution_count": 11,
   "metadata": {},
   "outputs": [
    {
     "name": "stdout",
     "output_type": "stream",
     "text": [
      "<class 'ipyelk.elements.elements.Node'> 21d47673-3daa-4e38-846d-d0a596fb4374\n",
      "<class 'ipyelk.elements.elements.Node'> n0\n",
      "<class 'ipyelk.elements.elements.Port'> 20d2c4d7-281c-47ed-af38-c52d4c8586e9.91a87627-805a-44a0-b7da-d3793598c81e\n",
      "<class 'ipyelk.elements.elements.Port'> 20d2c4d7-281c-47ed-af38-c52d4c8586e9.26710b11-a010-444a-8e80-f57666f51594\n",
      "<class 'ipyelk.elements.elements.Port'> 20d2c4d7-281c-47ed-af38-c52d4c8586e9.1a0c8c43-c25a-4aa4-a88d-cbfc76114fe7\n",
      "<class 'ipyelk.elements.elements.Label'> be3b8140-979e-4f09-84fe-da55862dfc60\n",
      "<class 'ipyelk.elements.elements.Node'> n3\n",
      "<class 'ipyelk.elements.elements.Port'> 352af3a5-70f5-42fa-b9c7-9bcd05147905.a3665f29-6cfe-4134-a5b0-fd38c8828ea9\n",
      "<class 'ipyelk.elements.elements.Port'> 352af3a5-70f5-42fa-b9c7-9bcd05147905.3420261a-776c-4bef-a0b5-aa27f5d3583c\n",
      "<class 'ipyelk.elements.elements.Port'> 352af3a5-70f5-42fa-b9c7-9bcd05147905.0b4d81ca-29a0-4ac6-b71c-a560c146bb45\n",
      "<class 'ipyelk.elements.elements.Label'> 885c0293-9409-45b8-b1d8-cea2ed753a1d\n",
      "<class 'ipyelk.elements.elements.Edge'> 9dbe8941-da06-4da0-ae53-eaa719ea5c8b\n",
      "<class 'ipyelk.elements.elements.Edge'> 95f169e0-4518-4bf7-b732-31303979380c\n",
      "<class 'ipyelk.elements.elements.Edge'> 0b08fe85-dad3-48c3-8d39-ee2b40c8ec00\n"
     ]
    }
   ],
   "source": [
    "for el in index.iter_elements(root):\n",
    "    print(type(el), el.id)"
   ]
  },
  {
   "cell_type": "code",
   "execution_count": 12,
   "metadata": {},
   "outputs": [
    {
     "name": "stdout",
     "output_type": "stream",
     "text": [
      "9dbe8941-da06-4da0-ae53-eaa719ea5c8b 20d2c4d7-281c-47ed-af38-c52d4c8586e9.91a87627-805a-44a0-b7da-d3793598c81e 07f4444d-879f-434f-996d-b7a53336be40.3602cd2f-e7f7-43fb-8eb4-092e8954e751\n"
     ]
    }
   ],
   "source": [
    "e = root.edges[0]\n",
    "with context:\n",
    "    print(e.get_id(), e.source.get_id(), e.source.properties.key)"
   ]
  },
  {
   "cell_type": "code",
   "execution_count": 13,
   "metadata": {
    "collapsed": true,
    "jupyter": {
     "outputs_hidden": true
    },
    "tags": []
   },
   "outputs": [
    {
     "data": {
      "text/plain": [
       "{'id': '21d47673-3daa-4e38-846d-d0a596fb4374',\n",
       " 'labels': [],\n",
       " 'layoutOptions': {'org.eclipse.elk.hierarchyHandling': 'INCLUDE_CHILDREN'},\n",
       " 'properties': {'cssClasses': '', 'shape': None, 'key': None, 'hidden': None},\n",
       " 'x': 0.0,\n",
       " 'y': 0.0,\n",
       " 'width': 187.9375,\n",
       " 'height': 169.03125,\n",
       " 'ports': [],\n",
       " 'children': [{'id': 'n0',\n",
       "   'labels': [{'id': 'be3b8140-979e-4f09-84fe-da55862dfc60',\n",
       "     'layoutOptions': {'org.eclipse.elk.nodeLabels.placement': 'H_CENTER V_TOP INSIDE'},\n",
       "     'properties': {'cssClasses': '',\n",
       "      'shape': None,\n",
       "      'key': None,\n",
       "      'hidden': None,\n",
       "      'selectable': False},\n",
       "     'x': 43.7421875,\n",
       "     'y': 5.0,\n",
       "     'width': 13.484375,\n",
       "     'height': 13.015625,\n",
       "     'text': 'n0',\n",
       "     'labels': []}],\n",
       "   'layoutOptions': {'org.eclipse.elk.nodeSize.constraints': 'NODE_LABELS PORTS PORT_LABELS MINIMUM_SIZE'},\n",
       "   'properties': {'cssClasses': '',\n",
       "    'shape': None,\n",
       "    'key': None,\n",
       "    'hidden': None},\n",
       "   'x': 12.0,\n",
       "   'y': 12.0,\n",
       "   'width': 100.96875,\n",
       "   'height': 145.03125,\n",
       "   'ports': [{'id': '20d2c4d7-281c-47ed-af38-c52d4c8586e9.91a87627-805a-44a0-b7da-d3793598c81e',\n",
       "     'labels': [],\n",
       "     'layoutOptions': {},\n",
       "     'properties': {'cssClasses': 'slack-port',\n",
       "      'shape': None,\n",
       "      'key': '07f4444d-879f-434f-996d-b7a53336be40.3602cd2f-e7f7-43fb-8eb4-092e8954e751',\n",
       "      'hidden': None},\n",
       "     'x': None,\n",
       "     'y': None,\n",
       "     'width': 0,\n",
       "     'height': 0},\n",
       "    {'id': '20d2c4d7-281c-47ed-af38-c52d4c8586e9.26710b11-a010-444a-8e80-f57666f51594',\n",
       "     'labels': [],\n",
       "     'layoutOptions': {},\n",
       "     'properties': {'cssClasses': 'slack-port',\n",
       "      'shape': None,\n",
       "      'key': '07f4444d-879f-434f-996d-b7a53336be40.dbae90ff-0377-4f61-8795-148f1931f29b',\n",
       "      'hidden': None},\n",
       "     'x': None,\n",
       "     'y': None,\n",
       "     'width': 0,\n",
       "     'height': 0},\n",
       "    {'id': '20d2c4d7-281c-47ed-af38-c52d4c8586e9.1a0c8c43-c25a-4aa4-a88d-cbfc76114fe7',\n",
       "     'labels': [],\n",
       "     'layoutOptions': {},\n",
       "     'properties': {'cssClasses': 'slack-port',\n",
       "      'shape': None,\n",
       "      'key': '5a12fc04-8fb7-4285-b211-17ce98d79e18.12c8d702-51ba-4202-a135-0b7a1b9e19ef',\n",
       "      'hidden': None},\n",
       "     'x': None,\n",
       "     'y': None,\n",
       "     'width': 0,\n",
       "     'height': 0}],\n",
       "   'children': [],\n",
       "   'edges': []},\n",
       "  {'id': 'n3',\n",
       "   'labels': [{'id': '885c0293-9409-45b8-b1d8-cea2ed753a1d',\n",
       "     'layoutOptions': {'org.eclipse.elk.nodeLabels.placement': 'H_CENTER V_TOP INSIDE'},\n",
       "     'properties': {'cssClasses': '',\n",
       "      'shape': None,\n",
       "      'key': None,\n",
       "      'hidden': None,\n",
       "      'selectable': False},\n",
       "     'x': 5.0,\n",
       "     'y': 5.0,\n",
       "     'width': 12.96875,\n",
       "     'height': 13.015625,\n",
       "     'text': 'n3',\n",
       "     'labels': []}],\n",
       "   'layoutOptions': {'org.eclipse.elk.nodeSize.constraints': 'NODE_LABELS PORTS PORT_LABELS MINIMUM_SIZE'},\n",
       "   'properties': {'cssClasses': '',\n",
       "    'shape': None,\n",
       "    'key': None,\n",
       "    'hidden': None},\n",
       "   'x': 152.96875,\n",
       "   'y': 30.015625,\n",
       "   'width': 22.96875,\n",
       "   'height': 55.0,\n",
       "   'ports': [{'id': '352af3a5-70f5-42fa-b9c7-9bcd05147905.a3665f29-6cfe-4134-a5b0-fd38c8828ea9',\n",
       "     'labels': [],\n",
       "     'layoutOptions': {},\n",
       "     'properties': {'cssClasses': '',\n",
       "      'shape': None,\n",
       "      'key': None,\n",
       "      'hidden': None},\n",
       "     'x': -5.0,\n",
       "     'y': 40.0,\n",
       "     'width': 5.0,\n",
       "     'height': 5.0},\n",
       "    {'id': '352af3a5-70f5-42fa-b9c7-9bcd05147905.3420261a-776c-4bef-a0b5-aa27f5d3583c',\n",
       "     'labels': [],\n",
       "     'layoutOptions': {},\n",
       "     'properties': {'cssClasses': '',\n",
       "      'shape': None,\n",
       "      'key': None,\n",
       "      'hidden': None},\n",
       "     'x': -5.0,\n",
       "     'y': 10.0,\n",
       "     'width': 5.0,\n",
       "     'height': 5.0},\n",
       "    {'id': '352af3a5-70f5-42fa-b9c7-9bcd05147905.0b4d81ca-29a0-4ac6-b71c-a560c146bb45',\n",
       "     'labels': [],\n",
       "     'layoutOptions': {},\n",
       "     'properties': {'cssClasses': '',\n",
       "      'shape': None,\n",
       "      'key': None,\n",
       "      'hidden': None},\n",
       "     'x': -5.0,\n",
       "     'y': 25.0,\n",
       "     'width': 5.0,\n",
       "     'height': 5.0}],\n",
       "   'children': [],\n",
       "   'edges': []}],\n",
       " 'edges': [{'id': '9dbe8941-da06-4da0-ae53-eaa719ea5c8b',\n",
       "   'labels': [],\n",
       "   'layoutOptions': {},\n",
       "   'properties': {'cssClasses': 'slack-edge',\n",
       "    'shape': None,\n",
       "    'key': None,\n",
       "    'hidden': None},\n",
       "   'sections': [{'id': '9dbe8941-da06-4da0-ae53-eaa719ea5c8b_s0',\n",
       "     'startPoint': {'x': 34.0, 'y': 110.03125},\n",
       "     'endPoint': {'x': 147.96875, 'y': 72.515625},\n",
       "     'bendPoints': [{'x': 24.0, 'y': 110.03125},\n",
       "      {'x': 24.0, 'y': 144.53125},\n",
       "      {'x': 137.96875, 'y': 144.53125},\n",
       "      {'x': 137.96875, 'y': 72.515625}],\n",
       "     'incomingShape': '07f4444d-879f-434f-996d-b7a53336be40.3602cd2f-e7f7-43fb-8eb4-092e8954e751',\n",
       "     'outgoingShape': '352af3a5-70f5-42fa-b9c7-9bcd05147905.a3665f29-6cfe-4134-a5b0-fd38c8828ea9',\n",
       "     'incomingSections': None,\n",
       "     'outgoingSections': None}],\n",
       "   'sources': ['20d2c4d7-281c-47ed-af38-c52d4c8586e9.91a87627-805a-44a0-b7da-d3793598c81e'],\n",
       "   'targets': ['352af3a5-70f5-42fa-b9c7-9bcd05147905.a3665f29-6cfe-4134-a5b0-fd38c8828ea9']},\n",
       "  {'id': '95f169e0-4518-4bf7-b732-31303979380c',\n",
       "   'labels': [],\n",
       "   'layoutOptions': {},\n",
       "   'properties': {'cssClasses': 'slack-edge',\n",
       "    'shape': None,\n",
       "    'key': None,\n",
       "    'hidden': None},\n",
       "   'sections': [{'id': '95f169e0-4518-4bf7-b732-31303979380c_s0',\n",
       "     'startPoint': {'x': 34.0, 'y': 95.03125},\n",
       "     'endPoint': {'x': 147.96875, 'y': 42.515625},\n",
       "     'bendPoints': [{'x': 24.0, 'y': 95.03125}, {'x': 24.0, 'y': 42.515625}],\n",
       "     'incomingShape': '07f4444d-879f-434f-996d-b7a53336be40.dbae90ff-0377-4f61-8795-148f1931f29b',\n",
       "     'outgoingShape': '352af3a5-70f5-42fa-b9c7-9bcd05147905.3420261a-776c-4bef-a0b5-aa27f5d3583c',\n",
       "     'incomingSections': None,\n",
       "     'outgoingSections': None}],\n",
       "   'sources': ['20d2c4d7-281c-47ed-af38-c52d4c8586e9.26710b11-a010-444a-8e80-f57666f51594'],\n",
       "   'targets': ['352af3a5-70f5-42fa-b9c7-9bcd05147905.3420261a-776c-4bef-a0b5-aa27f5d3583c']},\n",
       "  {'id': '0b08fe85-dad3-48c3-8d39-ee2b40c8ec00',\n",
       "   'labels': [],\n",
       "   'layoutOptions': {},\n",
       "   'properties': {'cssClasses': 'slack-edge',\n",
       "    'shape': None,\n",
       "    'key': None,\n",
       "    'hidden': None},\n",
       "   'sections': [{'id': '0b08fe85-dad3-48c3-8d39-ee2b40c8ec00_s0',\n",
       "     'startPoint': {'x': 83.96875, 'y': 102.53125},\n",
       "     'endPoint': {'x': 147.96875, 'y': 57.515625},\n",
       "     'bendPoints': [{'x': 127.96875, 'y': 102.53125},\n",
       "      {'x': 127.96875, 'y': 57.515625}],\n",
       "     'incomingShape': '5a12fc04-8fb7-4285-b211-17ce98d79e18.12c8d702-51ba-4202-a135-0b7a1b9e19ef',\n",
       "     'outgoingShape': '352af3a5-70f5-42fa-b9c7-9bcd05147905.0b4d81ca-29a0-4ac6-b71c-a560c146bb45',\n",
       "     'incomingSections': None,\n",
       "     'outgoingSections': None}],\n",
       "   'sources': ['20d2c4d7-281c-47ed-af38-c52d4c8586e9.1a0c8c43-c25a-4aa4-a88d-cbfc76114fe7'],\n",
       "   'targets': ['352af3a5-70f5-42fa-b9c7-9bcd05147905.0b4d81ca-29a0-4ac6-b71c-a560c146bb45']}]}"
      ]
     },
     "execution_count": 13,
     "metadata": {},
     "output_type": "execute_result"
    }
   ],
   "source": [
    "root.dict()"
   ]
  },
  {
   "cell_type": "code",
   "execution_count": 14,
   "metadata": {},
   "outputs": [],
   "source": [
    "with context:\n",
    "    from_elk_json(root.dict(), None)"
   ]
  },
  {
   "cell_type": "code",
   "execution_count": 15,
   "metadata": {},
   "outputs": [
    {
     "name": "stderr",
     "output_type": "stream",
     "text": [
      "ERROR:root:No traceback has been produced, nothing to debug.\n"
     ]
    }
   ],
   "source": [
    "%debug"
   ]
  },
  {
   "cell_type": "code",
   "execution_count": 16,
   "metadata": {},
   "outputs": [
    {
     "data": {
      "text/plain": [
       "Port(id='20d2c4d7-281c-47ed-af38-c52d4c8586e9.91a87627-805a-44a0-b7da-d3793598c81e', labels=[], layoutOptions={}, metadata=ElementMetadata(), properties=PortProperties(cssClasses='slack-port', shape=None, key='07f4444d-879f-434f-996d-b7a53336be40.3602cd2f-e7f7-43fb-8eb4-092e8954e751', hidden=None), x=None, y=None, width=None, height=None)"
      ]
     },
     "execution_count": 16,
     "metadata": {},
     "output_type": "execute_result"
    }
   ],
   "source": [
    "root.edges[0].source"
   ]
  },
  {
   "cell_type": "code",
   "execution_count": 17,
   "metadata": {},
   "outputs": [],
   "source": [
    "elk.view.source.value=root"
   ]
  },
  {
   "cell_type": "code",
   "execution_count": null,
   "metadata": {},
   "outputs": [],
   "source": [
    "def link_edges(edges_map, el_map):\n",
    "    for node_id, edges in edges_map.items():\n",
    "        node = el_map.get(node_id)\n",
    "        node.edges = [build_edge(e, el_map) for e in edges]"
   ]
  },
  {
   "cell_type": "code",
   "execution_count": 11,
   "metadata": {},
   "outputs": [
    {
     "data": {
      "text/plain": [
       "Node(id='n0', labels=[Label(id='0ca1e840-7c62-4cef-83a8-89f3dee0011a', labels=[], layoutOptions={'org.eclipse.elk.nodeLabels.placement': 'H_CENTER V_TOP INSIDE'}, metadata=ElementMetadata(), properties=LabelProperties(cssClasses='', shape=None, key=None, hidden=None, selectable=False), x=43.7421875, y=5.0, width=13.484375, height=13.015625, text='n0')], layoutOptions={'org.eclipse.elk.nodeSize.constraints': 'NODE_LABELS PORTS PORT_LABELS MINIMUM_SIZE'}, metadata=ElementMetadata(), properties=NodeProperties(cssClasses='', shape=None, key=None, hidden=None), x=12.0, y=12.0, width=100.96875, height=145.03125, ports=[], children=[Node(id='n1', labels=[Label(id='47bca8f7-78f8-43c5-bae9-cf17ce539388', labels=[], layoutOptions={'org.eclipse.elk.nodeLabels.placement': 'H_CENTER V_TOP INSIDE'}, metadata=ElementMetadata(), properties=LabelProperties(cssClasses='', shape=None, key=None, hidden=None, selectable=False), x=22.0, y=5.0, width=12.96875, height=13.015625, text='n1')], layoutOptions={'org.eclipse.elk.nodeSize.constraints': 'NODE_LABELS PORTS PORT_LABELS MINIMUM_SIZE'}, metadata=ElementMetadata(), properties=NodeProperties(cssClasses='', shape=None, key=None, hidden=True), x=27.0, y=40.515625, width=56.96875, height=82.015625, ports=[Port(id='b9323f1a-b397-47ee-9cb3-0fa5876754ae.f0ec2747-9b14-4c6a-ac9a-574a5974a108', labels=[], layoutOptions={}, metadata=ElementMetadata(), properties=PortProperties(cssClasses='', shape=None, key=None, hidden=None), x=-5.0, y=40.015625, width=5.0, height=5.0), Port(id='b9323f1a-b397-47ee-9cb3-0fa5876754ae.bd108fcc-023b-4feb-a216-d99b76087e3c', labels=[], layoutOptions={}, metadata=ElementMetadata(), properties=PortProperties(cssClasses='', shape=None, key=None, hidden=None), x=-5.0, y=55.015625, width=5.0, height=5.0)], children=[Node(id='n2', labels=[Label(id='c15056b0-c182-46e8-9cd2-3851308de57b', labels=[], layoutOptions={'org.eclipse.elk.nodeLabels.placement': 'H_CENTER V_TOP INSIDE'}, metadata=ElementMetadata(), properties=LabelProperties(cssClasses='', shape=None, key=None, hidden=None, selectable=False), x=5.0, y=5.0, width=12.96875, height=13.015625, text='n2')], layoutOptions={'org.eclipse.elk.nodeSize.constraints': 'NODE_LABELS PORTS PORT_LABELS MINIMUM_SIZE'}, metadata=ElementMetadata(), properties=NodeProperties(cssClasses='', shape=None, key=None, hidden=None), x=17.0, y=30.015625, width=22.96875, height=40.0, ports=[Port(id='f6f00286-9a8f-4459-b51c-9c668cc89a70.0489ba3b-66d1-408b-8ece-082e4f2084b9', labels=[], layoutOptions={}, metadata=ElementMetadata(), properties=PortProperties(cssClasses='', shape=None, key=None, hidden=None), x=-5.0, y=10.0, width=5.0, height=5.0), Port(id='f6f00286-9a8f-4459-b51c-9c668cc89a70.1fcc1834-0fd7-40d5-b10b-6657bce0eaf8', labels=[], layoutOptions={}, metadata=ElementMetadata(), properties=PortProperties(cssClasses='', shape=None, key=None, hidden=None), x=-5.0, y=25.0, width=5.0, height=5.0), Port(id='f6f00286-9a8f-4459-b51c-9c668cc89a70.662162bc-e8ab-4624-a9f7-40fc999adbdd', labels=[], layoutOptions={}, metadata=ElementMetadata(), properties=PortProperties(cssClasses='', shape=None, key=None, hidden=None), x=22.96875, y=17.5, width=5.0, height=5.0)], children=[], edges=[])], edges=[Edge(id='899d9049-4f6c-4e43-a5b2-728da28b2223', labels=[], layoutOptions={}, metadata=ElementMetadata(), properties=EdgeProperties(cssClasses='', shape=None, key=None, hidden=None), source=Port(id='b9323f1a-b397-47ee-9cb3-0fa5876754ae.f0ec2747-9b14-4c6a-ac9a-574a5974a108', labels=[], layoutOptions={}, metadata=ElementMetadata(), properties=PortProperties(cssClasses='', shape=None, key=None, hidden=None), x=-5.0, y=40.015625, width=5.0, height=5.0), target=Port(id='f6f00286-9a8f-4459-b51c-9c668cc89a70.0489ba3b-66d1-408b-8ece-082e4f2084b9', labels=[], layoutOptions={}, metadata=ElementMetadata(), properties=PortProperties(cssClasses='', shape=None, key=None, hidden=None), x=-5.0, y=10.0, width=5.0, height=5.0), sections=[EdgeSection(id='899d9049-4f6c-4e43-a5b2-728da28b2223_s0', startPoint=Point(x=-5.0, y=42.515625), endPoint=Point(x=12.0, y=42.515625), bendPoints=None, incomingShape='b9323f1a-b397-47ee-9cb3-0fa5876754ae.f0ec2747-9b14-4c6a-ac9a-574a5974a108', outgoingShape='f6f00286-9a8f-4459-b51c-9c668cc89a70.0489ba3b-66d1-408b-8ece-082e4f2084b9', incomingSections=None, outgoingSections=None)]), Edge(id='e24bad5a-d70e-4c4a-87ba-099011cd26b8', labels=[], layoutOptions={}, metadata=ElementMetadata(), properties=EdgeProperties(cssClasses='', shape=None, key=None, hidden=None), source=Port(id='b9323f1a-b397-47ee-9cb3-0fa5876754ae.bd108fcc-023b-4feb-a216-d99b76087e3c', labels=[], layoutOptions={}, metadata=ElementMetadata(), properties=PortProperties(cssClasses='', shape=None, key=None, hidden=None), x=-5.0, y=55.015625, width=5.0, height=5.0), target=Port(id='f6f00286-9a8f-4459-b51c-9c668cc89a70.1fcc1834-0fd7-40d5-b10b-6657bce0eaf8', labels=[], layoutOptions={}, metadata=ElementMetadata(), properties=PortProperties(cssClasses='', shape=None, key=None, hidden=None), x=-5.0, y=25.0, width=5.0, height=5.0), sections=[EdgeSection(id='e24bad5a-d70e-4c4a-87ba-099011cd26b8_s0', startPoint=Point(x=-5.0, y=57.515625), endPoint=Point(x=12.0, y=57.515625), bendPoints=None, incomingShape='b9323f1a-b397-47ee-9cb3-0fa5876754ae.bd108fcc-023b-4feb-a216-d99b76087e3c', outgoingShape='f6f00286-9a8f-4459-b51c-9c668cc89a70.1fcc1834-0fd7-40d5-b10b-6657bce0eaf8', incomingSections=None, outgoingSections=None)])])], edges=[])"
      ]
     },
     "execution_count": 11,
     "metadata": {},
     "output_type": "execute_result"
    }
   ],
   "source": [
    "hidden_map['b9323f1a-b397-47ee-9cb3-0fa5876754ae.bd108fcc-023b-4feb-a216-d99b76087e3c']"
   ]
  },
  {
   "cell_type": "code",
   "execution_count": 10,
   "metadata": {},
   "outputs": [
    {
     "data": {
      "text/plain": [
       "{'4451a30d-8d9b-40ab-9952-90bb6ef6fee9': Node(id='4451a30d-8d9b-40ab-9952-90bb6ef6fee9', labels=[], layoutOptions={'org.eclipse.elk.hierarchyHandling': 'INCLUDE_CHILDREN'}, metadata=ElementMetadata(), properties=NodeProperties(cssClasses='', shape=None, key=None, hidden=None), x=0.0, y=0.0, width=187.9375, height=169.03125, ports=[], children=[Node(id='n0', labels=[Label(id='0ca1e840-7c62-4cef-83a8-89f3dee0011a', labels=[], layoutOptions={'org.eclipse.elk.nodeLabels.placement': 'H_CENTER V_TOP INSIDE'}, metadata=ElementMetadata(), properties=LabelProperties(cssClasses='', shape=None, key=None, hidden=None, selectable=False), x=43.7421875, y=5.0, width=13.484375, height=13.015625, text='n0')], layoutOptions={'org.eclipse.elk.nodeSize.constraints': 'NODE_LABELS PORTS PORT_LABELS MINIMUM_SIZE'}, metadata=ElementMetadata(), properties=NodeProperties(cssClasses='', shape=None, key=None, hidden=None), x=12.0, y=12.0, width=100.96875, height=145.03125, ports=[], children=[], edges=[]), Node(id='n3', labels=[Label(id='844a5452-6a2b-4ba9-8d08-a4f70911812c', labels=[], layoutOptions={'org.eclipse.elk.nodeLabels.placement': 'H_CENTER V_TOP INSIDE'}, metadata=ElementMetadata(), properties=LabelProperties(cssClasses='', shape=None, key=None, hidden=None, selectable=False), x=5.0, y=5.0, width=12.96875, height=13.015625, text='n3')], layoutOptions={'org.eclipse.elk.nodeSize.constraints': 'NODE_LABELS PORTS PORT_LABELS MINIMUM_SIZE'}, metadata=ElementMetadata(), properties=NodeProperties(cssClasses='', shape=None, key=None, hidden=None), x=152.96875, y=30.015625, width=22.96875, height=55.0, ports=[Port(id='2df0f913-df81-4570-9445-4b869b7aab02.50936664-32bb-49ad-9bc2-5309252691cd', labels=[], layoutOptions={}, metadata=ElementMetadata(), properties=PortProperties(cssClasses='', shape=None, key=None, hidden=None), x=-5.0, y=40.0, width=5.0, height=5.0), Port(id='2df0f913-df81-4570-9445-4b869b7aab02.bea32953-f337-450b-8dab-8cb64542b4c3', labels=[], layoutOptions={}, metadata=ElementMetadata(), properties=PortProperties(cssClasses='', shape=None, key=None, hidden=None), x=-5.0, y=10.0, width=5.0, height=5.0), Port(id='2df0f913-df81-4570-9445-4b869b7aab02.f9d5d4b6-216a-4bc4-96c9-5bef8cdd48c1', labels=[], layoutOptions={}, metadata=ElementMetadata(), properties=PortProperties(cssClasses='', shape=None, key=None, hidden=None), x=-5.0, y=25.0, width=5.0, height=5.0)], children=[], edges=[])], edges=[]),\n",
       " 'n0': Node(id='n0', labels=[Label(id='0ca1e840-7c62-4cef-83a8-89f3dee0011a', labels=[], layoutOptions={'org.eclipse.elk.nodeLabels.placement': 'H_CENTER V_TOP INSIDE'}, metadata=ElementMetadata(), properties=LabelProperties(cssClasses='', shape=None, key=None, hidden=None, selectable=False), x=43.7421875, y=5.0, width=13.484375, height=13.015625, text='n0')], layoutOptions={'org.eclipse.elk.nodeSize.constraints': 'NODE_LABELS PORTS PORT_LABELS MINIMUM_SIZE'}, metadata=ElementMetadata(), properties=NodeProperties(cssClasses='', shape=None, key=None, hidden=None), x=12.0, y=12.0, width=100.96875, height=145.03125, ports=[], children=[], edges=[]),\n",
       " 'n3': Node(id='n3', labels=[Label(id='844a5452-6a2b-4ba9-8d08-a4f70911812c', labels=[], layoutOptions={'org.eclipse.elk.nodeLabels.placement': 'H_CENTER V_TOP INSIDE'}, metadata=ElementMetadata(), properties=LabelProperties(cssClasses='', shape=None, key=None, hidden=None, selectable=False), x=5.0, y=5.0, width=12.96875, height=13.015625, text='n3')], layoutOptions={'org.eclipse.elk.nodeSize.constraints': 'NODE_LABELS PORTS PORT_LABELS MINIMUM_SIZE'}, metadata=ElementMetadata(), properties=NodeProperties(cssClasses='', shape=None, key=None, hidden=None), x=152.96875, y=30.015625, width=22.96875, height=55.0, ports=[Port(id='2df0f913-df81-4570-9445-4b869b7aab02.50936664-32bb-49ad-9bc2-5309252691cd', labels=[], layoutOptions={}, metadata=ElementMetadata(), properties=PortProperties(cssClasses='', shape=None, key=None, hidden=None), x=-5.0, y=40.0, width=5.0, height=5.0), Port(id='2df0f913-df81-4570-9445-4b869b7aab02.bea32953-f337-450b-8dab-8cb64542b4c3', labels=[], layoutOptions={}, metadata=ElementMetadata(), properties=PortProperties(cssClasses='', shape=None, key=None, hidden=None), x=-5.0, y=10.0, width=5.0, height=5.0), Port(id='2df0f913-df81-4570-9445-4b869b7aab02.f9d5d4b6-216a-4bc4-96c9-5bef8cdd48c1', labels=[], layoutOptions={}, metadata=ElementMetadata(), properties=PortProperties(cssClasses='', shape=None, key=None, hidden=None), x=-5.0, y=25.0, width=5.0, height=5.0)], children=[], edges=[]),\n",
       " '2df0f913-df81-4570-9445-4b869b7aab02.50936664-32bb-49ad-9bc2-5309252691cd': Port(id='2df0f913-df81-4570-9445-4b869b7aab02.50936664-32bb-49ad-9bc2-5309252691cd', labels=[], layoutOptions={}, metadata=ElementMetadata(), properties=PortProperties(cssClasses='', shape=None, key=None, hidden=None), x=-5.0, y=40.0, width=5.0, height=5.0),\n",
       " '2df0f913-df81-4570-9445-4b869b7aab02.bea32953-f337-450b-8dab-8cb64542b4c3': Port(id='2df0f913-df81-4570-9445-4b869b7aab02.bea32953-f337-450b-8dab-8cb64542b4c3', labels=[], layoutOptions={}, metadata=ElementMetadata(), properties=PortProperties(cssClasses='', shape=None, key=None, hidden=None), x=-5.0, y=10.0, width=5.0, height=5.0),\n",
       " '2df0f913-df81-4570-9445-4b869b7aab02.f9d5d4b6-216a-4bc4-96c9-5bef8cdd48c1': Port(id='2df0f913-df81-4570-9445-4b869b7aab02.f9d5d4b6-216a-4bc4-96c9-5bef8cdd48c1', labels=[], layoutOptions={}, metadata=ElementMetadata(), properties=PortProperties(cssClasses='', shape=None, key=None, hidden=None), x=-5.0, y=25.0, width=5.0, height=5.0)}"
      ]
     },
     "execution_count": 10,
     "metadata": {},
     "output_type": "execute_result"
    }
   ],
   "source": [
    "el_map"
   ]
  },
  {
   "cell_type": "code",
   "execution_count": 16,
   "metadata": {},
   "outputs": [
    {
     "data": {
      "text/plain": [
       "{Node(id='n1', labels=[Label(id='4e30fda2-ecc7-46af-bff0-f70e9b850707', labels=[], layoutOptions={'org.eclipse.elk.nodeLabels.placement': 'H_CENTER V_TOP INSIDE'}, metadata=ElementMetadata(), properties=LabelProperties(cssClasses='', shape=None, key=None, hidden=None, selectable=False), x=22.0, y=5.0, width=12.96875, height=13.015625, text='n1')], layoutOptions={'org.eclipse.elk.nodeSize.constraints': 'NODE_LABELS PORTS PORT_LABELS MINIMUM_SIZE'}, metadata=ElementMetadata(), properties=NodeProperties(cssClasses='', shape=None, key=None, hidden=True), x=27.0, y=40.515625, width=56.96875, height=82.015625, ports=[Port(id='82d53903-6fba-4640-a2ae-ad2671aa8e2d.823394af-61f7-4ea9-94ec-23a3fe67c720', labels=[], layoutOptions={}, metadata=ElementMetadata(), properties=PortProperties(cssClasses='', shape=None, key=None, hidden=None), x=-5.0, y=40.015625, width=5.0, height=5.0), Port(id='82d53903-6fba-4640-a2ae-ad2671aa8e2d.e6b6455d-d066-413e-93ba-84d575bc497c', labels=[], layoutOptions={}, metadata=ElementMetadata(), properties=PortProperties(cssClasses='', shape=None, key=None, hidden=None), x=-5.0, y=55.015625, width=5.0, height=5.0)], children=[Node(id='n2', labels=[Label(id='4195b76d-8562-4b04-add2-507bb46d2952', labels=[], layoutOptions={'org.eclipse.elk.nodeLabels.placement': 'H_CENTER V_TOP INSIDE'}, metadata=ElementMetadata(), properties=LabelProperties(cssClasses='', shape=None, key=None, hidden=None, selectable=False), x=5.0, y=5.0, width=12.96875, height=13.015625, text='n2')], layoutOptions={'org.eclipse.elk.nodeSize.constraints': 'NODE_LABELS PORTS PORT_LABELS MINIMUM_SIZE'}, metadata=ElementMetadata(), properties=NodeProperties(cssClasses='', shape=None, key=None, hidden=None), x=17.0, y=30.015625, width=22.96875, height=40.0, ports=[Port(id='640a538f-cbb2-4706-891c-397cec649c39.cc4f5668-eb6e-4ecb-8be4-b389cbc33085', labels=[], layoutOptions={}, metadata=ElementMetadata(), properties=PortProperties(cssClasses='', shape=None, key=None, hidden=None), x=-5.0, y=10.0, width=5.0, height=5.0), Port(id='640a538f-cbb2-4706-891c-397cec649c39.bc34963c-9a48-416f-b48c-63c42e377dea', labels=[], layoutOptions={}, metadata=ElementMetadata(), properties=PortProperties(cssClasses='', shape=None, key=None, hidden=None), x=-5.0, y=25.0, width=5.0, height=5.0), Port(id='640a538f-cbb2-4706-891c-397cec649c39.d4d29b63-4463-4a4d-a19d-091665abba8a', labels=[], layoutOptions={}, metadata=ElementMetadata(), properties=PortProperties(cssClasses='', shape=None, key=None, hidden=None), x=22.96875, y=17.5, width=5.0, height=5.0)], children=[], edges=[])], edges=[Edge(id='31af6be9-c589-450a-8487-85ecbde5c5ee', labels=[], layoutOptions={}, metadata=ElementMetadata(), properties=EdgeProperties(cssClasses='', shape=None, key=None, hidden=None), source=Port(id='82d53903-6fba-4640-a2ae-ad2671aa8e2d.823394af-61f7-4ea9-94ec-23a3fe67c720', labels=[], layoutOptions={}, metadata=ElementMetadata(), properties=PortProperties(cssClasses='', shape=None, key=None, hidden=None), x=-5.0, y=40.015625, width=5.0, height=5.0), target=Port(id='640a538f-cbb2-4706-891c-397cec649c39.cc4f5668-eb6e-4ecb-8be4-b389cbc33085', labels=[], layoutOptions={}, metadata=ElementMetadata(), properties=PortProperties(cssClasses='', shape=None, key=None, hidden=None), x=-5.0, y=10.0, width=5.0, height=5.0), sections=[EdgeSection(id='31af6be9-c589-450a-8487-85ecbde5c5ee_s0', startPoint=Point(x=-5.0, y=42.515625), endPoint=Point(x=12.0, y=42.515625), bendPoints=None, incomingShape='82d53903-6fba-4640-a2ae-ad2671aa8e2d.823394af-61f7-4ea9-94ec-23a3fe67c720', outgoingShape='640a538f-cbb2-4706-891c-397cec649c39.cc4f5668-eb6e-4ecb-8be4-b389cbc33085', incomingSections=None, outgoingSections=None)]), Edge(id='83e46c23-1d3a-4128-a930-77db530bdfc1', labels=[], layoutOptions={}, metadata=ElementMetadata(), properties=EdgeProperties(cssClasses='', shape=None, key=None, hidden=None), source=Port(id='82d53903-6fba-4640-a2ae-ad2671aa8e2d.e6b6455d-d066-413e-93ba-84d575bc497c', labels=[], layoutOptions={}, metadata=ElementMetadata(), properties=PortProperties(cssClasses='', shape=None, key=None, hidden=None), x=-5.0, y=55.015625, width=5.0, height=5.0), target=Port(id='640a538f-cbb2-4706-891c-397cec649c39.bc34963c-9a48-416f-b48c-63c42e377dea', labels=[], layoutOptions={}, metadata=ElementMetadata(), properties=PortProperties(cssClasses='', shape=None, key=None, hidden=None), x=-5.0, y=25.0, width=5.0, height=5.0), sections=[EdgeSection(id='83e46c23-1d3a-4128-a930-77db530bdfc1_s0', startPoint=Point(x=-5.0, y=57.515625), endPoint=Point(x=12.0, y=57.515625), bendPoints=None, incomingShape='82d53903-6fba-4640-a2ae-ad2671aa8e2d.e6b6455d-d066-413e-93ba-84d575bc497c', outgoingShape='640a538f-cbb2-4706-891c-397cec649c39.bc34963c-9a48-416f-b48c-63c42e377dea', incomingSections=None, outgoingSections=None)])]): Node(id='n0', labels=[Label(id='5fd10643-0845-4d01-8200-9524719c8eda', labels=[], layoutOptions={'org.eclipse.elk.nodeLabels.placement': 'H_CENTER V_TOP INSIDE'}, metadata=ElementMetadata(), properties=LabelProperties(cssClasses='', shape=None, key=None, hidden=None, selectable=False), x=43.7421875, y=5.0, width=13.484375, height=13.015625, text='n0')], layoutOptions={'org.eclipse.elk.nodeSize.constraints': 'NODE_LABELS PORTS PORT_LABELS MINIMUM_SIZE'}, metadata=ElementMetadata(), properties=NodeProperties(cssClasses='', shape=None, key=None, hidden=None), x=12.0, y=12.0, width=100.96875, height=145.03125, ports=[], children=[Node(id='n1', labels=[Label(id='4e30fda2-ecc7-46af-bff0-f70e9b850707', labels=[], layoutOptions={'org.eclipse.elk.nodeLabels.placement': 'H_CENTER V_TOP INSIDE'}, metadata=ElementMetadata(), properties=LabelProperties(cssClasses='', shape=None, key=None, hidden=None, selectable=False), x=22.0, y=5.0, width=12.96875, height=13.015625, text='n1')], layoutOptions={'org.eclipse.elk.nodeSize.constraints': 'NODE_LABELS PORTS PORT_LABELS MINIMUM_SIZE'}, metadata=ElementMetadata(), properties=NodeProperties(cssClasses='', shape=None, key=None, hidden=True), x=27.0, y=40.515625, width=56.96875, height=82.015625, ports=[Port(id='82d53903-6fba-4640-a2ae-ad2671aa8e2d.823394af-61f7-4ea9-94ec-23a3fe67c720', labels=[], layoutOptions={}, metadata=ElementMetadata(), properties=PortProperties(cssClasses='', shape=None, key=None, hidden=None), x=-5.0, y=40.015625, width=5.0, height=5.0), Port(id='82d53903-6fba-4640-a2ae-ad2671aa8e2d.e6b6455d-d066-413e-93ba-84d575bc497c', labels=[], layoutOptions={}, metadata=ElementMetadata(), properties=PortProperties(cssClasses='', shape=None, key=None, hidden=None), x=-5.0, y=55.015625, width=5.0, height=5.0)], children=[Node(id='n2', labels=[Label(id='4195b76d-8562-4b04-add2-507bb46d2952', labels=[], layoutOptions={'org.eclipse.elk.nodeLabels.placement': 'H_CENTER V_TOP INSIDE'}, metadata=ElementMetadata(), properties=LabelProperties(cssClasses='', shape=None, key=None, hidden=None, selectable=False), x=5.0, y=5.0, width=12.96875, height=13.015625, text='n2')], layoutOptions={'org.eclipse.elk.nodeSize.constraints': 'NODE_LABELS PORTS PORT_LABELS MINIMUM_SIZE'}, metadata=ElementMetadata(), properties=NodeProperties(cssClasses='', shape=None, key=None, hidden=None), x=17.0, y=30.015625, width=22.96875, height=40.0, ports=[Port(id='640a538f-cbb2-4706-891c-397cec649c39.cc4f5668-eb6e-4ecb-8be4-b389cbc33085', labels=[], layoutOptions={}, metadata=ElementMetadata(), properties=PortProperties(cssClasses='', shape=None, key=None, hidden=None), x=-5.0, y=10.0, width=5.0, height=5.0), Port(id='640a538f-cbb2-4706-891c-397cec649c39.bc34963c-9a48-416f-b48c-63c42e377dea', labels=[], layoutOptions={}, metadata=ElementMetadata(), properties=PortProperties(cssClasses='', shape=None, key=None, hidden=None), x=-5.0, y=25.0, width=5.0, height=5.0), Port(id='640a538f-cbb2-4706-891c-397cec649c39.d4d29b63-4463-4a4d-a19d-091665abba8a', labels=[], layoutOptions={}, metadata=ElementMetadata(), properties=PortProperties(cssClasses='', shape=None, key=None, hidden=None), x=22.96875, y=17.5, width=5.0, height=5.0)], children=[], edges=[])], edges=[Edge(id='31af6be9-c589-450a-8487-85ecbde5c5ee', labels=[], layoutOptions={}, metadata=ElementMetadata(), properties=EdgeProperties(cssClasses='', shape=None, key=None, hidden=None), source=Port(id='82d53903-6fba-4640-a2ae-ad2671aa8e2d.823394af-61f7-4ea9-94ec-23a3fe67c720', labels=[], layoutOptions={}, metadata=ElementMetadata(), properties=PortProperties(cssClasses='', shape=None, key=None, hidden=None), x=-5.0, y=40.015625, width=5.0, height=5.0), target=Port(id='640a538f-cbb2-4706-891c-397cec649c39.cc4f5668-eb6e-4ecb-8be4-b389cbc33085', labels=[], layoutOptions={}, metadata=ElementMetadata(), properties=PortProperties(cssClasses='', shape=None, key=None, hidden=None), x=-5.0, y=10.0, width=5.0, height=5.0), sections=[EdgeSection(id='31af6be9-c589-450a-8487-85ecbde5c5ee_s0', startPoint=Point(x=-5.0, y=42.515625), endPoint=Point(x=12.0, y=42.515625), bendPoints=None, incomingShape='82d53903-6fba-4640-a2ae-ad2671aa8e2d.823394af-61f7-4ea9-94ec-23a3fe67c720', outgoingShape='640a538f-cbb2-4706-891c-397cec649c39.cc4f5668-eb6e-4ecb-8be4-b389cbc33085', incomingSections=None, outgoingSections=None)]), Edge(id='83e46c23-1d3a-4128-a930-77db530bdfc1', labels=[], layoutOptions={}, metadata=ElementMetadata(), properties=EdgeProperties(cssClasses='', shape=None, key=None, hidden=None), source=Port(id='82d53903-6fba-4640-a2ae-ad2671aa8e2d.e6b6455d-d066-413e-93ba-84d575bc497c', labels=[], layoutOptions={}, metadata=ElementMetadata(), properties=PortProperties(cssClasses='', shape=None, key=None, hidden=None), x=-5.0, y=55.015625, width=5.0, height=5.0), target=Port(id='640a538f-cbb2-4706-891c-397cec649c39.bc34963c-9a48-416f-b48c-63c42e377dea', labels=[], layoutOptions={}, metadata=ElementMetadata(), properties=PortProperties(cssClasses='', shape=None, key=None, hidden=None), x=-5.0, y=25.0, width=5.0, height=5.0), sections=[EdgeSection(id='83e46c23-1d3a-4128-a930-77db530bdfc1_s0', startPoint=Point(x=-5.0, y=57.515625), endPoint=Point(x=12.0, y=57.515625), bendPoints=None, incomingShape='82d53903-6fba-4640-a2ae-ad2671aa8e2d.e6b6455d-d066-413e-93ba-84d575bc497c', outgoingShape='640a538f-cbb2-4706-891c-397cec649c39.bc34963c-9a48-416f-b48c-63c42e377dea', incomingSections=None, outgoingSections=None)])])], edges=[]),\n",
       " Node(id='n2', labels=[Label(id='4195b76d-8562-4b04-add2-507bb46d2952', labels=[], layoutOptions={'org.eclipse.elk.nodeLabels.placement': 'H_CENTER V_TOP INSIDE'}, metadata=ElementMetadata(), properties=LabelProperties(cssClasses='', shape=None, key=None, hidden=None, selectable=False), x=5.0, y=5.0, width=12.96875, height=13.015625, text='n2')], layoutOptions={'org.eclipse.elk.nodeSize.constraints': 'NODE_LABELS PORTS PORT_LABELS MINIMUM_SIZE'}, metadata=ElementMetadata(), properties=NodeProperties(cssClasses='', shape=None, key=None, hidden=None), x=17.0, y=30.015625, width=22.96875, height=40.0, ports=[Port(id='640a538f-cbb2-4706-891c-397cec649c39.cc4f5668-eb6e-4ecb-8be4-b389cbc33085', labels=[], layoutOptions={}, metadata=ElementMetadata(), properties=PortProperties(cssClasses='', shape=None, key=None, hidden=None), x=-5.0, y=10.0, width=5.0, height=5.0), Port(id='640a538f-cbb2-4706-891c-397cec649c39.bc34963c-9a48-416f-b48c-63c42e377dea', labels=[], layoutOptions={}, metadata=ElementMetadata(), properties=PortProperties(cssClasses='', shape=None, key=None, hidden=None), x=-5.0, y=25.0, width=5.0, height=5.0), Port(id='640a538f-cbb2-4706-891c-397cec649c39.d4d29b63-4463-4a4d-a19d-091665abba8a', labels=[], layoutOptions={}, metadata=ElementMetadata(), properties=PortProperties(cssClasses='', shape=None, key=None, hidden=None), x=22.96875, y=17.5, width=5.0, height=5.0)], children=[], edges=[]): Node(id='n0', labels=[Label(id='5fd10643-0845-4d01-8200-9524719c8eda', labels=[], layoutOptions={'org.eclipse.elk.nodeLabels.placement': 'H_CENTER V_TOP INSIDE'}, metadata=ElementMetadata(), properties=LabelProperties(cssClasses='', shape=None, key=None, hidden=None, selectable=False), x=43.7421875, y=5.0, width=13.484375, height=13.015625, text='n0')], layoutOptions={'org.eclipse.elk.nodeSize.constraints': 'NODE_LABELS PORTS PORT_LABELS MINIMUM_SIZE'}, metadata=ElementMetadata(), properties=NodeProperties(cssClasses='', shape=None, key=None, hidden=None), x=12.0, y=12.0, width=100.96875, height=145.03125, ports=[], children=[Node(id='n1', labels=[Label(id='4e30fda2-ecc7-46af-bff0-f70e9b850707', labels=[], layoutOptions={'org.eclipse.elk.nodeLabels.placement': 'H_CENTER V_TOP INSIDE'}, metadata=ElementMetadata(), properties=LabelProperties(cssClasses='', shape=None, key=None, hidden=None, selectable=False), x=22.0, y=5.0, width=12.96875, height=13.015625, text='n1')], layoutOptions={'org.eclipse.elk.nodeSize.constraints': 'NODE_LABELS PORTS PORT_LABELS MINIMUM_SIZE'}, metadata=ElementMetadata(), properties=NodeProperties(cssClasses='', shape=None, key=None, hidden=True), x=27.0, y=40.515625, width=56.96875, height=82.015625, ports=[Port(id='82d53903-6fba-4640-a2ae-ad2671aa8e2d.823394af-61f7-4ea9-94ec-23a3fe67c720', labels=[], layoutOptions={}, metadata=ElementMetadata(), properties=PortProperties(cssClasses='', shape=None, key=None, hidden=None), x=-5.0, y=40.015625, width=5.0, height=5.0), Port(id='82d53903-6fba-4640-a2ae-ad2671aa8e2d.e6b6455d-d066-413e-93ba-84d575bc497c', labels=[], layoutOptions={}, metadata=ElementMetadata(), properties=PortProperties(cssClasses='', shape=None, key=None, hidden=None), x=-5.0, y=55.015625, width=5.0, height=5.0)], children=[Node(id='n2', labels=[Label(id='4195b76d-8562-4b04-add2-507bb46d2952', labels=[], layoutOptions={'org.eclipse.elk.nodeLabels.placement': 'H_CENTER V_TOP INSIDE'}, metadata=ElementMetadata(), properties=LabelProperties(cssClasses='', shape=None, key=None, hidden=None, selectable=False), x=5.0, y=5.0, width=12.96875, height=13.015625, text='n2')], layoutOptions={'org.eclipse.elk.nodeSize.constraints': 'NODE_LABELS PORTS PORT_LABELS MINIMUM_SIZE'}, metadata=ElementMetadata(), properties=NodeProperties(cssClasses='', shape=None, key=None, hidden=None), x=17.0, y=30.015625, width=22.96875, height=40.0, ports=[Port(id='640a538f-cbb2-4706-891c-397cec649c39.cc4f5668-eb6e-4ecb-8be4-b389cbc33085', labels=[], layoutOptions={}, metadata=ElementMetadata(), properties=PortProperties(cssClasses='', shape=None, key=None, hidden=None), x=-5.0, y=10.0, width=5.0, height=5.0), Port(id='640a538f-cbb2-4706-891c-397cec649c39.bc34963c-9a48-416f-b48c-63c42e377dea', labels=[], layoutOptions={}, metadata=ElementMetadata(), properties=PortProperties(cssClasses='', shape=None, key=None, hidden=None), x=-5.0, y=25.0, width=5.0, height=5.0), Port(id='640a538f-cbb2-4706-891c-397cec649c39.d4d29b63-4463-4a4d-a19d-091665abba8a', labels=[], layoutOptions={}, metadata=ElementMetadata(), properties=PortProperties(cssClasses='', shape=None, key=None, hidden=None), x=22.96875, y=17.5, width=5.0, height=5.0)], children=[], edges=[])], edges=[Edge(id='31af6be9-c589-450a-8487-85ecbde5c5ee', labels=[], layoutOptions={}, metadata=ElementMetadata(), properties=EdgeProperties(cssClasses='', shape=None, key=None, hidden=None), source=Port(id='82d53903-6fba-4640-a2ae-ad2671aa8e2d.823394af-61f7-4ea9-94ec-23a3fe67c720', labels=[], layoutOptions={}, metadata=ElementMetadata(), properties=PortProperties(cssClasses='', shape=None, key=None, hidden=None), x=-5.0, y=40.015625, width=5.0, height=5.0), target=Port(id='640a538f-cbb2-4706-891c-397cec649c39.cc4f5668-eb6e-4ecb-8be4-b389cbc33085', labels=[], layoutOptions={}, metadata=ElementMetadata(), properties=PortProperties(cssClasses='', shape=None, key=None, hidden=None), x=-5.0, y=10.0, width=5.0, height=5.0), sections=[EdgeSection(id='31af6be9-c589-450a-8487-85ecbde5c5ee_s0', startPoint=Point(x=-5.0, y=42.515625), endPoint=Point(x=12.0, y=42.515625), bendPoints=None, incomingShape='82d53903-6fba-4640-a2ae-ad2671aa8e2d.823394af-61f7-4ea9-94ec-23a3fe67c720', outgoingShape='640a538f-cbb2-4706-891c-397cec649c39.cc4f5668-eb6e-4ecb-8be4-b389cbc33085', incomingSections=None, outgoingSections=None)]), Edge(id='83e46c23-1d3a-4128-a930-77db530bdfc1', labels=[], layoutOptions={}, metadata=ElementMetadata(), properties=EdgeProperties(cssClasses='', shape=None, key=None, hidden=None), source=Port(id='82d53903-6fba-4640-a2ae-ad2671aa8e2d.e6b6455d-d066-413e-93ba-84d575bc497c', labels=[], layoutOptions={}, metadata=ElementMetadata(), properties=PortProperties(cssClasses='', shape=None, key=None, hidden=None), x=-5.0, y=55.015625, width=5.0, height=5.0), target=Port(id='640a538f-cbb2-4706-891c-397cec649c39.bc34963c-9a48-416f-b48c-63c42e377dea', labels=[], layoutOptions={}, metadata=ElementMetadata(), properties=PortProperties(cssClasses='', shape=None, key=None, hidden=None), x=-5.0, y=25.0, width=5.0, height=5.0), sections=[EdgeSection(id='83e46c23-1d3a-4128-a930-77db530bdfc1_s0', startPoint=Point(x=-5.0, y=57.515625), endPoint=Point(x=12.0, y=57.515625), bendPoints=None, incomingShape='82d53903-6fba-4640-a2ae-ad2671aa8e2d.e6b6455d-d066-413e-93ba-84d575bc497c', outgoingShape='640a538f-cbb2-4706-891c-397cec649c39.bc34963c-9a48-416f-b48c-63c42e377dea', incomingSections=None, outgoingSections=None)])])], edges=[]),\n",
       " Port(id='640a538f-cbb2-4706-891c-397cec649c39.cc4f5668-eb6e-4ecb-8be4-b389cbc33085', labels=[], layoutOptions={}, metadata=ElementMetadata(), properties=PortProperties(cssClasses='', shape=None, key=None, hidden=None), x=-5.0, y=10.0, width=5.0, height=5.0): Node(id='n0', labels=[Label(id='5fd10643-0845-4d01-8200-9524719c8eda', labels=[], layoutOptions={'org.eclipse.elk.nodeLabels.placement': 'H_CENTER V_TOP INSIDE'}, metadata=ElementMetadata(), properties=LabelProperties(cssClasses='', shape=None, key=None, hidden=None, selectable=False), x=43.7421875, y=5.0, width=13.484375, height=13.015625, text='n0')], layoutOptions={'org.eclipse.elk.nodeSize.constraints': 'NODE_LABELS PORTS PORT_LABELS MINIMUM_SIZE'}, metadata=ElementMetadata(), properties=NodeProperties(cssClasses='', shape=None, key=None, hidden=None), x=12.0, y=12.0, width=100.96875, height=145.03125, ports=[], children=[Node(id='n1', labels=[Label(id='4e30fda2-ecc7-46af-bff0-f70e9b850707', labels=[], layoutOptions={'org.eclipse.elk.nodeLabels.placement': 'H_CENTER V_TOP INSIDE'}, metadata=ElementMetadata(), properties=LabelProperties(cssClasses='', shape=None, key=None, hidden=None, selectable=False), x=22.0, y=5.0, width=12.96875, height=13.015625, text='n1')], layoutOptions={'org.eclipse.elk.nodeSize.constraints': 'NODE_LABELS PORTS PORT_LABELS MINIMUM_SIZE'}, metadata=ElementMetadata(), properties=NodeProperties(cssClasses='', shape=None, key=None, hidden=True), x=27.0, y=40.515625, width=56.96875, height=82.015625, ports=[Port(id='82d53903-6fba-4640-a2ae-ad2671aa8e2d.823394af-61f7-4ea9-94ec-23a3fe67c720', labels=[], layoutOptions={}, metadata=ElementMetadata(), properties=PortProperties(cssClasses='', shape=None, key=None, hidden=None), x=-5.0, y=40.015625, width=5.0, height=5.0), Port(id='82d53903-6fba-4640-a2ae-ad2671aa8e2d.e6b6455d-d066-413e-93ba-84d575bc497c', labels=[], layoutOptions={}, metadata=ElementMetadata(), properties=PortProperties(cssClasses='', shape=None, key=None, hidden=None), x=-5.0, y=55.015625, width=5.0, height=5.0)], children=[Node(id='n2', labels=[Label(id='4195b76d-8562-4b04-add2-507bb46d2952', labels=[], layoutOptions={'org.eclipse.elk.nodeLabels.placement': 'H_CENTER V_TOP INSIDE'}, metadata=ElementMetadata(), properties=LabelProperties(cssClasses='', shape=None, key=None, hidden=None, selectable=False), x=5.0, y=5.0, width=12.96875, height=13.015625, text='n2')], layoutOptions={'org.eclipse.elk.nodeSize.constraints': 'NODE_LABELS PORTS PORT_LABELS MINIMUM_SIZE'}, metadata=ElementMetadata(), properties=NodeProperties(cssClasses='', shape=None, key=None, hidden=None), x=17.0, y=30.015625, width=22.96875, height=40.0, ports=[Port(id='640a538f-cbb2-4706-891c-397cec649c39.cc4f5668-eb6e-4ecb-8be4-b389cbc33085', labels=[], layoutOptions={}, metadata=ElementMetadata(), properties=PortProperties(cssClasses='', shape=None, key=None, hidden=None), x=-5.0, y=10.0, width=5.0, height=5.0), Port(id='640a538f-cbb2-4706-891c-397cec649c39.bc34963c-9a48-416f-b48c-63c42e377dea', labels=[], layoutOptions={}, metadata=ElementMetadata(), properties=PortProperties(cssClasses='', shape=None, key=None, hidden=None), x=-5.0, y=25.0, width=5.0, height=5.0), Port(id='640a538f-cbb2-4706-891c-397cec649c39.d4d29b63-4463-4a4d-a19d-091665abba8a', labels=[], layoutOptions={}, metadata=ElementMetadata(), properties=PortProperties(cssClasses='', shape=None, key=None, hidden=None), x=22.96875, y=17.5, width=5.0, height=5.0)], children=[], edges=[])], edges=[Edge(id='31af6be9-c589-450a-8487-85ecbde5c5ee', labels=[], layoutOptions={}, metadata=ElementMetadata(), properties=EdgeProperties(cssClasses='', shape=None, key=None, hidden=None), source=Port(id='82d53903-6fba-4640-a2ae-ad2671aa8e2d.823394af-61f7-4ea9-94ec-23a3fe67c720', labels=[], layoutOptions={}, metadata=ElementMetadata(), properties=PortProperties(cssClasses='', shape=None, key=None, hidden=None), x=-5.0, y=40.015625, width=5.0, height=5.0), target=Port(id='640a538f-cbb2-4706-891c-397cec649c39.cc4f5668-eb6e-4ecb-8be4-b389cbc33085', labels=[], layoutOptions={}, metadata=ElementMetadata(), properties=PortProperties(cssClasses='', shape=None, key=None, hidden=None), x=-5.0, y=10.0, width=5.0, height=5.0), sections=[EdgeSection(id='31af6be9-c589-450a-8487-85ecbde5c5ee_s0', startPoint=Point(x=-5.0, y=42.515625), endPoint=Point(x=12.0, y=42.515625), bendPoints=None, incomingShape='82d53903-6fba-4640-a2ae-ad2671aa8e2d.823394af-61f7-4ea9-94ec-23a3fe67c720', outgoingShape='640a538f-cbb2-4706-891c-397cec649c39.cc4f5668-eb6e-4ecb-8be4-b389cbc33085', incomingSections=None, outgoingSections=None)]), Edge(id='83e46c23-1d3a-4128-a930-77db530bdfc1', labels=[], layoutOptions={}, metadata=ElementMetadata(), properties=EdgeProperties(cssClasses='', shape=None, key=None, hidden=None), source=Port(id='82d53903-6fba-4640-a2ae-ad2671aa8e2d.e6b6455d-d066-413e-93ba-84d575bc497c', labels=[], layoutOptions={}, metadata=ElementMetadata(), properties=PortProperties(cssClasses='', shape=None, key=None, hidden=None), x=-5.0, y=55.015625, width=5.0, height=5.0), target=Port(id='640a538f-cbb2-4706-891c-397cec649c39.bc34963c-9a48-416f-b48c-63c42e377dea', labels=[], layoutOptions={}, metadata=ElementMetadata(), properties=PortProperties(cssClasses='', shape=None, key=None, hidden=None), x=-5.0, y=25.0, width=5.0, height=5.0), sections=[EdgeSection(id='83e46c23-1d3a-4128-a930-77db530bdfc1_s0', startPoint=Point(x=-5.0, y=57.515625), endPoint=Point(x=12.0, y=57.515625), bendPoints=None, incomingShape='82d53903-6fba-4640-a2ae-ad2671aa8e2d.e6b6455d-d066-413e-93ba-84d575bc497c', outgoingShape='640a538f-cbb2-4706-891c-397cec649c39.bc34963c-9a48-416f-b48c-63c42e377dea', incomingSections=None, outgoingSections=None)])])], edges=[]),\n",
       " Port(id='640a538f-cbb2-4706-891c-397cec649c39.bc34963c-9a48-416f-b48c-63c42e377dea', labels=[], layoutOptions={}, metadata=ElementMetadata(), properties=PortProperties(cssClasses='', shape=None, key=None, hidden=None), x=-5.0, y=25.0, width=5.0, height=5.0): Node(id='n0', labels=[Label(id='5fd10643-0845-4d01-8200-9524719c8eda', labels=[], layoutOptions={'org.eclipse.elk.nodeLabels.placement': 'H_CENTER V_TOP INSIDE'}, metadata=ElementMetadata(), properties=LabelProperties(cssClasses='', shape=None, key=None, hidden=None, selectable=False), x=43.7421875, y=5.0, width=13.484375, height=13.015625, text='n0')], layoutOptions={'org.eclipse.elk.nodeSize.constraints': 'NODE_LABELS PORTS PORT_LABELS MINIMUM_SIZE'}, metadata=ElementMetadata(), properties=NodeProperties(cssClasses='', shape=None, key=None, hidden=None), x=12.0, y=12.0, width=100.96875, height=145.03125, ports=[], children=[Node(id='n1', labels=[Label(id='4e30fda2-ecc7-46af-bff0-f70e9b850707', labels=[], layoutOptions={'org.eclipse.elk.nodeLabels.placement': 'H_CENTER V_TOP INSIDE'}, metadata=ElementMetadata(), properties=LabelProperties(cssClasses='', shape=None, key=None, hidden=None, selectable=False), x=22.0, y=5.0, width=12.96875, height=13.015625, text='n1')], layoutOptions={'org.eclipse.elk.nodeSize.constraints': 'NODE_LABELS PORTS PORT_LABELS MINIMUM_SIZE'}, metadata=ElementMetadata(), properties=NodeProperties(cssClasses='', shape=None, key=None, hidden=True), x=27.0, y=40.515625, width=56.96875, height=82.015625, ports=[Port(id='82d53903-6fba-4640-a2ae-ad2671aa8e2d.823394af-61f7-4ea9-94ec-23a3fe67c720', labels=[], layoutOptions={}, metadata=ElementMetadata(), properties=PortProperties(cssClasses='', shape=None, key=None, hidden=None), x=-5.0, y=40.015625, width=5.0, height=5.0), Port(id='82d53903-6fba-4640-a2ae-ad2671aa8e2d.e6b6455d-d066-413e-93ba-84d575bc497c', labels=[], layoutOptions={}, metadata=ElementMetadata(), properties=PortProperties(cssClasses='', shape=None, key=None, hidden=None), x=-5.0, y=55.015625, width=5.0, height=5.0)], children=[Node(id='n2', labels=[Label(id='4195b76d-8562-4b04-add2-507bb46d2952', labels=[], layoutOptions={'org.eclipse.elk.nodeLabels.placement': 'H_CENTER V_TOP INSIDE'}, metadata=ElementMetadata(), properties=LabelProperties(cssClasses='', shape=None, key=None, hidden=None, selectable=False), x=5.0, y=5.0, width=12.96875, height=13.015625, text='n2')], layoutOptions={'org.eclipse.elk.nodeSize.constraints': 'NODE_LABELS PORTS PORT_LABELS MINIMUM_SIZE'}, metadata=ElementMetadata(), properties=NodeProperties(cssClasses='', shape=None, key=None, hidden=None), x=17.0, y=30.015625, width=22.96875, height=40.0, ports=[Port(id='640a538f-cbb2-4706-891c-397cec649c39.cc4f5668-eb6e-4ecb-8be4-b389cbc33085', labels=[], layoutOptions={}, metadata=ElementMetadata(), properties=PortProperties(cssClasses='', shape=None, key=None, hidden=None), x=-5.0, y=10.0, width=5.0, height=5.0), Port(id='640a538f-cbb2-4706-891c-397cec649c39.bc34963c-9a48-416f-b48c-63c42e377dea', labels=[], layoutOptions={}, metadata=ElementMetadata(), properties=PortProperties(cssClasses='', shape=None, key=None, hidden=None), x=-5.0, y=25.0, width=5.0, height=5.0), Port(id='640a538f-cbb2-4706-891c-397cec649c39.d4d29b63-4463-4a4d-a19d-091665abba8a', labels=[], layoutOptions={}, metadata=ElementMetadata(), properties=PortProperties(cssClasses='', shape=None, key=None, hidden=None), x=22.96875, y=17.5, width=5.0, height=5.0)], children=[], edges=[])], edges=[Edge(id='31af6be9-c589-450a-8487-85ecbde5c5ee', labels=[], layoutOptions={}, metadata=ElementMetadata(), properties=EdgeProperties(cssClasses='', shape=None, key=None, hidden=None), source=Port(id='82d53903-6fba-4640-a2ae-ad2671aa8e2d.823394af-61f7-4ea9-94ec-23a3fe67c720', labels=[], layoutOptions={}, metadata=ElementMetadata(), properties=PortProperties(cssClasses='', shape=None, key=None, hidden=None), x=-5.0, y=40.015625, width=5.0, height=5.0), target=Port(id='640a538f-cbb2-4706-891c-397cec649c39.cc4f5668-eb6e-4ecb-8be4-b389cbc33085', labels=[], layoutOptions={}, metadata=ElementMetadata(), properties=PortProperties(cssClasses='', shape=None, key=None, hidden=None), x=-5.0, y=10.0, width=5.0, height=5.0), sections=[EdgeSection(id='31af6be9-c589-450a-8487-85ecbde5c5ee_s0', startPoint=Point(x=-5.0, y=42.515625), endPoint=Point(x=12.0, y=42.515625), bendPoints=None, incomingShape='82d53903-6fba-4640-a2ae-ad2671aa8e2d.823394af-61f7-4ea9-94ec-23a3fe67c720', outgoingShape='640a538f-cbb2-4706-891c-397cec649c39.cc4f5668-eb6e-4ecb-8be4-b389cbc33085', incomingSections=None, outgoingSections=None)]), Edge(id='83e46c23-1d3a-4128-a930-77db530bdfc1', labels=[], layoutOptions={}, metadata=ElementMetadata(), properties=EdgeProperties(cssClasses='', shape=None, key=None, hidden=None), source=Port(id='82d53903-6fba-4640-a2ae-ad2671aa8e2d.e6b6455d-d066-413e-93ba-84d575bc497c', labels=[], layoutOptions={}, metadata=ElementMetadata(), properties=PortProperties(cssClasses='', shape=None, key=None, hidden=None), x=-5.0, y=55.015625, width=5.0, height=5.0), target=Port(id='640a538f-cbb2-4706-891c-397cec649c39.bc34963c-9a48-416f-b48c-63c42e377dea', labels=[], layoutOptions={}, metadata=ElementMetadata(), properties=PortProperties(cssClasses='', shape=None, key=None, hidden=None), x=-5.0, y=25.0, width=5.0, height=5.0), sections=[EdgeSection(id='83e46c23-1d3a-4128-a930-77db530bdfc1_s0', startPoint=Point(x=-5.0, y=57.515625), endPoint=Point(x=12.0, y=57.515625), bendPoints=None, incomingShape='82d53903-6fba-4640-a2ae-ad2671aa8e2d.e6b6455d-d066-413e-93ba-84d575bc497c', outgoingShape='640a538f-cbb2-4706-891c-397cec649c39.bc34963c-9a48-416f-b48c-63c42e377dea', incomingSections=None, outgoingSections=None)])])], edges=[]),\n",
       " Port(id='640a538f-cbb2-4706-891c-397cec649c39.d4d29b63-4463-4a4d-a19d-091665abba8a', labels=[], layoutOptions={}, metadata=ElementMetadata(), properties=PortProperties(cssClasses='', shape=None, key=None, hidden=None), x=22.96875, y=17.5, width=5.0, height=5.0): Node(id='n0', labels=[Label(id='5fd10643-0845-4d01-8200-9524719c8eda', labels=[], layoutOptions={'org.eclipse.elk.nodeLabels.placement': 'H_CENTER V_TOP INSIDE'}, metadata=ElementMetadata(), properties=LabelProperties(cssClasses='', shape=None, key=None, hidden=None, selectable=False), x=43.7421875, y=5.0, width=13.484375, height=13.015625, text='n0')], layoutOptions={'org.eclipse.elk.nodeSize.constraints': 'NODE_LABELS PORTS PORT_LABELS MINIMUM_SIZE'}, metadata=ElementMetadata(), properties=NodeProperties(cssClasses='', shape=None, key=None, hidden=None), x=12.0, y=12.0, width=100.96875, height=145.03125, ports=[], children=[Node(id='n1', labels=[Label(id='4e30fda2-ecc7-46af-bff0-f70e9b850707', labels=[], layoutOptions={'org.eclipse.elk.nodeLabels.placement': 'H_CENTER V_TOP INSIDE'}, metadata=ElementMetadata(), properties=LabelProperties(cssClasses='', shape=None, key=None, hidden=None, selectable=False), x=22.0, y=5.0, width=12.96875, height=13.015625, text='n1')], layoutOptions={'org.eclipse.elk.nodeSize.constraints': 'NODE_LABELS PORTS PORT_LABELS MINIMUM_SIZE'}, metadata=ElementMetadata(), properties=NodeProperties(cssClasses='', shape=None, key=None, hidden=True), x=27.0, y=40.515625, width=56.96875, height=82.015625, ports=[Port(id='82d53903-6fba-4640-a2ae-ad2671aa8e2d.823394af-61f7-4ea9-94ec-23a3fe67c720', labels=[], layoutOptions={}, metadata=ElementMetadata(), properties=PortProperties(cssClasses='', shape=None, key=None, hidden=None), x=-5.0, y=40.015625, width=5.0, height=5.0), Port(id='82d53903-6fba-4640-a2ae-ad2671aa8e2d.e6b6455d-d066-413e-93ba-84d575bc497c', labels=[], layoutOptions={}, metadata=ElementMetadata(), properties=PortProperties(cssClasses='', shape=None, key=None, hidden=None), x=-5.0, y=55.015625, width=5.0, height=5.0)], children=[Node(id='n2', labels=[Label(id='4195b76d-8562-4b04-add2-507bb46d2952', labels=[], layoutOptions={'org.eclipse.elk.nodeLabels.placement': 'H_CENTER V_TOP INSIDE'}, metadata=ElementMetadata(), properties=LabelProperties(cssClasses='', shape=None, key=None, hidden=None, selectable=False), x=5.0, y=5.0, width=12.96875, height=13.015625, text='n2')], layoutOptions={'org.eclipse.elk.nodeSize.constraints': 'NODE_LABELS PORTS PORT_LABELS MINIMUM_SIZE'}, metadata=ElementMetadata(), properties=NodeProperties(cssClasses='', shape=None, key=None, hidden=None), x=17.0, y=30.015625, width=22.96875, height=40.0, ports=[Port(id='640a538f-cbb2-4706-891c-397cec649c39.cc4f5668-eb6e-4ecb-8be4-b389cbc33085', labels=[], layoutOptions={}, metadata=ElementMetadata(), properties=PortProperties(cssClasses='', shape=None, key=None, hidden=None), x=-5.0, y=10.0, width=5.0, height=5.0), Port(id='640a538f-cbb2-4706-891c-397cec649c39.bc34963c-9a48-416f-b48c-63c42e377dea', labels=[], layoutOptions={}, metadata=ElementMetadata(), properties=PortProperties(cssClasses='', shape=None, key=None, hidden=None), x=-5.0, y=25.0, width=5.0, height=5.0), Port(id='640a538f-cbb2-4706-891c-397cec649c39.d4d29b63-4463-4a4d-a19d-091665abba8a', labels=[], layoutOptions={}, metadata=ElementMetadata(), properties=PortProperties(cssClasses='', shape=None, key=None, hidden=None), x=22.96875, y=17.5, width=5.0, height=5.0)], children=[], edges=[])], edges=[Edge(id='31af6be9-c589-450a-8487-85ecbde5c5ee', labels=[], layoutOptions={}, metadata=ElementMetadata(), properties=EdgeProperties(cssClasses='', shape=None, key=None, hidden=None), source=Port(id='82d53903-6fba-4640-a2ae-ad2671aa8e2d.823394af-61f7-4ea9-94ec-23a3fe67c720', labels=[], layoutOptions={}, metadata=ElementMetadata(), properties=PortProperties(cssClasses='', shape=None, key=None, hidden=None), x=-5.0, y=40.015625, width=5.0, height=5.0), target=Port(id='640a538f-cbb2-4706-891c-397cec649c39.cc4f5668-eb6e-4ecb-8be4-b389cbc33085', labels=[], layoutOptions={}, metadata=ElementMetadata(), properties=PortProperties(cssClasses='', shape=None, key=None, hidden=None), x=-5.0, y=10.0, width=5.0, height=5.0), sections=[EdgeSection(id='31af6be9-c589-450a-8487-85ecbde5c5ee_s0', startPoint=Point(x=-5.0, y=42.515625), endPoint=Point(x=12.0, y=42.515625), bendPoints=None, incomingShape='82d53903-6fba-4640-a2ae-ad2671aa8e2d.823394af-61f7-4ea9-94ec-23a3fe67c720', outgoingShape='640a538f-cbb2-4706-891c-397cec649c39.cc4f5668-eb6e-4ecb-8be4-b389cbc33085', incomingSections=None, outgoingSections=None)]), Edge(id='83e46c23-1d3a-4128-a930-77db530bdfc1', labels=[], layoutOptions={}, metadata=ElementMetadata(), properties=EdgeProperties(cssClasses='', shape=None, key=None, hidden=None), source=Port(id='82d53903-6fba-4640-a2ae-ad2671aa8e2d.e6b6455d-d066-413e-93ba-84d575bc497c', labels=[], layoutOptions={}, metadata=ElementMetadata(), properties=PortProperties(cssClasses='', shape=None, key=None, hidden=None), x=-5.0, y=55.015625, width=5.0, height=5.0), target=Port(id='640a538f-cbb2-4706-891c-397cec649c39.bc34963c-9a48-416f-b48c-63c42e377dea', labels=[], layoutOptions={}, metadata=ElementMetadata(), properties=PortProperties(cssClasses='', shape=None, key=None, hidden=None), x=-5.0, y=25.0, width=5.0, height=5.0), sections=[EdgeSection(id='83e46c23-1d3a-4128-a930-77db530bdfc1_s0', startPoint=Point(x=-5.0, y=57.515625), endPoint=Point(x=12.0, y=57.515625), bendPoints=None, incomingShape='82d53903-6fba-4640-a2ae-ad2671aa8e2d.e6b6455d-d066-413e-93ba-84d575bc497c', outgoingShape='640a538f-cbb2-4706-891c-397cec649c39.bc34963c-9a48-416f-b48c-63c42e377dea', incomingSections=None, outgoingSections=None)])])], edges=[]),\n",
       " Label(id='4195b76d-8562-4b04-add2-507bb46d2952', labels=[], layoutOptions={'org.eclipse.elk.nodeLabels.placement': 'H_CENTER V_TOP INSIDE'}, metadata=ElementMetadata(), properties=LabelProperties(cssClasses='', shape=None, key=None, hidden=None, selectable=False), x=5.0, y=5.0, width=12.96875, height=13.015625, text='n2'): Node(id='n0', labels=[Label(id='5fd10643-0845-4d01-8200-9524719c8eda', labels=[], layoutOptions={'org.eclipse.elk.nodeLabels.placement': 'H_CENTER V_TOP INSIDE'}, metadata=ElementMetadata(), properties=LabelProperties(cssClasses='', shape=None, key=None, hidden=None, selectable=False), x=43.7421875, y=5.0, width=13.484375, height=13.015625, text='n0')], layoutOptions={'org.eclipse.elk.nodeSize.constraints': 'NODE_LABELS PORTS PORT_LABELS MINIMUM_SIZE'}, metadata=ElementMetadata(), properties=NodeProperties(cssClasses='', shape=None, key=None, hidden=None), x=12.0, y=12.0, width=100.96875, height=145.03125, ports=[], children=[Node(id='n1', labels=[Label(id='4e30fda2-ecc7-46af-bff0-f70e9b850707', labels=[], layoutOptions={'org.eclipse.elk.nodeLabels.placement': 'H_CENTER V_TOP INSIDE'}, metadata=ElementMetadata(), properties=LabelProperties(cssClasses='', shape=None, key=None, hidden=None, selectable=False), x=22.0, y=5.0, width=12.96875, height=13.015625, text='n1')], layoutOptions={'org.eclipse.elk.nodeSize.constraints': 'NODE_LABELS PORTS PORT_LABELS MINIMUM_SIZE'}, metadata=ElementMetadata(), properties=NodeProperties(cssClasses='', shape=None, key=None, hidden=True), x=27.0, y=40.515625, width=56.96875, height=82.015625, ports=[Port(id='82d53903-6fba-4640-a2ae-ad2671aa8e2d.823394af-61f7-4ea9-94ec-23a3fe67c720', labels=[], layoutOptions={}, metadata=ElementMetadata(), properties=PortProperties(cssClasses='', shape=None, key=None, hidden=None), x=-5.0, y=40.015625, width=5.0, height=5.0), Port(id='82d53903-6fba-4640-a2ae-ad2671aa8e2d.e6b6455d-d066-413e-93ba-84d575bc497c', labels=[], layoutOptions={}, metadata=ElementMetadata(), properties=PortProperties(cssClasses='', shape=None, key=None, hidden=None), x=-5.0, y=55.015625, width=5.0, height=5.0)], children=[Node(id='n2', labels=[Label(id='4195b76d-8562-4b04-add2-507bb46d2952', labels=[], layoutOptions={'org.eclipse.elk.nodeLabels.placement': 'H_CENTER V_TOP INSIDE'}, metadata=ElementMetadata(), properties=LabelProperties(cssClasses='', shape=None, key=None, hidden=None, selectable=False), x=5.0, y=5.0, width=12.96875, height=13.015625, text='n2')], layoutOptions={'org.eclipse.elk.nodeSize.constraints': 'NODE_LABELS PORTS PORT_LABELS MINIMUM_SIZE'}, metadata=ElementMetadata(), properties=NodeProperties(cssClasses='', shape=None, key=None, hidden=None), x=17.0, y=30.015625, width=22.96875, height=40.0, ports=[Port(id='640a538f-cbb2-4706-891c-397cec649c39.cc4f5668-eb6e-4ecb-8be4-b389cbc33085', labels=[], layoutOptions={}, metadata=ElementMetadata(), properties=PortProperties(cssClasses='', shape=None, key=None, hidden=None), x=-5.0, y=10.0, width=5.0, height=5.0), Port(id='640a538f-cbb2-4706-891c-397cec649c39.bc34963c-9a48-416f-b48c-63c42e377dea', labels=[], layoutOptions={}, metadata=ElementMetadata(), properties=PortProperties(cssClasses='', shape=None, key=None, hidden=None), x=-5.0, y=25.0, width=5.0, height=5.0), Port(id='640a538f-cbb2-4706-891c-397cec649c39.d4d29b63-4463-4a4d-a19d-091665abba8a', labels=[], layoutOptions={}, metadata=ElementMetadata(), properties=PortProperties(cssClasses='', shape=None, key=None, hidden=None), x=22.96875, y=17.5, width=5.0, height=5.0)], children=[], edges=[])], edges=[Edge(id='31af6be9-c589-450a-8487-85ecbde5c5ee', labels=[], layoutOptions={}, metadata=ElementMetadata(), properties=EdgeProperties(cssClasses='', shape=None, key=None, hidden=None), source=Port(id='82d53903-6fba-4640-a2ae-ad2671aa8e2d.823394af-61f7-4ea9-94ec-23a3fe67c720', labels=[], layoutOptions={}, metadata=ElementMetadata(), properties=PortProperties(cssClasses='', shape=None, key=None, hidden=None), x=-5.0, y=40.015625, width=5.0, height=5.0), target=Port(id='640a538f-cbb2-4706-891c-397cec649c39.cc4f5668-eb6e-4ecb-8be4-b389cbc33085', labels=[], layoutOptions={}, metadata=ElementMetadata(), properties=PortProperties(cssClasses='', shape=None, key=None, hidden=None), x=-5.0, y=10.0, width=5.0, height=5.0), sections=[EdgeSection(id='31af6be9-c589-450a-8487-85ecbde5c5ee_s0', startPoint=Point(x=-5.0, y=42.515625), endPoint=Point(x=12.0, y=42.515625), bendPoints=None, incomingShape='82d53903-6fba-4640-a2ae-ad2671aa8e2d.823394af-61f7-4ea9-94ec-23a3fe67c720', outgoingShape='640a538f-cbb2-4706-891c-397cec649c39.cc4f5668-eb6e-4ecb-8be4-b389cbc33085', incomingSections=None, outgoingSections=None)]), Edge(id='83e46c23-1d3a-4128-a930-77db530bdfc1', labels=[], layoutOptions={}, metadata=ElementMetadata(), properties=EdgeProperties(cssClasses='', shape=None, key=None, hidden=None), source=Port(id='82d53903-6fba-4640-a2ae-ad2671aa8e2d.e6b6455d-d066-413e-93ba-84d575bc497c', labels=[], layoutOptions={}, metadata=ElementMetadata(), properties=PortProperties(cssClasses='', shape=None, key=None, hidden=None), x=-5.0, y=55.015625, width=5.0, height=5.0), target=Port(id='640a538f-cbb2-4706-891c-397cec649c39.bc34963c-9a48-416f-b48c-63c42e377dea', labels=[], layoutOptions={}, metadata=ElementMetadata(), properties=PortProperties(cssClasses='', shape=None, key=None, hidden=None), x=-5.0, y=25.0, width=5.0, height=5.0), sections=[EdgeSection(id='83e46c23-1d3a-4128-a930-77db530bdfc1_s0', startPoint=Point(x=-5.0, y=57.515625), endPoint=Point(x=12.0, y=57.515625), bendPoints=None, incomingShape='82d53903-6fba-4640-a2ae-ad2671aa8e2d.e6b6455d-d066-413e-93ba-84d575bc497c', outgoingShape='640a538f-cbb2-4706-891c-397cec649c39.bc34963c-9a48-416f-b48c-63c42e377dea', incomingSections=None, outgoingSections=None)])])], edges=[]),\n",
       " Port(id='82d53903-6fba-4640-a2ae-ad2671aa8e2d.823394af-61f7-4ea9-94ec-23a3fe67c720', labels=[], layoutOptions={}, metadata=ElementMetadata(), properties=PortProperties(cssClasses='', shape=None, key=None, hidden=None), x=-5.0, y=40.015625, width=5.0, height=5.0): Node(id='n0', labels=[Label(id='5fd10643-0845-4d01-8200-9524719c8eda', labels=[], layoutOptions={'org.eclipse.elk.nodeLabels.placement': 'H_CENTER V_TOP INSIDE'}, metadata=ElementMetadata(), properties=LabelProperties(cssClasses='', shape=None, key=None, hidden=None, selectable=False), x=43.7421875, y=5.0, width=13.484375, height=13.015625, text='n0')], layoutOptions={'org.eclipse.elk.nodeSize.constraints': 'NODE_LABELS PORTS PORT_LABELS MINIMUM_SIZE'}, metadata=ElementMetadata(), properties=NodeProperties(cssClasses='', shape=None, key=None, hidden=None), x=12.0, y=12.0, width=100.96875, height=145.03125, ports=[], children=[Node(id='n1', labels=[Label(id='4e30fda2-ecc7-46af-bff0-f70e9b850707', labels=[], layoutOptions={'org.eclipse.elk.nodeLabels.placement': 'H_CENTER V_TOP INSIDE'}, metadata=ElementMetadata(), properties=LabelProperties(cssClasses='', shape=None, key=None, hidden=None, selectable=False), x=22.0, y=5.0, width=12.96875, height=13.015625, text='n1')], layoutOptions={'org.eclipse.elk.nodeSize.constraints': 'NODE_LABELS PORTS PORT_LABELS MINIMUM_SIZE'}, metadata=ElementMetadata(), properties=NodeProperties(cssClasses='', shape=None, key=None, hidden=True), x=27.0, y=40.515625, width=56.96875, height=82.015625, ports=[Port(id='82d53903-6fba-4640-a2ae-ad2671aa8e2d.823394af-61f7-4ea9-94ec-23a3fe67c720', labels=[], layoutOptions={}, metadata=ElementMetadata(), properties=PortProperties(cssClasses='', shape=None, key=None, hidden=None), x=-5.0, y=40.015625, width=5.0, height=5.0), Port(id='82d53903-6fba-4640-a2ae-ad2671aa8e2d.e6b6455d-d066-413e-93ba-84d575bc497c', labels=[], layoutOptions={}, metadata=ElementMetadata(), properties=PortProperties(cssClasses='', shape=None, key=None, hidden=None), x=-5.0, y=55.015625, width=5.0, height=5.0)], children=[Node(id='n2', labels=[Label(id='4195b76d-8562-4b04-add2-507bb46d2952', labels=[], layoutOptions={'org.eclipse.elk.nodeLabels.placement': 'H_CENTER V_TOP INSIDE'}, metadata=ElementMetadata(), properties=LabelProperties(cssClasses='', shape=None, key=None, hidden=None, selectable=False), x=5.0, y=5.0, width=12.96875, height=13.015625, text='n2')], layoutOptions={'org.eclipse.elk.nodeSize.constraints': 'NODE_LABELS PORTS PORT_LABELS MINIMUM_SIZE'}, metadata=ElementMetadata(), properties=NodeProperties(cssClasses='', shape=None, key=None, hidden=None), x=17.0, y=30.015625, width=22.96875, height=40.0, ports=[Port(id='640a538f-cbb2-4706-891c-397cec649c39.cc4f5668-eb6e-4ecb-8be4-b389cbc33085', labels=[], layoutOptions={}, metadata=ElementMetadata(), properties=PortProperties(cssClasses='', shape=None, key=None, hidden=None), x=-5.0, y=10.0, width=5.0, height=5.0), Port(id='640a538f-cbb2-4706-891c-397cec649c39.bc34963c-9a48-416f-b48c-63c42e377dea', labels=[], layoutOptions={}, metadata=ElementMetadata(), properties=PortProperties(cssClasses='', shape=None, key=None, hidden=None), x=-5.0, y=25.0, width=5.0, height=5.0), Port(id='640a538f-cbb2-4706-891c-397cec649c39.d4d29b63-4463-4a4d-a19d-091665abba8a', labels=[], layoutOptions={}, metadata=ElementMetadata(), properties=PortProperties(cssClasses='', shape=None, key=None, hidden=None), x=22.96875, y=17.5, width=5.0, height=5.0)], children=[], edges=[])], edges=[Edge(id='31af6be9-c589-450a-8487-85ecbde5c5ee', labels=[], layoutOptions={}, metadata=ElementMetadata(), properties=EdgeProperties(cssClasses='', shape=None, key=None, hidden=None), source=Port(id='82d53903-6fba-4640-a2ae-ad2671aa8e2d.823394af-61f7-4ea9-94ec-23a3fe67c720', labels=[], layoutOptions={}, metadata=ElementMetadata(), properties=PortProperties(cssClasses='', shape=None, key=None, hidden=None), x=-5.0, y=40.015625, width=5.0, height=5.0), target=Port(id='640a538f-cbb2-4706-891c-397cec649c39.cc4f5668-eb6e-4ecb-8be4-b389cbc33085', labels=[], layoutOptions={}, metadata=ElementMetadata(), properties=PortProperties(cssClasses='', shape=None, key=None, hidden=None), x=-5.0, y=10.0, width=5.0, height=5.0), sections=[EdgeSection(id='31af6be9-c589-450a-8487-85ecbde5c5ee_s0', startPoint=Point(x=-5.0, y=42.515625), endPoint=Point(x=12.0, y=42.515625), bendPoints=None, incomingShape='82d53903-6fba-4640-a2ae-ad2671aa8e2d.823394af-61f7-4ea9-94ec-23a3fe67c720', outgoingShape='640a538f-cbb2-4706-891c-397cec649c39.cc4f5668-eb6e-4ecb-8be4-b389cbc33085', incomingSections=None, outgoingSections=None)]), Edge(id='83e46c23-1d3a-4128-a930-77db530bdfc1', labels=[], layoutOptions={}, metadata=ElementMetadata(), properties=EdgeProperties(cssClasses='', shape=None, key=None, hidden=None), source=Port(id='82d53903-6fba-4640-a2ae-ad2671aa8e2d.e6b6455d-d066-413e-93ba-84d575bc497c', labels=[], layoutOptions={}, metadata=ElementMetadata(), properties=PortProperties(cssClasses='', shape=None, key=None, hidden=None), x=-5.0, y=55.015625, width=5.0, height=5.0), target=Port(id='640a538f-cbb2-4706-891c-397cec649c39.bc34963c-9a48-416f-b48c-63c42e377dea', labels=[], layoutOptions={}, metadata=ElementMetadata(), properties=PortProperties(cssClasses='', shape=None, key=None, hidden=None), x=-5.0, y=25.0, width=5.0, height=5.0), sections=[EdgeSection(id='83e46c23-1d3a-4128-a930-77db530bdfc1_s0', startPoint=Point(x=-5.0, y=57.515625), endPoint=Point(x=12.0, y=57.515625), bendPoints=None, incomingShape='82d53903-6fba-4640-a2ae-ad2671aa8e2d.e6b6455d-d066-413e-93ba-84d575bc497c', outgoingShape='640a538f-cbb2-4706-891c-397cec649c39.bc34963c-9a48-416f-b48c-63c42e377dea', incomingSections=None, outgoingSections=None)])])], edges=[]),\n",
       " Port(id='82d53903-6fba-4640-a2ae-ad2671aa8e2d.e6b6455d-d066-413e-93ba-84d575bc497c', labels=[], layoutOptions={}, metadata=ElementMetadata(), properties=PortProperties(cssClasses='', shape=None, key=None, hidden=None), x=-5.0, y=55.015625, width=5.0, height=5.0): Node(id='n0', labels=[Label(id='5fd10643-0845-4d01-8200-9524719c8eda', labels=[], layoutOptions={'org.eclipse.elk.nodeLabels.placement': 'H_CENTER V_TOP INSIDE'}, metadata=ElementMetadata(), properties=LabelProperties(cssClasses='', shape=None, key=None, hidden=None, selectable=False), x=43.7421875, y=5.0, width=13.484375, height=13.015625, text='n0')], layoutOptions={'org.eclipse.elk.nodeSize.constraints': 'NODE_LABELS PORTS PORT_LABELS MINIMUM_SIZE'}, metadata=ElementMetadata(), properties=NodeProperties(cssClasses='', shape=None, key=None, hidden=None), x=12.0, y=12.0, width=100.96875, height=145.03125, ports=[], children=[Node(id='n1', labels=[Label(id='4e30fda2-ecc7-46af-bff0-f70e9b850707', labels=[], layoutOptions={'org.eclipse.elk.nodeLabels.placement': 'H_CENTER V_TOP INSIDE'}, metadata=ElementMetadata(), properties=LabelProperties(cssClasses='', shape=None, key=None, hidden=None, selectable=False), x=22.0, y=5.0, width=12.96875, height=13.015625, text='n1')], layoutOptions={'org.eclipse.elk.nodeSize.constraints': 'NODE_LABELS PORTS PORT_LABELS MINIMUM_SIZE'}, metadata=ElementMetadata(), properties=NodeProperties(cssClasses='', shape=None, key=None, hidden=True), x=27.0, y=40.515625, width=56.96875, height=82.015625, ports=[Port(id='82d53903-6fba-4640-a2ae-ad2671aa8e2d.823394af-61f7-4ea9-94ec-23a3fe67c720', labels=[], layoutOptions={}, metadata=ElementMetadata(), properties=PortProperties(cssClasses='', shape=None, key=None, hidden=None), x=-5.0, y=40.015625, width=5.0, height=5.0), Port(id='82d53903-6fba-4640-a2ae-ad2671aa8e2d.e6b6455d-d066-413e-93ba-84d575bc497c', labels=[], layoutOptions={}, metadata=ElementMetadata(), properties=PortProperties(cssClasses='', shape=None, key=None, hidden=None), x=-5.0, y=55.015625, width=5.0, height=5.0)], children=[Node(id='n2', labels=[Label(id='4195b76d-8562-4b04-add2-507bb46d2952', labels=[], layoutOptions={'org.eclipse.elk.nodeLabels.placement': 'H_CENTER V_TOP INSIDE'}, metadata=ElementMetadata(), properties=LabelProperties(cssClasses='', shape=None, key=None, hidden=None, selectable=False), x=5.0, y=5.0, width=12.96875, height=13.015625, text='n2')], layoutOptions={'org.eclipse.elk.nodeSize.constraints': 'NODE_LABELS PORTS PORT_LABELS MINIMUM_SIZE'}, metadata=ElementMetadata(), properties=NodeProperties(cssClasses='', shape=None, key=None, hidden=None), x=17.0, y=30.015625, width=22.96875, height=40.0, ports=[Port(id='640a538f-cbb2-4706-891c-397cec649c39.cc4f5668-eb6e-4ecb-8be4-b389cbc33085', labels=[], layoutOptions={}, metadata=ElementMetadata(), properties=PortProperties(cssClasses='', shape=None, key=None, hidden=None), x=-5.0, y=10.0, width=5.0, height=5.0), Port(id='640a538f-cbb2-4706-891c-397cec649c39.bc34963c-9a48-416f-b48c-63c42e377dea', labels=[], layoutOptions={}, metadata=ElementMetadata(), properties=PortProperties(cssClasses='', shape=None, key=None, hidden=None), x=-5.0, y=25.0, width=5.0, height=5.0), Port(id='640a538f-cbb2-4706-891c-397cec649c39.d4d29b63-4463-4a4d-a19d-091665abba8a', labels=[], layoutOptions={}, metadata=ElementMetadata(), properties=PortProperties(cssClasses='', shape=None, key=None, hidden=None), x=22.96875, y=17.5, width=5.0, height=5.0)], children=[], edges=[])], edges=[Edge(id='31af6be9-c589-450a-8487-85ecbde5c5ee', labels=[], layoutOptions={}, metadata=ElementMetadata(), properties=EdgeProperties(cssClasses='', shape=None, key=None, hidden=None), source=Port(id='82d53903-6fba-4640-a2ae-ad2671aa8e2d.823394af-61f7-4ea9-94ec-23a3fe67c720', labels=[], layoutOptions={}, metadata=ElementMetadata(), properties=PortProperties(cssClasses='', shape=None, key=None, hidden=None), x=-5.0, y=40.015625, width=5.0, height=5.0), target=Port(id='640a538f-cbb2-4706-891c-397cec649c39.cc4f5668-eb6e-4ecb-8be4-b389cbc33085', labels=[], layoutOptions={}, metadata=ElementMetadata(), properties=PortProperties(cssClasses='', shape=None, key=None, hidden=None), x=-5.0, y=10.0, width=5.0, height=5.0), sections=[EdgeSection(id='31af6be9-c589-450a-8487-85ecbde5c5ee_s0', startPoint=Point(x=-5.0, y=42.515625), endPoint=Point(x=12.0, y=42.515625), bendPoints=None, incomingShape='82d53903-6fba-4640-a2ae-ad2671aa8e2d.823394af-61f7-4ea9-94ec-23a3fe67c720', outgoingShape='640a538f-cbb2-4706-891c-397cec649c39.cc4f5668-eb6e-4ecb-8be4-b389cbc33085', incomingSections=None, outgoingSections=None)]), Edge(id='83e46c23-1d3a-4128-a930-77db530bdfc1', labels=[], layoutOptions={}, metadata=ElementMetadata(), properties=EdgeProperties(cssClasses='', shape=None, key=None, hidden=None), source=Port(id='82d53903-6fba-4640-a2ae-ad2671aa8e2d.e6b6455d-d066-413e-93ba-84d575bc497c', labels=[], layoutOptions={}, metadata=ElementMetadata(), properties=PortProperties(cssClasses='', shape=None, key=None, hidden=None), x=-5.0, y=55.015625, width=5.0, height=5.0), target=Port(id='640a538f-cbb2-4706-891c-397cec649c39.bc34963c-9a48-416f-b48c-63c42e377dea', labels=[], layoutOptions={}, metadata=ElementMetadata(), properties=PortProperties(cssClasses='', shape=None, key=None, hidden=None), x=-5.0, y=25.0, width=5.0, height=5.0), sections=[EdgeSection(id='83e46c23-1d3a-4128-a930-77db530bdfc1_s0', startPoint=Point(x=-5.0, y=57.515625), endPoint=Point(x=12.0, y=57.515625), bendPoints=None, incomingShape='82d53903-6fba-4640-a2ae-ad2671aa8e2d.e6b6455d-d066-413e-93ba-84d575bc497c', outgoingShape='640a538f-cbb2-4706-891c-397cec649c39.bc34963c-9a48-416f-b48c-63c42e377dea', incomingSections=None, outgoingSections=None)])])], edges=[]),\n",
       " Edge(id='31af6be9-c589-450a-8487-85ecbde5c5ee', labels=[], layoutOptions={}, metadata=ElementMetadata(), properties=EdgeProperties(cssClasses='', shape=None, key=None, hidden=None), source=Port(id='82d53903-6fba-4640-a2ae-ad2671aa8e2d.823394af-61f7-4ea9-94ec-23a3fe67c720', labels=[], layoutOptions={}, metadata=ElementMetadata(), properties=PortProperties(cssClasses='', shape=None, key=None, hidden=None), x=-5.0, y=40.015625, width=5.0, height=5.0), target=Port(id='640a538f-cbb2-4706-891c-397cec649c39.cc4f5668-eb6e-4ecb-8be4-b389cbc33085', labels=[], layoutOptions={}, metadata=ElementMetadata(), properties=PortProperties(cssClasses='', shape=None, key=None, hidden=None), x=-5.0, y=10.0, width=5.0, height=5.0), sections=[EdgeSection(id='31af6be9-c589-450a-8487-85ecbde5c5ee_s0', startPoint=Point(x=-5.0, y=42.515625), endPoint=Point(x=12.0, y=42.515625), bendPoints=None, incomingShape='82d53903-6fba-4640-a2ae-ad2671aa8e2d.823394af-61f7-4ea9-94ec-23a3fe67c720', outgoingShape='640a538f-cbb2-4706-891c-397cec649c39.cc4f5668-eb6e-4ecb-8be4-b389cbc33085', incomingSections=None, outgoingSections=None)]): Node(id='n0', labels=[Label(id='5fd10643-0845-4d01-8200-9524719c8eda', labels=[], layoutOptions={'org.eclipse.elk.nodeLabels.placement': 'H_CENTER V_TOP INSIDE'}, metadata=ElementMetadata(), properties=LabelProperties(cssClasses='', shape=None, key=None, hidden=None, selectable=False), x=43.7421875, y=5.0, width=13.484375, height=13.015625, text='n0')], layoutOptions={'org.eclipse.elk.nodeSize.constraints': 'NODE_LABELS PORTS PORT_LABELS MINIMUM_SIZE'}, metadata=ElementMetadata(), properties=NodeProperties(cssClasses='', shape=None, key=None, hidden=None), x=12.0, y=12.0, width=100.96875, height=145.03125, ports=[], children=[Node(id='n1', labels=[Label(id='4e30fda2-ecc7-46af-bff0-f70e9b850707', labels=[], layoutOptions={'org.eclipse.elk.nodeLabels.placement': 'H_CENTER V_TOP INSIDE'}, metadata=ElementMetadata(), properties=LabelProperties(cssClasses='', shape=None, key=None, hidden=None, selectable=False), x=22.0, y=5.0, width=12.96875, height=13.015625, text='n1')], layoutOptions={'org.eclipse.elk.nodeSize.constraints': 'NODE_LABELS PORTS PORT_LABELS MINIMUM_SIZE'}, metadata=ElementMetadata(), properties=NodeProperties(cssClasses='', shape=None, key=None, hidden=True), x=27.0, y=40.515625, width=56.96875, height=82.015625, ports=[Port(id='82d53903-6fba-4640-a2ae-ad2671aa8e2d.823394af-61f7-4ea9-94ec-23a3fe67c720', labels=[], layoutOptions={}, metadata=ElementMetadata(), properties=PortProperties(cssClasses='', shape=None, key=None, hidden=None), x=-5.0, y=40.015625, width=5.0, height=5.0), Port(id='82d53903-6fba-4640-a2ae-ad2671aa8e2d.e6b6455d-d066-413e-93ba-84d575bc497c', labels=[], layoutOptions={}, metadata=ElementMetadata(), properties=PortProperties(cssClasses='', shape=None, key=None, hidden=None), x=-5.0, y=55.015625, width=5.0, height=5.0)], children=[Node(id='n2', labels=[Label(id='4195b76d-8562-4b04-add2-507bb46d2952', labels=[], layoutOptions={'org.eclipse.elk.nodeLabels.placement': 'H_CENTER V_TOP INSIDE'}, metadata=ElementMetadata(), properties=LabelProperties(cssClasses='', shape=None, key=None, hidden=None, selectable=False), x=5.0, y=5.0, width=12.96875, height=13.015625, text='n2')], layoutOptions={'org.eclipse.elk.nodeSize.constraints': 'NODE_LABELS PORTS PORT_LABELS MINIMUM_SIZE'}, metadata=ElementMetadata(), properties=NodeProperties(cssClasses='', shape=None, key=None, hidden=None), x=17.0, y=30.015625, width=22.96875, height=40.0, ports=[Port(id='640a538f-cbb2-4706-891c-397cec649c39.cc4f5668-eb6e-4ecb-8be4-b389cbc33085', labels=[], layoutOptions={}, metadata=ElementMetadata(), properties=PortProperties(cssClasses='', shape=None, key=None, hidden=None), x=-5.0, y=10.0, width=5.0, height=5.0), Port(id='640a538f-cbb2-4706-891c-397cec649c39.bc34963c-9a48-416f-b48c-63c42e377dea', labels=[], layoutOptions={}, metadata=ElementMetadata(), properties=PortProperties(cssClasses='', shape=None, key=None, hidden=None), x=-5.0, y=25.0, width=5.0, height=5.0), Port(id='640a538f-cbb2-4706-891c-397cec649c39.d4d29b63-4463-4a4d-a19d-091665abba8a', labels=[], layoutOptions={}, metadata=ElementMetadata(), properties=PortProperties(cssClasses='', shape=None, key=None, hidden=None), x=22.96875, y=17.5, width=5.0, height=5.0)], children=[], edges=[])], edges=[Edge(id='31af6be9-c589-450a-8487-85ecbde5c5ee', labels=[], layoutOptions={}, metadata=ElementMetadata(), properties=EdgeProperties(cssClasses='', shape=None, key=None, hidden=None), source=Port(id='82d53903-6fba-4640-a2ae-ad2671aa8e2d.823394af-61f7-4ea9-94ec-23a3fe67c720', labels=[], layoutOptions={}, metadata=ElementMetadata(), properties=PortProperties(cssClasses='', shape=None, key=None, hidden=None), x=-5.0, y=40.015625, width=5.0, height=5.0), target=Port(id='640a538f-cbb2-4706-891c-397cec649c39.cc4f5668-eb6e-4ecb-8be4-b389cbc33085', labels=[], layoutOptions={}, metadata=ElementMetadata(), properties=PortProperties(cssClasses='', shape=None, key=None, hidden=None), x=-5.0, y=10.0, width=5.0, height=5.0), sections=[EdgeSection(id='31af6be9-c589-450a-8487-85ecbde5c5ee_s0', startPoint=Point(x=-5.0, y=42.515625), endPoint=Point(x=12.0, y=42.515625), bendPoints=None, incomingShape='82d53903-6fba-4640-a2ae-ad2671aa8e2d.823394af-61f7-4ea9-94ec-23a3fe67c720', outgoingShape='640a538f-cbb2-4706-891c-397cec649c39.cc4f5668-eb6e-4ecb-8be4-b389cbc33085', incomingSections=None, outgoingSections=None)]), Edge(id='83e46c23-1d3a-4128-a930-77db530bdfc1', labels=[], layoutOptions={}, metadata=ElementMetadata(), properties=EdgeProperties(cssClasses='', shape=None, key=None, hidden=None), source=Port(id='82d53903-6fba-4640-a2ae-ad2671aa8e2d.e6b6455d-d066-413e-93ba-84d575bc497c', labels=[], layoutOptions={}, metadata=ElementMetadata(), properties=PortProperties(cssClasses='', shape=None, key=None, hidden=None), x=-5.0, y=55.015625, width=5.0, height=5.0), target=Port(id='640a538f-cbb2-4706-891c-397cec649c39.bc34963c-9a48-416f-b48c-63c42e377dea', labels=[], layoutOptions={}, metadata=ElementMetadata(), properties=PortProperties(cssClasses='', shape=None, key=None, hidden=None), x=-5.0, y=25.0, width=5.0, height=5.0), sections=[EdgeSection(id='83e46c23-1d3a-4128-a930-77db530bdfc1_s0', startPoint=Point(x=-5.0, y=57.515625), endPoint=Point(x=12.0, y=57.515625), bendPoints=None, incomingShape='82d53903-6fba-4640-a2ae-ad2671aa8e2d.e6b6455d-d066-413e-93ba-84d575bc497c', outgoingShape='640a538f-cbb2-4706-891c-397cec649c39.bc34963c-9a48-416f-b48c-63c42e377dea', incomingSections=None, outgoingSections=None)])])], edges=[]),\n",
       " Edge(id='83e46c23-1d3a-4128-a930-77db530bdfc1', labels=[], layoutOptions={}, metadata=ElementMetadata(), properties=EdgeProperties(cssClasses='', shape=None, key=None, hidden=None), source=Port(id='82d53903-6fba-4640-a2ae-ad2671aa8e2d.e6b6455d-d066-413e-93ba-84d575bc497c', labels=[], layoutOptions={}, metadata=ElementMetadata(), properties=PortProperties(cssClasses='', shape=None, key=None, hidden=None), x=-5.0, y=55.015625, width=5.0, height=5.0), target=Port(id='640a538f-cbb2-4706-891c-397cec649c39.bc34963c-9a48-416f-b48c-63c42e377dea', labels=[], layoutOptions={}, metadata=ElementMetadata(), properties=PortProperties(cssClasses='', shape=None, key=None, hidden=None), x=-5.0, y=25.0, width=5.0, height=5.0), sections=[EdgeSection(id='83e46c23-1d3a-4128-a930-77db530bdfc1_s0', startPoint=Point(x=-5.0, y=57.515625), endPoint=Point(x=12.0, y=57.515625), bendPoints=None, incomingShape='82d53903-6fba-4640-a2ae-ad2671aa8e2d.e6b6455d-d066-413e-93ba-84d575bc497c', outgoingShape='640a538f-cbb2-4706-891c-397cec649c39.bc34963c-9a48-416f-b48c-63c42e377dea', incomingSections=None, outgoingSections=None)]): Node(id='n0', labels=[Label(id='5fd10643-0845-4d01-8200-9524719c8eda', labels=[], layoutOptions={'org.eclipse.elk.nodeLabels.placement': 'H_CENTER V_TOP INSIDE'}, metadata=ElementMetadata(), properties=LabelProperties(cssClasses='', shape=None, key=None, hidden=None, selectable=False), x=43.7421875, y=5.0, width=13.484375, height=13.015625, text='n0')], layoutOptions={'org.eclipse.elk.nodeSize.constraints': 'NODE_LABELS PORTS PORT_LABELS MINIMUM_SIZE'}, metadata=ElementMetadata(), properties=NodeProperties(cssClasses='', shape=None, key=None, hidden=None), x=12.0, y=12.0, width=100.96875, height=145.03125, ports=[], children=[Node(id='n1', labels=[Label(id='4e30fda2-ecc7-46af-bff0-f70e9b850707', labels=[], layoutOptions={'org.eclipse.elk.nodeLabels.placement': 'H_CENTER V_TOP INSIDE'}, metadata=ElementMetadata(), properties=LabelProperties(cssClasses='', shape=None, key=None, hidden=None, selectable=False), x=22.0, y=5.0, width=12.96875, height=13.015625, text='n1')], layoutOptions={'org.eclipse.elk.nodeSize.constraints': 'NODE_LABELS PORTS PORT_LABELS MINIMUM_SIZE'}, metadata=ElementMetadata(), properties=NodeProperties(cssClasses='', shape=None, key=None, hidden=True), x=27.0, y=40.515625, width=56.96875, height=82.015625, ports=[Port(id='82d53903-6fba-4640-a2ae-ad2671aa8e2d.823394af-61f7-4ea9-94ec-23a3fe67c720', labels=[], layoutOptions={}, metadata=ElementMetadata(), properties=PortProperties(cssClasses='', shape=None, key=None, hidden=None), x=-5.0, y=40.015625, width=5.0, height=5.0), Port(id='82d53903-6fba-4640-a2ae-ad2671aa8e2d.e6b6455d-d066-413e-93ba-84d575bc497c', labels=[], layoutOptions={}, metadata=ElementMetadata(), properties=PortProperties(cssClasses='', shape=None, key=None, hidden=None), x=-5.0, y=55.015625, width=5.0, height=5.0)], children=[Node(id='n2', labels=[Label(id='4195b76d-8562-4b04-add2-507bb46d2952', labels=[], layoutOptions={'org.eclipse.elk.nodeLabels.placement': 'H_CENTER V_TOP INSIDE'}, metadata=ElementMetadata(), properties=LabelProperties(cssClasses='', shape=None, key=None, hidden=None, selectable=False), x=5.0, y=5.0, width=12.96875, height=13.015625, text='n2')], layoutOptions={'org.eclipse.elk.nodeSize.constraints': 'NODE_LABELS PORTS PORT_LABELS MINIMUM_SIZE'}, metadata=ElementMetadata(), properties=NodeProperties(cssClasses='', shape=None, key=None, hidden=None), x=17.0, y=30.015625, width=22.96875, height=40.0, ports=[Port(id='640a538f-cbb2-4706-891c-397cec649c39.cc4f5668-eb6e-4ecb-8be4-b389cbc33085', labels=[], layoutOptions={}, metadata=ElementMetadata(), properties=PortProperties(cssClasses='', shape=None, key=None, hidden=None), x=-5.0, y=10.0, width=5.0, height=5.0), Port(id='640a538f-cbb2-4706-891c-397cec649c39.bc34963c-9a48-416f-b48c-63c42e377dea', labels=[], layoutOptions={}, metadata=ElementMetadata(), properties=PortProperties(cssClasses='', shape=None, key=None, hidden=None), x=-5.0, y=25.0, width=5.0, height=5.0), Port(id='640a538f-cbb2-4706-891c-397cec649c39.d4d29b63-4463-4a4d-a19d-091665abba8a', labels=[], layoutOptions={}, metadata=ElementMetadata(), properties=PortProperties(cssClasses='', shape=None, key=None, hidden=None), x=22.96875, y=17.5, width=5.0, height=5.0)], children=[], edges=[])], edges=[Edge(id='31af6be9-c589-450a-8487-85ecbde5c5ee', labels=[], layoutOptions={}, metadata=ElementMetadata(), properties=EdgeProperties(cssClasses='', shape=None, key=None, hidden=None), source=Port(id='82d53903-6fba-4640-a2ae-ad2671aa8e2d.823394af-61f7-4ea9-94ec-23a3fe67c720', labels=[], layoutOptions={}, metadata=ElementMetadata(), properties=PortProperties(cssClasses='', shape=None, key=None, hidden=None), x=-5.0, y=40.015625, width=5.0, height=5.0), target=Port(id='640a538f-cbb2-4706-891c-397cec649c39.cc4f5668-eb6e-4ecb-8be4-b389cbc33085', labels=[], layoutOptions={}, metadata=ElementMetadata(), properties=PortProperties(cssClasses='', shape=None, key=None, hidden=None), x=-5.0, y=10.0, width=5.0, height=5.0), sections=[EdgeSection(id='31af6be9-c589-450a-8487-85ecbde5c5ee_s0', startPoint=Point(x=-5.0, y=42.515625), endPoint=Point(x=12.0, y=42.515625), bendPoints=None, incomingShape='82d53903-6fba-4640-a2ae-ad2671aa8e2d.823394af-61f7-4ea9-94ec-23a3fe67c720', outgoingShape='640a538f-cbb2-4706-891c-397cec649c39.cc4f5668-eb6e-4ecb-8be4-b389cbc33085', incomingSections=None, outgoingSections=None)]), Edge(id='83e46c23-1d3a-4128-a930-77db530bdfc1', labels=[], layoutOptions={}, metadata=ElementMetadata(), properties=EdgeProperties(cssClasses='', shape=None, key=None, hidden=None), source=Port(id='82d53903-6fba-4640-a2ae-ad2671aa8e2d.e6b6455d-d066-413e-93ba-84d575bc497c', labels=[], layoutOptions={}, metadata=ElementMetadata(), properties=PortProperties(cssClasses='', shape=None, key=None, hidden=None), x=-5.0, y=55.015625, width=5.0, height=5.0), target=Port(id='640a538f-cbb2-4706-891c-397cec649c39.bc34963c-9a48-416f-b48c-63c42e377dea', labels=[], layoutOptions={}, metadata=ElementMetadata(), properties=PortProperties(cssClasses='', shape=None, key=None, hidden=None), x=-5.0, y=25.0, width=5.0, height=5.0), sections=[EdgeSection(id='83e46c23-1d3a-4128-a930-77db530bdfc1_s0', startPoint=Point(x=-5.0, y=57.515625), endPoint=Point(x=12.0, y=57.515625), bendPoints=None, incomingShape='82d53903-6fba-4640-a2ae-ad2671aa8e2d.e6b6455d-d066-413e-93ba-84d575bc497c', outgoingShape='640a538f-cbb2-4706-891c-397cec649c39.bc34963c-9a48-416f-b48c-63c42e377dea', incomingSections=None, outgoingSections=None)])])], edges=[]),\n",
       " Label(id='4e30fda2-ecc7-46af-bff0-f70e9b850707', labels=[], layoutOptions={'org.eclipse.elk.nodeLabels.placement': 'H_CENTER V_TOP INSIDE'}, metadata=ElementMetadata(), properties=LabelProperties(cssClasses='', shape=None, key=None, hidden=None, selectable=False), x=22.0, y=5.0, width=12.96875, height=13.015625, text='n1'): Node(id='n0', labels=[Label(id='5fd10643-0845-4d01-8200-9524719c8eda', labels=[], layoutOptions={'org.eclipse.elk.nodeLabels.placement': 'H_CENTER V_TOP INSIDE'}, metadata=ElementMetadata(), properties=LabelProperties(cssClasses='', shape=None, key=None, hidden=None, selectable=False), x=43.7421875, y=5.0, width=13.484375, height=13.015625, text='n0')], layoutOptions={'org.eclipse.elk.nodeSize.constraints': 'NODE_LABELS PORTS PORT_LABELS MINIMUM_SIZE'}, metadata=ElementMetadata(), properties=NodeProperties(cssClasses='', shape=None, key=None, hidden=None), x=12.0, y=12.0, width=100.96875, height=145.03125, ports=[], children=[Node(id='n1', labels=[Label(id='4e30fda2-ecc7-46af-bff0-f70e9b850707', labels=[], layoutOptions={'org.eclipse.elk.nodeLabels.placement': 'H_CENTER V_TOP INSIDE'}, metadata=ElementMetadata(), properties=LabelProperties(cssClasses='', shape=None, key=None, hidden=None, selectable=False), x=22.0, y=5.0, width=12.96875, height=13.015625, text='n1')], layoutOptions={'org.eclipse.elk.nodeSize.constraints': 'NODE_LABELS PORTS PORT_LABELS MINIMUM_SIZE'}, metadata=ElementMetadata(), properties=NodeProperties(cssClasses='', shape=None, key=None, hidden=True), x=27.0, y=40.515625, width=56.96875, height=82.015625, ports=[Port(id='82d53903-6fba-4640-a2ae-ad2671aa8e2d.823394af-61f7-4ea9-94ec-23a3fe67c720', labels=[], layoutOptions={}, metadata=ElementMetadata(), properties=PortProperties(cssClasses='', shape=None, key=None, hidden=None), x=-5.0, y=40.015625, width=5.0, height=5.0), Port(id='82d53903-6fba-4640-a2ae-ad2671aa8e2d.e6b6455d-d066-413e-93ba-84d575bc497c', labels=[], layoutOptions={}, metadata=ElementMetadata(), properties=PortProperties(cssClasses='', shape=None, key=None, hidden=None), x=-5.0, y=55.015625, width=5.0, height=5.0)], children=[Node(id='n2', labels=[Label(id='4195b76d-8562-4b04-add2-507bb46d2952', labels=[], layoutOptions={'org.eclipse.elk.nodeLabels.placement': 'H_CENTER V_TOP INSIDE'}, metadata=ElementMetadata(), properties=LabelProperties(cssClasses='', shape=None, key=None, hidden=None, selectable=False), x=5.0, y=5.0, width=12.96875, height=13.015625, text='n2')], layoutOptions={'org.eclipse.elk.nodeSize.constraints': 'NODE_LABELS PORTS PORT_LABELS MINIMUM_SIZE'}, metadata=ElementMetadata(), properties=NodeProperties(cssClasses='', shape=None, key=None, hidden=None), x=17.0, y=30.015625, width=22.96875, height=40.0, ports=[Port(id='640a538f-cbb2-4706-891c-397cec649c39.cc4f5668-eb6e-4ecb-8be4-b389cbc33085', labels=[], layoutOptions={}, metadata=ElementMetadata(), properties=PortProperties(cssClasses='', shape=None, key=None, hidden=None), x=-5.0, y=10.0, width=5.0, height=5.0), Port(id='640a538f-cbb2-4706-891c-397cec649c39.bc34963c-9a48-416f-b48c-63c42e377dea', labels=[], layoutOptions={}, metadata=ElementMetadata(), properties=PortProperties(cssClasses='', shape=None, key=None, hidden=None), x=-5.0, y=25.0, width=5.0, height=5.0), Port(id='640a538f-cbb2-4706-891c-397cec649c39.d4d29b63-4463-4a4d-a19d-091665abba8a', labels=[], layoutOptions={}, metadata=ElementMetadata(), properties=PortProperties(cssClasses='', shape=None, key=None, hidden=None), x=22.96875, y=17.5, width=5.0, height=5.0)], children=[], edges=[])], edges=[Edge(id='31af6be9-c589-450a-8487-85ecbde5c5ee', labels=[], layoutOptions={}, metadata=ElementMetadata(), properties=EdgeProperties(cssClasses='', shape=None, key=None, hidden=None), source=Port(id='82d53903-6fba-4640-a2ae-ad2671aa8e2d.823394af-61f7-4ea9-94ec-23a3fe67c720', labels=[], layoutOptions={}, metadata=ElementMetadata(), properties=PortProperties(cssClasses='', shape=None, key=None, hidden=None), x=-5.0, y=40.015625, width=5.0, height=5.0), target=Port(id='640a538f-cbb2-4706-891c-397cec649c39.cc4f5668-eb6e-4ecb-8be4-b389cbc33085', labels=[], layoutOptions={}, metadata=ElementMetadata(), properties=PortProperties(cssClasses='', shape=None, key=None, hidden=None), x=-5.0, y=10.0, width=5.0, height=5.0), sections=[EdgeSection(id='31af6be9-c589-450a-8487-85ecbde5c5ee_s0', startPoint=Point(x=-5.0, y=42.515625), endPoint=Point(x=12.0, y=42.515625), bendPoints=None, incomingShape='82d53903-6fba-4640-a2ae-ad2671aa8e2d.823394af-61f7-4ea9-94ec-23a3fe67c720', outgoingShape='640a538f-cbb2-4706-891c-397cec649c39.cc4f5668-eb6e-4ecb-8be4-b389cbc33085', incomingSections=None, outgoingSections=None)]), Edge(id='83e46c23-1d3a-4128-a930-77db530bdfc1', labels=[], layoutOptions={}, metadata=ElementMetadata(), properties=EdgeProperties(cssClasses='', shape=None, key=None, hidden=None), source=Port(id='82d53903-6fba-4640-a2ae-ad2671aa8e2d.e6b6455d-d066-413e-93ba-84d575bc497c', labels=[], layoutOptions={}, metadata=ElementMetadata(), properties=PortProperties(cssClasses='', shape=None, key=None, hidden=None), x=-5.0, y=55.015625, width=5.0, height=5.0), target=Port(id='640a538f-cbb2-4706-891c-397cec649c39.bc34963c-9a48-416f-b48c-63c42e377dea', labels=[], layoutOptions={}, metadata=ElementMetadata(), properties=PortProperties(cssClasses='', shape=None, key=None, hidden=None), x=-5.0, y=25.0, width=5.0, height=5.0), sections=[EdgeSection(id='83e46c23-1d3a-4128-a930-77db530bdfc1_s0', startPoint=Point(x=-5.0, y=57.515625), endPoint=Point(x=12.0, y=57.515625), bendPoints=None, incomingShape='82d53903-6fba-4640-a2ae-ad2671aa8e2d.e6b6455d-d066-413e-93ba-84d575bc497c', outgoingShape='640a538f-cbb2-4706-891c-397cec649c39.bc34963c-9a48-416f-b48c-63c42e377dea', incomingSections=None, outgoingSections=None)])])], edges=[])}"
      ]
     },
     "execution_count": 16,
     "metadata": {},
     "output_type": "execute_result"
    }
   ],
   "source": []
  },
  {
   "cell_type": "code",
   "execution_count": 11,
   "metadata": {},
   "outputs": [
    {
     "name": "stdout",
     "output_type": "stream",
     "text": [
      "> \u001b[0;32m/home/dfreeman6/Documents/ipyelk/py_src/ipyelk/elements/serialization.py\u001b[0m(21)\u001b[0;36mapply_edges\u001b[0;34m()\u001b[0m\n",
      "\u001b[0;32m     19 \u001b[0;31m\u001b[0;34m\u001b[0m\u001b[0m\n",
      "\u001b[0m\u001b[0;32m     20 \u001b[0;31m\u001b[0;32mdef\u001b[0m \u001b[0mapply_edges\u001b[0m\u001b[0;34m(\u001b[0m\u001b[0mdata\u001b[0m\u001b[0;34m,\u001b[0m \u001b[0medges\u001b[0m\u001b[0;34m)\u001b[0m\u001b[0;34m:\u001b[0m\u001b[0;34m\u001b[0m\u001b[0;34m\u001b[0m\u001b[0m\n",
      "\u001b[0m\u001b[0;32m---> 21 \u001b[0;31m    \u001b[0mnode_id\u001b[0m \u001b[0;34m=\u001b[0m \u001b[0mdata\u001b[0m\u001b[0;34m[\u001b[0m\u001b[0;34m\"id\"\u001b[0m\u001b[0;34m]\u001b[0m\u001b[0;34m\u001b[0m\u001b[0;34m\u001b[0m\u001b[0m\n",
      "\u001b[0m\u001b[0;32m     22 \u001b[0;31m    \u001b[0;32mif\u001b[0m \u001b[0mnode_id\u001b[0m \u001b[0;32min\u001b[0m \u001b[0medges\u001b[0m\u001b[0;34m:\u001b[0m\u001b[0;34m\u001b[0m\u001b[0;34m\u001b[0m\u001b[0m\n",
      "\u001b[0m\u001b[0;32m     23 \u001b[0;31m        \u001b[0mdata\u001b[0m\u001b[0;34m[\u001b[0m\u001b[0;34m\"edges\"\u001b[0m\u001b[0;34m]\u001b[0m \u001b[0;34m=\u001b[0m \u001b[0medges\u001b[0m\u001b[0;34m.\u001b[0m\u001b[0mget\u001b[0m\u001b[0;34m(\u001b[0m\u001b[0mnode_id\u001b[0m\u001b[0;34m)\u001b[0m\u001b[0;34m\u001b[0m\u001b[0;34m\u001b[0m\u001b[0m\n",
      "\u001b[0m\n"
     ]
    },
    {
     "name": "stdin",
     "output_type": "stream",
     "text": [
      "ipdb>  data\n"
     ]
    },
    {
     "name": "stdout",
     "output_type": "stream",
     "text": [
      "{}\n"
     ]
    },
    {
     "name": "stdin",
     "output_type": "stream",
     "text": [
      "ipdb>  u\n"
     ]
    },
    {
     "name": "stdout",
     "output_type": "stream",
     "text": [
      "> \u001b[0;32m/home/dfreeman6/Documents/ipyelk/py_src/ipyelk/elements/serialization.py\u001b[0m(25)\u001b[0;36mapply_edges\u001b[0;34m()\u001b[0m\n",
      "\u001b[0;32m     23 \u001b[0;31m        \u001b[0mdata\u001b[0m\u001b[0;34m[\u001b[0m\u001b[0;34m\"edges\"\u001b[0m\u001b[0;34m]\u001b[0m \u001b[0;34m=\u001b[0m \u001b[0medges\u001b[0m\u001b[0;34m.\u001b[0m\u001b[0mget\u001b[0m\u001b[0;34m(\u001b[0m\u001b[0mnode_id\u001b[0m\u001b[0;34m)\u001b[0m\u001b[0;34m\u001b[0m\u001b[0;34m\u001b[0m\u001b[0m\n",
      "\u001b[0m\u001b[0;32m     24 \u001b[0;31m    \u001b[0;32mfor\u001b[0m \u001b[0mchild\u001b[0m \u001b[0;32min\u001b[0m \u001b[0mdata\u001b[0m\u001b[0;34m.\u001b[0m\u001b[0mget\u001b[0m\u001b[0;34m(\u001b[0m\u001b[0;34m\"children\"\u001b[0m\u001b[0;34m,\u001b[0m \u001b[0;34m[\u001b[0m\u001b[0;34m]\u001b[0m\u001b[0;34m)\u001b[0m\u001b[0;34m:\u001b[0m\u001b[0;34m\u001b[0m\u001b[0;34m\u001b[0m\u001b[0m\n",
      "\u001b[0m\u001b[0;32m---> 25 \u001b[0;31m        \u001b[0mapply_edges\u001b[0m\u001b[0;34m(\u001b[0m\u001b[0mchild\u001b[0m\u001b[0;34m,\u001b[0m \u001b[0medges\u001b[0m\u001b[0;34m)\u001b[0m\u001b[0;34m\u001b[0m\u001b[0;34m\u001b[0m\u001b[0m\n",
      "\u001b[0m\u001b[0;32m     26 \u001b[0;31m    \u001b[0;32mreturn\u001b[0m \u001b[0medges\u001b[0m\u001b[0;34m\u001b[0m\u001b[0;34m\u001b[0m\u001b[0m\n",
      "\u001b[0m\u001b[0;32m     27 \u001b[0;31m\u001b[0;34m\u001b[0m\u001b[0m\n",
      "\u001b[0m\n"
     ]
    },
    {
     "name": "stdin",
     "output_type": "stream",
     "text": [
      "ipdb>  child\n"
     ]
    },
    {
     "name": "stdout",
     "output_type": "stream",
     "text": [
      "{}\n"
     ]
    },
    {
     "name": "stdin",
     "output_type": "stream",
     "text": [
      "ipdb>  c\n"
     ]
    }
   ],
   "source": [
    "%debug"
   ]
  },
  {
   "cell_type": "code",
   "execution_count": 7,
   "metadata": {},
   "outputs": [
    {
     "name": "stdout",
     "output_type": "stream",
     "text": [
      "> \u001b[0;32m/home/dfreeman6/Documents/ipyelk/examples/pydantic/main.py\u001b[0m(767)\u001b[0;36mpydantic.main.BaseModel._get_value\u001b[0;34m()\u001b[0m\n",
      "\n"
     ]
    },
    {
     "name": "stdin",
     "output_type": "stream",
     "text": [
      "ipdb>  ll\n"
     ]
    },
    {
     "name": "stdout",
     "output_type": "stream",
     "text": [
      "*** could not get source code\n"
     ]
    },
    {
     "name": "stdin",
     "output_type": "stream",
     "text": [
      "ipdb>  u\n"
     ]
    },
    {
     "name": "stdout",
     "output_type": "stream",
     "text": [
      "> \u001b[0;32m/home/dfreeman6/Documents/ipyelk/examples/pydantic/main.py\u001b[0m(795)\u001b[0;36mgenexpr\u001b[0;34m()\u001b[0m\n",
      "\n"
     ]
    },
    {
     "name": "stdin",
     "output_type": "stream",
     "text": [
      "ipdb>  u\n"
     ]
    },
    {
     "name": "stdout",
     "output_type": "stream",
     "text": [
      "> \u001b[0;32m/home/dfreeman6/Documents/ipyelk/examples/pydantic/main.py\u001b[0m(810)\u001b[0;36mpydantic.main.BaseModel._get_value\u001b[0;34m()\u001b[0m\n",
      "\n"
     ]
    },
    {
     "name": "stdin",
     "output_type": "stream",
     "text": [
      "ipdb>  u\n"
     ]
    },
    {
     "name": "stdout",
     "output_type": "stream",
     "text": [
      "> \u001b[0;32m/home/dfreeman6/Documents/ipyelk/examples/pydantic/main.py\u001b[0m(869)\u001b[0;36m_iter\u001b[0;34m()\u001b[0m\n",
      "\n"
     ]
    },
    {
     "name": "stdin",
     "output_type": "stream",
     "text": [
      "ipdb>  u\n"
     ]
    },
    {
     "name": "stdout",
     "output_type": "stream",
     "text": [
      "> \u001b[0;32m/home/dfreeman6/Documents/ipyelk/examples/pydantic/main.py\u001b[0m(504)\u001b[0;36mpydantic.main.BaseModel.dict\u001b[0;34m()\u001b[0m\n",
      "\n"
     ]
    },
    {
     "name": "stdin",
     "output_type": "stream",
     "text": [
      "ipdb>  u\n"
     ]
    },
    {
     "name": "stdout",
     "output_type": "stream",
     "text": [
      "> \u001b[0;32m/home/dfreeman6/Documents/ipyelk/py_src/ipyelk/elements/elements.py\u001b[0m(102)\u001b[0;36mdict\u001b[0;34m()\u001b[0m\n",
      "\u001b[0;32m    100 \u001b[0;31m        \u001b[0;32mif\u001b[0m \u001b[0mexcluded\u001b[0m\u001b[0;34m:\u001b[0m\u001b[0;34m\u001b[0m\u001b[0;34m\u001b[0m\u001b[0m\n",
      "\u001b[0m\u001b[0;32m    101 \u001b[0;31m            \u001b[0mkwargs\u001b[0m \u001b[0;34m=\u001b[0m \u001b[0madd_excluded_fields\u001b[0m\u001b[0;34m(\u001b[0m\u001b[0mkwargs\u001b[0m\u001b[0;34m,\u001b[0m \u001b[0mexcluded\u001b[0m\u001b[0;34m)\u001b[0m\u001b[0;34m\u001b[0m\u001b[0;34m\u001b[0m\u001b[0m\n",
      "\u001b[0m\u001b[0;32m--> 102 \u001b[0;31m        \u001b[0mdata\u001b[0m \u001b[0;34m=\u001b[0m \u001b[0msuper\u001b[0m\u001b[0;34m(\u001b[0m\u001b[0;34m)\u001b[0m\u001b[0;34m.\u001b[0m\u001b[0mdict\u001b[0m\u001b[0;34m(\u001b[0m\u001b[0;34m**\u001b[0m\u001b[0mkwargs\u001b[0m\u001b[0;34m)\u001b[0m\u001b[0;34m\u001b[0m\u001b[0;34m\u001b[0m\u001b[0m\n",
      "\u001b[0m\u001b[0;32m    103 \u001b[0;31m        \u001b[0mdata\u001b[0m\u001b[0;34m[\u001b[0m\u001b[0;34m\"id\"\u001b[0m\u001b[0;34m]\u001b[0m \u001b[0;34m=\u001b[0m \u001b[0mself\u001b[0m\u001b[0;34m.\u001b[0m\u001b[0mget_id\u001b[0m\u001b[0;34m(\u001b[0m\u001b[0;34m)\u001b[0m\u001b[0;34m\u001b[0m\u001b[0;34m\u001b[0m\u001b[0m\n",
      "\u001b[0m\u001b[0;32m    104 \u001b[0;31m\u001b[0;34m\u001b[0m\u001b[0m\n",
      "\u001b[0m\n"
     ]
    },
    {
     "name": "stdin",
     "output_type": "stream",
     "text": [
      "ipdb>  self\n"
     ]
    },
    {
     "name": "stdout",
     "output_type": "stream",
     "text": [
      "Node(id='n0', labels=[Label(id='2e9b4876-1b5b-476d-bae7-2fe89bd1cb29', labels=[], layoutOptions={'org.eclipse.elk.nodeLabels.placement': 'H_CENTER V_TOP INSIDE'}, metadata=ElementMetadata(), properties=LabelProperties(cssClasses='', shape=None, key=None, hidden=None, selectable=False), x=43.7421875, y=5.0, width=13.484375, height=13.015625, text='n0')], layoutOptions={'org.eclipse.elk.nodeSize.constraints': 'NODE_LABELS PORTS PORT_LABELS MINIMUM_SIZE'}, metadata=ElementMetadata(), properties=NodeProperties(cssClasses='', shape=None, key=None, hidden=None), x=12.0, y=12.0, width=100.96875, height=145.03125, ports=[], children=[Node(id='n1', labels=[Label(id='753a02b7-cc30-428a-8c9b-b1a7fd4ec751', labels=[], layoutOptions={'org.eclipse.elk.nodeLabels.placement': 'H_CENTER V_TOP INSIDE'}, metadata=ElementMetadata(), properties=LabelProperties(cssClasses='', shape=None, key=None, hidden=None, selectable=False), x=22.0, y=5.0, width=12.96875, height=13.015625, text='n1')], layoutOptions={'org.eclipse.elk.nodeSize.constraints': 'NODE_LABELS PORTS PORT_LABELS MINIMUM_SIZE'}, metadata=ElementMetadata(), properties=NodeProperties(cssClasses='', shape=None, key=None, hidden=True), x=27.0, y=40.515625, width=56.96875, height=82.015625, ports=[Port(id='2a9134b4-7a76-4ef0-a679-53db20c64079.0dff8460-acf8-46ab-8a1a-8f735e8d4e7f', labels=[], layoutOptions={}, metadata=ElementMetadata(), properties=PortProperties(cssClasses='', shape=None, key=None, hidden=None), x=-5.0, y=40.015625, width=5.0, height=5.0), Port(id='2a9134b4-7a76-4ef0-a679-53db20c64079.b6b7de43-790f-4463-b406-ca5348b6d835', labels=[], layoutOptions={}, metadata=ElementMetadata(), properties=PortProperties(cssClasses='', shape=None, key=None, hidden=None), x=-5.0, y=55.015625, width=5.0, height=5.0)], children=[Node(id='n2', labels=[Label(id='5383dcb6-f7e1-494f-bbdc-a9734cd84365', labels=[], layoutOptions={'org.eclipse.elk.nodeLabels.placement': 'H_CENTER V_TOP INSIDE'}, metadata=ElementMetadata(), properties=LabelProperties(cssClasses='', shape=None, key=None, hidden=None, selectable=False), x=5.0, y=5.0, width=12.96875, height=13.015625, text='n2')], layoutOptions={'org.eclipse.elk.nodeSize.constraints': 'NODE_LABELS PORTS PORT_LABELS MINIMUM_SIZE'}, metadata=ElementMetadata(), properties=NodeProperties(cssClasses='', shape=None, key=None, hidden=None), x=17.0, y=30.015625, width=22.96875, height=40.0, ports=[Port(id='f42427c6-d381-4ee5-ab36-e6fb2f34b049.93109790-8ff2-4171-b123-7c1157e6fcc9', labels=[], layoutOptions={}, metadata=ElementMetadata(), properties=PortProperties(cssClasses='', shape=None, key=None, hidden=None), x=-5.0, y=10.0, width=5.0, height=5.0), Port(id='f42427c6-d381-4ee5-ab36-e6fb2f34b049.b5a2789b-5cd3-4787-9731-deb183456db5', labels=[], layoutOptions={}, metadata=ElementMetadata(), properties=PortProperties(cssClasses='', shape=None, key=None, hidden=None), x=-5.0, y=25.0, width=5.0, height=5.0), Port(id='f42427c6-d381-4ee5-ab36-e6fb2f34b049.b9bb821a-6632-4fa6-8173-cc595171e961', labels=[], layoutOptions={}, metadata=ElementMetadata(), properties=PortProperties(cssClasses='', shape=None, key=None, hidden=None), x=22.96875, y=17.5, width=5.0, height=5.0)], children=[], edges=[])], edges=[Edge(id='62af4116-655c-46c8-9c96-d00305b9171d', labels=[], layoutOptions={}, metadata=ElementMetadata(), properties=EdgeProperties(cssClasses='', shape=None, key=None, hidden=None), source=Port(id='2a9134b4-7a76-4ef0-a679-53db20c64079.0dff8460-acf8-46ab-8a1a-8f735e8d4e7f', labels=[], layoutOptions={}, metadata=ElementMetadata(), properties=PortProperties(cssClasses='', shape=None, key=None, hidden=None), x=-5.0, y=40.015625, width=5.0, height=5.0), target=Port(id='f42427c6-d381-4ee5-ab36-e6fb2f34b049.93109790-8ff2-4171-b123-7c1157e6fcc9', labels=[], layoutOptions={}, metadata=ElementMetadata(), properties=PortProperties(cssClasses='', shape=None, key=None, hidden=None), x=-5.0, y=10.0, width=5.0, height=5.0), sections=[EdgeSection(id='62af4116-655c-46c8-9c96-d00305b9171d_s0', startPoint=Point(x=-5.0, y=42.515625), endPoint=Point(x=12.0, y=42.515625), bendPoints=None, incomingShape='2a9134b4-7a76-4ef0-a679-53db20c64079.0dff8460-acf8-46ab-8a1a-8f735e8d4e7f', outgoingShape='f42427c6-d381-4ee5-ab36-e6fb2f34b049.93109790-8ff2-4171-b123-7c1157e6fcc9', incomingSections=None, outgoingSections=None)]), Edge(id='073fae74-5a36-45d0-b07f-98bbd386283f', labels=[], layoutOptions={}, metadata=ElementMetadata(), properties=EdgeProperties(cssClasses='', shape=None, key=None, hidden=None), source=Port(id='2a9134b4-7a76-4ef0-a679-53db20c64079.b6b7de43-790f-4463-b406-ca5348b6d835', labels=[], layoutOptions={}, metadata=ElementMetadata(), properties=PortProperties(cssClasses='', shape=None, key=None, hidden=None), x=-5.0, y=55.015625, width=5.0, height=5.0), target=Port(id='f42427c6-d381-4ee5-ab36-e6fb2f34b049.b5a2789b-5cd3-4787-9731-deb183456db5', labels=[], layoutOptions={}, metadata=ElementMetadata(), properties=PortProperties(cssClasses='', shape=None, key=None, hidden=None), x=-5.0, y=25.0, width=5.0, height=5.0), sections=[EdgeSection(id='073fae74-5a36-45d0-b07f-98bbd386283f_s0', startPoint=Point(x=-5.0, y=57.515625), endPoint=Point(x=12.0, y=57.515625), bendPoints=None, incomingShape='2a9134b4-7a76-4ef0-a679-53db20c64079.b6b7de43-790f-4463-b406-ca5348b6d835', outgoingShape='f42427c6-d381-4ee5-ab36-e6fb2f34b049.b5a2789b-5cd3-4787-9731-deb183456db5', incomingSections=None, outgoingSections=None)])])], edges=[])\n"
     ]
    },
    {
     "name": "stdin",
     "output_type": "stream",
     "text": [
      "ipdb>  ll\n"
     ]
    },
    {
     "name": "stdout",
     "output_type": "stream",
     "text": [
      "\u001b[1;32m     95 \u001b[0m    \u001b[0;32mdef\u001b[0m \u001b[0mdict\u001b[0m\u001b[0;34m(\u001b[0m\u001b[0mself\u001b[0m\u001b[0;34m,\u001b[0m \u001b[0;34m**\u001b[0m\u001b[0mkwargs\u001b[0m\u001b[0;34m)\u001b[0m \u001b[0;34m->\u001b[0m \u001b[0mDict\u001b[0m\u001b[0;34m:\u001b[0m\u001b[0;34m\u001b[0m\u001b[0;34m\u001b[0m\u001b[0m\n",
      "\u001b[1;32m     96 \u001b[0m        \"\"\"Shimming in the ability to have excluded fields by default. This\n",
      "\u001b[1;32m     97 \u001b[0m        \u001b[0mshould\u001b[0m \u001b[0mbe\u001b[0m \u001b[0mremoveable\u001b[0m \u001b[0;32min\u001b[0m \u001b[0mfuture\u001b[0m \u001b[0mversions\u001b[0m \u001b[0mof\u001b[0m \u001b[0mpydantic\u001b[0m\u001b[0;34m\u001b[0m\u001b[0;34m\u001b[0m\u001b[0m\n",
      "\u001b[1;32m     98 \u001b[0m        \"\"\"\n",
      "\u001b[1;32m     99 \u001b[0m        \u001b[0mexcluded\u001b[0m \u001b[0;34m=\u001b[0m \u001b[0mgetattr\u001b[0m\u001b[0;34m(\u001b[0m\u001b[0mself\u001b[0m\u001b[0;34m.\u001b[0m\u001b[0mConfig\u001b[0m\u001b[0;34m,\u001b[0m \u001b[0;34m\"excluded\"\u001b[0m\u001b[0;34m,\u001b[0m \u001b[0;34m[\u001b[0m\u001b[0;34m]\u001b[0m\u001b[0;34m)\u001b[0m\u001b[0;34m\u001b[0m\u001b[0;34m\u001b[0m\u001b[0m\n",
      "\u001b[1;32m    100 \u001b[0m        \u001b[0;32mif\u001b[0m \u001b[0mexcluded\u001b[0m\u001b[0;34m:\u001b[0m\u001b[0;34m\u001b[0m\u001b[0;34m\u001b[0m\u001b[0m\n",
      "\u001b[1;32m    101 \u001b[0m            \u001b[0mkwargs\u001b[0m \u001b[0;34m=\u001b[0m \u001b[0madd_excluded_fields\u001b[0m\u001b[0;34m(\u001b[0m\u001b[0mkwargs\u001b[0m\u001b[0;34m,\u001b[0m \u001b[0mexcluded\u001b[0m\u001b[0;34m)\u001b[0m\u001b[0;34m\u001b[0m\u001b[0;34m\u001b[0m\u001b[0m\n",
      "\u001b[0;32m--> 102 \u001b[0;31m        \u001b[0mdata\u001b[0m \u001b[0;34m=\u001b[0m \u001b[0msuper\u001b[0m\u001b[0;34m(\u001b[0m\u001b[0;34m)\u001b[0m\u001b[0;34m.\u001b[0m\u001b[0mdict\u001b[0m\u001b[0;34m(\u001b[0m\u001b[0;34m**\u001b[0m\u001b[0mkwargs\u001b[0m\u001b[0;34m)\u001b[0m\u001b[0;34m\u001b[0m\u001b[0;34m\u001b[0m\u001b[0m\n",
      "\u001b[0m\u001b[1;32m    103 \u001b[0m        \u001b[0mdata\u001b[0m\u001b[0;34m[\u001b[0m\u001b[0;34m\"id\"\u001b[0m\u001b[0;34m]\u001b[0m \u001b[0;34m=\u001b[0m \u001b[0mself\u001b[0m\u001b[0;34m.\u001b[0m\u001b[0mget_id\u001b[0m\u001b[0;34m(\u001b[0m\u001b[0;34m)\u001b[0m\u001b[0;34m\u001b[0m\u001b[0;34m\u001b[0m\u001b[0m\n",
      "\u001b[1;32m    104 \u001b[0m\u001b[0;34m\u001b[0m\u001b[0m\n",
      "\u001b[1;32m    105 \u001b[0m        \u001b[0;31m# mechanism to convert some fields to a list representation if needed\u001b[0m\u001b[0;34m\u001b[0m\u001b[0;34m\u001b[0m\u001b[0;34m\u001b[0m\u001b[0m\n",
      "\u001b[1;32m    106 \u001b[0m        \u001b[0;32mfor\u001b[0m \u001b[0mkey\u001b[0m \u001b[0;32min\u001b[0m \u001b[0mgetattr\u001b[0m\u001b[0;34m(\u001b[0m\u001b[0mself\u001b[0m\u001b[0;34m.\u001b[0m\u001b[0mConfig\u001b[0m\u001b[0;34m,\u001b[0m \u001b[0;34m\"to_list\"\u001b[0m\u001b[0;34m,\u001b[0m \u001b[0;34m[\u001b[0m\u001b[0;34m]\u001b[0m\u001b[0;34m)\u001b[0m\u001b[0;34m:\u001b[0m\u001b[0;34m\u001b[0m\u001b[0;34m\u001b[0m\u001b[0m\n",
      "\u001b[1;32m    107 \u001b[0m            \u001b[0;32mif\u001b[0m \u001b[0mkey\u001b[0m \u001b[0;32min\u001b[0m \u001b[0mdata\u001b[0m\u001b[0;34m:\u001b[0m\u001b[0;34m\u001b[0m\u001b[0;34m\u001b[0m\u001b[0m\n",
      "\u001b[1;32m    108 \u001b[0m                \u001b[0mvalue\u001b[0m \u001b[0;34m=\u001b[0m \u001b[0mdata\u001b[0m\u001b[0;34m[\u001b[0m\u001b[0mkey\u001b[0m\u001b[0;34m]\u001b[0m\u001b[0;34m\u001b[0m\u001b[0;34m\u001b[0m\u001b[0m\n",
      "\u001b[1;32m    109 \u001b[0m                \u001b[0;32mif\u001b[0m \u001b[0misinstance\u001b[0m\u001b[0;34m(\u001b[0m\u001b[0mvalue\u001b[0m\u001b[0;34m,\u001b[0m \u001b[0;34m(\u001b[0m\u001b[0mset\u001b[0m\u001b[0;34m,\u001b[0m \u001b[0mlist\u001b[0m\u001b[0;34m,\u001b[0m \u001b[0mtuple\u001b[0m\u001b[0;34m)\u001b[0m\u001b[0;34m)\u001b[0m\u001b[0;34m:\u001b[0m\u001b[0;34m\u001b[0m\u001b[0;34m\u001b[0m\u001b[0m\n",
      "\u001b[1;32m    110 \u001b[0m                    \u001b[0mvalue\u001b[0m \u001b[0;34m=\u001b[0m \u001b[0mlist\u001b[0m\u001b[0;34m(\u001b[0m\u001b[0mvalue\u001b[0m\u001b[0;34m)\u001b[0m\u001b[0;34m\u001b[0m\u001b[0;34m\u001b[0m\u001b[0m\n",
      "\u001b[1;32m    111 \u001b[0m                \u001b[0;32melif\u001b[0m \u001b[0misinstance\u001b[0m\u001b[0;34m(\u001b[0m\u001b[0mvalue\u001b[0m\u001b[0;34m,\u001b[0m \u001b[0mdict\u001b[0m\u001b[0;34m)\u001b[0m\u001b[0;34m:\u001b[0m\u001b[0;34m\u001b[0m\u001b[0;34m\u001b[0m\u001b[0m\n",
      "\u001b[1;32m    112 \u001b[0m                    \u001b[0mvalue\u001b[0m \u001b[0;34m=\u001b[0m \u001b[0mlist\u001b[0m\u001b[0;34m(\u001b[0m\u001b[0mdata\u001b[0m\u001b[0;34m[\u001b[0m\u001b[0mkey\u001b[0m\u001b[0;34m]\u001b[0m\u001b[0;34m.\u001b[0m\u001b[0mvalues\u001b[0m\u001b[0;34m(\u001b[0m\u001b[0;34m)\u001b[0m\u001b[0;34m)\u001b[0m\u001b[0;34m\u001b[0m\u001b[0;34m\u001b[0m\u001b[0m\n",
      "\u001b[1;32m    113 \u001b[0m                \u001b[0;32melse\u001b[0m\u001b[0;34m:\u001b[0m\u001b[0;34m\u001b[0m\u001b[0;34m\u001b[0m\u001b[0m\n",
      "\u001b[1;32m    114 \u001b[0m                    \u001b[0;32mraise\u001b[0m \u001b[0mTypeError\u001b[0m\u001b[0;34m(\u001b[0m\u001b[0;34mf\"Need to handle converting {key}:{type(value)}\"\u001b[0m\u001b[0;34m)\u001b[0m\u001b[0;34m\u001b[0m\u001b[0;34m\u001b[0m\u001b[0m\n",
      "\u001b[1;32m    115 \u001b[0m                \u001b[0mdata\u001b[0m\u001b[0;34m[\u001b[0m\u001b[0mkey\u001b[0m\u001b[0;34m]\u001b[0m \u001b[0;34m=\u001b[0m \u001b[0mvalue\u001b[0m\u001b[0;34m\u001b[0m\u001b[0;34m\u001b[0m\u001b[0m\n",
      "\u001b[1;32m    116 \u001b[0m\u001b[0;34m\u001b[0m\u001b[0m\n",
      "\u001b[1;32m    117 \u001b[0m        \u001b[0;32mreturn\u001b[0m \u001b[0mdata\u001b[0m\u001b[0;34m\u001b[0m\u001b[0;34m\u001b[0m\u001b[0m\n",
      "\u001b[1;32m    118 \u001b[0m\u001b[0;34m\u001b[0m\u001b[0m\n",
      "\n"
     ]
    },
    {
     "name": "stdin",
     "output_type": "stream",
     "text": [
      "ipdb>  c\n"
     ]
    }
   ],
   "source": [
    "%debug"
   ]
  },
  {
   "cell_type": "code",
   "execution_count": 8,
   "metadata": {},
   "outputs": [
    {
     "name": "stdout",
     "output_type": "stream",
     "text": [
      "140189843036912\n"
     ]
    },
    {
     "data": {
      "text/plain": [
       "(11, 11)"
      ]
     },
     "execution_count": 8,
     "metadata": {},
     "output_type": "execute_result"
    }
   ],
   "source": [
    "r2 = elk.view.source.value \n",
    "print(id(r2))\n",
    "visible_els, hidden_els = check_visible(r2)\n",
    "len(visible_els), len(hidden_els)"
   ]
  },
  {
   "cell_type": "code",
   "execution_count": 5,
   "metadata": {
    "jupyter": {
     "source_hidden": true
    },
    "tags": []
   },
   "outputs": [],
   "source": [
    "from ipyelk.pipes import EMPTY_SENTINEL\n",
    "from ipyelk.elements import BaseElement, Node, Edge\n",
    "from typing import Iterator, Tuple\n",
    "\n",
    "import networkx as nx\n",
    "def iter_visible(*els: BaseElement, hidden=False) -> Iterator[Tuple[BaseElement, bool]]:\n",
    "    \"\"\"Iterate over BaseElements hierarchy and track hidden\n",
    "\n",
    "    :param el: current element\n",
    "    :param hidden: containing element is hidden\n",
    "    :yield: sub element and hidden state\n",
    "    \"\"\"\n",
    "    for el in els:\n",
    "        hidden = bool(hidden or el.properties.hidden)\n",
    "        yield el, hidden\n",
    "        if isinstance(el, Node):\n",
    "            yield from iter_visible(*el.children, hidden=hidden)\n",
    "            yield from iter_visible(*el.ports, hidden=hidden)\n",
    "            yield from iter_visible(*el.edges, hidden=hidden)\n",
    "        yield from iter_visible(*el.labels, hidden=hidden)\n",
    "\n",
    "\n",
    "def check_visible(root:BaseElement):\n",
    "    show = set()\n",
    "    hide = set()\n",
    "    for el, hidden in iter_visible(root):\n",
    "        if hidden:\n",
    "            hide.add(el)\n",
    "        else:\n",
    "            show.add(el)\n",
    "    return show, hide\n",
    "\n",
    "\n"
   ]
  },
  {
   "cell_type": "code",
   "execution_count": null,
   "metadata": {},
   "outputs": [],
   "source": []
  },
  {
   "cell_type": "code",
   "execution_count": 9,
   "metadata": {},
   "outputs": [],
   "source": []
  },
  {
   "cell_type": "code",
   "execution_count": 8,
   "metadata": {},
   "outputs": [],
   "source": [
    "# check hidden edges\n",
    "hidden_edges = [el for el in hidden_els if isinstance(el, Edge)]\n"
   ]
  },
  {
   "cell_type": "code",
   "execution_count": 9,
   "metadata": {},
   "outputs": [],
   "source": [
    "root.properties.hidden = None"
   ]
  },
  {
   "cell_type": "code",
   "execution_count": 22,
   "metadata": {},
   "outputs": [],
   "source": [
    "hidden"
   ]
  },
  {
   "cell_type": "code",
   "execution_count": 19,
   "metadata": {},
   "outputs": [
    {
     "data": {
      "text/plain": [
       "22"
      ]
     },
     "execution_count": 19,
     "metadata": {},
     "output_type": "execute_result"
    }
   ],
   "source": [
    "len(hierarchy)"
   ]
  },
  {
   "cell_type": "code",
   "execution_count": 6,
   "metadata": {},
   "outputs": [],
   "source": [
    "def a_collapsible_elk_example(elk=None):\n",
    "    elk = elk or a_hierarchical_elk_example()\n",
    "#     ports, tree = xelk.source\n",
    "\n",
    "    toggle = ipywidgets.Button(description=\"Toggle Collapsed\")\n",
    "\n",
    "    @toggle.on_click\n",
    "    def toggle_node(widget):\n",
    "        for element_id in elk.selected:\n",
    "            if element_id in tree:\n",
    "                for child in tree.neighbors(element_id):\n",
    "                    state = tree.nodes[child].get(\"hidden\", False)\n",
    "                    tree.nodes[child][\"hidden\"] = not state\n",
    "                xelk.refresh()\n",
    "\n",
    "    box = ipywidgets.VBox(\n",
    "        [\n",
    "            ipywidgets.HBox(\n",
    "                [ipywidgets.HTML(\"<h2>👇 click a group node then click 👉</h2>\"), toggle]\n",
    "            ),\n",
    "            elk,\n",
    "        ]\n",
    "    )\n",
    "    return box, elk"
   ]
  },
  {
   "cell_type": "code",
   "execution_count": 9,
   "metadata": {},
   "outputs": [
    {
     "ename": "TypeError",
     "evalue": "cannot unpack non-iterable Diagram object",
     "output_type": "error",
     "traceback": [
      "\u001b[0;31m---------------------------------------------------------------------------\u001b[0m",
      "\u001b[0;31mTypeError\u001b[0m                                 Traceback (most recent call last)",
      "\u001b[0;32m<ipython-input-9-3e11cfc79142>\u001b[0m in \u001b[0;36m<module>\u001b[0;34m\u001b[0m\n\u001b[1;32m      1\u001b[0m \u001b[0;32mif\u001b[0m \u001b[0m__name__\u001b[0m \u001b[0;34m==\u001b[0m \u001b[0;34m\"__main__\"\u001b[0m\u001b[0;34m:\u001b[0m\u001b[0;34m\u001b[0m\u001b[0;34m\u001b[0m\u001b[0m\n\u001b[0;32m----> 2\u001b[0;31m     \u001b[0mhier_box\u001b[0m\u001b[0;34m,\u001b[0m \u001b[0mhier_elk\u001b[0m\u001b[0;34m,\u001b[0m \u001b[0mhier_xelk\u001b[0m \u001b[0;34m=\u001b[0m \u001b[0ma_collapsible_elk_example\u001b[0m\u001b[0;34m(\u001b[0m\u001b[0;34m)\u001b[0m\u001b[0;34m\u001b[0m\u001b[0;34m\u001b[0m\u001b[0m\n\u001b[0m\u001b[1;32m      3\u001b[0m     \u001b[0mdisplay\u001b[0m\u001b[0;34m(\u001b[0m\u001b[0mhier_box\u001b[0m\u001b[0;34m)\u001b[0m\u001b[0;34m\u001b[0m\u001b[0;34m\u001b[0m\u001b[0m\n",
      "\u001b[0;32m<ipython-input-8-090e90819d0f>\u001b[0m in \u001b[0;36ma_collapsible_elk_example\u001b[0;34m(elk_xelk)\u001b[0m\n\u001b[1;32m      1\u001b[0m \u001b[0;32mdef\u001b[0m \u001b[0ma_collapsible_elk_example\u001b[0m\u001b[0;34m(\u001b[0m\u001b[0melk_xelk\u001b[0m\u001b[0;34m=\u001b[0m\u001b[0;32mNone\u001b[0m\u001b[0;34m)\u001b[0m\u001b[0;34m:\u001b[0m\u001b[0;34m\u001b[0m\u001b[0;34m\u001b[0m\u001b[0m\n\u001b[0;32m----> 2\u001b[0;31m     \u001b[0melk\u001b[0m\u001b[0;34m,\u001b[0m \u001b[0mxelk\u001b[0m \u001b[0;34m=\u001b[0m \u001b[0melk_xelk\u001b[0m \u001b[0;32mor\u001b[0m \u001b[0ma_hierarchical_elk_example\u001b[0m\u001b[0;34m(\u001b[0m\u001b[0;34m)\u001b[0m\u001b[0;34m\u001b[0m\u001b[0;34m\u001b[0m\u001b[0m\n\u001b[0m\u001b[1;32m      3\u001b[0m     \u001b[0mports\u001b[0m\u001b[0;34m,\u001b[0m \u001b[0mtree\u001b[0m \u001b[0;34m=\u001b[0m \u001b[0mxelk\u001b[0m\u001b[0;34m.\u001b[0m\u001b[0msource\u001b[0m\u001b[0;34m\u001b[0m\u001b[0;34m\u001b[0m\u001b[0m\n\u001b[1;32m      4\u001b[0m \u001b[0;34m\u001b[0m\u001b[0m\n\u001b[1;32m      5\u001b[0m     \u001b[0mtoggle\u001b[0m \u001b[0;34m=\u001b[0m \u001b[0mipywidgets\u001b[0m\u001b[0;34m.\u001b[0m\u001b[0mButton\u001b[0m\u001b[0;34m(\u001b[0m\u001b[0mdescription\u001b[0m\u001b[0;34m=\u001b[0m\u001b[0;34m\"Toggle Collapsed\"\u001b[0m\u001b[0;34m)\u001b[0m\u001b[0;34m\u001b[0m\u001b[0;34m\u001b[0m\u001b[0m\n",
      "\u001b[0;31mTypeError\u001b[0m: cannot unpack non-iterable Diagram object"
     ]
    }
   ],
   "source": [
    "if __name__ == \"__main__\":\n",
    "    hier_box, hier_elk, hier_xelk = a_collapsible_elk_example()\n",
    "    display(hier_box)"
   ]
  },
  {
   "cell_type": "markdown",
   "metadata": {},
   "source": [
    "## 🦌 Learn More 📖\n",
    "\n",
    "See the [other examples](./_index.ipynb)."
   ]
  }
 ],
 "metadata": {
  "kernelspec": {
   "display_name": "Python 3",
   "language": "python",
   "name": "python3"
  },
  "language_info": {
   "codemirror_mode": {
    "name": "ipython",
    "version": 3
   },
   "file_extension": ".py",
   "mimetype": "text/x-python",
   "name": "python",
   "nbconvert_exporter": "python",
   "pygments_lexer": "ipython3",
   "version": "3.7.10"
  }
 },
 "nbformat": 4,
 "nbformat_minor": 4
}
