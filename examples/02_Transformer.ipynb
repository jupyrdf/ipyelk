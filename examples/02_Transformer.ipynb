{
 "cells": [
  {
   "cell_type": "markdown",
   "metadata": {},
   "source": [
    "# 🦌 ELK Transformer 🤖\n",
    "\n",
    "A transformer object that will convert some input source into valid Elk Json. This\n",
    "example using a transformer around a networkx graph."
   ]
  },
  {
   "cell_type": "code",
   "execution_count": null,
   "metadata": {},
   "outputs": [],
   "source": [
    "import json\n",
    "import pathlib\n",
    "\n",
    "import ipywidgets\n",
    "import networkx\n",
    "import traitlets\n",
    "from IPython.display import display\n",
    "\n",
    "import ipyelk\n",
    "import ipyelk.nx\n",
    "\n",
    "# import ipyelk.tools"
   ]
  },
  {
   "cell_type": "code",
   "execution_count": null,
   "metadata": {},
   "outputs": [],
   "source": [
    "graph = networkx.readwrite.json_graph.node_link_graph(\n",
    "    json.loads(pathlib.Path(\"flat_graph.json\").read_text(encoding=\"utf-8\"))\n",
    ")\n",
    "\n",
    "graph"
   ]
  },
  {
   "cell_type": "code",
   "execution_count": null,
   "metadata": {},
   "outputs": [],
   "source": [
    "dg = ipyelk.nx.Diagram(\n",
    "    source=ipyelk.nx.NXSource(graph=graph),\n",
    ")\n",
    "dg"
   ]
  },
  {
   "cell_type": "code",
   "execution_count": null,
   "metadata": {},
   "outputs": [],
   "source": [
    "dg.refresh()"
   ]
  },
  {
   "cell_type": "code",
   "execution_count": null,
   "metadata": {},
   "outputs": [],
   "source": [
    "dg.pipe.value.value.dict()"
   ]
  },
  {
   "cell_type": "code",
   "execution_count": null,
   "metadata": {},
   "outputs": [],
   "source": [
    "dg.pipe.pipes[0].value.value.dict()"
   ]
  },
  {
   "cell_type": "code",
   "execution_count": null,
   "metadata": {
    "jupyter": {
     "source_hidden": true
    },
    "tags": []
   },
   "outputs": [],
   "source": [
    "from typing import Dict, Hashable, Iterator\n",
    "\n",
    "import networkx as nx\n",
    "\n",
    "from ipyelk.elements import Edge, HierarchicalElement, Label, Node, Port, Registry\n",
    "from ipyelk.elements.serialization import build_edge, build_shape_map, iter_elements\n",
    "from ipyelk.schema.validator import validate_elk_json\n",
    "\n",
    "\n",
    "def from_nx_node(n: Hashable, d: Dict) -> Node:\n",
    "    if isinstance(n, Node):\n",
    "        el = n\n",
    "    else:\n",
    "        el = Node(**d)\n",
    "        if el.id is None:\n",
    "            el.id = str(n)\n",
    "    return el\n",
    "\n",
    "\n",
    "def iter_nx_sources(g: nx.DiGraph) -> Iterator[Hashable]:\n",
    "    for node, in_degree in g.in_degree():\n",
    "        if in_degree == 0:\n",
    "            yield node\n",
    "\n",
    "\n",
    "def single_root(g) -> bool:\n",
    "    if len(g) == 0:\n",
    "        return False\n",
    "    return nx.is_tree(hierarchy)\n",
    "\n",
    "\n",
    "def process_hierarchy(graph, hierarchy) -> nx.DiGraph:\n",
    "    # copy graph to avoid mutation\n",
    "    hierarchy = hierarchy.copy(as_view=False)\n",
    "\n",
    "    if not single_root(hierarchy):\n",
    "        # add new root and connect old roots to new root\n",
    "        root = Node()\n",
    "        hierarchy.add_node(root)\n",
    "\n",
    "        # connect old roots to new root\n",
    "        for n in iter_nx_sources(hierarchy):\n",
    "            if n != root:\n",
    "                hierarchy.add_edge(root, n)\n",
    "\n",
    "    # check graph and add direction parentage to root if needed\n",
    "    for n in graph.nodes():\n",
    "        if n not in hierarchy:\n",
    "            hierarchy.add_edge(root, n)\n",
    "\n",
    "    return hierarchy\n",
    "\n",
    "\n",
    "def get_root(hierarchy):\n",
    "    for root in iter_nx_sources(hierarchy):\n",
    "        return root\n",
    "\n",
    "\n",
    "def as_in_hierarchy(node: HierarchicalElement, hierarchy, el_map):\n",
    "    # TODO need to handle if given a port or node\n",
    "    if isinstance(node, Port):\n",
    "        node = node.parent\n",
    "\n",
    "    if node in hierarchy:\n",
    "        return node\n",
    "\n",
    "    #     if isinstance(node, Node):\n",
    "    #         node = node.get_id()\n",
    "    #         if node in hierarchy:\n",
    "    #             return node\n",
    "    #     if not isinstance(node, HierarchicalElement):\n",
    "    #         # should be an identifer to something in the element map\n",
    "    #         node = el_map[node]\n",
    "\n",
    "    if isinstance(node, HierarchicalElement):\n",
    "        node = node.get_id()\n",
    "    else:\n",
    "        # should be an identifer to something in the element map\n",
    "        node = el_map[node]\n",
    "        if isinstance(node, Port):\n",
    "            node = node.parent\n",
    "    assert node in hierarchy, \"node not in hierarchy\"\n",
    "    return node\n",
    "\n",
    "\n",
    "def lca(\n",
    "    hierarchy: nx.DiGraph,\n",
    "    node1: HierarchicalElement,\n",
    "    node2: HierarchicalElement,\n",
    "    el_map: Dict[str, HierarchicalElement],\n",
    ") -> HierarchicalElement:\n",
    "    node1 = as_in_hierarchy(node1, hierarchy, el_map)\n",
    "    node2 = as_in_hierarchy(node2, hierarchy, el_map)\n",
    "\n",
    "    ancestor = nx.lowest_common_ancestor(hierarchy, node1, node2)\n",
    "    if not isinstance(ancestor, HierarchicalElement):\n",
    "        ancestor = el_map[ancestor]\n",
    "    return ancestor\n",
    "\n",
    "\n",
    "def get_owner(edge: Edge, hierarchy, el_map) -> HierarchicalElement:\n",
    "    u = edge.source\n",
    "    v = edge.target\n",
    "    return lca(hierarchy, u, v, el_map)"
   ]
  },
  {
   "cell_type": "code",
   "execution_count": null,
   "metadata": {},
   "outputs": [],
   "source": [
    "hierarchy = None\n",
    "if hierarchy is None:\n",
    "    hierarchy = nx.DiGraph()\n",
    "\n",
    "hierarchy = process_hierarchy(graph, hierarchy)\n",
    "root = get_root(hierarchy)"
   ]
  },
  {
   "cell_type": "code",
   "execution_count": null,
   "metadata": {},
   "outputs": [],
   "source": [
    "nodes = []\n",
    "for n, d in graph.nodes(data=True):\n",
    "    el = from_nx_node(n, d)\n",
    "    nodes.append(el)\n",
    "    if not el.labels:\n",
    "        el.labels.append(Label(text=el.id))\n",
    "\n",
    "# add hierarchy nodes\n",
    "for n, d in hierarchy.nodes(data=True):\n",
    "    if n not in graph:\n",
    "        el = from_nx_node(n, d)\n",
    "        nodes.append(el)\n",
    "\n",
    "\n",
    "context = Registry()\n",
    "with context:\n",
    "    el_map = build_shape_map(*nodes)\n",
    "\n",
    "    # nest elements based on hierarchical edges\n",
    "    for u, v in hierarchy.edges():\n",
    "        parent = u if isinstance(u, Node) else el_map[u]\n",
    "        child = v if isinstance(v, Node) else el_map[v]\n",
    "        parent.children.append(child)\n",
    "\n",
    "    edges = []\n",
    "    for u, v, d in graph.edges(data=True):\n",
    "        e_dict = {**d, \"source\": u, \"target\": v}\n",
    "        edge = build_edge(e_dict, el_map)\n",
    "        owner = get_owner(edge, hierarchy, el_map)\n",
    "        owner.edges.append(edge)"
   ]
  },
  {
   "cell_type": "code",
   "execution_count": null,
   "metadata": {},
   "outputs": [],
   "source": [
    "ipyelk.nx.Diagram(layout=dict(min_height=\"200px\"))"
   ]
  },
  {
   "cell_type": "code",
   "execution_count": null,
   "metadata": {},
   "outputs": [],
   "source": [
    "def a_flat_elk_json_example(graph: networkx.MultiDiGraph = None):\n",
    "    graph = graph or networkx.readwrite.json_graph.node_link_graph(\n",
    "        json.loads(pathlib.Path(\"flat_graph.json\").read_text(encoding=\"utf-8\"))\n",
    "    )\n",
    "\n",
    "    elk = ipyelk.ElkDiagram(layout=dict(min_height=\"200px\"))\n",
    "    xelk = ipyelk.nx.XELK(source=(graph, None))\n",
    "    xelk.connect(elk)\n",
    "    return elk, xelk"
   ]
  },
  {
   "cell_type": "markdown",
   "metadata": {},
   "source": [
    "## Flat structure\n",
    "\n",
    "A `networkx.MultiDigraph` can be used to create a flat graph.\n",
    "\n",
    "> _TODO: There should be an option to specify if ports should be created or only connect\n",
    "> edges between the nodes_"
   ]
  },
  {
   "cell_type": "code",
   "execution_count": null,
   "metadata": {},
   "outputs": [],
   "source": [
    "def a_flat_elk_json_example(graph: networkx.MultiDiGraph = None):\n",
    "    graph = graph or networkx.readwrite.json_graph.node_link_graph(\n",
    "        json.loads(pathlib.Path(\"flat_graph.json\").read_text(encoding=\"utf-8\"))\n",
    "    )\n",
    "\n",
    "    elk = ipyelk.ElkDiagram(layout=dict(min_height=\"200px\"))\n",
    "    xelk = ipyelk.nx.XELK(source=(graph, None))\n",
    "    xelk.connect(elk)\n",
    "    return elk, xelk"
   ]
  },
  {
   "cell_type": "code",
   "execution_count": null,
   "metadata": {},
   "outputs": [],
   "source": [
    "if __name__ == \"__main__\":\n",
    "    flat, xflat = a_flat_elk_json_example()\n",
    "    display(flat)"
   ]
  },
  {
   "cell_type": "markdown",
   "metadata": {},
   "source": [
    "## Hierarchical Diagram with Ports"
   ]
  },
  {
   "cell_type": "code",
   "execution_count": null,
   "metadata": {},
   "outputs": [],
   "source": [
    "def a_hierarchical_elk_example(\n",
    "    tree: networkx.MultiDiGraph = None, ports: networkx.MultiDiGraph = None\n",
    "):\n",
    "    tree = tree or networkx.readwrite.json_graph.node_link_graph(\n",
    "        json.loads(pathlib.Path(\"hier_tree.json\").read_text(encoding=\"utf-8\"))\n",
    "    )\n",
    "    ports = ports or networkx.readwrite.json_graph.node_link_graph(\n",
    "        json.loads(pathlib.Path(\"hier_ports.json\").read_text(encoding=\"utf-8\"))\n",
    "    )\n",
    "\n",
    "    elk = ipyelk.ElkDiagram()\n",
    "    xelk = ipyelk.nx.XELK(source=(ports, tree))\n",
    "    xelk.connect(elk)\n",
    "\n",
    "    return elk, xelk"
   ]
  },
  {
   "cell_type": "code",
   "execution_count": null,
   "metadata": {},
   "outputs": [],
   "source": [
    "def a_collapsible_elk_example(elk_xelk=None):\n",
    "    elk, xelk = elk_xelk or a_hierarchical_elk_example()\n",
    "    ports, tree = xelk.source\n",
    "\n",
    "    toggle = ipywidgets.Button(description=\"Toggle Collapsed\")\n",
    "\n",
    "    @toggle.on_click\n",
    "    def toggle_node(widget):\n",
    "        for element_id in elk.selected:\n",
    "            if element_id in tree:\n",
    "                for child in tree.neighbors(element_id):\n",
    "                    state = tree.nodes[child].get(\"hidden\", False)\n",
    "                    tree.nodes[child][\"hidden\"] = not state\n",
    "                xelk.refresh()\n",
    "\n",
    "    box = ipywidgets.VBox(\n",
    "        [\n",
    "            ipywidgets.HBox(\n",
    "                [ipywidgets.HTML(\"<h2>👇 click a group node then click 👉</h2>\"), toggle]\n",
    "            ),\n",
    "            elk,\n",
    "        ]\n",
    "    )\n",
    "    return box, elk, xelk"
   ]
  },
  {
   "cell_type": "code",
   "execution_count": null,
   "metadata": {},
   "outputs": [],
   "source": [
    "if __name__ == \"__main__\":\n",
    "    hier_box, hier_elk, hier_xelk = a_collapsible_elk_example()\n",
    "    display(hier_box)"
   ]
  },
  {
   "cell_type": "markdown",
   "metadata": {},
   "source": [
    "## 🦌 Learn More 📖\n",
    "\n",
    "See the [other examples](./_index.ipynb)."
   ]
  }
 ],
 "metadata": {
  "kernelspec": {
   "display_name": "Python 3",
   "language": "python",
   "name": "python3"
  },
  "language_info": {
   "codemirror_mode": {
    "name": "ipython",
    "version": 3
   },
   "file_extension": ".py",
   "mimetype": "text/x-python",
   "name": "python",
   "nbconvert_exporter": "python",
   "pygments_lexer": "ipython3",
   "version": "3.7.10"
  }
 },
 "nbformat": 4,
 "nbformat_minor": 4
}
