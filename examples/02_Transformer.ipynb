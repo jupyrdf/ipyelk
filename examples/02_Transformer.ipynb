{
 "cells": [
  {
   "cell_type": "markdown",
   "metadata": {},
   "source": [
    "# 🦌 ELK Transformer 🤖\n",
    "\n",
    "A transformer object that will convert some input source into valid Elk Json. This\n",
    "example using a transformer around a networkx graph."
   ]
  },
  {
   "cell_type": "code",
   "execution_count": null,
   "metadata": {},
   "outputs": [],
   "source": [
    "import json\n",
    "import pathlib\n",
    "\n",
    "import ipywidgets\n",
    "import networkx\n",
    "import traitlets\n",
    "from IPython.display import display\n",
    "\n",
    "import ipyelk\n",
    "import ipyelk.nx\n",
    "import ipyelk.tools"
   ]
  },
  {
   "cell_type": "markdown",
   "metadata": {},
   "source": [
    "## Flat structure\n",
    "\n",
    "A `networkx.MultiDigraph` can be used to create a flat graph.\n",
    "\n",
    "> _TODO: There should be an option to specify if ports should be created or only connect\n",
    "> edges between the nodes_"
   ]
  },
  {
   "cell_type": "code",
   "execution_count": null,
   "metadata": {},
   "outputs": [],
   "source": [
    "def a_flat_elk_json_example(graph: networkx.MultiDiGraph = None):\n",
    "    graph = graph or networkx.readwrite.json_graph.node_link_graph(\n",
    "        json.loads(pathlib.Path(\"flat_graph.json\").read_text(encoding=\"utf-8\"))\n",
    "    )\n",
    "\n",
    "    elk = ipyelk.ElkDiagram(layout=dict(min_height=\"200px\"))\n",
    "    xelk = ipyelk.nx.XELK(source=(graph, None))\n",
    "    xelk.connect(elk)\n",
    "    return elk, xelk"
   ]
  },
  {
   "cell_type": "code",
   "execution_count": null,
   "metadata": {},
   "outputs": [],
   "source": [
    "if __name__ == \"__main__\":\n",
    "    flat, xflat = a_flat_elk_json_example()\n",
    "    display(flat)"
   ]
  },
  {
   "cell_type": "markdown",
   "metadata": {},
   "source": [
    "## Hierarchical Diagram with Ports"
   ]
  },
  {
   "cell_type": "code",
   "execution_count": null,
   "metadata": {},
   "outputs": [],
   "source": [
    "def a_hierarchical_elk_example(\n",
    "    tree: networkx.MultiDiGraph = None, ports: networkx.MultiDiGraph = None\n",
    "):\n",
    "    tree = tree or networkx.readwrite.json_graph.node_link_graph(\n",
    "        json.loads(pathlib.Path(\"hier_tree.json\").read_text(encoding=\"utf-8\"))\n",
    "    )\n",
    "    ports = ports or networkx.readwrite.json_graph.node_link_graph(\n",
    "        json.loads(pathlib.Path(\"hier_ports.json\").read_text(encoding=\"utf-8\"))\n",
    "    )\n",
    "\n",
    "    elk = ipyelk.ElkDiagram()\n",
    "    xelk = ipyelk.nx.XELK(source=(ports, tree))\n",
    "    xelk.connect(elk)\n",
    "\n",
    "    return elk, xelk"
   ]
  },
  {
   "cell_type": "code",
   "execution_count": null,
   "metadata": {},
   "outputs": [],
   "source": [
    "def a_collapsible_elk_example(elk_xelk=None):\n",
    "    elk, xelk = elk_xelk or a_hierarchical_elk_example()\n",
    "    ports, tree = xelk.source\n",
    "\n",
    "    toggle = ipywidgets.Button(description=\"Toggle Collapsed\")\n",
    "\n",
    "    @toggle.on_click\n",
    "    def toggle_node(widget):\n",
    "        for element_id in elk.selected:\n",
    "            if element_id in tree:\n",
    "                for child in tree.neighbors(element_id):\n",
    "                    state = tree.nodes[child].get(\"hidden\", False)\n",
    "                    tree.nodes[child][\"hidden\"] = not state\n",
    "                xelk.refresh()\n",
    "\n",
    "    box = ipywidgets.VBox(\n",
    "        [\n",
    "            ipywidgets.HBox(\n",
    "                [ipywidgets.HTML(\"<h2>👇 click a group node then click 👉</h2>\"), toggle]\n",
    "            ),\n",
    "            elk,\n",
    "        ]\n",
    "    )\n",
    "    return box, elk, xelk"
   ]
  },
  {
   "cell_type": "code",
   "execution_count": null,
   "metadata": {},
   "outputs": [],
   "source": [
    "if __name__ == \"__main__\":\n",
    "    hier_box, hier_elk, hier_xelk = a_collapsible_elk_example()\n",
    "    display(hier_box)"
   ]
  },
  {
   "cell_type": "markdown",
   "metadata": {},
   "source": [
    "## 🦌 Learn More 📖\n",
    "\n",
    "See the [other examples](./_index.ipynb)."
   ]
  }
 ],
 "metadata": {
  "kernelspec": {
   "display_name": "Python 3",
   "language": "python",
   "name": "python3"
  },
  "language_info": {
   "codemirror_mode": {
    "name": "ipython",
    "version": 3
   },
   "file_extension": ".py",
   "mimetype": "text/x-python",
   "name": "python",
   "nbconvert_exporter": "python",
   "pygments_lexer": "ipython3",
   "version": "3.7.10"
  }
 },
 "nbformat": 4,
 "nbformat_minor": 4
}
