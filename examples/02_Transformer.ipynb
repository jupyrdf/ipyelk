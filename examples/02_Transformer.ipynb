{
 "cells": [
  {
   "cell_type": "markdown",
   "metadata": {},
   "source": [
    "# 🦌 ELK Transformer 🤖\n",
    "\n",
    "A transformer object that will convert some input source into valid Elk Json. This\n",
    "example using a transformer around a networkx graph."
   ]
  },
  {
   "cell_type": "code",
   "execution_count": null,
   "metadata": {},
   "outputs": [],
   "source": [
    "import json\n",
    "import pathlib\n",
    "\n",
    "import ipywidgets\n",
    "import networkx\n",
    "import traitlets\n",
    "from IPython.display import display\n",
    "\n",
    "import ipyelk\n",
    "import ipyelk.nx\n",
    "\n",
    "# import ipyelk.tools"
   ]
  },
  {
   "cell_type": "markdown",
   "metadata": {},
   "source": [
    "## Flat structure\n",
    "\n",
    "A `networkx.MultiDigraph` can be used to create a flat graph.\n",
    "\n",
    "> _TODO: There should be an option to specify if ports should be created or only connect\n",
    "> edges between the nodes_"
   ]
  },
  {
   "cell_type": "code",
   "execution_count": null,
   "metadata": {},
   "outputs": [],
   "source": [
    "def a_flat_elk_json_example(graph: networkx.MultiDiGraph = None):\n",
    "    graph = graph or networkx.readwrite.json_graph.node_link_graph(\n",
    "        json.loads(pathlib.Path(\"flat_graph.json\").read_text(encoding=\"utf-8\"))\n",
    "    )\n",
    "    elk = ipyelk.from_nx(graph=graph, layout=dict(min_height=\"200px\"))\n",
    "    #     elk = ipyelk.nx.Diagram(\n",
    "    #         source=ipyelk.nx.NXSource(\n",
    "    #             graph = graph,\n",
    "    #         ),\n",
    "    #         layout=dict(min_height=\"200px\")\n",
    "    #     )\n",
    "    return elk"
   ]
  },
  {
   "cell_type": "code",
   "execution_count": null,
   "metadata": {},
   "outputs": [],
   "source": [
    "from ipyelk.elements import convert_elkjson\n",
    "\n",
    "convert_elkjson"
   ]
  },
  {
   "cell_type": "code",
   "execution_count": null,
   "metadata": {
    "tags": []
   },
   "outputs": [],
   "source": [
    "if __name__ == \"__main__\":\n",
    "    flat = a_flat_elk_json_example()\n",
    "    display(flat)"
   ]
  },
  {
   "cell_type": "markdown",
   "metadata": {},
   "source": [
    "## Hierarchical Diagram with Ports"
   ]
  },
  {
   "cell_type": "code",
   "execution_count": null,
   "metadata": {},
   "outputs": [],
   "source": [
    "def a_hierarchical_elk_example(\n",
    "    tree: networkx.MultiDiGraph = None, ports: networkx.MultiDiGraph = None\n",
    "):\n",
    "    tree = tree or networkx.readwrite.json_graph.node_link_graph(\n",
    "        json.loads(pathlib.Path(\"hier_tree.json\").read_text(encoding=\"utf-8\"))\n",
    "    )\n",
    "    ports = ports or networkx.readwrite.json_graph.node_link_graph(\n",
    "        json.loads(pathlib.Path(\"hier_ports.json\").read_text(encoding=\"utf-8\"))\n",
    "    )\n",
    "    elk = ipyelk.from_nx(graph=ports, hierarchy=tree, layout=dict(min_height=\"200px\"))\n",
    "\n",
    "    #     elk = ipyelk.nx.Diagram(\n",
    "    #         source=ipyelk.nx.NXSource(\n",
    "    #             graph = ports,\n",
    "    #             hierarchy = tree\n",
    "    #         ),\n",
    "    #         layout=dict(min_height=\"200px\")\n",
    "    #     )\n",
    "    return elk\n",
    "\n",
    "\n",
    "elk = a_hierarchical_elk_example()\n",
    "\n",
    "elk"
   ]
  },
  {
   "cell_type": "code",
   "execution_count": null,
   "metadata": {},
   "outputs": [],
   "source": [
    "collapser = elk.tools[0]\n",
    "collapser\n",
    "# elk.refresh()"
   ]
  },
  {
   "cell_type": "code",
   "execution_count": null,
   "metadata": {},
   "outputs": [],
   "source": [
    "def a_collapsible_elk_example(elk=None):\n",
    "    elk = elk or a_hierarchical_elk_example()\n",
    "    #     ports, tree = xelk.source\n",
    "\n",
    "    collapser = elk.tools[0]\n",
    "    toggle = ipywidgets.Button(description=\"Toggle Collapsed\")\n",
    "    toggle.on_click(collapser.handler)\n",
    "\n",
    "    box = ipywidgets.VBox(\n",
    "        [\n",
    "            ipywidgets.HBox(\n",
    "                [ipywidgets.HTML(\"<h2>👇 click a group node then click 👉</h2>\"), toggle]\n",
    "            ),\n",
    "            elk,\n",
    "        ]\n",
    "    )\n",
    "    return box, elk"
   ]
  },
  {
   "cell_type": "code",
   "execution_count": null,
   "metadata": {},
   "outputs": [],
   "source": [
    "if __name__ == \"__main__\":\n",
    "    hier_box, hier_elk = a_collapsible_elk_example()\n",
    "    display(hier_box)"
   ]
  },
  {
   "cell_type": "code",
   "execution_count": null,
   "metadata": {},
   "outputs": [],
   "source": [
    "source = hier_elk.pipe.inlet\n",
    "# source.index.update(source.value)\n",
    "index = source.index.elements\n",
    "\n",
    "for key, port in index.ports():\n",
    "    print(port)"
   ]
  },
  {
   "cell_type": "code",
   "execution_count": null,
   "metadata": {},
   "outputs": [],
   "source": [
    "n = source.value.children[0]\n",
    "n.id, id(n)"
   ]
  },
  {
   "cell_type": "code",
   "execution_count": null,
   "metadata": {},
   "outputs": [],
   "source": [
    "for r in source.index.elements.roots():\n",
    "    print(r.id, id(r))"
   ]
  },
  {
   "cell_type": "code",
   "execution_count": null,
   "metadata": {},
   "outputs": [],
   "source": [
    "index.roots()[0].get_parent()"
   ]
  },
  {
   "cell_type": "code",
   "execution_count": null,
   "metadata": {},
   "outputs": [],
   "source": [
    "self = hier_elk.tools[1]\n",
    "self.tee.inlet.flow, self.reports, self.selection.ids"
   ]
  },
  {
   "cell_type": "code",
   "execution_count": null,
   "metadata": {},
   "outputs": [],
   "source": [
    "self.handler()"
   ]
  },
  {
   "cell_type": "code",
   "execution_count": null,
   "metadata": {},
   "outputs": [],
   "source": [
    "for p in hier_elk.pipe.pipes:\n",
    "    print(p.dirty, p.inlet.flow, p.outlet.flow)"
   ]
  },
  {
   "cell_type": "code",
   "execution_count": null,
   "metadata": {},
   "outputs": [],
   "source": [
    "hier_elk.refresh()"
   ]
  },
  {
   "cell_type": "code",
   "execution_count": null,
   "metadata": {},
   "outputs": [],
   "source": [
    "layout = hier_elk.view.source.value\n",
    "print(id(layout))\n",
    "id(hier_elk.source.value), id(hier_elk.pipe.inlet.value), id(\n",
    "    hier_elk.pipe.pipes[0].inlet.value\n",
    ")"
   ]
  },
  {
   "cell_type": "code",
   "execution_count": null,
   "metadata": {},
   "outputs": [],
   "source": [
    "id(hier_elk.pipe.inlet), id(hier_elk.pipe.pipes[0].inlet), id(self.tee.inlet)"
   ]
  },
  {
   "cell_type": "code",
   "execution_count": null,
   "metadata": {
    "tags": []
   },
   "outputs": [],
   "source": [
    "n0 = self.tee.inlet.get_index()[\"n0\"]\n",
    "self.tee.inlet.flow\n",
    "[c.properties.hidden for c in n0.children]\n",
    "self.get_related(n0)"
   ]
  },
  {
   "cell_type": "code",
   "execution_count": null,
   "metadata": {},
   "outputs": [],
   "source": [
    "self.handler()"
   ]
  },
  {
   "cell_type": "code",
   "execution_count": null,
   "metadata": {},
   "outputs": [],
   "source": [
    "self = hier_elk.pipe.pipes[0]"
   ]
  },
  {
   "cell_type": "code",
   "execution_count": null,
   "metadata": {},
   "outputs": [],
   "source": [
    "a = set(\"b\")\n",
    "a |= set(\"a\")\n",
    "a"
   ]
  },
  {
   "cell_type": "code",
   "execution_count": null,
   "metadata": {},
   "outputs": [],
   "source": [
    "import re\n",
    "\n",
    "flow = self.inlet.flow\n",
    "print(self.observes)\n",
    "any(any(re.match(f\"^{obs}$\", f) for f in flow) for obs in self.observes)"
   ]
  },
  {
   "cell_type": "markdown",
   "metadata": {},
   "source": [
    "## 🦌 Learn More 📖\n",
    "\n",
    "See the [other examples](./_index.ipynb)."
   ]
  }
 ],
 "metadata": {
  "kernelspec": {
   "display_name": "Python 3",
   "language": "python",
   "name": "python3"
  },
  "language_info": {
   "codemirror_mode": {
    "name": "ipython",
    "version": 3
   },
   "file_extension": ".py",
   "mimetype": "text/x-python",
   "name": "python",
   "nbconvert_exporter": "python",
   "pygments_lexer": "ipython3",
   "version": "3.7.10"
  }
 },
 "nbformat": 4,
 "nbformat_minor": 4
}
