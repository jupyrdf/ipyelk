{
 "cells": [
  {
   "cell_type": "markdown",
   "metadata": {},
   "source": [
    "# 🦌 ELK Transformer 🤖\n",
    "\n",
    "A transformer object that will convert some input source into valid Elk Json. This\n",
    "example using a transformer around a networkx graph."
   ]
  },
  {
   "cell_type": "code",
   "execution_count": null,
   "metadata": {},
   "outputs": [],
   "source": [
    "if __name__ == \"__main__\":\n",
    "    %pip install -q -r requirements.txt"
   ]
  },
  {
   "cell_type": "code",
   "execution_count": null,
   "metadata": {
    "tags": []
   },
   "outputs": [],
   "source": [
    "import json\n",
    "import pathlib\n",
    "\n",
    "import ipywidgets\n",
    "import networkx\n",
    "from IPython.display import display\n",
    "\n",
    "import ipyelk\n",
    "from ipyelk.tools import ToggleCollapsedTool"
   ]
  },
  {
   "cell_type": "markdown",
   "metadata": {
    "user_expressions": []
   },
   "source": [
    "## Flat structure\n",
    "\n",
    "A `networkx.MultiDigraph` can be used to create a flat graph.\n",
    "\n",
    "> _TODO: There should be an option to specify if ports should be created or only connect\n",
    "> edges between the nodes_"
   ]
  },
  {
   "cell_type": "code",
   "execution_count": null,
   "metadata": {
    "tags": []
   },
   "outputs": [],
   "source": [
    "def a_flat_elk_json_example(graph: networkx.MultiDiGraph = None):\n",
    "    graph = graph or networkx.readwrite.json_graph.node_link_graph(\n",
    "        json.loads(\n",
    "            pathlib.Path(\"flat_graph.json\").resolve().read_text(encoding=\"utf-8\")\n",
    "        ),\n",
    "        edges=\"links\",\n",
    "    )\n",
    "    elk = ipyelk.from_nx(graph=graph, layout=dict(min_height=\"200px\"))\n",
    "    return elk"
   ]
  },
  {
   "cell_type": "code",
   "execution_count": null,
   "metadata": {
    "tags": []
   },
   "outputs": [],
   "source": [
    "if __name__ == \"__main__\":\n",
    "    flat = a_flat_elk_json_example()\n",
    "    display(flat)"
   ]
  },
  {
   "cell_type": "markdown",
   "metadata": {
    "user_expressions": []
   },
   "source": [
    "## Hierarchical Diagram with Ports"
   ]
  },
  {
   "cell_type": "code",
   "execution_count": null,
   "metadata": {
    "tags": []
   },
   "outputs": [],
   "source": [
    "def a_hierarchical_elk_example(\n",
    "    tree: networkx.MultiDiGraph = None, ports: networkx.MultiDiGraph = None\n",
    "):\n",
    "    tree = tree or networkx.readwrite.json_graph.node_link_graph(\n",
    "        json.loads(\n",
    "            pathlib.Path(\"hier_tree.json\").resolve().read_text(encoding=\"utf-8\")\n",
    "        ),\n",
    "        edges=\"links\",\n",
    "    )\n",
    "    ports = ports or networkx.readwrite.json_graph.node_link_graph(\n",
    "        json.loads(\n",
    "            pathlib.Path(\"hier_ports.json\").resolve().read_text(encoding=\"utf-8\")\n",
    "        ),\n",
    "        edges=\"links\",\n",
    "    )\n",
    "    elk = ipyelk.from_nx(\n",
    "        graph=ports,\n",
    "        hierarchy=tree,\n",
    "        layout=dict(\n",
    "            min_height=\"200px\",\n",
    "            height=\"100%\",\n",
    "        ),\n",
    "    )\n",
    "    return elk"
   ]
  },
  {
   "cell_type": "code",
   "execution_count": null,
   "metadata": {
    "tags": []
   },
   "outputs": [],
   "source": [
    "def a_collapsible_elk_example(elk=None):\n",
    "    elk = elk or a_hierarchical_elk_example()\n",
    "\n",
    "    collapser = elk.get_tool(ToggleCollapsedTool)\n",
    "    toggle = ipywidgets.Button(description=\"Toggle\")\n",
    "    toggle.on_click(collapser.handler)\n",
    "\n",
    "    box = ipywidgets.VBox(\n",
    "        [\n",
    "            ipywidgets.HBox([\n",
    "                ipywidgets.HTML(\"<h2>👇 click a group node then click 👉</h2>\"),\n",
    "                toggle,\n",
    "            ]),\n",
    "            elk,\n",
    "        ],\n",
    "        layout={\n",
    "            \"height\": \"100%\",\n",
    "        },\n",
    "    )\n",
    "    return box, elk"
   ]
  },
  {
   "cell_type": "code",
   "execution_count": null,
   "metadata": {
    "tags": []
   },
   "outputs": [],
   "source": [
    "if __name__ == \"__main__\":\n",
    "    hier_box, hier_elk = a_collapsible_elk_example()\n",
    "    display(hier_box)"
   ]
  },
  {
   "cell_type": "markdown",
   "metadata": {},
   "source": [
    "## 🦌 Learn More 📖\n",
    "\n",
    "See the [other examples](./_index.ipynb)."
   ]
  }
 ],
 "metadata": {
  "kernelspec": {
   "display_name": "Python 3 (ipykernel)",
   "language": "python",
   "name": "python3"
  },
  "language_info": {
   "codemirror_mode": {
    "name": "ipython",
    "version": 3
   },
   "file_extension": ".py",
   "mimetype": "text/x-python",
   "name": "python",
   "nbconvert_exporter": "python",
   "pygments_lexer": "ipython3",
   "version": "3.13.0"
  }
 },
 "nbformat": 4,
 "nbformat_minor": 4
}
