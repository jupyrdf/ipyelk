{
 "cells": [
  {
   "cell_type": "markdown",
   "metadata": {},
   "source": [
    "## 🦌 Linking ELK Diagrams 🔗\n",
    "\n",
    "Example of using one diagram's selected state to control another diagram's view"
   ]
  },
  {
   "cell_type": "code",
   "execution_count": 1,
   "metadata": {},
   "outputs": [],
   "source": [
    "import importnb\n",
    "import ipywidgets as W\n",
    "from IPython.display import display"
   ]
  },
  {
   "cell_type": "code",
   "execution_count": 2,
   "metadata": {},
   "outputs": [],
   "source": [
    "with importnb.Notebook():\n",
    "    from __00_Introduction import a_simple_elk_json_example"
   ]
  },
  {
   "cell_type": "code",
   "execution_count": 9,
   "metadata": {},
   "outputs": [],
   "source": [
    "def a_linked_elk_example(**kwargs):\n",
    "    elks = [a_simple_elk_json_example(**kwargs) for i in \"01\"]\n",
    "\n",
    "    def centering(*args):\n",
    "        if elks[0].view.selected != \"root\":\n",
    "            elks[1].view.fit(elks[0].view.selected)\n",
    "            elks[1].view.selected = elks[0].view.selected\n",
    "\n",
    "    elks[0].view.observe(centering, \"selected\")\n",
    "\n",
    "    return W.HBox(elks), elks"
   ]
  },
  {
   "cell_type": "code",
   "execution_count": 10,
   "metadata": {},
   "outputs": [
    {
     "data": {
      "application/vnd.jupyter.widget-view+json": {
       "model_id": "4516faa6d29044789301f5623da6c2b3",
       "version_major": 2,
       "version_minor": 0
      },
      "text/plain": [
       "HBox(children=(Diagram(children=[HTML(value='<style></style>', layout=Layout(display='None')), SprottyViewer(s…"
      ]
     },
     "metadata": {},
     "output_type": "display_data"
    }
   ],
   "source": [
    "if __name__ == \"__main__\":\n",
    "    box, elks = a_linked_elk_example()\n",
    "    display(box)"
   ]
  },
  {
   "cell_type": "markdown",
   "metadata": {},
   "source": [
    "## 🦌 Learn More 📖\n",
    "\n",
    "See the [other examples](./_index.ipynb)."
   ]
  }
 ],
 "metadata": {
  "kernelspec": {
   "display_name": "Python 3",
   "language": "python",
   "name": "python3"
  },
  "language_info": {
   "codemirror_mode": {
    "name": "ipython",
    "version": 3
   },
   "file_extension": ".py",
   "mimetype": "text/x-python",
   "name": "python",
   "nbconvert_exporter": "python",
   "pygments_lexer": "ipython3",
   "version": "3.7.10"
  }
 },
 "nbformat": 4,
 "nbformat_minor": 4
}
