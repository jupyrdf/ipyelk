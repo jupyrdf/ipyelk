{
 "cells": [
  {
   "cell_type": "markdown",
   "metadata": {},
   "source": [
    "## 🦌 Linking ELK Diagrams 🔗\n",
    "\n",
    "Example of using one diagram's selected state to control another diagram's view"
   ]
  },
  {
   "cell_type": "code",
   "execution_count": null,
   "metadata": {},
   "outputs": [],
   "source": [
    "import importnb\n",
    "import ipywidgets as W\n",
    "from IPython.display import display"
   ]
  },
  {
   "cell_type": "code",
   "execution_count": null,
   "metadata": {},
   "outputs": [],
   "source": [
    "with importnb.Notebook():\n",
    "    from __00_Introduction import a_simple_elk_json_example"
   ]
  },
  {
   "cell_type": "code",
   "execution_count": null,
   "metadata": {},
   "outputs": [],
   "source": [
    "def a_linked_elk_example(**kwargs):\n",
    "    elks = [a_simple_elk_json_example(**kwargs) for i in \"01\"]\n",
    "\n",
    "    def centering(*args):\n",
    "        if elks[0].view.selection.ids != [\"root\"]:\n",
    "            elks[1].view.fit(elks[0].view.selection.ids)\n",
    "            elks[1].view.selection.ids = elks[0].view.selection.ids\n",
    "\n",
    "    elks[0].view.selection.observe(centering, \"ids\")\n",
    "\n",
    "    return W.HBox(elks), elks"
   ]
  },
  {
   "cell_type": "code",
   "execution_count": null,
   "metadata": {},
   "outputs": [],
   "source": [
    "if __name__ == \"__main__\":\n",
    "    box, elks = a_linked_elk_example()\n",
    "    display(box)"
   ]
  },
  {
   "cell_type": "markdown",
   "metadata": {},
   "source": [
    "## 🦌 Learn More 📖\n",
    "\n",
    "See the [other examples](./_index.ipynb)."
   ]
  }
 ],
 "metadata": {
  "kernelspec": {
   "display_name": "Python 3",
   "language": "python",
   "name": "python3"
  },
  "language_info": {
   "codemirror_mode": {
    "name": "ipython",
    "version": 3
   },
   "file_extension": ".py",
   "mimetype": "text/x-python",
   "name": "python",
   "nbconvert_exporter": "python",
   "pygments_lexer": "ipython3",
   "version": "3.7.10"
  }
 },
 "nbformat": 4,
 "nbformat_minor": 4
}
