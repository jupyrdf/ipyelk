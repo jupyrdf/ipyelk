{
 "cells": [
  {
   "cell_type": "markdown",
   "id": "291e42bc-6fac-493d-91d7-79e60c7eee0a",
   "metadata": {},
   "source": [
    "## 🦌 Linking ELK Diagrams 🔗\n",
    "\n",
    "Example of using one diagram's selected state to control another diagram's view"
   ]
  },
  {
   "cell_type": "code",
   "execution_count": null,
   "id": "9dd1fdcf-7391-4989-8c73-fd01963d91e7",
   "metadata": {},
   "outputs": [],
   "source": [
    "if __name__ == \"__main__\":\n",
    "    %pip install -q -r requirements.txt"
   ]
  },
  {
   "cell_type": "code",
   "execution_count": null,
   "id": "d85fa348-02f3-4f5e-b139-8edb1dec4a47",
   "metadata": {},
   "outputs": [],
   "source": [
    "import importnb\n",
    "import ipywidgets as W\n",
    "from IPython.display import display"
   ]
  },
  {
   "cell_type": "code",
   "execution_count": null,
   "id": "91311e20-59c3-437f-b54a-2d4c47d67111",
   "metadata": {},
   "outputs": [],
   "source": [
    "with importnb.Notebook():\n",
    "    from __00_Introduction import a_simple_elk_json_example"
   ]
  },
  {
   "cell_type": "code",
   "execution_count": null,
   "id": "0239fd2a-4b87-4a79-b6b2-23cd9025b01b",
   "metadata": {},
   "outputs": [],
   "source": [
    "def a_linked_elk_example(**kwargs):\n",
    "    elks = [a_simple_elk_json_example(**kwargs) for i in \"01\"]\n",
    "\n",
    "    def centering(*args):\n",
    "        if elks[0].view.selection.ids != [\"root\"]:\n",
    "            elks[1].view.fit(elks[0].view.selection.ids)\n",
    "            elks[1].view.selection.ids = elks[0].view.selection.ids\n",
    "\n",
    "    elks[0].view.selection.observe(centering, \"ids\")\n",
    "\n",
    "    return W.HBox(elks), elks"
   ]
  },
  {
   "cell_type": "code",
   "execution_count": null,
   "id": "e1bf8d1c-2d15-4699-8190-d37ed808cf04",
   "metadata": {},
   "outputs": [],
   "source": [
    "if __name__ == \"__main__\":\n",
    "    box, elks = a_linked_elk_example()\n",
    "    display(box)"
   ]
  },
  {
   "cell_type": "markdown",
   "id": "c372c49f-b30b-49b3-80e7-d2b93e634b34",
   "metadata": {},
   "source": [
    "## 🦌 Learn More 📖\n",
    "\n",
    "See the [other examples](./_index.ipynb)."
   ]
  }
 ],
 "metadata": {
  "kernelspec": {
   "display_name": "Python 3 (ipykernel)",
   "language": "python",
   "name": "python3"
  },
  "language_info": {
   "codemirror_mode": {
    "name": "ipython",
    "version": 3
   },
   "file_extension": ".py",
   "mimetype": "text/x-python",
   "name": "python",
   "nbconvert_exporter": "python",
   "pygments_lexer": "ipython3",
   "version": "3.11.10"
  }
 },
 "nbformat": 4,
 "nbformat_minor": 5
}
