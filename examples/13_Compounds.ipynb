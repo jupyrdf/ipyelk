{
 "cells": [
  {
   "cell_type": "markdown",
   "metadata": {},
   "source": [
    "# 🦌 Compounds 🧪\n",
    "\n",
    "Experiments on building graph fragments that can be composed. This is tricky because to\n",
    "make reusable fragments a new `id` will have to be stamped out for each element. This\n",
    "notebook introduces the following elements in `ipyelk.elements`:\n",
    "\n",
    "- `Node` - wrapper for `ElkNode`\n",
    "- `Port` - wrapper for `ElkPort`\n",
    "- `Label` - wrapper for `ElkLabel`\n",
    "- `Edge` - wrapper for `ElkEdge`\n",
    "- `Partition` - extends node and has some convience functions for building edges\n",
    "\n",
    "To stamp out `id`s while remembering the originating objects, a `MarkFactory` class can\n",
    "be instantiated that owns the `Registry` to maintain the mapping."
   ]
  },
  {
   "cell_type": "code",
   "execution_count": 1,
   "metadata": {},
   "outputs": [],
   "source": [
    "from IPython.display import JSON\n",
    "import importnb\n",
    "import ipywidgets as W\n",
    "from IPython.display import display\n",
    "\n",
    "import ipyelk\n",
    "from ipyelk.loaders import ElementLoader\n",
    "from ipyelk.elements import Registry, index, Edge, Label, MarkFactory, Node, Port, layout_options as opt"
   ]
  },
  {
   "cell_type": "markdown",
   "metadata": {},
   "source": [
    "`ipyelk.contrib.library.activity` extends the base `Elements` into a set of marks that\n",
    "are appropriate for creating Activity Diagrams. These new marks do not have behaviors or\n",
    "rules that enforce for how they can be connected."
   ]
  },
  {
   "cell_type": "code",
   "execution_count": 2,
   "metadata": {},
   "outputs": [],
   "source": [
    "from ipyelk.contrib.library.activity import (\n",
    "    Activity,\n",
    "    ActivityDiagram,\n",
    "    Decision,\n",
    "    EndActivity,\n",
    "    Join,\n",
    "    Merge,\n",
    "    StartActivity,\n",
    ")\n",
    "\n",
    "\n",
    "def activity_app():\n",
    "    \"\"\"Utility function for creating a new Elk app suitable for an Activity Diagram\"\"\"\n",
    "\n",
    "    # configure loader\n",
    "    loader = ElementLoader(\n",
    "        default_root_opts = {\n",
    "            opt.Direction.identifier: opt.Direction(value=\"DOWN\").value,\n",
    "            opt.HierarchyHandling.identifier: opt.HierarchyHandling().value,\n",
    "        }\n",
    "    )\n",
    "    app = ipyelk.Diagram(\n",
    "        layout={\"height\": \"100%\"},\n",
    "    )\n",
    "#     toggle = ipyelk.tools.tools.ToggleCollapsedBtn(app=app)\n",
    "#     fit = ipyelk.tools.tools.FitBtn(app=app)\n",
    "#     app.toolbar.commands = [fit, toggle]\n",
    "    return app, loader"
   ]
  },
  {
   "cell_type": "markdown",
   "metadata": {},
   "source": [
    "## Example Email Activities\n",
    "\n",
    "Simple representation of processing an email inbox."
   ]
  },
  {
   "cell_type": "code",
   "execution_count": 3,
   "metadata": {
    "tags": []
   },
   "outputs": [],
   "source": [
    "def email_activity_example():\n",
    "\n",
    "    # Building Elements\n",
    "    act = ActivityDiagram()\n",
    "\n",
    "    start = StartActivity()\n",
    "    end = EndActivity()\n",
    "\n",
    "    open_email = Activity.make(\"open email\")\n",
    "    delete_email = Activity.make(\"delete email\")\n",
    "    read_email = Activity.make(\"read email\")\n",
    "    reply_email = Activity.make(\"reply\")\n",
    "\n",
    "    j1 = Join()\n",
    "\n",
    "    m1 = Merge()\n",
    "\n",
    "    triage = Decision()\n",
    "    triage.true.labels = [Label(text=\"is important\")]\n",
    "    triage.false.labels = [Label(text=\"is junk\")]\n",
    "\n",
    "    response = Decision()\n",
    "    response.true.labels = [Label(text=\"yes\")]\n",
    "    response.false.labels = [Label(text=\"no\")]\n",
    "\n",
    "    # Connect Elements\n",
    "    act[start:open_email]\n",
    "    act[open_email : triage.input : \"opening\"]\n",
    "    act[triage.false : delete_email]\n",
    "    act[delete_email:m1]\n",
    "    act[triage.true : read_email]\n",
    "    act[read_email : response.input]\n",
    "    act[response.false : m1]\n",
    "    act[response.true : reply_email]\n",
    "    act[reply_email:m1]\n",
    "    act[m1:end]\n",
    "\n",
    "    app, loader = activity_app()\n",
    "\n",
    "    app.source = loader.load(root=act)\n",
    "    app.view.symbols = act.symbols\n",
    "    app.style = act.style\n",
    "    return app, act"
   ]
  },
  {
   "cell_type": "code",
   "execution_count": 4,
   "metadata": {},
   "outputs": [
    {
     "data": {
      "application/vnd.jupyter.widget-view+json": {
       "model_id": "f94d35de00834db3b24bc090a6205e31",
       "version_major": 2,
       "version_minor": 0
      },
      "text/plain": [
       "Diagram(children=[HTML(value='<style>.styled-widget-140128760747792 .final-state .inner-circle{fill: var(--jp-…"
      ]
     },
     "metadata": {},
     "output_type": "display_data"
    }
   ],
   "source": [
    "if __name__ == \"__main__\":\n",
    "    email_act_app, email_activities = email_activity_example()\n",
    "    display(email_act_app)"
   ]
  },
  {
   "cell_type": "code",
   "execution_count": 5,
   "metadata": {
    "tags": []
   },
   "outputs": [
    {
     "ename": "NameError",
     "evalue": "name 'p0' is not defined",
     "output_type": "error",
     "traceback": [
      "\u001b[0;31m---------------------------------------------------------------------------\u001b[0m",
      "\u001b[0;31mNameError\u001b[0m                                 Traceback (most recent call last)",
      "\u001b[0;32m<ipython-input-5-26c880c4ae79>\u001b[0m in \u001b[0;36m<module>\u001b[0;34m\u001b[0m\n\u001b[0;32m----> 1\u001b[0;31m \u001b[0mp0\u001b[0m\u001b[0;34m.\u001b[0m\u001b[0minlet\u001b[0m\u001b[0;34m.\u001b[0m\u001b[0mindex\u001b[0m\u001b[0;34m.\u001b[0m\u001b[0melements\u001b[0m\u001b[0;34m\u001b[0m\u001b[0;34m\u001b[0m\u001b[0m\n\u001b[0m",
      "\u001b[0;31mNameError\u001b[0m: name 'p0' is not defined"
     ]
    }
   ],
   "source": [
    "p0.inlet.index.elements"
   ]
  },
  {
   "cell_type": "code",
   "execution_count": 6,
   "metadata": {},
   "outputs": [],
   "source": [
    "pipes = email_act_app.pipe.pipes\n",
    "p0 = pipes[0]\n",
    "p1 = pipes[1]"
   ]
  },
  {
   "cell_type": "code",
   "execution_count": 7,
   "metadata": {},
   "outputs": [
    {
     "data": {
      "text/plain": [
       "IDReport(duplicated={}, null_ids=[])"
      ]
     },
     "execution_count": 7,
     "metadata": {},
     "output_type": "execute_result"
    }
   ],
   "source": [
    "p0.id_report"
   ]
  },
  {
   "cell_type": "code",
   "execution_count": 8,
   "metadata": {},
   "outputs": [
    {
     "ename": "NameError",
     "evalue": "name 'convert_elkjson' is not defined",
     "output_type": "error",
     "traceback": [
      "\u001b[0;31m---------------------------------------------------------------------------\u001b[0m",
      "\u001b[0;31mNameError\u001b[0m                                 Traceback (most recent call last)",
      "\u001b[0;32m<ipython-input-8-89d43e982159>\u001b[0m in \u001b[0;36m<module>\u001b[0;34m\u001b[0m\n\u001b[0;32m----> 1\u001b[0;31m \u001b[0mconvert_elkjson\u001b[0m\u001b[0;34m(\u001b[0m\u001b[0mp0\u001b[0m\u001b[0;34m.\u001b[0m\u001b[0moutlet\u001b[0m\u001b[0;34m.\u001b[0m\u001b[0mvalue\u001b[0m\u001b[0;34m.\u001b[0m\u001b[0mdict\u001b[0m\u001b[0;34m(\u001b[0m\u001b[0;34m)\u001b[0m\u001b[0;34m)\u001b[0m\u001b[0;34m\u001b[0m\u001b[0;34m\u001b[0m\u001b[0m\n\u001b[0m",
      "\u001b[0;31mNameError\u001b[0m: name 'convert_elkjson' is not defined"
     ]
    }
   ],
   "source": [
    "convert_elkjson(p0.outlet.value.dict())"
   ]
  },
  {
   "cell_type": "code",
   "execution_count": 9,
   "metadata": {
    "collapsed": true,
    "jupyter": {
     "outputs_hidden": true
    },
    "tags": []
   },
   "outputs": [
    {
     "data": {
      "text/plain": [
       "Node(id='4c78ac08-871d-4b24-a3a1-619d7f591e0b', labels=[], layoutOptions={'org.eclipse.elk.direction': 'DOWN', 'org.eclipse.elk.hierarchyHandling': 'INCLUDE_CHILDREN'}, metadata=ElementMetadata(), properties=NodeProperties(cssClasses='', shape=None, key=None, hidden=None), x=None, y=None, width=0.0, height=0.0, ports=[], children=[Node(id='41fb2689-22a6-442a-ab95-c9420b976b99', labels=[], layoutOptions={}, metadata=ElementMetadata(), properties=NodeProperties(cssClasses='', shape=NodeShape(type='node:use', x=None, y=None, width=12.0, height=12.0, use='initial-state'), key=None, hidden=None), x=None, y=None, width=12.0, height=12.0, ports=[], children=[], edges=[]), Node(id='e53de959-749d-4600-bf37-741a2adf4266', labels=[], layoutOptions={'org.eclipse.elk.portConstraints': 'FIXED_SIDE'}, metadata=ElementMetadata(), properties=NodeProperties(cssClasses='', shape=NodeShape(type='node:diamond', x=None, y=None, width=20.0, height=20.0, use=None), key=None, hidden=None), x=None, y=None, width=20.0, height=20.0, ports=[Port(id='e53de959-749d-4600-bf37-741a2adf4266.a9eefe8e-31f8-4a58-b986-7db06f1231bb', labels=[], layoutOptions={'org.eclipse.elk.port.side': 'NORTH'}, metadata=ElementMetadata(), properties=PortProperties(cssClasses='', shape=PortShape(type='port', x=None, y=None, width=0.0, height=0.0, use=None), key='input', hidden=None), x=10.0, y=0.0, width=0.0, height=0.0), Port(id='e53de959-749d-4600-bf37-741a2adf4266.eef9c3ab-bac2-4465-af39-4405bfee328c', labels=[Label(id='ef37dcb9-291b-46fa-8f43-20ceec01f5b3', labels=[], layoutOptions={}, metadata=ElementMetadata(), properties=LabelProperties(cssClasses='', shape=None, key=None, hidden=None, selectable=False), x=-61.671878814697266, y=1.0, width=60.671878814697266, height=13.65625, text='is important')], layoutOptions={'org.eclipse.elk.port.side': 'WEST'}, metadata=ElementMetadata(), properties=PortProperties(cssClasses='', shape=PortShape(type='port', x=None, y=None, width=0.0, height=0.0, use=None), key='true', hidden=None), x=0.0, y=10.0, width=0.0, height=0.0), Port(id='e53de959-749d-4600-bf37-741a2adf4266.6f7f5c21-b363-4861-ac6c-63dbc2a6edec', labels=[Label(id='3b4025e3-9d54-44c7-9682-1be757dafa28', labels=[], layoutOptions={}, metadata=ElementMetadata(), properties=LabelProperties(cssClasses='', shape=None, key=None, hidden=None, selectable=False), x=1.0, y=1.0, width=33.59375, height=13.65625, text='is junk')], layoutOptions={'org.eclipse.elk.port.side': 'EAST'}, metadata=ElementMetadata(), properties=PortProperties(cssClasses='', shape=PortShape(type='port', x=None, y=None, width=0.0, height=0.0, use=None), key='false', hidden=None), x=20.0, y=10.0, width=0.0, height=0.0)], children=[], edges=[]), Node(id='d29674a1-6728-4b25-a3da-931330d2052f', labels=[Label(id='096fe374-5308-4ac1-b5f3-85b339f46b22', labels=[], layoutOptions={'org.eclipse.elk.nodeLabels.placement': 'H_CENTER V_CENTER INSIDE'}, metadata=ElementMetadata(), properties=LabelProperties(cssClasses='', shape=None, key=None, hidden=None, selectable=False), x=5.0, y=5.0, width=62.890621185302734, height=13.65625, text='delete email')], layoutOptions={'org.eclipse.elk.nodeSize.constraints': 'NODE_LABELS PORTS PORT_LABELS MINIMUM_SIZE'}, metadata=ElementMetadata(), properties=NodeProperties(cssClasses='', shape=NodeShape(type='node:round', x=None, y=None, width=None, height=None, use=None), key=None, hidden=None), x=None, y=None, width=None, height=None, ports=[], children=[], edges=[]), Node(id='8275b60a-c1b5-440b-bce1-fc9f5cc32aa5', labels=[Label(id='a95e4d7a-d8b1-4dda-8c3d-e8c7aadf445c', labels=[], layoutOptions={'org.eclipse.elk.nodeLabels.placement': 'H_CENTER V_CENTER INSIDE'}, metadata=ElementMetadata(), properties=LabelProperties(cssClasses='', shape=None, key=None, hidden=None, selectable=False), x=5.0, y=5.0, width=57.0625, height=13.65625, text='open email')], layoutOptions={'org.eclipse.elk.nodeSize.constraints': 'NODE_LABELS PORTS PORT_LABELS MINIMUM_SIZE'}, metadata=ElementMetadata(), properties=NodeProperties(cssClasses='', shape=NodeShape(type='node:round', x=None, y=None, width=None, height=None, use=None), key=None, hidden=None), x=None, y=None, width=None, height=None, ports=[], children=[], edges=[]), Node(id='cd5e1bcf-7f6d-47fb-bb8c-ac8f623a7578', labels=[], layoutOptions={}, metadata=ElementMetadata(), properties=NodeProperties(cssClasses='activity-filled', shape=NodeShape(type='node', x=None, y=None, width=50.0, height=10.0, use=None), key=None, hidden=None), x=None, y=None, width=50.0, height=10.0, ports=[], children=[], edges=[]), Node(id='3419f743-2c3e-41d3-bff1-61d4769e4c1b', labels=[Label(id='cbc34da3-9b19-4b2f-9b03-c2048d209f8a', labels=[], layoutOptions={'org.eclipse.elk.nodeLabels.placement': 'H_CENTER V_CENTER INSIDE'}, metadata=ElementMetadata(), properties=LabelProperties(cssClasses='', shape=None, key=None, hidden=None, selectable=False), x=5.0, y=5.0, width=54.453121185302734, height=13.65625, text='read email')], layoutOptions={'org.eclipse.elk.nodeSize.constraints': 'NODE_LABELS PORTS PORT_LABELS MINIMUM_SIZE'}, metadata=ElementMetadata(), properties=NodeProperties(cssClasses='', shape=NodeShape(type='node:round', x=None, y=None, width=None, height=None, use=None), key=None, hidden=None), x=None, y=None, width=None, height=None, ports=[], children=[], edges=[]), Node(id='76521603-04f1-4164-afb6-537c0089dc01', labels=[], layoutOptions={'org.eclipse.elk.portConstraints': 'FIXED_SIDE'}, metadata=ElementMetadata(), properties=NodeProperties(cssClasses='', shape=NodeShape(type='node:diamond', x=None, y=None, width=20.0, height=20.0, use=None), key=None, hidden=None), x=None, y=None, width=20.0, height=20.0, ports=[Port(id='76521603-04f1-4164-afb6-537c0089dc01.fab628d4-9c83-4bd7-bd97-09820db83941', labels=[], layoutOptions={'org.eclipse.elk.port.side': 'NORTH'}, metadata=ElementMetadata(), properties=PortProperties(cssClasses='', shape=PortShape(type='port', x=None, y=None, width=0.0, height=0.0, use=None), key='input', hidden=None), x=10.0, y=0.0, width=0.0, height=0.0), Port(id='76521603-04f1-4164-afb6-537c0089dc01.72a8ee5e-652a-4d5e-a6ee-58e89781c055', labels=[Label(id='82af6c7d-dbd2-4e1f-9ddd-2f136cdb8e02', labels=[], layoutOptions={}, metadata=ElementMetadata(), properties=LabelProperties(cssClasses='', shape=None, key=None, hidden=None, selectable=False), x=-19.15625, y=1.0, width=18.15625, height=13.65625, text='yes')], layoutOptions={'org.eclipse.elk.port.side': 'WEST'}, metadata=ElementMetadata(), properties=PortProperties(cssClasses='', shape=PortShape(type='port', x=None, y=None, width=0.0, height=0.0, use=None), key='true', hidden=None), x=0.0, y=10.0, width=0.0, height=0.0), Port(id='76521603-04f1-4164-afb6-537c0089dc01.6ea6ceea-dcd3-4064-a55a-c0c07712f0b6', labels=[Label(id='3f5223b9-e78f-4dc5-b002-e6f1c0781c17', labels=[], layoutOptions={}, metadata=ElementMetadata(), properties=LabelProperties(cssClasses='', shape=None, key=None, hidden=None, selectable=False), x=1.0, y=1.0, width=12.984375, height=13.65625, text='no')], layoutOptions={'org.eclipse.elk.port.side': 'EAST'}, metadata=ElementMetadata(), properties=PortProperties(cssClasses='', shape=PortShape(type='port', x=None, y=None, width=0.0, height=0.0, use=None), key='false', hidden=None), x=20.0, y=10.0, width=0.0, height=0.0)], children=[], edges=[]), Node(id='b07b144e-2cc7-47be-8b53-17122918f6f2', labels=[Label(id='dedb9d3e-fd23-4db7-8e1b-1dc5315a8eeb', labels=[], layoutOptions={'org.eclipse.elk.nodeLabels.placement': 'H_CENTER V_CENTER INSIDE'}, metadata=ElementMetadata(), properties=LabelProperties(cssClasses='', shape=None, key=None, hidden=None, selectable=False), x=5.0, y=5.0, width=25.8125, height=13.65625, text='reply')], layoutOptions={'org.eclipse.elk.nodeSize.constraints': 'NODE_LABELS PORTS PORT_LABELS MINIMUM_SIZE'}, metadata=ElementMetadata(), properties=NodeProperties(cssClasses='', shape=NodeShape(type='node:round', x=None, y=None, width=None, height=None, use=None), key=None, hidden=None), x=None, y=None, width=None, height=None, ports=[], children=[], edges=[]), Node(id='db890062-854d-48bf-a026-c7479cdbe7ee', labels=[], layoutOptions={}, metadata=ElementMetadata(), properties=NodeProperties(cssClasses='', shape=NodeShape(type='node:use', x=None, y=None, width=12.0, height=12.0, use='final-state'), key=None, hidden=None), x=None, y=None, width=12.0, height=12.0, ports=[], children=[], edges=[])], edges=[Edge(id='613c9a6a-7d3c-44b5-bcd7-21d01d02f35e', labels=[], layoutOptions={}, metadata=ElementMetadata(), properties=EdgeProperties(cssClasses='', shape=EdgeShape(type='edge', start=None, end='arrow'), key=None, hidden=None), source=Node(id='41fb2689-22a6-442a-ab95-c9420b976b99', labels=[], layoutOptions={}, metadata=ElementMetadata(), properties=NodeProperties(cssClasses='', shape=NodeShape(type='node:use', x=None, y=None, width=12.0, height=12.0, use='initial-state'), key=None, hidden=None), x=None, y=None, width=12.0, height=12.0, ports=[], children=[], edges=[]), target=Node(id='8275b60a-c1b5-440b-bce1-fc9f5cc32aa5', labels=[Label(id='a95e4d7a-d8b1-4dda-8c3d-e8c7aadf445c', labels=[], layoutOptions={'org.eclipse.elk.nodeLabels.placement': 'H_CENTER V_CENTER INSIDE'}, metadata=ElementMetadata(), properties=LabelProperties(cssClasses='', shape=None, key=None, hidden=None, selectable=False), x=5.0, y=5.0, width=57.0625, height=13.65625, text='open email')], layoutOptions={'org.eclipse.elk.nodeSize.constraints': 'NODE_LABELS PORTS PORT_LABELS MINIMUM_SIZE'}, metadata=ElementMetadata(), properties=NodeProperties(cssClasses='', shape=NodeShape(type='node:round', x=None, y=None, width=None, height=None, use=None), key=None, hidden=None), x=None, y=None, width=None, height=None, ports=[], children=[], edges=[]), sections=None), Edge(id='813f85d6-0fff-416d-9273-f98b04bf196b', labels=[Label(id='ea1bd6d8-56c9-4076-afd2-994218aba92b', labels=[], layoutOptions={}, metadata=ElementMetadata(), properties=LabelProperties(cssClasses='', shape=None, key=None, hidden=None, selectable=False), x=107.21875762939453, y=87.65625, width=41.515621185302734, height=13.65625, text='opening')], layoutOptions={}, metadata=ElementMetadata(), properties=EdgeProperties(cssClasses='', shape=EdgeShape(type='edge', start=None, end='arrow'), key=None, hidden=None), source=Node(id='8275b60a-c1b5-440b-bce1-fc9f5cc32aa5', labels=[Label(id='a95e4d7a-d8b1-4dda-8c3d-e8c7aadf445c', labels=[], layoutOptions={'org.eclipse.elk.nodeLabels.placement': 'H_CENTER V_CENTER INSIDE'}, metadata=ElementMetadata(), properties=LabelProperties(cssClasses='', shape=None, key=None, hidden=None, selectable=False), x=5.0, y=5.0, width=57.0625, height=13.65625, text='open email')], layoutOptions={'org.eclipse.elk.nodeSize.constraints': 'NODE_LABELS PORTS PORT_LABELS MINIMUM_SIZE'}, metadata=ElementMetadata(), properties=NodeProperties(cssClasses='', shape=NodeShape(type='node:round', x=None, y=None, width=None, height=None, use=None), key=None, hidden=None), x=None, y=None, width=None, height=None, ports=[], children=[], edges=[]), target=Port(id='e53de959-749d-4600-bf37-741a2adf4266.a9eefe8e-31f8-4a58-b986-7db06f1231bb', labels=[], layoutOptions={'org.eclipse.elk.port.side': 'NORTH'}, metadata=ElementMetadata(), properties=PortProperties(cssClasses='', shape=PortShape(type='port', x=None, y=None, width=0.0, height=0.0, use=None), key='input', hidden=None), x=10.0, y=0.0, width=0.0, height=0.0), sections=None), Edge(id='c9c7e162-f672-46df-9996-7a6a9cfbb977', labels=[], layoutOptions={}, metadata=ElementMetadata(), properties=EdgeProperties(cssClasses='', shape=EdgeShape(type='edge', start=None, end='arrow'), key=None, hidden=None), source=Port(id='e53de959-749d-4600-bf37-741a2adf4266.6f7f5c21-b363-4861-ac6c-63dbc2a6edec', labels=[Label(id='3b4025e3-9d54-44c7-9682-1be757dafa28', labels=[], layoutOptions={}, metadata=ElementMetadata(), properties=LabelProperties(cssClasses='', shape=None, key=None, hidden=None, selectable=False), x=1.0, y=1.0, width=33.59375, height=13.65625, text='is junk')], layoutOptions={'org.eclipse.elk.port.side': 'EAST'}, metadata=ElementMetadata(), properties=PortProperties(cssClasses='', shape=PortShape(type='port', x=None, y=None, width=0.0, height=0.0, use=None), key='false', hidden=None), x=20.0, y=10.0, width=0.0, height=0.0), target=Node(id='d29674a1-6728-4b25-a3da-931330d2052f', labels=[Label(id='096fe374-5308-4ac1-b5f3-85b339f46b22', labels=[], layoutOptions={'org.eclipse.elk.nodeLabels.placement': 'H_CENTER V_CENTER INSIDE'}, metadata=ElementMetadata(), properties=LabelProperties(cssClasses='', shape=None, key=None, hidden=None, selectable=False), x=5.0, y=5.0, width=62.890621185302734, height=13.65625, text='delete email')], layoutOptions={'org.eclipse.elk.nodeSize.constraints': 'NODE_LABELS PORTS PORT_LABELS MINIMUM_SIZE'}, metadata=ElementMetadata(), properties=NodeProperties(cssClasses='', shape=NodeShape(type='node:round', x=None, y=None, width=None, height=None, use=None), key=None, hidden=None), x=None, y=None, width=None, height=None, ports=[], children=[], edges=[]), sections=None), Edge(id='559b9a5e-e915-43db-8cf4-c6bda0881239', labels=[], layoutOptions={}, metadata=ElementMetadata(), properties=EdgeProperties(cssClasses='', shape=EdgeShape(type='edge', start=None, end='arrow'), key=None, hidden=None), source=Node(id='d29674a1-6728-4b25-a3da-931330d2052f', labels=[Label(id='096fe374-5308-4ac1-b5f3-85b339f46b22', labels=[], layoutOptions={'org.eclipse.elk.nodeLabels.placement': 'H_CENTER V_CENTER INSIDE'}, metadata=ElementMetadata(), properties=LabelProperties(cssClasses='', shape=None, key=None, hidden=None, selectable=False), x=5.0, y=5.0, width=62.890621185302734, height=13.65625, text='delete email')], layoutOptions={'org.eclipse.elk.nodeSize.constraints': 'NODE_LABELS PORTS PORT_LABELS MINIMUM_SIZE'}, metadata=ElementMetadata(), properties=NodeProperties(cssClasses='', shape=NodeShape(type='node:round', x=None, y=None, width=None, height=None, use=None), key=None, hidden=None), x=None, y=None, width=None, height=None, ports=[], children=[], edges=[]), target=Node(id='cd5e1bcf-7f6d-47fb-bb8c-ac8f623a7578', labels=[], layoutOptions={}, metadata=ElementMetadata(), properties=NodeProperties(cssClasses='activity-filled', shape=NodeShape(type='node', x=None, y=None, width=50.0, height=10.0, use=None), key=None, hidden=None), x=None, y=None, width=50.0, height=10.0, ports=[], children=[], edges=[]), sections=None), Edge(id='aeec1a8f-006a-4c6a-b2be-a82f686e6454', labels=[], layoutOptions={}, metadata=ElementMetadata(), properties=EdgeProperties(cssClasses='', shape=EdgeShape(type='edge', start=None, end='arrow'), key=None, hidden=None), source=Port(id='e53de959-749d-4600-bf37-741a2adf4266.eef9c3ab-bac2-4465-af39-4405bfee328c', labels=[Label(id='ef37dcb9-291b-46fa-8f43-20ceec01f5b3', labels=[], layoutOptions={}, metadata=ElementMetadata(), properties=LabelProperties(cssClasses='', shape=None, key=None, hidden=None, selectable=False), x=-61.671878814697266, y=1.0, width=60.671878814697266, height=13.65625, text='is important')], layoutOptions={'org.eclipse.elk.port.side': 'WEST'}, metadata=ElementMetadata(), properties=PortProperties(cssClasses='', shape=PortShape(type='port', x=None, y=None, width=0.0, height=0.0, use=None), key='true', hidden=None), x=0.0, y=10.0, width=0.0, height=0.0), target=Node(id='3419f743-2c3e-41d3-bff1-61d4769e4c1b', labels=[Label(id='cbc34da3-9b19-4b2f-9b03-c2048d209f8a', labels=[], layoutOptions={'org.eclipse.elk.nodeLabels.placement': 'H_CENTER V_CENTER INSIDE'}, metadata=ElementMetadata(), properties=LabelProperties(cssClasses='', shape=None, key=None, hidden=None, selectable=False), x=5.0, y=5.0, width=54.453121185302734, height=13.65625, text='read email')], layoutOptions={'org.eclipse.elk.nodeSize.constraints': 'NODE_LABELS PORTS PORT_LABELS MINIMUM_SIZE'}, metadata=ElementMetadata(), properties=NodeProperties(cssClasses='', shape=NodeShape(type='node:round', x=None, y=None, width=None, height=None, use=None), key=None, hidden=None), x=None, y=None, width=None, height=None, ports=[], children=[], edges=[]), sections=None), Edge(id='f50481c9-96c5-4b9c-9db1-9a2a317eabd6', labels=[], layoutOptions={}, metadata=ElementMetadata(), properties=EdgeProperties(cssClasses='', shape=EdgeShape(type='edge', start=None, end='arrow'), key=None, hidden=None), source=Node(id='3419f743-2c3e-41d3-bff1-61d4769e4c1b', labels=[Label(id='cbc34da3-9b19-4b2f-9b03-c2048d209f8a', labels=[], layoutOptions={'org.eclipse.elk.nodeLabels.placement': 'H_CENTER V_CENTER INSIDE'}, metadata=ElementMetadata(), properties=LabelProperties(cssClasses='', shape=None, key=None, hidden=None, selectable=False), x=5.0, y=5.0, width=54.453121185302734, height=13.65625, text='read email')], layoutOptions={'org.eclipse.elk.nodeSize.constraints': 'NODE_LABELS PORTS PORT_LABELS MINIMUM_SIZE'}, metadata=ElementMetadata(), properties=NodeProperties(cssClasses='', shape=NodeShape(type='node:round', x=None, y=None, width=None, height=None, use=None), key=None, hidden=None), x=None, y=None, width=None, height=None, ports=[], children=[], edges=[]), target=Port(id='76521603-04f1-4164-afb6-537c0089dc01.fab628d4-9c83-4bd7-bd97-09820db83941', labels=[], layoutOptions={'org.eclipse.elk.port.side': 'NORTH'}, metadata=ElementMetadata(), properties=PortProperties(cssClasses='', shape=PortShape(type='port', x=None, y=None, width=0.0, height=0.0, use=None), key='input', hidden=None), x=10.0, y=0.0, width=0.0, height=0.0), sections=None), Edge(id='7efca690-21e8-45b8-adad-49de6a81df1f', labels=[], layoutOptions={}, metadata=ElementMetadata(), properties=EdgeProperties(cssClasses='', shape=EdgeShape(type='edge', start=None, end='arrow'), key=None, hidden=None), source=Port(id='76521603-04f1-4164-afb6-537c0089dc01.6ea6ceea-dcd3-4064-a55a-c0c07712f0b6', labels=[Label(id='3f5223b9-e78f-4dc5-b002-e6f1c0781c17', labels=[], layoutOptions={}, metadata=ElementMetadata(), properties=LabelProperties(cssClasses='', shape=None, key=None, hidden=None, selectable=False), x=1.0, y=1.0, width=12.984375, height=13.65625, text='no')], layoutOptions={'org.eclipse.elk.port.side': 'EAST'}, metadata=ElementMetadata(), properties=PortProperties(cssClasses='', shape=PortShape(type='port', x=None, y=None, width=0.0, height=0.0, use=None), key='false', hidden=None), x=20.0, y=10.0, width=0.0, height=0.0), target=Node(id='cd5e1bcf-7f6d-47fb-bb8c-ac8f623a7578', labels=[], layoutOptions={}, metadata=ElementMetadata(), properties=NodeProperties(cssClasses='activity-filled', shape=NodeShape(type='node', x=None, y=None, width=50.0, height=10.0, use=None), key=None, hidden=None), x=None, y=None, width=50.0, height=10.0, ports=[], children=[], edges=[]), sections=None), Edge(id='93dd5c4d-1806-4797-b68b-c64d270a018a', labels=[], layoutOptions={}, metadata=ElementMetadata(), properties=EdgeProperties(cssClasses='', shape=EdgeShape(type='edge', start=None, end='arrow'), key=None, hidden=None), source=Port(id='76521603-04f1-4164-afb6-537c0089dc01.72a8ee5e-652a-4d5e-a6ee-58e89781c055', labels=[Label(id='82af6c7d-dbd2-4e1f-9ddd-2f136cdb8e02', labels=[], layoutOptions={}, metadata=ElementMetadata(), properties=LabelProperties(cssClasses='', shape=None, key=None, hidden=None, selectable=False), x=-19.15625, y=1.0, width=18.15625, height=13.65625, text='yes')], layoutOptions={'org.eclipse.elk.port.side': 'WEST'}, metadata=ElementMetadata(), properties=PortProperties(cssClasses='', shape=PortShape(type='port', x=None, y=None, width=0.0, height=0.0, use=None), key='true', hidden=None), x=0.0, y=10.0, width=0.0, height=0.0), target=Node(id='b07b144e-2cc7-47be-8b53-17122918f6f2', labels=[Label(id='dedb9d3e-fd23-4db7-8e1b-1dc5315a8eeb', labels=[], layoutOptions={'org.eclipse.elk.nodeLabels.placement': 'H_CENTER V_CENTER INSIDE'}, metadata=ElementMetadata(), properties=LabelProperties(cssClasses='', shape=None, key=None, hidden=None, selectable=False), x=5.0, y=5.0, width=25.8125, height=13.65625, text='reply')], layoutOptions={'org.eclipse.elk.nodeSize.constraints': 'NODE_LABELS PORTS PORT_LABELS MINIMUM_SIZE'}, metadata=ElementMetadata(), properties=NodeProperties(cssClasses='', shape=NodeShape(type='node:round', x=None, y=None, width=None, height=None, use=None), key=None, hidden=None), x=None, y=None, width=None, height=None, ports=[], children=[], edges=[]), sections=None), Edge(id='5935da7a-49f5-4b24-9cc0-826adcdb774b', labels=[], layoutOptions={}, metadata=ElementMetadata(), properties=EdgeProperties(cssClasses='', shape=EdgeShape(type='edge', start=None, end='arrow'), key=None, hidden=None), source=Node(id='b07b144e-2cc7-47be-8b53-17122918f6f2', labels=[Label(id='dedb9d3e-fd23-4db7-8e1b-1dc5315a8eeb', labels=[], layoutOptions={'org.eclipse.elk.nodeLabels.placement': 'H_CENTER V_CENTER INSIDE'}, metadata=ElementMetadata(), properties=LabelProperties(cssClasses='', shape=None, key=None, hidden=None, selectable=False), x=5.0, y=5.0, width=25.8125, height=13.65625, text='reply')], layoutOptions={'org.eclipse.elk.nodeSize.constraints': 'NODE_LABELS PORTS PORT_LABELS MINIMUM_SIZE'}, metadata=ElementMetadata(), properties=NodeProperties(cssClasses='', shape=NodeShape(type='node:round', x=None, y=None, width=None, height=None, use=None), key=None, hidden=None), x=None, y=None, width=None, height=None, ports=[], children=[], edges=[]), target=Node(id='cd5e1bcf-7f6d-47fb-bb8c-ac8f623a7578', labels=[], layoutOptions={}, metadata=ElementMetadata(), properties=NodeProperties(cssClasses='activity-filled', shape=NodeShape(type='node', x=None, y=None, width=50.0, height=10.0, use=None), key=None, hidden=None), x=None, y=None, width=50.0, height=10.0, ports=[], children=[], edges=[]), sections=None), Edge(id='a63b8bbc-6d36-463c-afb8-01de60270a47', labels=[], layoutOptions={}, metadata=ElementMetadata(), properties=EdgeProperties(cssClasses='', shape=EdgeShape(type='edge', start=None, end='arrow'), key=None, hidden=None), source=Node(id='cd5e1bcf-7f6d-47fb-bb8c-ac8f623a7578', labels=[], layoutOptions={}, metadata=ElementMetadata(), properties=NodeProperties(cssClasses='activity-filled', shape=NodeShape(type='node', x=None, y=None, width=50.0, height=10.0, use=None), key=None, hidden=None), x=None, y=None, width=50.0, height=10.0, ports=[], children=[], edges=[]), target=Node(id='db890062-854d-48bf-a026-c7479cdbe7ee', labels=[], layoutOptions={}, metadata=ElementMetadata(), properties=NodeProperties(cssClasses='', shape=NodeShape(type='node:use', x=None, y=None, width=12.0, height=12.0, use='final-state'), key=None, hidden=None), x=None, y=None, width=12.0, height=12.0, ports=[], children=[], edges=[]), sections=None)])"
      ]
     },
     "execution_count": 9,
     "metadata": {},
     "output_type": "execute_result"
    }
   ],
   "source": [
    "from ipyelk.elements import convert_elkjson\n",
    "convert_elkjson(p0.outlet.index.root.dict())"
   ]
  },
  {
   "cell_type": "code",
   "execution_count": 10,
   "metadata": {
    "tags": []
   },
   "outputs": [
    {
     "name": "stdout",
     "output_type": "stream",
     "text": [
      "> \u001b[0;32m<ipython-input-8-89d43e982159>\u001b[0m(1)\u001b[0;36m<module>\u001b[0;34m()\u001b[0m\n",
      "\u001b[0;32m----> 1 \u001b[0;31m\u001b[0mconvert_elkjson\u001b[0m\u001b[0;34m(\u001b[0m\u001b[0mp0\u001b[0m\u001b[0;34m.\u001b[0m\u001b[0moutlet\u001b[0m\u001b[0;34m.\u001b[0m\u001b[0mvalue\u001b[0m\u001b[0;34m.\u001b[0m\u001b[0mdict\u001b[0m\u001b[0;34m(\u001b[0m\u001b[0;34m)\u001b[0m\u001b[0;34m)\u001b[0m\u001b[0;34m\u001b[0m\u001b[0;34m\u001b[0m\u001b[0m\n",
      "\u001b[0m\n"
     ]
    },
    {
     "name": "stdin",
     "output_type": "stream",
     "text": [
      "ipdb>  c\n"
     ]
    }
   ],
   "source": [
    "%debug"
   ]
  },
  {
   "cell_type": "code",
   "execution_count": null,
   "metadata": {},
   "outputs": [],
   "source": [
    "\n",
    "ipyelk.MarkElementWidget(value=email_activities)"
   ]
  },
  {
   "cell_type": "code",
   "execution_count": null,
   "metadata": {},
   "outputs": [],
   "source": [
    "from ipyelk.contrib.library import activity\n",
    "from ipyelk.elements import Node\n",
    "activity.SimpleArrow(\n",
    "    source=Node(),\n",
    "    target=Node(),\n",
    ").dict()"
   ]
  },
  {
   "cell_type": "markdown",
   "metadata": {},
   "source": [
    "## Example Email Activities\n",
    "\n",
    "Simple representation of processing an email inbox."
   ]
  },
  {
   "cell_type": "code",
   "execution_count": 7,
   "metadata": {},
   "outputs": [],
   "source": [
    "def website_activity_example():\n",
    "    priority_edge_opts = {\n",
    "        \"org.eclipse.elk.layered.priority.direction\": \"10\",\n",
    "    }\n",
    "\n",
    "    # Building Elements\n",
    "    act = ActivityDiagram()\n",
    "\n",
    "    start = StartActivity()\n",
    "    end = EndActivity()\n",
    "\n",
    "    landing = Activity.make(\"Landing Page\")\n",
    "    login = Activity.make(\"Login\", container=True)\n",
    "    enter_creds = Activity.make(\"Enter Credentials\")\n",
    "    register = Activity.make(\"Register\", container=True)\n",
    "    registration = Activity.make(\"Enter Registration Data\")\n",
    "    confirm_email = Activity.make(\"Receive Confirmation Email\")\n",
    "    confirm = Activity.make(\"Click Confirmation Link\")\n",
    "\n",
    "    website = Activity.make(\"Explore Website\")\n",
    "\n",
    "    login.add_child(enter_creds, \"cred\")\n",
    "    register.add_child(registration, \"registration\")\n",
    "    register.add_child(confirm_email, \"confirm_email\")\n",
    "    register.add_child(confirm, \"confirm\")\n",
    "\n",
    "    d1 = Decision()\n",
    "    d1.true.labels = [Label(text=\"registered\")]\n",
    "    d1.false.labels = [Label(text=\"not registered\")]\n",
    "\n",
    "    d2 = Decision()\n",
    "    d2.true.labels = [Label(text=\"logged in\")]\n",
    "    d2.false.labels = [Label(text=\"not logged in\")]\n",
    "\n",
    "    response = Decision()\n",
    "    response.true.labels = [Label(text=\"yes\")]\n",
    "    response.false.labels = [Label(text=\"no\")]\n",
    "\n",
    "    # Connecting Elements\n",
    "    act[start:landing].layoutOptions.update(priority_edge_opts)\n",
    "    act[landing : d1.input].layoutOptions.update(priority_edge_opts)\n",
    "    act[d1.true : enter_creds]\n",
    "    act[d1.false : registration]\n",
    "    act[registration:confirm_email]\n",
    "    act[confirm_email:confirm]\n",
    "\n",
    "    m1 = Merge()\n",
    "    act[enter_creds:m1]\n",
    "    act[confirm:m1]\n",
    "    act[m1 : d2.input]\n",
    "    act[d2.false : landing]\n",
    "    act[d2.true : website]\n",
    "\n",
    "    act[website:end]\n",
    "\n",
    "    # Creating App and setting the source\n",
    "    ilk = MarkFactory()\n",
    "    app, loader = activity_app()\n",
    "    app.source = loader.load(root=act)\n",
    "    app.view.symbols = act.symbols\n",
    "    app.style = act.style\n",
    "    return app"
   ]
  },
  {
   "cell_type": "code",
   "execution_count": 8,
   "metadata": {},
   "outputs": [
    {
     "data": {
      "application/vnd.jupyter.widget-view+json": {
       "model_id": "8053f22214c144399e4f44891c89c328",
       "version_major": 2,
       "version_minor": 0
      },
      "text/plain": [
       "Diagram(children=[HTML(value='<style>.styled-widget-140128726727504 .final-state .inner-circle{fill: var(--jp-…"
      ]
     },
     "metadata": {},
     "output_type": "display_data"
    }
   ],
   "source": [
    "if __name__ == \"__main__\":\n",
    "    website_app = website_activity_example()\n",
    "    display(website_app)"
   ]
  },
  {
   "cell_type": "code",
   "execution_count": 11,
   "metadata": {},
   "outputs": [
    {
     "data": {
      "text/plain": [
       "('cb2aee52-dfe3-43c5-880d-20e61a524531',)"
      ]
     },
     "execution_count": 11,
     "metadata": {},
     "output_type": "execute_result"
    }
   ],
   "source": [
    "website_app.view.selection.ids"
   ]
  },
  {
   "cell_type": "code",
   "execution_count": 9,
   "metadata": {},
   "outputs": [
    {
     "data": {
      "application/json": {
       "children": [
        {
         "children": [],
         "edges": [],
         "height": 12,
         "id": "17e69f39-c987-4694-aa98-936a33c3cc29",
         "labels": [],
         "layoutOptions": {},
         "ports": [],
         "properties": {
          "cssClasses": "",
          "hidden": null,
          "key": null,
          "shape": {
           "height": 12,
           "type": "node:use",
           "use": "initial-state",
           "width": 12,
           "x": null,
           "y": null
          }
         },
         "width": 12,
         "x": 199.88541666666669,
         "y": 12
        },
        {
         "children": [],
         "edges": [],
         "height": 20,
         "id": "c1506d77-cc84-4825-8006-dd1679901508",
         "labels": [],
         "layoutOptions": {
          "org.eclipse.elk.portConstraints": "FIXED_SIDE"
         },
         "ports": [
          {
           "height": 0,
           "id": "c1506d77-cc84-4825-8006-dd1679901508.ee204140-9fa9-4d93-b1f5-bccb5f7e26b6",
           "labels": [],
           "layoutOptions": {
            "org.eclipse.elk.port.side": "NORTH"
           },
           "properties": {
            "cssClasses": "",
            "hidden": null,
            "key": "input",
            "shape": {
             "height": 0,
             "type": "port",
             "use": null,
             "width": 0,
             "x": null,
             "y": null
            }
           },
           "width": 0,
           "x": 10,
           "y": 0
          },
          {
           "height": 0,
           "id": "c1506d77-cc84-4825-8006-dd1679901508.f25f9872-fa65-4705-bf43-a38e11e22dab",
           "labels": [
            {
             "height": 13.656254768371582,
             "id": "49fd4556-f332-4372-975f-ab64c8738a87",
             "labels": [],
             "layoutOptions": {},
             "properties": {
              "cssClasses": "",
              "hidden": null,
              "key": null,
              "selectable": false,
              "shape": null
             },
             "text": "registered",
             "width": 51.859375,
             "x": -52.859375,
             "y": 1
            }
           ],
           "layoutOptions": {
            "org.eclipse.elk.port.side": "WEST"
           },
           "properties": {
            "cssClasses": "",
            "hidden": null,
            "key": "true",
            "shape": {
             "height": 0,
             "type": "port",
             "use": null,
             "width": 0,
             "x": null,
             "y": null
            }
           },
           "width": 0,
           "x": 0,
           "y": 10
          },
          {
           "height": 0,
           "id": "c1506d77-cc84-4825-8006-dd1679901508.29cf3ace-9d1f-4fb1-89d4-86263a51ef68",
           "labels": [
            {
             "height": 13.656254768371582,
             "id": "d028c42b-87ef-4e3d-96cc-0bc4de67edd4",
             "labels": [],
             "layoutOptions": {},
             "properties": {
              "cssClasses": "",
              "hidden": null,
              "key": null,
              "selectable": false,
              "shape": null
             },
             "text": "not registered",
             "width": 71.31249237060547,
             "x": 1,
             "y": 1
            }
           ],
           "layoutOptions": {
            "org.eclipse.elk.port.side": "EAST"
           },
           "properties": {
            "cssClasses": "",
            "hidden": null,
            "key": "false",
            "shape": {
             "height": 0,
             "type": "port",
             "use": null,
             "width": 0,
             "x": null,
             "y": null
            }
           },
           "width": 0,
           "x": 20,
           "y": 10
          }
         ],
         "properties": {
          "cssClasses": "",
          "hidden": null,
          "key": null,
          "shape": {
           "height": 20,
           "type": "node:diamond",
           "use": null,
           "width": 20,
           "x": null,
           "y": null
          }
         },
         "width": 20,
         "x": 182.22135416666669,
         "y": 87.65625476837158
        },
        {
         "children": [
          {
           "children": [],
           "edges": [],
           "height": 23.656254768371582,
           "id": "6de6425e-4915-4e7c-81ee-f5033804c390",
           "labels": [
            {
             "height": 13.656254768371582,
             "id": "abdc5d76-0edc-497a-9be3-f0c228e53da5",
             "labels": [],
             "layoutOptions": {
              "org.eclipse.elk.nodeLabels.placement": "H_CENTER V_CENTER INSIDE"
             },
             "properties": {
              "cssClasses": "",
              "hidden": null,
              "key": null,
              "selectable": false,
              "shape": null
             },
             "text": "Enter Credentials",
             "width": 90.109375,
             "x": 5,
             "y": 5
            }
           ],
           "layoutOptions": {
            "org.eclipse.elk.nodeSize.constraints": "NODE_LABELS PORTS PORT_LABELS MINIMUM_SIZE"
           },
           "ports": [],
           "properties": {
            "cssClasses": "",
            "hidden": null,
            "key": "cred",
            "shape": {
             "height": null,
             "type": "node:round",
             "use": null,
             "width": null,
             "x": null,
             "y": null
            }
           },
           "width": 100.109375,
           "x": 45.546875,
           "y": 30.656254768371582
          }
         ],
         "edges": [],
         "height": 67.09375,
         "id": "4cf5dd3d-68db-4da9-8341-238c8f8b76cc",
         "labels": [
          {
           "height": 13.656254768371582,
           "id": "0de1fdaa-2c40-4b17-acad-3232b809aa9b",
           "labels": [],
           "layoutOptions": {
            "org.eclipse.elk.nodeLabels.placement": "H_LEFT V_TOP INSIDE"
           },
           "properties": {
            "cssClasses": "",
            "hidden": null,
            "key": null,
            "selectable": false,
            "shape": null
           },
           "text": "Login",
           "width": 28.546875,
           "x": 5,
           "y": 5
          }
         ],
         "layoutOptions": {
          "org.eclipse.elk.nodeSize.constraints": "NODE_LABELS PORTS PORT_LABELS MINIMUM_SIZE"
         },
         "ports": [],
         "properties": {
          "cssClasses": "activity-container",
          "hidden": null,
          "key": null,
          "shape": {
           "height": null,
           "type": "node",
           "use": null,
           "width": null,
           "x": null,
           "y": null
          }
         },
         "width": 157.65625,
         "x": 23.76041666666667,
         "y": 180.57814407348633
        },
        {
         "children": [
          {
           "children": [],
           "edges": [],
           "height": 23.656254768371582,
           "id": "410c5a57-c446-4952-9966-35a605762b73",
           "labels": [
            {
             "height": 13.656254768371582,
             "id": "527d316d-f912-4c37-b5ed-e054b022b3b7",
             "labels": [],
             "layoutOptions": {
              "org.eclipse.elk.nodeLabels.placement": "H_CENTER V_CENTER INSIDE"
             },
             "properties": {
              "cssClasses": "",
              "hidden": null,
              "key": null,
              "selectable": false,
              "shape": null
             },
             "text": "Enter Registration Data",
             "width": 122.015625,
             "x": 5,
             "y": 5
            }
           ],
           "layoutOptions": {
            "org.eclipse.elk.nodeSize.constraints": "NODE_LABELS PORTS PORT_LABELS MINIMUM_SIZE"
           },
           "ports": [],
           "properties": {
            "cssClasses": "",
            "hidden": null,
            "key": "registration",
            "shape": {
             "height": null,
             "type": "node:round",
             "use": null,
             "width": null,
             "x": null,
             "y": null
            }
           },
           "width": 132.015625,
           "x": 72.03124618530273,
           "y": 30.656254768371582
          },
          {
           "children": [],
           "edges": [],
           "height": 23.656254768371582,
           "id": "d76cac0f-6d86-48b8-9602-0a073a70d534",
           "labels": [
            {
             "height": 13.656254768371582,
             "id": "66e87ac9-38a7-48fa-8ab7-dc8ac3df3715",
             "labels": [],
             "layoutOptions": {
              "org.eclipse.elk.nodeLabels.placement": "H_CENTER V_CENTER INSIDE"
             },
             "properties": {
              "cssClasses": "",
              "hidden": null,
              "key": null,
              "selectable": false,
              "shape": null
             },
             "text": "Receive Confirmation Email",
             "width": 143.890625,
             "x": 5,
             "y": 5
            }
           ],
           "layoutOptions": {
            "org.eclipse.elk.nodeSize.constraints": "NODE_LABELS PORTS PORT_LABELS MINIMUM_SIZE"
           },
           "ports": [],
           "properties": {
            "cssClasses": "",
            "hidden": null,
            "key": "confirm_email",
            "shape": {
             "height": null,
             "type": "node:round",
             "use": null,
             "width": null,
             "x": null,
             "y": null
            }
           },
           "width": 153.890625,
           "x": 61.093746185302734,
           "y": 74.31250953674316
          },
          {
           "children": [],
           "edges": [],
           "height": 23.656254768371582,
           "id": "743d35c8-4188-4859-a745-2e9e0d8913a7",
           "labels": [
            {
             "height": 13.656254768371582,
             "id": "c9efdee2-1a2e-40ce-84c6-fe1f54057728",
             "labels": [],
             "layoutOptions": {
              "org.eclipse.elk.nodeLabels.placement": "H_CENTER V_CENTER INSIDE"
             },
             "properties": {
              "cssClasses": "",
              "hidden": null,
              "key": null,
              "selectable": false,
              "shape": null
             },
             "text": "Click Confirmation Link",
             "width": 119.796875,
             "x": 5,
             "y": 5
            }
           ],
           "layoutOptions": {
            "org.eclipse.elk.nodeSize.constraints": "NODE_LABELS PORTS PORT_LABELS MINIMUM_SIZE"
           },
           "ports": [],
           "properties": {
            "cssClasses": "",
            "hidden": null,
            "key": "confirm",
            "shape": {
             "height": null,
             "type": "node:round",
             "use": null,
             "width": null,
             "x": null,
             "y": null
            }
           },
           "width": 129.796875,
           "x": 73.14062118530273,
           "y": 117.96876430511475
          }
         ],
         "edges": [],
         "height": 153.62501907348633,
         "id": "63ae3d5d-1b31-40ca-93d9-08c2cb083a8a",
         "labels": [
          {
           "height": 13.656254768371582,
           "id": "15a5dd45-d9d1-4a8e-84ff-3e6bd972dad5",
           "labels": [],
           "layoutOptions": {
            "org.eclipse.elk.nodeLabels.placement": "H_LEFT V_TOP INSIDE"
           },
           "properties": {
            "cssClasses": "",
            "hidden": null,
            "key": null,
            "selectable": false,
            "shape": null
           },
           "text": "Register",
           "width": 44.093746185302734,
           "x": 5,
           "y": 5
          }
         ],
         "layoutOptions": {
          "org.eclipse.elk.nodeSize.constraints": "NODE_LABELS PORTS PORT_LABELS MINIMUM_SIZE"
         },
         "ports": [],
         "properties": {
          "cssClasses": "activity-container",
          "hidden": null,
          "key": null,
          "shape": {
           "height": null,
           "type": "node",
           "use": null,
           "width": null,
           "x": null,
           "y": null
          }
         },
         "width": 226.98437118530273,
         "x": 201.41666666666669,
         "y": 137.31250953674316
        },
        {
         "children": [],
         "edges": [],
         "height": 23.656254768371582,
         "id": "9268872c-3912-4943-b912-15539a575efe",
         "labels": [
          {
           "height": 13.656254768371582,
           "id": "36ad9b98-ff49-4f7c-afa7-106cf50cc42f",
           "labels": [],
           "layoutOptions": {
            "org.eclipse.elk.nodeLabels.placement": "H_CENTER V_CENTER INSIDE"
           },
           "properties": {
            "cssClasses": "",
            "hidden": null,
            "key": null,
            "selectable": false,
            "shape": null
           },
           "text": "Landing Page",
           "width": 71.984375,
           "x": 5,
           "y": 5
          }
         ],
         "layoutOptions": {
          "org.eclipse.elk.nodeSize.constraints": "NODE_LABELS PORTS PORT_LABELS MINIMUM_SIZE"
         },
         "ports": [],
         "properties": {
          "cssClasses": "",
          "hidden": null,
          "key": null,
          "shape": {
           "height": null,
           "type": "node:round",
           "use": null,
           "width": null,
           "x": null,
           "y": null
          }
         },
         "width": 81.984375,
         "x": 164.89322916666669,
         "y": 44
        },
        {
         "children": [],
         "edges": [],
         "height": 10,
         "id": "1eeb90f4-e881-4c35-a4eb-6939b02bdd8f",
         "labels": [],
         "layoutOptions": {},
         "ports": [],
         "properties": {
          "cssClasses": "activity-filled",
          "hidden": null,
          "key": null,
          "shape": {
           "height": 10,
           "type": "node",
           "use": null,
           "width": 50,
           "x": null,
           "y": null
          }
         },
         "width": 50,
         "x": 102.6953125,
         "y": 315.9375286102295
        },
        {
         "children": [],
         "edges": [],
         "height": 20,
         "id": "13fdb280-b60f-4d63-99d4-c2a29b547e59",
         "labels": [],
         "layoutOptions": {
          "org.eclipse.elk.portConstraints": "FIXED_SIDE"
         },
         "ports": [
          {
           "height": 0,
           "id": "13fdb280-b60f-4d63-99d4-c2a29b547e59.dd107b14-a9b0-4de0-b289-d7e706d32c6e",
           "labels": [],
           "layoutOptions": {
            "org.eclipse.elk.port.side": "NORTH"
           },
           "properties": {
            "cssClasses": "",
            "hidden": null,
            "key": "input",
            "shape": {
             "height": 0,
             "type": "port",
             "use": null,
             "width": 0,
             "x": null,
             "y": null
            }
           },
           "width": 0,
           "x": 10,
           "y": 0
          },
          {
           "height": 0,
           "id": "13fdb280-b60f-4d63-99d4-c2a29b547e59.3a8c4f08-6e62-4c9c-9e35-8e592f9d0686",
           "labels": [
            {
             "height": 13.656254768371582,
             "id": "51391cb4-f87b-41b6-9655-bcc46f11dc00",
             "labels": [],
             "layoutOptions": {},
             "properties": {
              "cssClasses": "",
              "hidden": null,
              "key": null,
              "selectable": false,
              "shape": null
             },
             "text": "logged in",
             "width": 47.34375,
             "x": -48.34375,
             "y": 1
            }
           ],
           "layoutOptions": {
            "org.eclipse.elk.port.side": "WEST"
           },
           "properties": {
            "cssClasses": "",
            "hidden": null,
            "key": "true",
            "shape": {
             "height": 0,
             "type": "port",
             "use": null,
             "width": 0,
             "x": null,
             "y": null
            }
           },
           "width": 0,
           "x": 0,
           "y": 10
          },
          {
           "height": 0,
           "id": "13fdb280-b60f-4d63-99d4-c2a29b547e59.a3443fce-0d52-4a6b-9555-696ec02dac03",
           "labels": [
            {
             "height": 13.656254768371582,
             "id": "e0f5e323-d64b-4e07-a2d9-7604de2a1f39",
             "labels": [],
             "layoutOptions": {},
             "properties": {
              "cssClasses": "",
              "hidden": null,
              "key": null,
              "selectable": false,
              "shape": null
             },
             "text": "not logged in",
             "width": 66.796875,
             "x": 1,
             "y": 1
            }
           ],
           "layoutOptions": {
            "org.eclipse.elk.port.side": "EAST"
           },
           "properties": {
            "cssClasses": "",
            "hidden": null,
            "key": "false",
            "shape": {
             "height": 0,
             "type": "port",
             "use": null,
             "width": 0,
             "x": null,
             "y": null
            }
           },
           "width": 0,
           "x": 20,
           "y": 10
          }
         ],
         "properties": {
          "cssClasses": "",
          "hidden": null,
          "key": null,
          "shape": {
           "height": 20,
           "type": "node:diamond",
           "use": null,
           "width": 20,
           "x": null,
           "y": null
          }
         },
         "width": 20,
         "x": 117.6953125,
         "y": 345.9375286102295
        },
        {
         "children": [],
         "edges": [],
         "height": 23.656254768371582,
         "id": "5398978f-fe43-4b30-aa7e-c8eb98ef8453",
         "labels": [
          {
           "height": 13.656254768371582,
           "id": "7ce9d3bd-7614-4c01-9a10-de7e58b0d7f7",
           "labels": [],
           "layoutOptions": {
            "org.eclipse.elk.nodeLabels.placement": "H_CENTER V_CENTER INSIDE"
           },
           "properties": {
            "cssClasses": "",
            "hidden": null,
            "key": null,
            "selectable": false,
            "shape": null
           },
           "text": "Explore Website",
           "width": 84.703125,
           "x": 5,
           "y": 5
          }
         ],
         "layoutOptions": {
          "org.eclipse.elk.nodeSize.constraints": "NODE_LABELS PORTS PORT_LABELS MINIMUM_SIZE"
         },
         "ports": [],
         "properties": {
          "cssClasses": "",
          "hidden": null,
          "key": null,
          "shape": {
           "height": null,
           "type": "node:round",
           "use": null,
           "width": null,
           "x": null,
           "y": null
          }
         },
         "width": 94.703125,
         "x": 12,
         "y": 390.5937833786011
        },
        {
         "children": [],
         "edges": [],
         "height": 12,
         "id": "6bd1893b-357b-4512-9f0e-8f600c07f65b",
         "labels": [],
         "layoutOptions": {},
         "ports": [],
         "properties": {
          "cssClasses": "",
          "hidden": null,
          "key": null,
          "shape": {
           "height": 12,
           "type": "node:use",
           "use": "final-state",
           "width": 12,
           "x": null,
           "y": null
          }
         },
         "width": 12,
         "x": 53.3515625,
         "y": 434.25003814697266
        }
       ],
       "edges": [
        {
         "id": "4e98caff-ee5d-49eb-8421-4fe9a40f5ea2",
         "labels": [],
         "layoutOptions": {
          "org.eclipse.elk.layered.priority.direction": "10"
         },
         "properties": {
          "cssClasses": "",
          "hidden": null,
          "key": null,
          "shape": {
           "end": "arrow",
           "start": null,
           "type": "edge"
          }
         },
         "sections": [
          {
           "bendPoints": null,
           "endPoint": {
            "x": 205.88541666666669,
            "y": 44
           },
           "id": "4e98caff-ee5d-49eb-8421-4fe9a40f5ea2_s0",
           "incomingSections": null,
           "incomingShape": "17e69f39-c987-4694-aa98-936a33c3cc29",
           "outgoingSections": null,
           "outgoingShape": "9268872c-3912-4943-b912-15539a575efe",
           "startPoint": {
            "x": 205.88541666666669,
            "y": 24
           }
          }
         ],
         "sources": [
          "17e69f39-c987-4694-aa98-936a33c3cc29"
         ],
         "targets": [
          "9268872c-3912-4943-b912-15539a575efe"
         ]
        },
        {
         "id": "21c20aef-46d8-4bf6-9f3e-e73414f115b8",
         "labels": [],
         "layoutOptions": {
          "org.eclipse.elk.layered.priority.direction": "10"
         },
         "properties": {
          "cssClasses": "",
          "hidden": null,
          "key": null,
          "shape": {
           "end": "arrow",
           "start": null,
           "type": "edge"
          }
         },
         "sections": [
          {
           "bendPoints": null,
           "endPoint": {
            "x": 192.22135416666669,
            "y": 87.65625476837158
           },
           "id": "21c20aef-46d8-4bf6-9f3e-e73414f115b8_s0",
           "incomingSections": null,
           "incomingShape": "9268872c-3912-4943-b912-15539a575efe",
           "outgoingSections": null,
           "outgoingShape": "c1506d77-cc84-4825-8006-dd1679901508.ee204140-9fa9-4d93-b1f5-bccb5f7e26b6",
           "startPoint": {
            "x": 192.22135416666669,
            "y": 67.65625476837158
           }
          }
         ],
         "sources": [
          "9268872c-3912-4943-b912-15539a575efe"
         ],
         "targets": [
          "c1506d77-cc84-4825-8006-dd1679901508.ee204140-9fa9-4d93-b1f5-bccb5f7e26b6"
         ]
        },
        {
         "id": "ff43b935-567a-4b9c-bd97-7eb39e3146e5",
         "labels": [],
         "layoutOptions": {},
         "properties": {
          "cssClasses": "",
          "hidden": null,
          "key": null,
          "shape": {
           "end": "arrow",
           "start": null,
           "type": "edge"
          }
         },
         "sections": [
          {
           "bendPoints": [
            {
             "x": 119.36197916666667,
             "y": 97.65625476837158
            }
           ],
           "endPoint": {
            "x": 119.36197916666667,
            "y": 211.2343988418579
           },
           "id": "ff43b935-567a-4b9c-bd97-7eb39e3146e5_s0",
           "incomingSections": null,
           "incomingShape": "c1506d77-cc84-4825-8006-dd1679901508.f25f9872-fa65-4705-bf43-a38e11e22dab",
           "outgoingSections": null,
           "outgoingShape": "6de6425e-4915-4e7c-81ee-f5033804c390",
           "startPoint": {
            "x": 182.22135416666669,
            "y": 97.65625476837158
           }
          }
         ],
         "sources": [
          "c1506d77-cc84-4825-8006-dd1679901508.f25f9872-fa65-4705-bf43-a38e11e22dab"
         ],
         "targets": [
          "6de6425e-4915-4e7c-81ee-f5033804c390"
         ]
        },
        {
         "id": "8eac2fe2-9646-4789-b81a-f73f60ff08a1",
         "labels": [],
         "layoutOptions": {},
         "properties": {
          "cssClasses": "",
          "hidden": null,
          "key": null,
          "shape": {
           "end": "arrow",
           "start": null,
           "type": "edge"
          }
         },
         "sections": [
          {
           "bendPoints": [
            {
             "x": 339.4557253519694,
             "y": 97.65625476837158
            }
           ],
           "endPoint": {
            "x": 339.4557253519694,
            "y": 167.96876430511475
           },
           "id": "8eac2fe2-9646-4789-b81a-f73f60ff08a1_s0",
           "incomingSections": null,
           "incomingShape": "c1506d77-cc84-4825-8006-dd1679901508.29cf3ace-9d1f-4fb1-89d4-86263a51ef68",
           "outgoingSections": null,
           "outgoingShape": "410c5a57-c446-4952-9966-35a605762b73",
           "startPoint": {
            "x": 202.22135416666669,
            "y": 97.65625476837158
           }
          }
         ],
         "sources": [
          "c1506d77-cc84-4825-8006-dd1679901508.29cf3ace-9d1f-4fb1-89d4-86263a51ef68"
         ],
         "targets": [
          "410c5a57-c446-4952-9966-35a605762b73"
         ]
        },
        {
         "id": "91de3923-06d0-415a-9e53-7cfb57a5ff24",
         "labels": [],
         "layoutOptions": {},
         "properties": {
          "cssClasses": "",
          "hidden": null,
          "key": null,
          "shape": {
           "end": "arrow",
           "start": null,
           "type": "edge"
          }
         },
         "sections": [
          {
           "bendPoints": null,
           "endPoint": {
            "x": 138.03905868530273,
            "y": 74.31250953674316
           },
           "id": "91de3923-06d0-415a-9e53-7cfb57a5ff24_s0",
           "incomingSections": null,
           "incomingShape": "410c5a57-c446-4952-9966-35a605762b73",
           "outgoingSections": null,
           "outgoingShape": "d76cac0f-6d86-48b8-9602-0a073a70d534",
           "startPoint": {
            "x": 138.03905868530273,
            "y": 54.312509536743164
           }
          }
         ],
         "sources": [
          "410c5a57-c446-4952-9966-35a605762b73"
         ],
         "targets": [
          "d76cac0f-6d86-48b8-9602-0a073a70d534"
         ]
        },
        {
         "id": "cb2aee52-dfe3-43c5-880d-20e61a524531",
         "labels": [],
         "layoutOptions": {},
         "properties": {
          "cssClasses": "",
          "hidden": null,
          "key": null,
          "shape": {
           "end": "arrow",
           "start": null,
           "type": "edge"
          }
         },
         "sections": [
          {
           "bendPoints": null,
           "endPoint": {
            "x": 138.03905868530273,
            "y": 117.96876430511475
           },
           "id": "cb2aee52-dfe3-43c5-880d-20e61a524531_s0",
           "incomingSections": null,
           "incomingShape": "d76cac0f-6d86-48b8-9602-0a073a70d534",
           "outgoingSections": null,
           "outgoingShape": "743d35c8-4188-4859-a745-2e9e0d8913a7",
           "startPoint": {
            "x": 138.03905868530273,
            "y": 97.96876430511475
           }
          }
         ],
         "sources": [
          "d76cac0f-6d86-48b8-9602-0a073a70d534"
         ],
         "targets": [
          "743d35c8-4188-4859-a745-2e9e0d8913a7"
         ]
        },
        {
         "id": "20ac0e1d-1231-432c-8467-a4d4e95b42c5",
         "labels": [],
         "layoutOptions": {},
         "properties": {
          "cssClasses": "",
          "hidden": null,
          "key": null,
          "shape": {
           "end": "arrow",
           "start": null,
           "type": "edge"
          }
         },
         "sections": [
          {
           "bendPoints": null,
           "endPoint": {
            "x": 119.36197916666667,
            "y": 315.9375286102295
           },
           "id": "20ac0e1d-1231-432c-8467-a4d4e95b42c5_s0",
           "incomingSections": null,
           "incomingShape": "6de6425e-4915-4e7c-81ee-f5033804c390",
           "outgoingSections": null,
           "outgoingShape": "1eeb90f4-e881-4c35-a4eb-6939b02bdd8f",
           "startPoint": {
            "x": 119.36197916666667,
            "y": 234.8906536102295
           }
          }
         ],
         "sources": [
          "6de6425e-4915-4e7c-81ee-f5033804c390"
         ],
         "targets": [
          "1eeb90f4-e881-4c35-a4eb-6939b02bdd8f"
         ]
        },
        {
         "id": "776037c3-244b-476f-8347-9d9551ed4823",
         "labels": [],
         "layoutOptions": {},
         "properties": {
          "cssClasses": "",
          "hidden": null,
          "key": null,
          "shape": {
           "end": "arrow",
           "start": null,
           "type": "edge"
          }
         },
         "sections": [
          {
           "bendPoints": [
            {
             "x": 339.4557253519694,
             "y": 305.9375286102295
            },
            {
             "x": 136.02864583333334,
             "y": 305.9375286102295
            }
           ],
           "endPoint": {
            "x": 136.02864583333334,
            "y": 315.9375286102295
           },
           "id": "776037c3-244b-476f-8347-9d9551ed4823_s0",
           "incomingSections": null,
           "incomingShape": "743d35c8-4188-4859-a745-2e9e0d8913a7",
           "outgoingSections": null,
           "outgoingShape": "1eeb90f4-e881-4c35-a4eb-6939b02bdd8f",
           "startPoint": {
            "x": 339.4557253519694,
            "y": 278.9375286102295
           }
          }
         ],
         "sources": [
          "743d35c8-4188-4859-a745-2e9e0d8913a7"
         ],
         "targets": [
          "1eeb90f4-e881-4c35-a4eb-6939b02bdd8f"
         ]
        },
        {
         "id": "5c459d39-af50-44b1-933a-01b5fa8e6073",
         "labels": [],
         "layoutOptions": {},
         "properties": {
          "cssClasses": "",
          "hidden": null,
          "key": null,
          "shape": {
           "end": "arrow",
           "start": null,
           "type": "edge"
          }
         },
         "sections": [
          {
           "bendPoints": null,
           "endPoint": {
            "x": 127.6953125,
            "y": 345.9375286102295
           },
           "id": "5c459d39-af50-44b1-933a-01b5fa8e6073_s0",
           "incomingSections": null,
           "incomingShape": "1eeb90f4-e881-4c35-a4eb-6939b02bdd8f",
           "outgoingSections": null,
           "outgoingShape": "13fdb280-b60f-4d63-99d4-c2a29b547e59.dd107b14-a9b0-4de0-b289-d7e706d32c6e",
           "startPoint": {
            "x": 127.6953125,
            "y": 325.9375286102295
           }
          }
         ],
         "sources": [
          "1eeb90f4-e881-4c35-a4eb-6939b02bdd8f"
         ],
         "targets": [
          "13fdb280-b60f-4d63-99d4-c2a29b547e59.dd107b14-a9b0-4de0-b289-d7e706d32c6e"
         ]
        },
        {
         "id": "160dde7a-1a47-46a7-bd06-f37fa04b6abc",
         "labels": [],
         "layoutOptions": {},
         "properties": {
          "cssClasses": "",
          "hidden": null,
          "key": null,
          "shape": {
           "end": "arrow",
           "start": null,
           "type": "edge"
          }
         },
         "sections": [
          {
           "bendPoints": [
            {
             "x": 438.4010378519694,
             "y": 355.9375286102295
            },
            {
             "x": 438.4010378519694,
             "y": 77.65625476837158
            },
            {
             "x": 219.54947916666669,
             "y": 77.65625476837158
            }
           ],
           "endPoint": {
            "x": 219.54947916666669,
            "y": 67.65625476837158
           },
           "id": "160dde7a-1a47-46a7-bd06-f37fa04b6abc_s0",
           "incomingSections": null,
           "incomingShape": "13fdb280-b60f-4d63-99d4-c2a29b547e59.a3443fce-0d52-4a6b-9555-696ec02dac03",
           "outgoingSections": null,
           "outgoingShape": "9268872c-3912-4943-b912-15539a575efe",
           "startPoint": {
            "x": 137.6953125,
            "y": 355.9375286102295
           }
          }
         ],
         "sources": [
          "13fdb280-b60f-4d63-99d4-c2a29b547e59.a3443fce-0d52-4a6b-9555-696ec02dac03"
         ],
         "targets": [
          "9268872c-3912-4943-b912-15539a575efe"
         ]
        },
        {
         "id": "7c19c2f2-478c-4c9d-907a-e8bb6e317a84",
         "labels": [],
         "layoutOptions": {},
         "properties": {
          "cssClasses": "",
          "hidden": null,
          "key": null,
          "shape": {
           "end": "arrow",
           "start": null,
           "type": "edge"
          }
         },
         "sections": [
          {
           "bendPoints": [
            {
             "x": 59.3515625,
             "y": 355.9375286102295
            }
           ],
           "endPoint": {
            "x": 59.3515625,
            "y": 390.5937833786011
           },
           "id": "7c19c2f2-478c-4c9d-907a-e8bb6e317a84_s0",
           "incomingSections": null,
           "incomingShape": "13fdb280-b60f-4d63-99d4-c2a29b547e59.3a8c4f08-6e62-4c9c-9e35-8e592f9d0686",
           "outgoingSections": null,
           "outgoingShape": "5398978f-fe43-4b30-aa7e-c8eb98ef8453",
           "startPoint": {
            "x": 117.6953125,
            "y": 355.9375286102295
           }
          }
         ],
         "sources": [
          "13fdb280-b60f-4d63-99d4-c2a29b547e59.3a8c4f08-6e62-4c9c-9e35-8e592f9d0686"
         ],
         "targets": [
          "5398978f-fe43-4b30-aa7e-c8eb98ef8453"
         ]
        },
        {
         "id": "5ec565ee-181c-4caf-9a05-f57864bbe5e2",
         "labels": [],
         "layoutOptions": {},
         "properties": {
          "cssClasses": "",
          "hidden": null,
          "key": null,
          "shape": {
           "end": "arrow",
           "start": null,
           "type": "edge"
          }
         },
         "sections": [
          {
           "bendPoints": null,
           "endPoint": {
            "x": 59.3515625,
            "y": 434.25003814697266
           },
           "id": "5ec565ee-181c-4caf-9a05-f57864bbe5e2_s0",
           "incomingSections": null,
           "incomingShape": "5398978f-fe43-4b30-aa7e-c8eb98ef8453",
           "outgoingSections": null,
           "outgoingShape": "6bd1893b-357b-4512-9f0e-8f600c07f65b",
           "startPoint": {
            "x": 59.3515625,
            "y": 414.25003814697266
           }
          }
         ],
         "sources": [
          "5398978f-fe43-4b30-aa7e-c8eb98ef8453"
         ],
         "targets": [
          "6bd1893b-357b-4512-9f0e-8f600c07f65b"
         ]
        }
       ],
       "height": 458.25003814697266,
       "id": "8fec86f7-24ee-4811-9da4-bb700f745e13",
       "labels": [],
       "layoutOptions": {
        "org.eclipse.elk.direction": "DOWN",
        "org.eclipse.elk.hierarchyHandling": "INCLUDE_CHILDREN"
       },
       "ports": [],
       "properties": {
        "cssClasses": "",
        "hidden": null,
        "key": null,
        "shape": null
       },
       "width": 451.4010378519694,
       "x": 0,
       "y": 0
      },
      "text/plain": [
       "<IPython.core.display.JSON object>"
      ]
     },
     "execution_count": 9,
     "metadata": {
      "application/json": {
       "expanded": false,
       "root": "root"
      }
     },
     "output_type": "execute_result"
    }
   ],
   "source": [
    "JSON(website_app.view.source.value.dict())"
   ]
  },
  {
   "cell_type": "code",
   "execution_count": 19,
   "metadata": {},
   "outputs": [
    {
     "ename": "AssertionError",
     "evalue": "Incoming port owned by different node",
     "output_type": "error",
     "traceback": [
      "\u001b[0;31m---------------------------------------------------------------------------\u001b[0m",
      "\u001b[0;31mAssertionError\u001b[0m                            Traceback (most recent call last)",
      "\u001b[0;32m<ipython-input-19-bfba379190ff>\u001b[0m in \u001b[0;36m<module>\u001b[0;34m\u001b[0m\n\u001b[1;32m      1\u001b[0m \u001b[0;34m[\u001b[0m\u001b[0mp0\u001b[0m\u001b[0;34m,\u001b[0m \u001b[0mp1\u001b[0m\u001b[0;34m,\u001b[0m \u001b[0mp2\u001b[0m\u001b[0;34m,\u001b[0m \u001b[0;34m*\u001b[0m\u001b[0mp\u001b[0m\u001b[0;34m]\u001b[0m \u001b[0;34m=\u001b[0m \u001b[0mwebsite_app\u001b[0m\u001b[0;34m.\u001b[0m\u001b[0mpipe\u001b[0m\u001b[0;34m.\u001b[0m\u001b[0mpipes\u001b[0m\u001b[0;34m\u001b[0m\u001b[0;34m\u001b[0m\u001b[0m\n\u001b[0;32m----> 2\u001b[0;31m \u001b[0mp0\u001b[0m\u001b[0;34m.\u001b[0m\u001b[0mapply_fixes\u001b[0m\u001b[0;34m(\u001b[0m\u001b[0;34m)\u001b[0m\u001b[0;34m\u001b[0m\u001b[0;34m\u001b[0m\u001b[0m\n\u001b[0m",
      "\u001b[0;32m~/Documents/ipyelk/py_src/ipyelk/pipes/valid.py\u001b[0m in \u001b[0;36mapply_fixes\u001b[0;34m(self)\u001b[0m\n\u001b[1;32m     67\u001b[0m         \u001b[0;32mif\u001b[0m \u001b[0mself\u001b[0m\u001b[0;34m.\u001b[0m\u001b[0medge_report\u001b[0m\u001b[0;34m.\u001b[0m\u001b[0morphans\u001b[0m \u001b[0;32mand\u001b[0m \u001b[0mself\u001b[0m\u001b[0;34m.\u001b[0m\u001b[0mfix_orphans\u001b[0m\u001b[0;34m:\u001b[0m\u001b[0;34m\u001b[0m\u001b[0;34m\u001b[0m\u001b[0m\n\u001b[1;32m     68\u001b[0m             \u001b[0;32mfor\u001b[0m \u001b[0mel\u001b[0m \u001b[0;32min\u001b[0m \u001b[0mself\u001b[0m\u001b[0;34m.\u001b[0m\u001b[0medge_report\u001b[0m\u001b[0;34m.\u001b[0m\u001b[0morphans\u001b[0m\u001b[0;34m:\u001b[0m\u001b[0;34m\u001b[0m\u001b[0;34m\u001b[0m\u001b[0m\n\u001b[0;32m---> 69\u001b[0;31m                 \u001b[0mroot\u001b[0m\u001b[0;34m.\u001b[0m\u001b[0madd_child\u001b[0m\u001b[0;34m(\u001b[0m\u001b[0mel\u001b[0m\u001b[0;34m)\u001b[0m\u001b[0;34m\u001b[0m\u001b[0;34m\u001b[0m\u001b[0m\n\u001b[0m\u001b[1;32m     70\u001b[0m \u001b[0;34m\u001b[0m\u001b[0m\n\u001b[1;32m     71\u001b[0m         \u001b[0;32mif\u001b[0m \u001b[0mself\u001b[0m\u001b[0;34m.\u001b[0m\u001b[0medge_report\u001b[0m\u001b[0;34m.\u001b[0m\u001b[0mlca_mismatch\u001b[0m \u001b[0;32mand\u001b[0m \u001b[0;32mnot\u001b[0m \u001b[0mself\u001b[0m\u001b[0;34m.\u001b[0m\u001b[0mfix_edge_owners\u001b[0m\u001b[0;34m:\u001b[0m\u001b[0;34m\u001b[0m\u001b[0;34m\u001b[0m\u001b[0m\n",
      "\u001b[0;32m~/Documents/ipyelk/py_src/ipyelk/elements/elements.py\u001b[0m in \u001b[0;36madd_child\u001b[0;34m(self, child, key)\u001b[0m\n\u001b[1;32m    332\u001b[0m \u001b[0;34m\u001b[0m\u001b[0m\n\u001b[1;32m    333\u001b[0m     \u001b[0;32mdef\u001b[0m \u001b[0madd_child\u001b[0m\u001b[0;34m(\u001b[0m\u001b[0mself\u001b[0m\u001b[0;34m,\u001b[0m \u001b[0mchild\u001b[0m\u001b[0;34m:\u001b[0m \u001b[0;34m\"Node\"\u001b[0m\u001b[0;34m,\u001b[0m \u001b[0mkey\u001b[0m\u001b[0;34m:\u001b[0m \u001b[0mOptional\u001b[0m\u001b[0;34m[\u001b[0m\u001b[0mstr\u001b[0m\u001b[0;34m]\u001b[0m \u001b[0;34m=\u001b[0m \u001b[0;32mNone\u001b[0m\u001b[0;34m)\u001b[0m \u001b[0;34m->\u001b[0m \u001b[0;34m\"Node\"\u001b[0m\u001b[0;34m:\u001b[0m\u001b[0;34m\u001b[0m\u001b[0;34m\u001b[0m\u001b[0m\n\u001b[0;32m--> 334\u001b[0;31m         \u001b[0mself\u001b[0m\u001b[0;34m.\u001b[0m\u001b[0mchildren\u001b[0m\u001b[0;34m.\u001b[0m\u001b[0mappend\u001b[0m\u001b[0;34m(\u001b[0m\u001b[0mchild\u001b[0m\u001b[0;34m.\u001b[0m\u001b[0mset_parent\u001b[0m\u001b[0;34m(\u001b[0m\u001b[0mself\u001b[0m\u001b[0;34m)\u001b[0m\u001b[0;34m.\u001b[0m\u001b[0mset_key\u001b[0m\u001b[0;34m(\u001b[0m\u001b[0mkey\u001b[0m\u001b[0;34m)\u001b[0m\u001b[0;34m)\u001b[0m\u001b[0;34m\u001b[0m\u001b[0;34m\u001b[0m\u001b[0m\n\u001b[0m\u001b[1;32m    335\u001b[0m         \u001b[0;32mreturn\u001b[0m \u001b[0mchild\u001b[0m\u001b[0;34m\u001b[0m\u001b[0;34m\u001b[0m\u001b[0m\n\u001b[1;32m    336\u001b[0m \u001b[0;34m\u001b[0m\u001b[0m\n",
      "\u001b[0;32m~/Documents/ipyelk/py_src/ipyelk/elements/elements.py\u001b[0m in \u001b[0;36mset_parent\u001b[0;34m(self, parent)\u001b[0m\n\u001b[1;32m    201\u001b[0m         assert (\n\u001b[1;32m    202\u001b[0m             \u001b[0mself\u001b[0m\u001b[0;34m.\u001b[0m\u001b[0m_parent\u001b[0m \u001b[0;32mis\u001b[0m \u001b[0;32mNone\u001b[0m \u001b[0;32mor\u001b[0m \u001b[0mself\u001b[0m\u001b[0;34m.\u001b[0m\u001b[0m_parent\u001b[0m \u001b[0;32mis\u001b[0m \u001b[0mparent\u001b[0m\u001b[0;34m\u001b[0m\u001b[0;34m\u001b[0m\u001b[0m\n\u001b[0;32m--> 203\u001b[0;31m         ), \"Incoming port owned by different node\"\n\u001b[0m\u001b[1;32m    204\u001b[0m         \u001b[0mself\u001b[0m\u001b[0;34m.\u001b[0m\u001b[0m_parent\u001b[0m \u001b[0;34m=\u001b[0m \u001b[0mparent\u001b[0m\u001b[0;34m\u001b[0m\u001b[0;34m\u001b[0m\u001b[0m\n\u001b[1;32m    205\u001b[0m         \u001b[0;32mreturn\u001b[0m \u001b[0mself\u001b[0m\u001b[0;34m\u001b[0m\u001b[0;34m\u001b[0m\u001b[0m\n",
      "\u001b[0;31mAssertionError\u001b[0m: Incoming port owned by different node"
     ]
    }
   ],
   "source": [
    "[p0, p1, p2, *p] = website_app.pipe.pipes\n",
    "p0.apply_fixes()"
   ]
  },
  {
   "cell_type": "code",
   "execution_count": null,
   "metadata": {},
   "outputs": [
    {
     "name": "stdout",
     "output_type": "stream",
     "text": [
      "> \u001b[0;32m/home/dfreeman6/Documents/ipyelk/py_src/ipyelk/elements/elements.py\u001b[0m(203)\u001b[0;36mset_parent\u001b[0;34m()\u001b[0m\n",
      "\u001b[0;32m    201 \u001b[0;31m        assert (\n",
      "\u001b[0m\u001b[0;32m    202 \u001b[0;31m            \u001b[0mself\u001b[0m\u001b[0;34m.\u001b[0m\u001b[0m_parent\u001b[0m \u001b[0;32mis\u001b[0m \u001b[0;32mNone\u001b[0m \u001b[0;32mor\u001b[0m \u001b[0mself\u001b[0m\u001b[0;34m.\u001b[0m\u001b[0m_parent\u001b[0m \u001b[0;32mis\u001b[0m \u001b[0mparent\u001b[0m\u001b[0;34m\u001b[0m\u001b[0;34m\u001b[0m\u001b[0m\n",
      "\u001b[0m\u001b[0;32m--> 203 \u001b[0;31m        ), \"Incoming port owned by different node\"\n",
      "\u001b[0m\u001b[0;32m    204 \u001b[0;31m        \u001b[0mself\u001b[0m\u001b[0;34m.\u001b[0m\u001b[0m_parent\u001b[0m \u001b[0;34m=\u001b[0m \u001b[0mparent\u001b[0m\u001b[0;34m\u001b[0m\u001b[0;34m\u001b[0m\u001b[0m\n",
      "\u001b[0m\u001b[0;32m    205 \u001b[0;31m        \u001b[0;32mreturn\u001b[0m \u001b[0mself\u001b[0m\u001b[0;34m\u001b[0m\u001b[0;34m\u001b[0m\u001b[0m\n",
      "\u001b[0m\n"
     ]
    },
    {
     "name": "stdin",
     "output_type": "stream",
     "text": [
      "ipdb>  self._parent\n"
     ]
    },
    {
     "name": "stdout",
     "output_type": "stream",
     "text": [
      "Activity(id=None, labels=[Label(id=None, labels=[], layoutOptions={'org.eclipse.elk.nodeLabels.placement': 'H_LEFT V_TOP INSIDE'}, metadata=ElementMetadata(), properties=LabelProperties(cssClasses='', shape=None, key=None, hidden=None, selectable=False), x=None, y=None, width=None, height=None, text='Register')], layoutOptions={'org.eclipse.elk.nodeSize.constraints': 'NODE_LABELS PORTS PORT_LABELS MINIMUM_SIZE'}, metadata=ElementMetadata(), properties=NodeProperties(cssClasses='activity-container', shape=Rect(type='node', x=None, y=None, width=None, height=None, use=None), key=None, hidden=None), x=None, y=None, width=None, height=None, ports=[], children=[Activity(id='db105ee8-8b22-4abd-a1b8-c8cc2f82058c', labels=[Label(id='0ad79a1e-b001-4e95-b580-f2698eee7533', labels=[], layoutOptions={'org.eclipse.elk.nodeLabels.placement': 'H_CENTER V_CENTER INSIDE'}, metadata=ElementMetadata(), properties=LabelProperties(cssClasses='', shape=None, key=None, hidden=None, selectable=False), x=None, y=None, width=None, height=None, text='Enter Registration Data')], layoutOptions={'org.eclipse.elk.nodeSize.constraints': 'NODE_LABELS PORTS PORT_LABELS MINIMUM_SIZE'}, metadata=ElementMetadata(), properties=NodeProperties(cssClasses='', shape=Ellipse(type='node:round', x=None, y=None, width=None, height=None, use=None, rx=0, ry=0), key='registration', hidden=None), x=None, y=None, width=None, height=None, ports=[], children=[], edges=[]), Activity(id='67690653-1ae6-4296-83d1-c46e65b1bc7b', labels=[Label(id='d4513554-a71f-4fa0-9f22-f1d0dc04e464', labels=[], layoutOptions={'org.eclipse.elk.nodeLabels.placement': 'H_CENTER V_CENTER INSIDE'}, metadata=ElementMetadata(), properties=LabelProperties(cssClasses='', shape=None, key=None, hidden=None, selectable=False), x=None, y=None, width=None, height=None, text='Receive Confirmation Email')], layoutOptions={'org.eclipse.elk.nodeSize.constraints': 'NODE_LABELS PORTS PORT_LABELS MINIMUM_SIZE'}, metadata=ElementMetadata(), properties=NodeProperties(cssClasses='', shape=Ellipse(type='node:round', x=None, y=None, width=None, height=None, use=None, rx=0, ry=0), key='confirm_email', hidden=None), x=None, y=None, width=None, height=None, ports=[], children=[], edges=[]), Activity(id='cbcbcc98-8a54-45ff-b7e7-7c8a9b758bae', labels=[Label(id='e5641c3d-ef65-4e82-a322-248e929e2782', labels=[], layoutOptions={'org.eclipse.elk.nodeLabels.placement': 'H_CENTER V_CENTER INSIDE'}, metadata=ElementMetadata(), properties=LabelProperties(cssClasses='', shape=None, key=None, hidden=None, selectable=False), x=None, y=None, width=None, height=None, text='Click Confirmation Link')], layoutOptions={'org.eclipse.elk.nodeSize.constraints': 'NODE_LABELS PORTS PORT_LABELS MINIMUM_SIZE'}, metadata=ElementMetadata(), properties=NodeProperties(cssClasses='', shape=Ellipse(type='node:round', x=None, y=None, width=None, height=None, use=None, rx=0, ry=0), key='confirm', hidden=None), x=None, y=None, width=None, height=None, ports=[], children=[], edges=[])], edges=[])\n"
     ]
    },
    {
     "name": "stdin",
     "output_type": "stream",
     "text": [
      "ipdb>  parent\n"
     ]
    },
    {
     "name": "stdout",
     "output_type": "stream",
     "text": [
      "ActivityDiagram(id='483ee0c2-f9a4-4929-8e4d-17e2307534cf', labels=[], layoutOptions={}, metadata=ElementMetadata(), properties=NodeProperties(cssClasses='', shape=None, key=None, hidden=None), x=None, y=None, width=None, height=None, ports=[], children=[EndActivity(id='6781d485-f9bc-4a42-a2fe-4ea571466701', labels=[], layoutOptions={}, metadata=ElementMetadata(), properties=NodeProperties(cssClasses='', shape=Use(type='node:use', x=None, y=None, width=12.0, height=12.0, use='final-state'), key=None, hidden=None), x=None, y=None, width=None, height=None, ports=[], children=[], edges=[]), StartActivity(id='c00cf9b3-f9eb-4d97-8f3a-0317b7b678b5', labels=[], layoutOptions={}, metadata=ElementMetadata(), properties=NodeProperties(cssClasses='', shape=Use(type='node:use', x=None, y=None, width=12.0, height=12.0, use='initial-state'), key=None, hidden=None), x=None, y=None, width=None, height=None, ports=[], children=[], edges=[]), StartActivity(id='c00cf9b3-f9eb-4d97-8f3a-0317b7b678b5', labels=[], layoutOptions={}, metadata=ElementMetadata(), properties=NodeProperties(cssClasses='', shape=Use(type='node:use', x=None, y=None, width=12.0, height=12.0, use='initial-state'), key=None, hidden=None), x=None, y=None, width=None, height=None, ports=[], children=[], edges=[])], edges=[SimpleArrow(id='d1b9ae48-5730-45e9-ae95-80a059929800', labels=[], layoutOptions={'org.eclipse.elk.layered.priority.direction': '10'}, metadata=ElementMetadata(), properties=EdgeProperties(cssClasses='', shape=EdgeShape(type='edge', start=None, end='arrow'), key=None, hidden=None), source=StartActivity(id='c00cf9b3-f9eb-4d97-8f3a-0317b7b678b5', labels=[], layoutOptions={}, metadata=ElementMetadata(), properties=NodeProperties(cssClasses='', shape=Use(type='node:use', x=None, y=None, width=12.0, height=12.0, use='initial-state'), key=None, hidden=None), x=None, y=None, width=None, height=None, ports=[], children=[], edges=[]), target=Activity(id='85000455-cbc0-4102-829a-4855f94f33f0', labels=[Label(id='c1c363b2-48c2-4109-bcbc-cbf320cbfbc1', labels=[], layoutOptions={'org.eclipse.elk.nodeLabels.placement': 'H_CENTER V_CENTER INSIDE'}, metadata=ElementMetadata(), properties=LabelProperties(cssClasses='', shape=None, key=None, hidden=None, selectable=False), x=None, y=None, width=None, height=None, text='Landing Page')], layoutOptions={'org.eclipse.elk.nodeSize.constraints': 'NODE_LABELS PORTS PORT_LABELS MINIMUM_SIZE'}, metadata=ElementMetadata(), properties=NodeProperties(cssClasses='', shape=Ellipse(type='node:round', x=None, y=None, width=None, height=None, use=None, rx=0, ry=0), key=None, hidden=None), x=None, y=None, width=None, height=None, ports=[], children=[], edges=[]), sections=None), SimpleArrow(id='8b72613f-80cf-4c6b-bcca-1175e7c2c731', labels=[], layoutOptions={'org.eclipse.elk.layered.priority.direction': '10'}, metadata=ElementMetadata(), properties=EdgeProperties(cssClasses='', shape=EdgeShape(type='edge', start=None, end='arrow'), key=None, hidden=None), source=Activity(id='85000455-cbc0-4102-829a-4855f94f33f0', labels=[Label(id='c1c363b2-48c2-4109-bcbc-cbf320cbfbc1', labels=[], layoutOptions={'org.eclipse.elk.nodeLabels.placement': 'H_CENTER V_CENTER INSIDE'}, metadata=ElementMetadata(), properties=LabelProperties(cssClasses='', shape=None, key=None, hidden=None, selectable=False), x=None, y=None, width=None, height=None, text='Landing Page')], layoutOptions={'org.eclipse.elk.nodeSize.constraints': 'NODE_LABELS PORTS PORT_LABELS MINIMUM_SIZE'}, metadata=ElementMetadata(), properties=NodeProperties(cssClasses='', shape=Ellipse(type='node:round', x=None, y=None, width=None, height=None, use=None, rx=0, ry=0), key=None, hidden=None), x=None, y=None, width=None, height=None, ports=[], children=[], edges=[]), target=Port(id='046d0907-4495-45e6-b025-7d34756b4edd.e587d42e-fc7d-4ed8-9d23-b6c4b11e9255', labels=[], layoutOptions={'org.eclipse.elk.port.side': 'NORTH'}, metadata=ElementMetadata(), properties=PortProperties(cssClasses='', shape=PortShape(type='port', x=None, y=None, width=0.0, height=0.0, use=None), key='input', hidden=None), x=None, y=None, width=None, height=None), sections=None), SimpleArrow(id='f65efdb1-266c-4838-99a3-07fa12fc6adf', labels=[], layoutOptions={}, metadata=ElementMetadata(), properties=EdgeProperties(cssClasses='', shape=EdgeShape(type='edge', start=None, end='arrow'), key=None, hidden=None), source=Port(id='046d0907-4495-45e6-b025-7d34756b4edd.c1292ba8-8238-43b2-9f68-e456bf3eb2b9', labels=[Label(id='334f33cc-0381-407a-8e04-02f919faed8c', labels=[], layoutOptions={}, metadata=ElementMetadata(), properties=LabelProperties(cssClasses='', shape=None, key=None, hidden=None, selectable=False), x=None, y=None, width=None, height=None, text='registered')], layoutOptions={'org.eclipse.elk.port.side': 'WEST'}, metadata=ElementMetadata(), properties=PortProperties(cssClasses='', shape=PortShape(type='port', x=None, y=None, width=0.0, height=0.0, use=None), key='true', hidden=None), x=None, y=None, width=None, height=None), target=Activity(id='cc530efc-7eb5-41ca-8f4c-0d7cc0a7daa7', labels=[Label(id='3da33712-7406-426f-8707-86f3b1ab0a5f', labels=[], layoutOptions={'org.eclipse.elk.nodeLabels.placement': 'H_CENTER V_CENTER INSIDE'}, metadata=ElementMetadata(), properties=LabelProperties(cssClasses='', shape=None, key=None, hidden=None, selectable=False), x=None, y=None, width=None, height=None, text='Enter Credentials')], layoutOptions={'org.eclipse.elk.nodeSize.constraints': 'NODE_LABELS PORTS PORT_LABELS MINIMUM_SIZE'}, metadata=ElementMetadata(), properties=NodeProperties(cssClasses='', shape=Ellipse(type='node:round', x=None, y=None, width=None, height=None, use=None, rx=0, ry=0), key='cred', hidden=None), x=None, y=None, width=None, height=None, ports=[], children=[], edges=[]), sections=None), SimpleArrow(id='647af2b5-c693-45fc-9870-832a60c7c216', labels=[], layoutOptions={}, metadata=ElementMetadata(), properties=EdgeProperties(cssClasses='', shape=EdgeShape(type='edge', start=None, end='arrow'), key=None, hidden=None), source=Port(id='046d0907-4495-45e6-b025-7d34756b4edd.ed027768-d2e9-4ce8-a64a-becd5be14a71', labels=[Label(id='04309a1c-7627-4f22-b310-66ff50d5a158', labels=[], layoutOptions={}, metadata=ElementMetadata(), properties=LabelProperties(cssClasses='', shape=None, key=None, hidden=None, selectable=False), x=None, y=None, width=None, height=None, text='not registered')], layoutOptions={'org.eclipse.elk.port.side': 'EAST'}, metadata=ElementMetadata(), properties=PortProperties(cssClasses='', shape=PortShape(type='port', x=None, y=None, width=0.0, height=0.0, use=None), key='false', hidden=None), x=None, y=None, width=None, height=None), target=Activity(id='db105ee8-8b22-4abd-a1b8-c8cc2f82058c', labels=[Label(id='0ad79a1e-b001-4e95-b580-f2698eee7533', labels=[], layoutOptions={'org.eclipse.elk.nodeLabels.placement': 'H_CENTER V_CENTER INSIDE'}, metadata=ElementMetadata(), properties=LabelProperties(cssClasses='', shape=None, key=None, hidden=None, selectable=False), x=None, y=None, width=None, height=None, text='Enter Registration Data')], layoutOptions={'org.eclipse.elk.nodeSize.constraints': 'NODE_LABELS PORTS PORT_LABELS MINIMUM_SIZE'}, metadata=ElementMetadata(), properties=NodeProperties(cssClasses='', shape=Ellipse(type='node:round', x=None, y=None, width=None, height=None, use=None, rx=0, ry=0), key='registration', hidden=None), x=None, y=None, width=None, height=None, ports=[], children=[], edges=[]), sections=None), SimpleArrow(id='5aa11a90-2fa2-4561-9ed8-e36520f562f7', labels=[], layoutOptions={}, metadata=ElementMetadata(), properties=EdgeProperties(cssClasses='', shape=EdgeShape(type='edge', start=None, end='arrow'), key=None, hidden=None), source=Activity(id='db105ee8-8b22-4abd-a1b8-c8cc2f82058c', labels=[Label(id='0ad79a1e-b001-4e95-b580-f2698eee7533', labels=[], layoutOptions={'org.eclipse.elk.nodeLabels.placement': 'H_CENTER V_CENTER INSIDE'}, metadata=ElementMetadata(), properties=LabelProperties(cssClasses='', shape=None, key=None, hidden=None, selectable=False), x=None, y=None, width=None, height=None, text='Enter Registration Data')], layoutOptions={'org.eclipse.elk.nodeSize.constraints': 'NODE_LABELS PORTS PORT_LABELS MINIMUM_SIZE'}, metadata=ElementMetadata(), properties=NodeProperties(cssClasses='', shape=Ellipse(type='node:round', x=None, y=None, width=None, height=None, use=None, rx=0, ry=0), key='registration', hidden=None), x=None, y=None, width=None, height=None, ports=[], children=[], edges=[]), target=Activity(id='67690653-1ae6-4296-83d1-c46e65b1bc7b', labels=[Label(id='d4513554-a71f-4fa0-9f22-f1d0dc04e464', labels=[], layoutOptions={'org.eclipse.elk.nodeLabels.placement': 'H_CENTER V_CENTER INSIDE'}, metadata=ElementMetadata(), properties=LabelProperties(cssClasses='', shape=None, key=None, hidden=None, selectable=False), x=None, y=None, width=None, height=None, text='Receive Confirmation Email')], layoutOptions={'org.eclipse.elk.nodeSize.constraints': 'NODE_LABELS PORTS PORT_LABELS MINIMUM_SIZE'}, metadata=ElementMetadata(), properties=NodeProperties(cssClasses='', shape=Ellipse(type='node:round', x=None, y=None, width=None, height=None, use=None, rx=0, ry=0), key='confirm_email', hidden=None), x=None, y=None, width=None, height=None, ports=[], children=[], edges=[]), sections=None), SimpleArrow(id='86a53d8a-d0a2-431b-99f1-3436b416f1af', labels=[], layoutOptions={}, metadata=ElementMetadata(), properties=EdgeProperties(cssClasses='', shape=EdgeShape(type='edge', start=None, end='arrow'), key=None, hidden=None), source=Activity(id='67690653-1ae6-4296-83d1-c46e65b1bc7b', labels=[Label(id='d4513554-a71f-4fa0-9f22-f1d0dc04e464', labels=[], layoutOptions={'org.eclipse.elk.nodeLabels.placement': 'H_CENTER V_CENTER INSIDE'}, metadata=ElementMetadata(), properties=LabelProperties(cssClasses='', shape=None, key=None, hidden=None, selectable=False), x=None, y=None, width=None, height=None, text='Receive Confirmation Email')], layoutOptions={'org.eclipse.elk.nodeSize.constraints': 'NODE_LABELS PORTS PORT_LABELS MINIMUM_SIZE'}, metadata=ElementMetadata(), properties=NodeProperties(cssClasses='', shape=Ellipse(type='node:round', x=None, y=None, width=None, height=None, use=None, rx=0, ry=0), key='confirm_email', hidden=None), x=None, y=None, width=None, height=None, ports=[], children=[], edges=[]), target=Activity(id='cbcbcc98-8a54-45ff-b7e7-7c8a9b758bae', labels=[Label(id='e5641c3d-ef65-4e82-a322-248e929e2782', labels=[], layoutOptions={'org.eclipse.elk.nodeLabels.placement': 'H_CENTER V_CENTER INSIDE'}, metadata=ElementMetadata(), properties=LabelProperties(cssClasses='', shape=None, key=None, hidden=None, selectable=False), x=None, y=None, width=None, height=None, text='Click Confirmation Link')], layoutOptions={'org.eclipse.elk.nodeSize.constraints': 'NODE_LABELS PORTS PORT_LABELS MINIMUM_SIZE'}, metadata=ElementMetadata(), properties=NodeProperties(cssClasses='', shape=Ellipse(type='node:round', x=None, y=None, width=None, height=None, use=None, rx=0, ry=0), key='confirm', hidden=None), x=None, y=None, width=None, height=None, ports=[], children=[], edges=[]), sections=None), SimpleArrow(id='73e02777-54b7-4826-a1e0-252c18ef742b', labels=[], layoutOptions={}, metadata=ElementMetadata(), properties=EdgeProperties(cssClasses='', shape=EdgeShape(type='edge', start=None, end='arrow'), key=None, hidden=None), source=Activity(id='cc530efc-7eb5-41ca-8f4c-0d7cc0a7daa7', labels=[Label(id='3da33712-7406-426f-8707-86f3b1ab0a5f', labels=[], layoutOptions={'org.eclipse.elk.nodeLabels.placement': 'H_CENTER V_CENTER INSIDE'}, metadata=ElementMetadata(), properties=LabelProperties(cssClasses='', shape=None, key=None, hidden=None, selectable=False), x=None, y=None, width=None, height=None, text='Enter Credentials')], layoutOptions={'org.eclipse.elk.nodeSize.constraints': 'NODE_LABELS PORTS PORT_LABELS MINIMUM_SIZE'}, metadata=ElementMetadata(), properties=NodeProperties(cssClasses='', shape=Ellipse(type='node:round', x=None, y=None, width=None, height=None, use=None, rx=0, ry=0), key='cred', hidden=None), x=None, y=None, width=None, height=None, ports=[], children=[], edges=[]), target=Merge(id='7b28462e-2711-4f7b-9542-9560bf101cea', labels=[], layoutOptions={}, metadata=ElementMetadata(), properties=NodeProperties(cssClasses='activity-filled', shape=Rect(type='node', x=None, y=None, width=50.0, height=10.0, use=None), key=None, hidden=None), x=None, y=None, width=None, height=None, ports=[], children=[], edges=[]), sections=None), SimpleArrow(id='96f3274f-d659-4065-9a45-ee57dc7c3f47', labels=[], layoutOptions={}, metadata=ElementMetadata(), properties=EdgeProperties(cssClasses='', shape=EdgeShape(type='edge', start=None, end='arrow'), key=None, hidden=None), source=Activity(id='cbcbcc98-8a54-45ff-b7e7-7c8a9b758bae', labels=[Label(id='e5641c3d-ef65-4e82-a322-248e929e2782', labels=[], layoutOptions={'org.eclipse.elk.nodeLabels.placement': 'H_CENTER V_CENTER INSIDE'}, metadata=ElementMetadata(), properties=LabelProperties(cssClasses='', shape=None, key=None, hidden=None, selectable=False), x=None, y=None, width=None, height=None, text='Click Confirmation Link')], layoutOptions={'org.eclipse.elk.nodeSize.constraints': 'NODE_LABELS PORTS PORT_LABELS MINIMUM_SIZE'}, metadata=ElementMetadata(), properties=NodeProperties(cssClasses='', shape=Ellipse(type='node:round', x=None, y=None, width=None, height=None, use=None, rx=0, ry=0), key='confirm', hidden=None), x=None, y=None, width=None, height=None, ports=[], children=[], edges=[]), target=Merge(id='7b28462e-2711-4f7b-9542-9560bf101cea', labels=[], layoutOptions={}, metadata=ElementMetadata(), properties=NodeProperties(cssClasses='activity-filled', shape=Rect(type='node', x=None, y=None, width=50.0, height=10.0, use=None), key=None, hidden=None), x=None, y=None, width=None, height=None, ports=[], children=[], edges=[]), sections=None), SimpleArrow(id='6adaeea6-f7c4-4acc-885b-5eff2a9e8896', labels=[], layoutOptions={}, metadata=ElementMetadata(), properties=EdgeProperties(cssClasses='', shape=EdgeShape(type='edge', start=None, end='arrow'), key=None, hidden=None), source=Merge(id='7b28462e-2711-4f7b-9542-9560bf101cea', labels=[], layoutOptions={}, metadata=ElementMetadata(), properties=NodeProperties(cssClasses='activity-filled', shape=Rect(type='node', x=None, y=None, width=50.0, height=10.0, use=None), key=None, hidden=None), x=None, y=None, width=None, height=None, ports=[], children=[], edges=[]), target=Port(id='f6f78e47-aa31-442f-958c-dd0c174889b1.a0020368-4fce-4291-9aca-5dc2d40ad285', labels=[], layoutOptions={'org.eclipse.elk.port.side': 'NORTH'}, metadata=ElementMetadata(), properties=PortProperties(cssClasses='', shape=PortShape(type='port', x=None, y=None, width=0.0, height=0.0, use=None), key='input', hidden=None), x=None, y=None, width=None, height=None), sections=None), SimpleArrow(id='06d7c002-10ee-4a32-87d5-c58525549f86', labels=[], layoutOptions={}, metadata=ElementMetadata(), properties=EdgeProperties(cssClasses='', shape=EdgeShape(type='edge', start=None, end='arrow'), key=None, hidden=None), source=Port(id='f6f78e47-aa31-442f-958c-dd0c174889b1.7b8f5324-23a2-493a-a6ee-38ef6f33bff5', labels=[Label(id='d61c916e-ed0e-4e09-abbc-26ac50836418', labels=[], layoutOptions={}, metadata=ElementMetadata(), properties=LabelProperties(cssClasses='', shape=None, key=None, hidden=None, selectable=False), x=None, y=None, width=None, height=None, text='not logged in')], layoutOptions={'org.eclipse.elk.port.side': 'EAST'}, metadata=ElementMetadata(), properties=PortProperties(cssClasses='', shape=PortShape(type='port', x=None, y=None, width=0.0, height=0.0, use=None), key='false', hidden=None), x=None, y=None, width=None, height=None), target=Activity(id='85000455-cbc0-4102-829a-4855f94f33f0', labels=[Label(id='c1c363b2-48c2-4109-bcbc-cbf320cbfbc1', labels=[], layoutOptions={'org.eclipse.elk.nodeLabels.placement': 'H_CENTER V_CENTER INSIDE'}, metadata=ElementMetadata(), properties=LabelProperties(cssClasses='', shape=None, key=None, hidden=None, selectable=False), x=None, y=None, width=None, height=None, text='Landing Page')], layoutOptions={'org.eclipse.elk.nodeSize.constraints': 'NODE_LABELS PORTS PORT_LABELS MINIMUM_SIZE'}, metadata=ElementMetadata(), properties=NodeProperties(cssClasses='', shape=Ellipse(type='node:round', x=None, y=None, width=None, height=None, use=None, rx=0, ry=0), key=None, hidden=None), x=None, y=None, width=None, height=None, ports=[], children=[], edges=[]), sections=None), SimpleArrow(id='cf9635e7-2e5e-4148-be7f-da76f9283b67', labels=[], layoutOptions={}, metadata=ElementMetadata(), properties=EdgeProperties(cssClasses='', shape=EdgeShape(type='edge', start=None, end='arrow'), key=None, hidden=None), source=Port(id='f6f78e47-aa31-442f-958c-dd0c174889b1.d0bb3d24-e76a-4b58-8975-8c092306c289', labels=[Label(id='aad58fa8-0b04-437e-ab0e-5cd5818e6f69', labels=[], layoutOptions={}, metadata=ElementMetadata(), properties=LabelProperties(cssClasses='', shape=None, key=None, hidden=None, selectable=False), x=None, y=None, width=None, height=None, text='logged in')], layoutOptions={'org.eclipse.elk.port.side': 'WEST'}, metadata=ElementMetadata(), properties=PortProperties(cssClasses='', shape=PortShape(type='port', x=None, y=None, width=0.0, height=0.0, use=None), key='true', hidden=None), x=None, y=None, width=None, height=None), target=Activity(id='3619b64d-997a-4c3b-add0-0fca40ae457b', labels=[Label(id='24ad2461-ddfa-4b12-b92c-8aa00d87a5b0', labels=[], layoutOptions={'org.eclipse.elk.nodeLabels.placement': 'H_CENTER V_CENTER INSIDE'}, metadata=ElementMetadata(), properties=LabelProperties(cssClasses='', shape=None, key=None, hidden=None, selectable=False), x=None, y=None, width=None, height=None, text='Explore Website')], layoutOptions={'org.eclipse.elk.nodeSize.constraints': 'NODE_LABELS PORTS PORT_LABELS MINIMUM_SIZE'}, metadata=ElementMetadata(), properties=NodeProperties(cssClasses='', shape=Ellipse(type='node:round', x=None, y=None, width=None, height=None, use=None, rx=0, ry=0), key=None, hidden=None), x=None, y=None, width=None, height=None, ports=[], children=[], edges=[]), sections=None), SimpleArrow(id='c5fc7445-cc89-4c58-b6c4-6bbf14166031', labels=[], layoutOptions={}, metadata=ElementMetadata(), properties=EdgeProperties(cssClasses='', shape=EdgeShape(type='edge', start=None, end='arrow'), key=None, hidden=None), source=Activity(id='3619b64d-997a-4c3b-add0-0fca40ae457b', labels=[Label(id='24ad2461-ddfa-4b12-b92c-8aa00d87a5b0', labels=[], layoutOptions={'org.eclipse.elk.nodeLabels.placement': 'H_CENTER V_CENTER INSIDE'}, metadata=ElementMetadata(), properties=LabelProperties(cssClasses='', shape=None, key=None, hidden=None, selectable=False), x=None, y=None, width=None, height=None, text='Explore Website')], layoutOptions={'org.eclipse.elk.nodeSize.constraints': 'NODE_LABELS PORTS PORT_LABELS MINIMUM_SIZE'}, metadata=ElementMetadata(), properties=NodeProperties(cssClasses='', shape=Ellipse(type='node:round', x=None, y=None, width=None, height=None, use=None, rx=0, ry=0), key=None, hidden=None), x=None, y=None, width=None, height=None, ports=[], children=[], edges=[]), target=EndActivity(id='6781d485-f9bc-4a42-a2fe-4ea571466701', labels=[], layoutOptions={}, metadata=ElementMetadata(), properties=NodeProperties(cssClasses='', shape=Use(type='node:use', x=None, y=None, width=12.0, height=12.0, use='final-state'), key=None, hidden=None), x=None, y=None, width=None, height=None, ports=[], children=[], edges=[]), sections=None)], default_edge=<class 'ipyelk.contrib.library.activity.SimpleArrow'>, symbols=SymbolSpec(library={'initial-state': Symbol(identifier='initial-state', element=Node(id=None, labels=[], layoutOptions={}, metadata=ElementMetadata(), properties=NodeProperties(cssClasses='', shape=Circle(type='node:round', x=None, y=None, width=12.0, height=12.0, use=None, radius=6.0), key=None, hidden=None), x=None, y=None, width=None, height=None, ports=[], children=[], edges=[]), width=12.0, height=12.0, x=0, y=0), 'exit-state': Symbol(identifier='exit-state', element=Node(id=None, labels=[], layoutOptions={}, metadata=ElementMetadata(), properties=NodeProperties(cssClasses='', shape=None, key=None, hidden=None), x=None, y=None, width=None, height=None, ports=[], children=[Node(id=None, labels=[], layoutOptions={}, metadata=ElementMetadata(), properties=NodeProperties(cssClasses='', shape=Circle(type='node:round', x=None, y=None, width=12.0, height=12.0, use=None, radius=6.0), key=None, hidden=None), x=None, y=None, width=None, height=None, ports=[], children=[], edges=[]), Node(id=None, labels=[], layoutOptions={}, metadata=ElementMetadata(), properties=NodeProperties(cssClasses='', shape=Path(type='node:path', x=None, y=None, width=None, height=None, use='M10.242640687119286,10.242640687119286L1.7573593128807143,1.7573593128807143'), key=None, hidden=None), x=None, y=None, width=None, height=None, ports=[], children=[], edges=[]), Node(id=None, labels=[], layoutOptions={}, metadata=ElementMetadata(), properties=NodeProperties(cssClasses='', shape=Path(type='node:path', x=None, y=None, width=None, height=None, use='M1.7573593128807143,10.242640687119286L10.242640687119286,1.7573593128807143'), key=None, hidden=None), x=None, y=None, width=None, height=None, ports=[], children=[], edges=[])], edges=[]), width=12.0, height=12.0, x=0, y=0), 'final-state': Symbol(identifier='final-state', element=Node(id=None, labels=[], layoutOptions={}, metadata=ElementMetadata(), properties=NodeProperties(cssClasses='', shape=None, key=None, hidden=None), x=None, y=None, width=None, height=None, ports=[], children=[Node(id=None, labels=[], layoutOptions={}, metadata=ElementMetadata(), properties=NodeProperties(cssClasses='', shape=Circle(type='node:round', x=None, y=None, width=12.0, height=12.0, use=None, radius=6.0), key=None, hidden=None), x=None, y=None, width=None, height=None, ports=[], children=[], edges=[]), Node(id=None, labels=[], layoutOptions={}, metadata=ElementMetadata(), properties=NodeProperties(cssClasses='inner-circle', shape=Circle(type='node:round', x=6.0, y=6.0, width=6.0, height=6.0, use=None, radius=3.0), key=None, hidden=None), x=None, y=None, width=None, height=None, ports=[], children=[], edges=[])], edges=[]), width=12.0, height=12.0, x=0, y=0), 'arrow': EndpointSymbol(identifier='arrow', element=Node(id=None, labels=[], layoutOptions={}, metadata=ElementMetadata(), properties=NodeProperties(cssClasses='', shape=Path(type='node:path', x=None, y=None, width=None, height=None, use='M4,-4L0,0L4,4'), key=None, hidden=None), x=None, y=None, width=None, height=None, ports=[], children=[], edges=[]), width=0, height=0, x=0, y=0, path_offset=Point(x=-1.0, y=0.0), symbol_offset=Point(x=-1.0, y=0.0))}), style={' .final-state .inner-circle': {'fill': 'var(--jp-elk-node-stroke)'}, ' .activity-filled .elknode': {'fill': 'var(--jp-elk-node-stroke)'}, ' .activity-container > .elknode': {'rx': 'var(--jp-code-font-size)'}})\n"
     ]
    },
    {
     "name": "stdin",
     "output_type": "stream",
     "text": [
      "ipdb>  ll\n"
     ]
    },
    {
     "name": "stdout",
     "output_type": "stream",
     "text": [
      "\u001b[1;32m    200 \u001b[0m    \u001b[0;32mdef\u001b[0m \u001b[0mset_parent\u001b[0m\u001b[0;34m(\u001b[0m\u001b[0mself\u001b[0m\u001b[0;34m,\u001b[0m \u001b[0mparent\u001b[0m\u001b[0;34m:\u001b[0m \u001b[0mOptional\u001b[0m\u001b[0;34m[\u001b[0m\u001b[0;34m\"Node\"\u001b[0m\u001b[0;34m]\u001b[0m\u001b[0;34m)\u001b[0m\u001b[0;34m:\u001b[0m\u001b[0;34m\u001b[0m\u001b[0;34m\u001b[0m\u001b[0m\n",
      "\u001b[1;32m    201 \u001b[0m        assert (\n",
      "\u001b[1;32m    202 \u001b[0m            \u001b[0mself\u001b[0m\u001b[0;34m.\u001b[0m\u001b[0m_parent\u001b[0m \u001b[0;32mis\u001b[0m \u001b[0;32mNone\u001b[0m \u001b[0;32mor\u001b[0m \u001b[0mself\u001b[0m\u001b[0;34m.\u001b[0m\u001b[0m_parent\u001b[0m \u001b[0;32mis\u001b[0m \u001b[0mparent\u001b[0m\u001b[0;34m\u001b[0m\u001b[0;34m\u001b[0m\u001b[0m\n",
      "\u001b[0;32m--> 203 \u001b[0;31m        ), \"Incoming port owned by different node\"\n",
      "\u001b[0m\u001b[1;32m    204 \u001b[0m        \u001b[0mself\u001b[0m\u001b[0;34m.\u001b[0m\u001b[0m_parent\u001b[0m \u001b[0;34m=\u001b[0m \u001b[0mparent\u001b[0m\u001b[0;34m\u001b[0m\u001b[0;34m\u001b[0m\u001b[0m\n",
      "\u001b[1;32m    205 \u001b[0m        \u001b[0;32mreturn\u001b[0m \u001b[0mself\u001b[0m\u001b[0;34m\u001b[0m\u001b[0;34m\u001b[0m\u001b[0m\n",
      "\u001b[1;32m    206 \u001b[0m\u001b[0;34m\u001b[0m\u001b[0m\n",
      "\n"
     ]
    },
    {
     "name": "stdin",
     "output_type": "stream",
     "text": [
      "ipdb>  parent.id\n"
     ]
    },
    {
     "name": "stdout",
     "output_type": "stream",
     "text": [
      "'483ee0c2-f9a4-4929-8e4d-17e2307534cf'\n"
     ]
    },
    {
     "name": "stdin",
     "output_type": "stream",
     "text": [
      "ipdb>  self._parent.id\n",
      "ipdb>  type(self._parent)\n"
     ]
    },
    {
     "name": "stdout",
     "output_type": "stream",
     "text": [
      "<class 'ipyelk.contrib.library.activity.Activity'>\n"
     ]
    },
    {
     "name": "stdin",
     "output_type": "stream",
     "text": [
      "ipdb>  type(parent)\n"
     ]
    },
    {
     "name": "stdout",
     "output_type": "stream",
     "text": [
      "<class 'ipyelk.contrib.library.activity.ActivityDiagram'>\n"
     ]
    }
   ],
   "source": [
    "%debug"
   ]
  },
  {
   "cell_type": "code",
   "execution_count": null,
   "metadata": {},
   "outputs": [],
   "source": [
    "from ipyelk.elements import iter_elements\n",
    "iter_elements"
   ]
  },
  {
   "cell_type": "code",
   "execution_count": 10,
   "metadata": {},
   "outputs": [
    {
     "data": {
      "text/plain": [
       "ActivityDiagram(id=None, labels=[], layoutOptions={}, metadata=ElementMetadata(), properties=NodeProperties(cssClasses='', shape=None, key=None, hidden=None), x=None, y=None, width=None, height=None, ports=[], children=[], edges=[SimpleArrow(id=None, labels=[], layoutOptions={'org.eclipse.elk.layered.priority.direction': '10'}, metadata=ElementMetadata(), properties=EdgeProperties(cssClasses='', shape=EdgeShape(type='edge', start=None, end='arrow'), key=None, hidden=None), source=StartActivity(id=None, labels=[], layoutOptions={}, metadata=ElementMetadata(), properties=NodeProperties(cssClasses='', shape=Use(type='node:use', x=None, y=None, width=12.0, height=12.0, use='initial-state'), key=None, hidden=None), x=None, y=None, width=None, height=None, ports=[], children=[], edges=[]), target=Activity(id=None, labels=[Label(id=None, labels=[], layoutOptions={'org.eclipse.elk.nodeLabels.placement': 'H_CENTER V_CENTER INSIDE'}, metadata=ElementMetadata(), properties=LabelProperties(cssClasses='', shape=None, key=None, hidden=None, selectable=False), x=None, y=None, width=None, height=None, text='Landing Page')], layoutOptions={'org.eclipse.elk.nodeSize.constraints': 'NODE_LABELS PORTS PORT_LABELS MINIMUM_SIZE'}, metadata=ElementMetadata(), properties=NodeProperties(cssClasses='', shape=Ellipse(type='node:round', x=None, y=None, width=None, height=None, use=None, rx=0, ry=0), key=None, hidden=None), x=None, y=None, width=None, height=None, ports=[], children=[], edges=[]), sections=None), SimpleArrow(id=None, labels=[], layoutOptions={'org.eclipse.elk.layered.priority.direction': '10'}, metadata=ElementMetadata(), properties=EdgeProperties(cssClasses='', shape=EdgeShape(type='edge', start=None, end='arrow'), key=None, hidden=None), source=Activity(id=None, labels=[Label(id=None, labels=[], layoutOptions={'org.eclipse.elk.nodeLabels.placement': 'H_CENTER V_CENTER INSIDE'}, metadata=ElementMetadata(), properties=LabelProperties(cssClasses='', shape=None, key=None, hidden=None, selectable=False), x=None, y=None, width=None, height=None, text='Landing Page')], layoutOptions={'org.eclipse.elk.nodeSize.constraints': 'NODE_LABELS PORTS PORT_LABELS MINIMUM_SIZE'}, metadata=ElementMetadata(), properties=NodeProperties(cssClasses='', shape=Ellipse(type='node:round', x=None, y=None, width=None, height=None, use=None, rx=0, ry=0), key=None, hidden=None), x=None, y=None, width=None, height=None, ports=[], children=[], edges=[]), target=Port(id=None, labels=[], layoutOptions={'org.eclipse.elk.port.side': 'NORTH'}, metadata=ElementMetadata(), properties=PortProperties(cssClasses='', shape=PortShape(type='port', x=None, y=None, width=0.0, height=0.0, use=None), key='input', hidden=None), x=None, y=None, width=None, height=None), sections=None), SimpleArrow(id=None, labels=[], layoutOptions={}, metadata=ElementMetadata(), properties=EdgeProperties(cssClasses='', shape=EdgeShape(type='edge', start=None, end='arrow'), key=None, hidden=None), source=Port(id=None, labels=[Label(id=None, labels=[], layoutOptions={}, metadata=ElementMetadata(), properties=LabelProperties(cssClasses='', shape=None, key=None, hidden=None, selectable=False), x=None, y=None, width=None, height=None, text='registered')], layoutOptions={'org.eclipse.elk.port.side': 'WEST'}, metadata=ElementMetadata(), properties=PortProperties(cssClasses='', shape=PortShape(type='port', x=None, y=None, width=0.0, height=0.0, use=None), key='true', hidden=None), x=None, y=None, width=None, height=None), target=Activity(id=None, labels=[Label(id=None, labels=[], layoutOptions={'org.eclipse.elk.nodeLabels.placement': 'H_CENTER V_CENTER INSIDE'}, metadata=ElementMetadata(), properties=LabelProperties(cssClasses='', shape=None, key=None, hidden=None, selectable=False), x=None, y=None, width=None, height=None, text='Enter Credentials')], layoutOptions={'org.eclipse.elk.nodeSize.constraints': 'NODE_LABELS PORTS PORT_LABELS MINIMUM_SIZE'}, metadata=ElementMetadata(), properties=NodeProperties(cssClasses='', shape=Ellipse(type='node:round', x=None, y=None, width=None, height=None, use=None, rx=0, ry=0), key='cred', hidden=None), x=None, y=None, width=None, height=None, ports=[], children=[], edges=[]), sections=None), SimpleArrow(id=None, labels=[], layoutOptions={}, metadata=ElementMetadata(), properties=EdgeProperties(cssClasses='', shape=EdgeShape(type='edge', start=None, end='arrow'), key=None, hidden=None), source=Port(id=None, labels=[Label(id=None, labels=[], layoutOptions={}, metadata=ElementMetadata(), properties=LabelProperties(cssClasses='', shape=None, key=None, hidden=None, selectable=False), x=None, y=None, width=None, height=None, text='not registered')], layoutOptions={'org.eclipse.elk.port.side': 'EAST'}, metadata=ElementMetadata(), properties=PortProperties(cssClasses='', shape=PortShape(type='port', x=None, y=None, width=0.0, height=0.0, use=None), key='false', hidden=None), x=None, y=None, width=None, height=None), target=Activity(id=None, labels=[Label(id=None, labels=[], layoutOptions={'org.eclipse.elk.nodeLabels.placement': 'H_CENTER V_CENTER INSIDE'}, metadata=ElementMetadata(), properties=LabelProperties(cssClasses='', shape=None, key=None, hidden=None, selectable=False), x=None, y=None, width=None, height=None, text='Enter Registration Data')], layoutOptions={'org.eclipse.elk.nodeSize.constraints': 'NODE_LABELS PORTS PORT_LABELS MINIMUM_SIZE'}, metadata=ElementMetadata(), properties=NodeProperties(cssClasses='', shape=Ellipse(type='node:round', x=None, y=None, width=None, height=None, use=None, rx=0, ry=0), key='registration', hidden=None), x=None, y=None, width=None, height=None, ports=[], children=[], edges=[]), sections=None), SimpleArrow(id=None, labels=[], layoutOptions={}, metadata=ElementMetadata(), properties=EdgeProperties(cssClasses='', shape=EdgeShape(type='edge', start=None, end='arrow'), key=None, hidden=None), source=Activity(id=None, labels=[Label(id=None, labels=[], layoutOptions={'org.eclipse.elk.nodeLabels.placement': 'H_CENTER V_CENTER INSIDE'}, metadata=ElementMetadata(), properties=LabelProperties(cssClasses='', shape=None, key=None, hidden=None, selectable=False), x=None, y=None, width=None, height=None, text='Enter Registration Data')], layoutOptions={'org.eclipse.elk.nodeSize.constraints': 'NODE_LABELS PORTS PORT_LABELS MINIMUM_SIZE'}, metadata=ElementMetadata(), properties=NodeProperties(cssClasses='', shape=Ellipse(type='node:round', x=None, y=None, width=None, height=None, use=None, rx=0, ry=0), key='registration', hidden=None), x=None, y=None, width=None, height=None, ports=[], children=[], edges=[]), target=Activity(id=None, labels=[Label(id=None, labels=[], layoutOptions={'org.eclipse.elk.nodeLabels.placement': 'H_CENTER V_CENTER INSIDE'}, metadata=ElementMetadata(), properties=LabelProperties(cssClasses='', shape=None, key=None, hidden=None, selectable=False), x=None, y=None, width=None, height=None, text='Receive Confirmation Email')], layoutOptions={'org.eclipse.elk.nodeSize.constraints': 'NODE_LABELS PORTS PORT_LABELS MINIMUM_SIZE'}, metadata=ElementMetadata(), properties=NodeProperties(cssClasses='', shape=Ellipse(type='node:round', x=None, y=None, width=None, height=None, use=None, rx=0, ry=0), key='confirm_email', hidden=None), x=None, y=None, width=None, height=None, ports=[], children=[], edges=[]), sections=None), SimpleArrow(id=None, labels=[], layoutOptions={}, metadata=ElementMetadata(), properties=EdgeProperties(cssClasses='', shape=EdgeShape(type='edge', start=None, end='arrow'), key=None, hidden=None), source=Activity(id=None, labels=[Label(id=None, labels=[], layoutOptions={'org.eclipse.elk.nodeLabels.placement': 'H_CENTER V_CENTER INSIDE'}, metadata=ElementMetadata(), properties=LabelProperties(cssClasses='', shape=None, key=None, hidden=None, selectable=False), x=None, y=None, width=None, height=None, text='Receive Confirmation Email')], layoutOptions={'org.eclipse.elk.nodeSize.constraints': 'NODE_LABELS PORTS PORT_LABELS MINIMUM_SIZE'}, metadata=ElementMetadata(), properties=NodeProperties(cssClasses='', shape=Ellipse(type='node:round', x=None, y=None, width=None, height=None, use=None, rx=0, ry=0), key='confirm_email', hidden=None), x=None, y=None, width=None, height=None, ports=[], children=[], edges=[]), target=Activity(id=None, labels=[Label(id=None, labels=[], layoutOptions={'org.eclipse.elk.nodeLabels.placement': 'H_CENTER V_CENTER INSIDE'}, metadata=ElementMetadata(), properties=LabelProperties(cssClasses='', shape=None, key=None, hidden=None, selectable=False), x=None, y=None, width=None, height=None, text='Click Confirmation Link')], layoutOptions={'org.eclipse.elk.nodeSize.constraints': 'NODE_LABELS PORTS PORT_LABELS MINIMUM_SIZE'}, metadata=ElementMetadata(), properties=NodeProperties(cssClasses='', shape=Ellipse(type='node:round', x=None, y=None, width=None, height=None, use=None, rx=0, ry=0), key='confirm', hidden=None), x=None, y=None, width=None, height=None, ports=[], children=[], edges=[]), sections=None), SimpleArrow(id=None, labels=[], layoutOptions={}, metadata=ElementMetadata(), properties=EdgeProperties(cssClasses='', shape=EdgeShape(type='edge', start=None, end='arrow'), key=None, hidden=None), source=Activity(id=None, labels=[Label(id=None, labels=[], layoutOptions={'org.eclipse.elk.nodeLabels.placement': 'H_CENTER V_CENTER INSIDE'}, metadata=ElementMetadata(), properties=LabelProperties(cssClasses='', shape=None, key=None, hidden=None, selectable=False), x=None, y=None, width=None, height=None, text='Enter Credentials')], layoutOptions={'org.eclipse.elk.nodeSize.constraints': 'NODE_LABELS PORTS PORT_LABELS MINIMUM_SIZE'}, metadata=ElementMetadata(), properties=NodeProperties(cssClasses='', shape=Ellipse(type='node:round', x=None, y=None, width=None, height=None, use=None, rx=0, ry=0), key='cred', hidden=None), x=None, y=None, width=None, height=None, ports=[], children=[], edges=[]), target=Merge(id=None, labels=[], layoutOptions={}, metadata=ElementMetadata(), properties=NodeProperties(cssClasses='activity-filled', shape=Rect(type='node', x=None, y=None, width=50.0, height=10.0, use=None), key=None, hidden=None), x=None, y=None, width=None, height=None, ports=[], children=[], edges=[]), sections=None), SimpleArrow(id=None, labels=[], layoutOptions={}, metadata=ElementMetadata(), properties=EdgeProperties(cssClasses='', shape=EdgeShape(type='edge', start=None, end='arrow'), key=None, hidden=None), source=Activity(id=None, labels=[Label(id=None, labels=[], layoutOptions={'org.eclipse.elk.nodeLabels.placement': 'H_CENTER V_CENTER INSIDE'}, metadata=ElementMetadata(), properties=LabelProperties(cssClasses='', shape=None, key=None, hidden=None, selectable=False), x=None, y=None, width=None, height=None, text='Click Confirmation Link')], layoutOptions={'org.eclipse.elk.nodeSize.constraints': 'NODE_LABELS PORTS PORT_LABELS MINIMUM_SIZE'}, metadata=ElementMetadata(), properties=NodeProperties(cssClasses='', shape=Ellipse(type='node:round', x=None, y=None, width=None, height=None, use=None, rx=0, ry=0), key='confirm', hidden=None), x=None, y=None, width=None, height=None, ports=[], children=[], edges=[]), target=Merge(id=None, labels=[], layoutOptions={}, metadata=ElementMetadata(), properties=NodeProperties(cssClasses='activity-filled', shape=Rect(type='node', x=None, y=None, width=50.0, height=10.0, use=None), key=None, hidden=None), x=None, y=None, width=None, height=None, ports=[], children=[], edges=[]), sections=None), SimpleArrow(id=None, labels=[], layoutOptions={}, metadata=ElementMetadata(), properties=EdgeProperties(cssClasses='', shape=EdgeShape(type='edge', start=None, end='arrow'), key=None, hidden=None), source=Merge(id=None, labels=[], layoutOptions={}, metadata=ElementMetadata(), properties=NodeProperties(cssClasses='activity-filled', shape=Rect(type='node', x=None, y=None, width=50.0, height=10.0, use=None), key=None, hidden=None), x=None, y=None, width=None, height=None, ports=[], children=[], edges=[]), target=Port(id=None, labels=[], layoutOptions={'org.eclipse.elk.port.side': 'NORTH'}, metadata=ElementMetadata(), properties=PortProperties(cssClasses='', shape=PortShape(type='port', x=None, y=None, width=0.0, height=0.0, use=None), key='input', hidden=None), x=None, y=None, width=None, height=None), sections=None), SimpleArrow(id=None, labels=[], layoutOptions={}, metadata=ElementMetadata(), properties=EdgeProperties(cssClasses='', shape=EdgeShape(type='edge', start=None, end='arrow'), key=None, hidden=None), source=Port(id=None, labels=[Label(id=None, labels=[], layoutOptions={}, metadata=ElementMetadata(), properties=LabelProperties(cssClasses='', shape=None, key=None, hidden=None, selectable=False), x=None, y=None, width=None, height=None, text='not logged in')], layoutOptions={'org.eclipse.elk.port.side': 'EAST'}, metadata=ElementMetadata(), properties=PortProperties(cssClasses='', shape=PortShape(type='port', x=None, y=None, width=0.0, height=0.0, use=None), key='false', hidden=None), x=None, y=None, width=None, height=None), target=Activity(id=None, labels=[Label(id=None, labels=[], layoutOptions={'org.eclipse.elk.nodeLabels.placement': 'H_CENTER V_CENTER INSIDE'}, metadata=ElementMetadata(), properties=LabelProperties(cssClasses='', shape=None, key=None, hidden=None, selectable=False), x=None, y=None, width=None, height=None, text='Landing Page')], layoutOptions={'org.eclipse.elk.nodeSize.constraints': 'NODE_LABELS PORTS PORT_LABELS MINIMUM_SIZE'}, metadata=ElementMetadata(), properties=NodeProperties(cssClasses='', shape=Ellipse(type='node:round', x=None, y=None, width=None, height=None, use=None, rx=0, ry=0), key=None, hidden=None), x=None, y=None, width=None, height=None, ports=[], children=[], edges=[]), sections=None), SimpleArrow(id=None, labels=[], layoutOptions={}, metadata=ElementMetadata(), properties=EdgeProperties(cssClasses='', shape=EdgeShape(type='edge', start=None, end='arrow'), key=None, hidden=None), source=Port(id=None, labels=[Label(id=None, labels=[], layoutOptions={}, metadata=ElementMetadata(), properties=LabelProperties(cssClasses='', shape=None, key=None, hidden=None, selectable=False), x=None, y=None, width=None, height=None, text='logged in')], layoutOptions={'org.eclipse.elk.port.side': 'WEST'}, metadata=ElementMetadata(), properties=PortProperties(cssClasses='', shape=PortShape(type='port', x=None, y=None, width=0.0, height=0.0, use=None), key='true', hidden=None), x=None, y=None, width=None, height=None), target=Activity(id=None, labels=[Label(id=None, labels=[], layoutOptions={'org.eclipse.elk.nodeLabels.placement': 'H_CENTER V_CENTER INSIDE'}, metadata=ElementMetadata(), properties=LabelProperties(cssClasses='', shape=None, key=None, hidden=None, selectable=False), x=None, y=None, width=None, height=None, text='Explore Website')], layoutOptions={'org.eclipse.elk.nodeSize.constraints': 'NODE_LABELS PORTS PORT_LABELS MINIMUM_SIZE'}, metadata=ElementMetadata(), properties=NodeProperties(cssClasses='', shape=Ellipse(type='node:round', x=None, y=None, width=None, height=None, use=None, rx=0, ry=0), key=None, hidden=None), x=None, y=None, width=None, height=None, ports=[], children=[], edges=[]), sections=None), SimpleArrow(id=None, labels=[], layoutOptions={}, metadata=ElementMetadata(), properties=EdgeProperties(cssClasses='', shape=EdgeShape(type='edge', start=None, end='arrow'), key=None, hidden=None), source=Activity(id=None, labels=[Label(id=None, labels=[], layoutOptions={'org.eclipse.elk.nodeLabels.placement': 'H_CENTER V_CENTER INSIDE'}, metadata=ElementMetadata(), properties=LabelProperties(cssClasses='', shape=None, key=None, hidden=None, selectable=False), x=None, y=None, width=None, height=None, text='Explore Website')], layoutOptions={'org.eclipse.elk.nodeSize.constraints': 'NODE_LABELS PORTS PORT_LABELS MINIMUM_SIZE'}, metadata=ElementMetadata(), properties=NodeProperties(cssClasses='', shape=Ellipse(type='node:round', x=None, y=None, width=None, height=None, use=None, rx=0, ry=0), key=None, hidden=None), x=None, y=None, width=None, height=None, ports=[], children=[], edges=[]), target=EndActivity(id=None, labels=[], layoutOptions={}, metadata=ElementMetadata(), properties=NodeProperties(cssClasses='', shape=Use(type='node:use', x=None, y=None, width=12.0, height=12.0, use='final-state'), key=None, hidden=None), x=None, y=None, width=None, height=None, ports=[], children=[], edges=[]), sections=None)], default_edge=<class 'ipyelk.contrib.library.activity.SimpleArrow'>, symbols=SymbolSpec(library={'initial-state': Symbol(identifier='initial-state', element=Node(id=None, labels=[], layoutOptions={}, metadata=ElementMetadata(), properties=NodeProperties(cssClasses='', shape=Circle(type='node:round', x=None, y=None, width=12.0, height=12.0, use=None, radius=6.0), key=None, hidden=None), x=None, y=None, width=None, height=None, ports=[], children=[], edges=[]), width=12.0, height=12.0, x=0, y=0), 'exit-state': Symbol(identifier='exit-state', element=Node(id=None, labels=[], layoutOptions={}, metadata=ElementMetadata(), properties=NodeProperties(cssClasses='', shape=None, key=None, hidden=None), x=None, y=None, width=None, height=None, ports=[], children=[Node(id=None, labels=[], layoutOptions={}, metadata=ElementMetadata(), properties=NodeProperties(cssClasses='', shape=Circle(type='node:round', x=None, y=None, width=12.0, height=12.0, use=None, radius=6.0), key=None, hidden=None), x=None, y=None, width=None, height=None, ports=[], children=[], edges=[]), Node(id=None, labels=[], layoutOptions={}, metadata=ElementMetadata(), properties=NodeProperties(cssClasses='', shape=Path(type='node:path', x=None, y=None, width=None, height=None, use='M10.242640687119286,10.242640687119286L1.7573593128807143,1.7573593128807143'), key=None, hidden=None), x=None, y=None, width=None, height=None, ports=[], children=[], edges=[]), Node(id=None, labels=[], layoutOptions={}, metadata=ElementMetadata(), properties=NodeProperties(cssClasses='', shape=Path(type='node:path', x=None, y=None, width=None, height=None, use='M1.7573593128807143,10.242640687119286L10.242640687119286,1.7573593128807143'), key=None, hidden=None), x=None, y=None, width=None, height=None, ports=[], children=[], edges=[])], edges=[]), width=12.0, height=12.0, x=0, y=0), 'final-state': Symbol(identifier='final-state', element=Node(id=None, labels=[], layoutOptions={}, metadata=ElementMetadata(), properties=NodeProperties(cssClasses='', shape=None, key=None, hidden=None), x=None, y=None, width=None, height=None, ports=[], children=[Node(id=None, labels=[], layoutOptions={}, metadata=ElementMetadata(), properties=NodeProperties(cssClasses='', shape=Circle(type='node:round', x=None, y=None, width=12.0, height=12.0, use=None, radius=6.0), key=None, hidden=None), x=None, y=None, width=None, height=None, ports=[], children=[], edges=[]), Node(id=None, labels=[], layoutOptions={}, metadata=ElementMetadata(), properties=NodeProperties(cssClasses='inner-circle', shape=Circle(type='node:round', x=6.0, y=6.0, width=6.0, height=6.0, use=None, radius=3.0), key=None, hidden=None), x=None, y=None, width=None, height=None, ports=[], children=[], edges=[])], edges=[]), width=12.0, height=12.0, x=0, y=0), 'arrow': EndpointSymbol(identifier='arrow', element=Node(id=None, labels=[], layoutOptions={}, metadata=ElementMetadata(), properties=NodeProperties(cssClasses='', shape=Path(type='node:path', x=None, y=None, width=None, height=None, use='M4,-4L0,0L4,4'), key=None, hidden=None), x=None, y=None, width=None, height=None, ports=[], children=[], edges=[]), width=0, height=0, x=0, y=0, path_offset=Point(x=-1.0, y=0.0), symbol_offset=Point(x=-1.0, y=0.0))}), style={' .final-state .inner-circle': {'fill': 'var(--jp-elk-node-stroke)'}, ' .activity-filled .elknode': {'fill': 'var(--jp-elk-node-stroke)'}, ' .activity-container > .elknode': {'rx': 'var(--jp-code-font-size)'}})"
      ]
     },
     "execution_count": 10,
     "metadata": {},
     "output_type": "execute_result"
    }
   ],
   "source": [
    "website_app.build_index().root()"
   ]
  },
  {
   "cell_type": "markdown",
   "metadata": {},
   "source": [
    "# Record Nodes\n",
    "\n",
    "Example showing the combination of blocks and activities"
   ]
  },
  {
   "cell_type": "code",
   "execution_count": null,
   "metadata": {},
   "outputs": [],
   "source": [
    "import importnb\n",
    "import ipywidgets as W\n",
    "import traitlets as T\n",
    "from IPython.display import display\n",
    "\n",
    "import ipyelk.nx\n",
    "import ipyelk.tools\n",
    "import ipyelk.tools.tools\n",
    "from ipyelk import Elk\n",
    "from ipyelk.contrib.library.block import Aggregation, Block, BlockDiagram, Composition\n",
    "from ipyelk.diagram import elk_model\n",
    "from ipyelk.diagram import layout_options as opt\n",
    "from ipyelk.elements import (\n",
    "    Compartment,\n",
    "    Edge,\n",
    "    Label,\n",
    "    Mark,\n",
    "    MarkFactory,\n",
    "    Node,\n",
    "    Port,\n",
    "    Record,\n",
    ")\n",
    "\n",
    "\n",
    "class ToggleRecordBtn(ipyelk.tools.tools.ToggleCollapsedBtn):\n",
    "    def get_related(self, node):\n",
    "        tree = self.app.transformer.source[1]\n",
    "        if isinstance(node, Mark) and isinstance(node.element, Compartment):\n",
    "            parent = list(tree.predecessors(node))[0]\n",
    "            return [child for i, child in enumerate(tree.neighbors(parent)) if i > 0]\n",
    "        return super().get_related(node)\n",
    "\n",
    "\n",
    "def block_app():\n",
    "    \"\"\"Utility function for creating a new Elk app suitable for an Activity Diagram\"\"\"\n",
    "    diagram_opts = opt.OptionsWidget(\n",
    "        options=[opt.Direction(value=\"RIGHT\"), opt.HierarchyHandling()]\n",
    "    ).value\n",
    "\n",
    "    # configure app\n",
    "    app = Elk(\n",
    "        transformer=ipyelk.nx.XELK(\n",
    "            layouts={\n",
    "                elk_model.ElkRoot: {\n",
    "                    \"parents\": diagram_opts,\n",
    "                },\n",
    "            },\n",
    "        ),\n",
    "        layout={\"height\": \"100%\"},\n",
    "    )\n",
    "    toggle = ToggleRecordBtn(app=app)\n",
    "    fit = ipyelk.tools.tools.FitBtn(app=app)\n",
    "    app.toolbar.commands = [fit, toggle]\n",
    "    return app\n",
    "\n",
    "\n",
    "def car_example():\n",
    "    bd = BlockDiagram()\n",
    "\n",
    "    # Nodes\n",
    "    vehicle = Block(width=220)\n",
    "    vehicle.title = Compartment(headings=[\"Vehicle\", \"«block»\"])\n",
    "    vehicle.behaviors = Compartment(headings=[\"Behavior\"], content=[\" \"])\n",
    "\n",
    "    wheel = Block(width=180)\n",
    "    wheel.title = Compartment(headings=[\"Wheel\", \"«block»\"])\n",
    "    wheel.attrs = Compartment(headings=[\"properties\"], content=[\"- radius: float\"])\n",
    "\n",
    "    wheel_break = Block()\n",
    "    wheel_break.title = Compartment(headings=[\"Break\", \"«block»\"])\n",
    "    tire = Block()\n",
    "    tire.title = Compartment(headings=[\"Tire\", \"«block»\"])\n",
    "\n",
    "    engine = Block(width=180)\n",
    "    engine.title = Compartment(headings=[\"Engine\", \"«block»\"])\n",
    "\n",
    "    # Edges\n",
    "    bd[vehicle:wheel:Composition]\n",
    "    bd[vehicle:engine:Composition]\n",
    "    bd[wheel:wheel_break:Composition]\n",
    "    bd[wheel:tire:Composition]\n",
    "\n",
    "    # internal activities of car\n",
    "    act = ActivityDiagram().add_class(\"internal\")\n",
    "    act.start = Activity.make(\"start engine\")\n",
    "    act.drive = Activity.make(\"drive\")\n",
    "    act.park = Activity.make(\"park\")\n",
    "    act[act.start : act.drive]\n",
    "    act[act.drive : act.park]\n",
    "\n",
    "    behavior = vehicle.behaviors.add_child(act, \"activites\")\n",
    "\n",
    "    # merge defs for both block and activities\n",
    "    bd.symbols = bd.symbols.merge(act.symbols)\n",
    "    return bd\n",
    "\n",
    "\n",
    "def example_car_blocks():\n",
    "    car = car_example()\n",
    "    app = block_app()\n",
    "    cp = MarkFactory()\n",
    "    app.transformer.source = cp(car)\n",
    "    app.style = car.style\n",
    "    app.diagram.symbols = car.symbols\n",
    "\n",
    "    return app"
   ]
  },
  {
   "cell_type": "code",
   "execution_count": null,
   "metadata": {},
   "outputs": [],
   "source": [
    "if __name__ == \"__main__\":\n",
    "    car_app = example_car_blocks()\n",
    "    display(car_app)"
   ]
  }
 ],
 "metadata": {
  "kernelspec": {
   "display_name": "Python 3",
   "language": "python",
   "name": "python3"
  },
  "language_info": {
   "codemirror_mode": {
    "name": "ipython",
    "version": 3
   },
   "file_extension": ".py",
   "mimetype": "text/x-python",
   "name": "python",
   "nbconvert_exporter": "python",
   "pygments_lexer": "ipython3",
   "version": "3.7.10"
  }
 },
 "nbformat": 4,
 "nbformat_minor": 4
}
