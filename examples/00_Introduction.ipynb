{
 "cells": [
  {
   "cell_type": "markdown",
   "id": "5d1d5adc-fe50-443b-b499-2ee5f261c9cc",
   "metadata": {},
   "source": [
    "# 🦌 Introducing IPyElk 👋\n",
    "\n",
    "This is a brief introduction to the JupyterLab widget wrapper for displaying diagrams\n",
    "using the Eclipse Layout Kernel - [elkjs](https://github.com/kieler/elkjs) and\n",
    "[sprotty](https://github.com/eclipse/sprotty)."
   ]
  },
  {
   "cell_type": "code",
   "execution_count": null,
   "id": "1fa8126b-9c01-48a8-84df-6f4f034f7eff",
   "metadata": {},
   "outputs": [],
   "source": [
    "if __name__ == \"__main__\":\n",
    "    %pip install -q -r requirements.txt"
   ]
  },
  {
   "cell_type": "code",
   "execution_count": 1,
   "id": "75173847-e660-40ba-b063-a710fc99b6b4",
   "metadata": {},
   "outputs": [],
   "source": [
    "import json\n",
    "import pathlib\n",
    "\n",
    "import ipywidgets\n",
    "import traitlets\n",
    "\n",
    "import ipyelk"
   ]
  },
  {
   "cell_type": "markdown",
   "id": "2fd0d240-c87a-4ee3-8b9b-02dc662b703e",
   "metadata": {},
   "source": [
    "# ElkDiagram\n",
    "\n",
    "The `ElkDiagram` is a low-level widget that accepts and validates a dictionary against\n",
    "the [Elk JSON Schema](../elk/schema/elkschema.json).\n",
    "\n",
    "> _Note: cell below will update with the input below: try **Create New View For Output**\n",
    "> from the output context menu to see the changes._"
   ]
  },
  {
   "cell_type": "code",
   "execution_count": 2,
   "id": "67a6aca7-e4c5-42b8-a1c1-2d09c2cada82",
   "metadata": {},
   "outputs": [
    {
     "data": {
      "application/vnd.jupyter.widget-view+json": {
       "model_id": "be65271ce3c5464c98a0fcfba84c7281",
       "version_major": 2,
       "version_minor": 0
      },
      "text/plain": [
       "Diagram(children=[HTML(value='<style></style>', layout=Layout(display='None')), SprottyViewer(control_overlay=…"
      ]
     },
     "metadata": {},
     "output_type": "display_data"
    }
   ],
   "source": [
    "def a_simple_elk_json_example(elk_json_path=\"simple.json\", **kwargs):\n",
    "    if \"layout\" not in kwargs:\n",
    "        kwargs[\"layout\"] = dict(height=\"100%\", min_height=\"400px\")\n",
    "    elk_json = json.loads(pathlib.Path(elk_json_path).read_text(encoding=\"utf-8\"))\n",
    "    loader = ipyelk.ElkJSONLoader().clear_defaults()\n",
    "    return ipyelk.Diagram(source=loader.load(elk_json), **kwargs)\n",
    "\n",
    "\n",
    "if __name__ == \"__main__\":\n",
    "    simple = a_simple_elk_json_example()\n",
    "    display(simple)"
   ]
  },
  {
   "cell_type": "markdown",
   "id": "51c791a8-39cb-4817-96a6-de5479728bcb",
   "metadata": {},
   "source": [
    "## 🎛 Interaction\n",
    "\n",
    "Elk diagrams are highly interactive. Some of these interactions are event-driven, while\n",
    "others are available as _traits_ which can be modified directly, or linked between\n",
    "diagrams."
   ]
  },
  {
   "cell_type": "markdown",
   "id": "e7c32063-ba6a-49c6-8fe6-a85244ee9ec9",
   "metadata": {},
   "source": [
    "### 🎯 Centering\n",
    "\n",
    "By default, `center` will move the center of the diagram to the center of the view."
   ]
  },
  {
   "cell_type": "code",
   "execution_count": null,
   "id": "e6834284-2aeb-4ff1-9feb-031ebcc3d011",
   "metadata": {},
   "outputs": [],
   "source": [
    "if __name__ == \"__main__\":\n",
    "    simple.view.center()"
   ]
  },
  {
   "cell_type": "markdown",
   "id": "f9d2e45b-c487-4b1f-abe5-1c263557aa00",
   "metadata": {},
   "source": [
    "Optionally, specific node/edges can be provided, animation can be disabled, and zoom\n",
    "preserved."
   ]
  },
  {
   "cell_type": "code",
   "execution_count": null,
   "id": "66b5fad9-ca7c-492b-9633-d8e60eb05428",
   "metadata": {},
   "outputs": [],
   "source": [
    "if __name__ == \"__main__\":\n",
    "    simple.view.center([\"svg1\", \"kernel\"], animate=False, retain_zoom=True)"
   ]
  },
  {
   "cell_type": "markdown",
   "id": "5ac1ad30-ee80-4ecd-b8a8-cc7951ac14b5",
   "metadata": {},
   "source": [
    "### 📏 Fitting\n",
    "\n",
    "By default, `fit` will fill the view with the diagram."
   ]
  },
  {
   "cell_type": "code",
   "execution_count": null,
   "id": "e59fc4c9-f32e-470d-9613-df5d8754aa7c",
   "metadata": {},
   "outputs": [],
   "source": [
    "if __name__ == \"__main__\":\n",
    "    simple.view.fit()"
   ]
  },
  {
   "cell_type": "markdown",
   "id": "8b8a4bb6-851b-458c-bfe4-d73eb7b23334",
   "metadata": {},
   "source": [
    "Optionally, provide animation can be disabled, and zoom limited, and padding added."
   ]
  },
  {
   "cell_type": "code",
   "execution_count": null,
   "id": "ef8c9b24-6f86-4a5a-9b79-7592b12ef2a0",
   "metadata": {},
   "outputs": [],
   "source": [
    "if __name__ == \"__main__\":\n",
    "    simple.view.fit([\"kernel\"], animate=False, max_zoom=999, padding=5)"
   ]
  },
  {
   "cell_type": "markdown",
   "id": "ff70c122-3561-4ab9-af96-04fcec05fc63",
   "metadata": {},
   "source": [
    "### 🏷 Selecting\n",
    "\n",
    "The currently-selected nodes and edges are available"
   ]
  },
  {
   "cell_type": "code",
   "execution_count": null,
   "id": "db9483f2-6b3a-468a-b3d1-85e434af3713",
   "metadata": {},
   "outputs": [],
   "source": [
    "if __name__ == \"__main__\":\n",
    "    selected = ipywidgets.Text(description=\"selected\", disabled=True)\n",
    "    traitlets.dlink((simple.view.selection, \"ids\"), (selected, \"value\"), \" and \".join)\n",
    "    display(selected)"
   ]
  },
  {
   "cell_type": "markdown",
   "id": "652b79e8-b04b-430d-9fac-9a124ec25bbf",
   "metadata": {},
   "source": [
    "Clicking a single element will mark it as _selected_."
   ]
  },
  {
   "cell_type": "code",
   "execution_count": null,
   "id": "953aa083-4dbe-4fcb-9fc8-ecda52f3424c",
   "metadata": {},
   "outputs": [],
   "source": [
    "if __name__ == \"__main__\":\n",
    "    simple.view.selection.ids = [\"kernel\"]"
   ]
  },
  {
   "cell_type": "markdown",
   "id": "1a046758-a595-4ffb-b3b4-d715f90e6750",
   "metadata": {},
   "source": [
    "Holding down <kbd>Ctrl</kbd> while clicking will select multiple nodes."
   ]
  },
  {
   "cell_type": "code",
   "execution_count": null,
   "id": "a740d42e-02a5-4c87-aa70-efedd8b39092",
   "metadata": {},
   "outputs": [],
   "source": [
    "if __name__ == \"__main__\":\n",
    "    simple.view.selection.ids = [\"kernel\", \"e1\"]"
   ]
  },
  {
   "cell_type": "markdown",
   "id": "a5d37084-fb1c-4e9f-bfd1-b271120ea503",
   "metadata": {},
   "source": [
    "Clicking outside of any node will clear the selection."
   ]
  },
  {
   "cell_type": "code",
   "execution_count": null,
   "id": "bbbafe6d-e078-4f75-b102-2d01342afb88",
   "metadata": {},
   "outputs": [],
   "source": [
    "if __name__ == \"__main__\":\n",
    "    simple.view.selection.ids = []"
   ]
  },
  {
   "cell_type": "markdown",
   "id": "043df170-d80c-4088-aa61-bc18c9ebf2a0",
   "metadata": {},
   "source": [
    "### 🛸 Hovering\n",
    "\n",
    "The element currently being hovered is also traited"
   ]
  },
  {
   "cell_type": "code",
   "execution_count": null,
   "id": "477a023c-6b57-4d1d-9de7-ff458ee30374",
   "metadata": {},
   "outputs": [],
   "source": [
    "if __name__ == \"__main__\":\n",
    "    hovered = ipywidgets.Text(description=\"hovered\", disabled=True)\n",
    "    traitlets.dlink((simple.view.hover, \"ids\"), (hovered, \"value\"), str)\n",
    "    display(hovered)"
   ]
  },
  {
   "cell_type": "code",
   "execution_count": null,
   "id": "9915289c-eeb5-4912-8c01-2f0242e07803",
   "metadata": {},
   "outputs": [],
   "source": [
    "if __name__ == \"__main__\":\n",
    "    simple.view.hover.ids = \"user\""
   ]
  },
  {
   "cell_type": "markdown",
   "id": "bdcce1c9-d70b-4b25-b0d1-b593808777f5",
   "metadata": {},
   "source": [
    "## 🦌 Learn More 📖\n",
    "\n",
    "See the [other examples](./_index.ipynb)."
   ]
  }
 ],
 "metadata": {
  "kernelspec": {
   "display_name": "Python 3 (ipykernel)",
   "language": "python",
   "name": "python3"
  },
  "language_info": {
   "codemirror_mode": {
    "name": "ipython",
    "version": 3
   },
   "file_extension": ".py",
   "mimetype": "text/x-python",
   "name": "python",
   "nbconvert_exporter": "python",
   "pygments_lexer": "ipython3",
   "version": "3.11.10"
  }
 },
 "nbformat": 4,
 "nbformat_minor": 5
}
