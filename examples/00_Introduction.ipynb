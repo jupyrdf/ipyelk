{
 "cells": [
  {
   "cell_type": "markdown",
   "metadata": {},
   "source": [
    "# 🦌 Introducing IPyElk 👋\n",
    "\n",
    "This is a brief introduction to the JupyterLab widget wrapper for displaying diagrams\n",
    "using the Eclipse Layout Kernel - [elkjs](https://github.com/kieler/elkjs) and\n",
    "[sprotty](https://github.com/eclipse/sprotty)."
   ]
  },
  {
   "cell_type": "code",
   "execution_count": null,
   "metadata": {},
   "outputs": [],
   "source": [
    "import json\n",
    "import pathlib\n",
    "\n",
    "import ipyelk\n",
    "import ipywidgets\n",
    "import traitlets\n",
    "\n",
    "new_view_for_output = \"\"\"<h2><a href=\"https://jupyter.org\" \n",
    "data-commandlinker-command=\"notebook:create-output-view\">\n",
    "📤 Pop out</a></h2>\"\"\""
   ]
  },
  {
   "cell_type": "markdown",
   "metadata": {},
   "source": [
    "# ElkDiagram\n",
    "\n",
    "The `ElkDiagram` is a low-level widget that accepts and validates a dictionary against\n",
    "the [Elk JSON Schema](../elk/schema/elkschema.json)."
   ]
  },
  {
   "cell_type": "code",
   "execution_count": null,
   "metadata": {},
   "outputs": [],
   "source": [
    "elk_json = json.loads(pathlib.Path(\"simple.json\").read_text(encoding=\"utf-8\"))\n",
    "simple = ipyelk.ElkDiagram(elk_json)\n",
    "ipywidgets.VBox(\n",
    "    [ipywidgets.HTML(new_view_for_output), simple], layout=dict(height=\"100%\")\n",
    ")"
   ]
  },
  {
   "cell_type": "markdown",
   "metadata": {},
   "source": [
    "## 🎛 Interaction\n",
    "\n",
    "Elk diagrams are highly interactive. Some these interactions are event-driven, while\n",
    "others are available as _traits_ which can be modified directly, or linked between\n",
    "diagrams."
   ]
  },
  {
   "cell_type": "markdown",
   "metadata": {},
   "source": [
    "### 🎯 Centering\n",
    "\n",
    "By default, `center` will move the center of the diagram to the center of the view."
   ]
  },
  {
   "cell_type": "code",
   "execution_count": null,
   "metadata": {},
   "outputs": [],
   "source": [
    "simple.center()"
   ]
  },
  {
   "cell_type": "markdown",
   "metadata": {},
   "source": [
    "Optionally, specific node/edges can be provided, animation can be disabled, and zoom\n",
    "preserved."
   ]
  },
  {
   "cell_type": "code",
   "execution_count": null,
   "metadata": {},
   "outputs": [],
   "source": [
    "simple.center([\"n3\", \"n2\"], animate=False, retain_zoom=True)"
   ]
  },
  {
   "cell_type": "markdown",
   "metadata": {},
   "source": [
    "### 📏 Fitting\n",
    "\n",
    "By default, `fit` will fill the view with the diagram."
   ]
  },
  {
   "cell_type": "code",
   "execution_count": null,
   "metadata": {},
   "outputs": [],
   "source": [
    "simple.fit()"
   ]
  },
  {
   "cell_type": "markdown",
   "metadata": {},
   "source": [
    "Optionally, provide animation can be disabled, and zoom limited, and padding added."
   ]
  },
  {
   "cell_type": "code",
   "execution_count": null,
   "metadata": {},
   "outputs": [],
   "source": [
    "simple.fit([\"e2\"], animate=False, max_zoom=999, padding=5)"
   ]
  },
  {
   "cell_type": "markdown",
   "metadata": {},
   "source": [
    "### 🏷 Selecting\n",
    "\n",
    "The currently-selected nodes and edges are available"
   ]
  },
  {
   "cell_type": "code",
   "execution_count": null,
   "metadata": {},
   "outputs": [],
   "source": [
    "selected = ipywidgets.Text(description=\"selected\", disabled=True)\n",
    "traitlets.dlink((simple, \"selected\"), (selected, \"value\"), \" and \".join)\n",
    "selected"
   ]
  },
  {
   "cell_type": "markdown",
   "metadata": {},
   "source": [
    "Clicking a single element will mark it as _selected_."
   ]
  },
  {
   "cell_type": "code",
   "execution_count": null,
   "metadata": {},
   "outputs": [],
   "source": [
    "simple.selected = [\"n1\"]"
   ]
  },
  {
   "cell_type": "markdown",
   "metadata": {},
   "source": [
    "Holding down <kbd>Ctrl</kbd> while clicking will select multiple nodes."
   ]
  },
  {
   "cell_type": "code",
   "execution_count": null,
   "metadata": {},
   "outputs": [],
   "source": [
    "simple.selected = [\"n2\", \"n3\"]"
   ]
  },
  {
   "cell_type": "markdown",
   "metadata": {},
   "source": [
    "Clicking outside of any node will clear the selection."
   ]
  },
  {
   "cell_type": "code",
   "execution_count": null,
   "metadata": {},
   "outputs": [],
   "source": [
    "simple.selected = []"
   ]
  },
  {
   "cell_type": "markdown",
   "metadata": {},
   "source": [
    "### 🛸 Hovering\n",
    "\n",
    "The element currently being hovered is also traited"
   ]
  },
  {
   "cell_type": "code",
   "execution_count": null,
   "metadata": {},
   "outputs": [],
   "source": [
    "hovered = ipywidgets.Text(description=\"hovered\", disabled=True)\n",
    "traitlets.dlink((simple, \"hovered\"), (hovered, \"value\"), str)\n",
    "hovered"
   ]
  },
  {
   "cell_type": "code",
   "execution_count": null,
   "metadata": {},
   "outputs": [],
   "source": [
    "simple.hovered = \"n2\""
   ]
  },
  {
   "cell_type": "markdown",
   "metadata": {},
   "source": [
    "## 🦌 Learn More 📖\n",
    "\n",
    "- [🦌 Introducing ELK 👋](./00_Introduction.ipynb)\n",
    "- [🦌 Linking ELK Diagrams 🔗](./01_Linking.ipynb)\n",
    "- [🦌 ELK Transformer 🤖](./02_Transformer.ipynb)\n",
    "- [🦌 ELK App 🚀](./03_App.ipynb)\n",
    "- [🦌 Interactive ELK App 🕹️](./04_Interactive.ipynb)"
   ]
  }
 ],
 "metadata": {
  "kernelspec": {
   "display_name": "Python 3",
   "language": "python",
   "name": "python3"
  },
  "language_info": {
   "codemirror_mode": {
    "name": "ipython",
    "version": 3
   },
   "file_extension": ".py",
   "mimetype": "text/x-python",
   "name": "python",
   "nbconvert_exporter": "python",
   "pygments_lexer": "ipython3",
   "version": "3.7.7"
  }
 },
 "nbformat": 4,
 "nbformat_minor": 4
}
