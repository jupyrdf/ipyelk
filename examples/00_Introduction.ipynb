{
 "cells": [
  {
   "cell_type": "markdown",
   "metadata": {},
   "source": [
    "# 🦌 Introducing IPyElk 👋\n",
    "\n",
    "This is a brief introduction to the JupyterLab widget wrapper for displaying diagrams\n",
    "using the Eclipse Layout Kernel - [elkjs](https://github.com/kieler/elkjs) and\n",
    "[sprotty](https://github.com/eclipse/sprotty)."
   ]
  },
  {
   "cell_type": "code",
   "execution_count": null,
   "metadata": {},
   "outputs": [],
   "source": [
    "import json\n",
    "import pathlib\n",
    "\n",
    "import ipyelk"
   ]
  },
  {
   "cell_type": "markdown",
   "metadata": {},
   "source": [
    "# ElkDiagram\n",
    "\n",
    "The `ElkDiagram` is a low-level widget that accepts and validates a dictionary against\n",
    "the [Elk JSON Schema](../elk/schema/elkschema.json).\n",
    "\n",
    "> _Note: cell below will update with the input below: try **Create New View For Output**\n",
    "> from the output context menu to see the changes._"
   ]
  },
  {
   "cell_type": "code",
   "execution_count": null,
   "metadata": {},
   "outputs": [],
   "source": [
    "def a_simple_elk_json_example(elk_json_path=\"simple.json\", **kwargs):\n",
    "    if \"layout\" not in kwargs:\n",
    "        kwargs[\"layout\"] = dict(height=\"100%\", min_height=\"400px\")\n",
    "    elk_json = json.loads(pathlib.Path(elk_json_path).read_text(encoding=\"utf-8\"))\n",
    "    loader = ipyelk.ElkJSONLoader().clear_defaults()\n",
    "    return ipyelk.Diagram(source=loader.load(elk_json), **kwargs)\n",
    "\n",
    "\n",
    "if __name__ == \"__main__\":\n",
    "    simple = a_simple_elk_json_example()\n",
    "    display(simple)"
   ]
  },
  {
   "cell_type": "markdown",
   "metadata": {},
   "source": [
    "## 🎛 Interaction\n",
    "\n",
    "Elk diagrams are highly interactive. Some these interactions are event-driven, while\n",
    "others are available as _traits_ which can be modified directly, or linked between\n",
    "diagrams."
   ]
  },
  {
   "cell_type": "markdown",
   "metadata": {},
   "source": [
    "### 🎯 Centering\n",
    "\n",
    "By default, `center` will move the center of the diagram to the center of the view."
   ]
  },
  {
   "cell_type": "code",
   "execution_count": null,
   "metadata": {},
   "outputs": [],
   "source": [
    "if __name__ == \"__main__\":\n",
    "    simple.view.center()"
   ]
  },
  {
   "cell_type": "markdown",
   "metadata": {},
   "source": [
    "Optionally, specific node/edges can be provided, animation can be disabled, and zoom\n",
    "preserved."
   ]
  },
  {
   "cell_type": "code",
   "execution_count": null,
   "metadata": {},
   "outputs": [],
   "source": [
    "if __name__ == \"__main__\":\n",
    "    simple.view.center([\"svg1\", \"kernel\"], animate=False, retain_zoom=True)"
   ]
  },
  {
   "cell_type": "markdown",
   "metadata": {},
   "source": [
    "### 📏 Fitting\n",
    "\n",
    "By default, `fit` will fill the view with the diagram."
   ]
  },
  {
   "cell_type": "code",
   "execution_count": null,
   "metadata": {},
   "outputs": [],
   "source": [
    "if __name__ == \"__main__\":\n",
    "    simple.view.fit()"
   ]
  },
  {
   "cell_type": "markdown",
   "metadata": {},
   "source": [
    "Optionally, provide animation can be disabled, and zoom limited, and padding added."
   ]
  },
  {
   "cell_type": "code",
   "execution_count": null,
   "metadata": {},
   "outputs": [],
   "source": [
    "if __name__ == \"__main__\":\n",
    "    simple.view.fit([\"kernel\"], animate=False, max_zoom=999, padding=5)"
   ]
  },
  {
   "cell_type": "markdown",
   "metadata": {},
   "source": [
    "### 🏷 Selecting\n",
    "\n",
    "The currently-selected nodes and edges are available"
   ]
  },
  {
   "cell_type": "code",
   "execution_count": null,
   "metadata": {},
   "outputs": [],
   "source": [
    "if __name__ == \"__main__\":\n",
    "    selected = ipywidgets.Text(description=\"selected\", disabled=True)\n",
    "    traitlets.dlink((simple.view.selection, \"ids\"), (selected, \"value\"), \" and \".join)\n",
    "    display(selected)"
   ]
  },
  {
   "cell_type": "markdown",
   "metadata": {},
   "source": [
    "Clicking a single element will mark it as _selected_."
   ]
  },
  {
   "cell_type": "code",
   "execution_count": null,
   "metadata": {},
   "outputs": [],
   "source": [
    "if __name__ == \"__main__\":\n",
    "    simple.view.selection.ids = [\"kernel\"]"
   ]
  },
  {
   "cell_type": "markdown",
   "metadata": {},
   "source": [
    "Holding down <kbd>Ctrl</kbd> while clicking will select multiple nodes."
   ]
  },
  {
   "cell_type": "code",
   "execution_count": null,
   "metadata": {},
   "outputs": [],
   "source": [
    "if __name__ == \"__main__\":\n",
    "    simple.view.selection.ids = [\"kernel\", \"e1\"]"
   ]
  },
  {
   "cell_type": "markdown",
   "metadata": {},
   "source": [
    "Clicking outside of any node will clear the selection."
   ]
  },
  {
   "cell_type": "code",
   "execution_count": null,
   "metadata": {},
   "outputs": [],
   "source": [
    "if __name__ == \"__main__\":\n",
    "    simple.view.selection.ids = []"
   ]
  },
  {
   "cell_type": "markdown",
   "metadata": {},
   "source": [
    "### 🛸 Hovering\n",
    "\n",
    "The element currently being hovered is also traited"
   ]
  },
  {
   "cell_type": "code",
   "execution_count": null,
   "metadata": {},
   "outputs": [],
   "source": [
    "if __name__ == \"__main__\":\n",
    "    hovered = ipywidgets.Text(description=\"hovered\", disabled=True)\n",
    "    traitlets.dlink((simple.view.hover, \"ids\"), (hovered, \"value\"), str)\n",
    "    display(hovered)"
   ]
  },
  {
   "cell_type": "code",
   "execution_count": null,
   "metadata": {},
   "outputs": [],
   "source": [
    "if __name__ == \"__main__\":\n",
    "    simple.view.hover.ids = \"user\""
   ]
  },
  {
   "cell_type": "markdown",
   "metadata": {},
   "source": [
    "## 🦌 Learn More 📖\n",
    "\n",
    "See the [other examples](./_index.ipynb)."
   ]
  }
 ],
 "metadata": {
  "kernelspec": {
   "display_name": "Python 3",
   "language": "python",
   "name": "python3"
  },
  "language_info": {
   "codemirror_mode": {
    "name": "ipython",
    "version": 3
   },
   "file_extension": ".py",
   "mimetype": "text/x-python",
   "name": "python",
   "nbconvert_exporter": "python",
   "pygments_lexer": "ipython3",
   "version": "3.7.10"
  }
 },
 "nbformat": 4,
 "nbformat_minor": 4
}
