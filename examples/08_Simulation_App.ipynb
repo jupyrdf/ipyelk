{
 "cells": [
  {
   "cell_type": "markdown",
   "id": "7395ec07-9e51-436a-9644-d89f25f83c05",
   "metadata": {},
   "source": [
    "# 🦌 ELK Simulation Demo 🐺🎭\n",
    "\n",
    "> With [importnb](https://pypi.org/project/importnb), one can interactively build apps,\n",
    "> then reuse single parts for presentation. This simulation is built in the\n",
    "> [plumbing notebook](./07_Simulation.ipynb)."
   ]
  },
  {
   "cell_type": "code",
   "execution_count": null,
   "id": "b3062f2e-fef0-4aba-a25a-36689d60fab4",
   "metadata": {},
   "outputs": [],
   "source": [
    "if __name__ == \"__main__\":\n",
    "    %pip install -q -r requirements.txt"
   ]
  },
  {
   "cell_type": "code",
   "execution_count": null,
   "id": "e47b5e87-0e13-4738-b4e5-d81a50b514a2",
   "metadata": {},
   "outputs": [],
   "source": [
    "with __import__(\"importnb\").Notebook():\n",
    "    from __07_Simulation import app\n",
    "app"
   ]
  },
  {
   "cell_type": "markdown",
   "id": "e3ff004a-1a91-4a45-b276-803343af5833",
   "metadata": {},
   "source": [
    "## 🦌 Learn More 📖\n",
    "\n",
    "See the [other examples](./_index.ipynb)."
   ]
  }
 ],
 "metadata": {
  "kernelspec": {
   "display_name": "Python 3 (ipykernel)",
   "language": "python",
   "name": "python3"
  },
  "language_info": {
   "codemirror_mode": {
    "name": "ipython",
    "version": 3
   },
   "file_extension": ".py",
   "mimetype": "text/x-python",
   "name": "python",
   "nbconvert_exporter": "python",
   "pygments_lexer": "ipython3",
   "version": "3.10.6"
  }
 },
 "nbformat": 4,
 "nbformat_minor": 5
}
