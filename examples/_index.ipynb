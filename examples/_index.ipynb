{
 "cells": [
  {
   "cell_type": "markdown",
   "id": "339b9d02-49ca-4cb9-9224-d07cbeefcf73",
   "metadata": {},
   "source": [
    "# 🦌 ELK Examples 🚀"
   ]
  },
  {
   "cell_type": "markdown",
   "id": "890eab5b-fe3a-449d-a24f-5ad9f8976f0c",
   "metadata": {},
   "source": [
    "## Basic Examples\n",
    "\n",
    "- [🦌 Introducing ELK 👋](./00_Introduction.ipynb)\n",
    "- [🦌 Linking ELK Diagrams 🔗](./01_Linking.ipynb)"
   ]
  },
  {
   "cell_type": "markdown",
   "id": "f3978594-4b49-4203-bb75-744cd998fae1",
   "metadata": {},
   "source": [
    "## Working with `networkx`\n",
    "\n",
    "- [🦌 ELK Transformer 🤖](./02_Transformer.ipynb)\n",
    "- [🦌 ELK App 🚀](./03_App.ipynb)"
   ]
  },
  {
   "cell_type": "markdown",
   "id": "197fadc6-c79e-48df-8f19-e37c22e9d712",
   "metadata": {},
   "source": [
    "## Integrating into Larger Applications\n",
    "\n",
    "- [🦌 Interactive ELK App 🕹️](./04_Interactive.ipynb)\n",
    "- [🦌 ELK Simulation Demo 🐺🎭](./08_Simulation_App.ipynb)\n",
    "  - [🦌 ELK Simulation Plumbing 🐺🤓](./07_Simulation.ipynb)"
   ]
  },
  {
   "cell_type": "markdown",
   "id": "d2bfcb8f-b50b-43c9-94fc-1741151cf147",
   "metadata": {},
   "source": [
    "## Exporting Diagrams\n",
    "\n",
    "- [🦌 SVG Exporter 🥡](./05_SVG_Exporter.ipynb)\n",
    "- [🦌 SVG App Exporter 🥡](./06_SVG_App_Exporter.ipynb)"
   ]
  },
  {
   "cell_type": "markdown",
   "id": "f8aeedb0-4ed6-4c65-a7f8-bbc985a43353",
   "metadata": {},
   "source": [
    "## Extending\n",
    "\n",
    "- [🦌 SVG Defs 🏹](./10_Diagram_Defs.ipynb)\n",
    "- [🦌 SVG Logic Gates🔣](./11_Logic_Gates.ipynb)\n",
    "- [🦌 Node Menagerie ⚡](./12_Node_Menagerie.ipynb)\n",
    "- [🦌 Compounds 🧪](./13_Compounds.ipynb)\n",
    "- [🦌 Text Styling 🧪](./14_Text_Styling.ipynb)\n",
    "- [🦌 Brushable Plots 🧪](./15_Nesting_Plots.ipynb)"
   ]
  }
 ],
 "metadata": {
  "kernelspec": {
   "display_name": "Python 3 (ipykernel)",
   "language": "python",
   "name": "python3"
  },
  "language_info": {
   "codemirror_mode": {
    "name": "ipython",
    "version": 3
   },
   "file_extension": ".py",
   "mimetype": "text/x-python",
   "name": "python",
   "nbconvert_exporter": "python",
   "pygments_lexer": "ipython3",
   "version": "3.10.6"
  }
 },
 "nbformat": 4,
 "nbformat_minor": 5
}
