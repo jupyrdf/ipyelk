{
 "cells": [
  {
   "cell_type": "markdown",
   "metadata": {},
   "source": [
    "# 🦌 ELK Examples 🚀"
   ]
  },
  {
   "cell_type": "markdown",
   "metadata": {},
   "source": [
    "## Basic Examples\n",
    "\n",
    "- [🦌 Introducing ELK 👋](./00_Introduction.ipynb)\n",
    "- [🦌 Linking ELK Diagrams 🔗](./01_Linking.ipynb)\n",
    "- [🦌 ELK Models Explorer 🔗](./14_elk_model_explorer.ipynb)"
   ]
  },
  {
   "cell_type": "markdown",
   "metadata": {},
   "source": [
    "## Working with `networkx`\n",
    "\n",
    "- [🦌 ELK Transformer 🤖](./02_Transformer.ipynb)\n",
    "- [🦌 ELK App 🚀](./03_App.ipynb)"
   ]
  },
  {
   "cell_type": "markdown",
   "metadata": {},
   "source": [
    "## Integrating into Larger Applications\n",
    "\n",
    "- [🦌 Interactive ELK App 🕹️](./04_Interactive.ipynb)\n",
    "- [🦌 ELK Simulation Demo 🐺🎭](./08_Simulation_App.ipynb)\n",
    "  - [🦌 ELK Simulation Plumbing 🐺🤓](./07_Simulation.ipynb)"
   ]
  },
  {
   "cell_type": "markdown",
   "metadata": {},
   "source": [
    "## Exporting Diagrams\n",
    "\n",
    "- [🦌 SVG Exporter 🥡](./05_SVG_Exporter.ipynb)\n",
    "- [🦌 SVG App Exporter 🥡](./06_SVG_App_Exporter.ipynb)"
   ]
  },
  {
   "cell_type": "markdown",
   "metadata": {},
   "source": [
    "## Advanced Layout Options\n",
    "\n",
    "- [🦌 Node Label Placement 🏷️](./100_node_label_placement.ipynb)\n",
    "- [🦌 Text Sizer 📏](./101_text_sizer.ipynb)\n",
    "- [🦌 Layout Options](./102_layout_options.ipynb)\n",
    "- [🦌 Transformer Layout Options](./103_transformer_layout_options.ipynb)\n",
    "- [🦌 ELK Transformer Node Labels 🗄️](./104_transformer_multi_label.ipynb)\n",
    "- [🦌 ELK Transformer Ports 🚢](./105_transformer_ports.ipynb)\n",
    "- [🦌 ELK Transformer Edges 💭](./106_transformer_edges.ipynb)"
   ]
  },
  {
   "cell_type": "markdown",
   "metadata": {},
   "source": [
    "## Extending\n",
    "\n",
    "- [🦌 SVG Defs 🏹](./10_Diagram_Defs.ipynb)\n",
    "- [🦌 SVG Logic Gates🔣](./11_Logic_Gates.ipynb)\n",
    "- [🦌 Node Menagerie ⚡](./12_Node_Menagerie.ipynb)\n",
    "- [🦌 Compounds 🧪](./13_Compounds.ipynb)"
   ]
  }
 ],
 "metadata": {
  "kernelspec": {
   "display_name": "Python 3",
   "language": "python",
   "name": "python3"
  },
  "language_info": {
   "codemirror_mode": {
    "name": "ipython",
    "version": 3
   },
   "file_extension": ".py",
   "mimetype": "text/x-python",
   "name": "python",
   "nbconvert_exporter": "python",
   "pygments_lexer": "ipython3",
   "version": "3.7.9"
  }
 },
 "nbformat": 4,
 "nbformat_minor": 4
}
