{
 "cells": [
  {
   "cell_type": "markdown",
   "metadata": {},
   "source": [
    "# 🦌 ELK App 🚀\n",
    "\n",
    "This is a high-level widget for interacting with ELK Transformers and ELK Diagrams"
   ]
  },
  {
   "cell_type": "code",
   "execution_count": null,
   "metadata": {},
   "outputs": [],
   "source": [
    "import json\n",
    "import pathlib\n",
    "\n",
    "import ipywidgets\n",
    "import networkx\n",
    "import traitlets\n",
    "\n",
    "import ipyelk\n",
    "import ipyelk.nx\n",
    "import ipyelk.tools"
   ]
  },
  {
   "cell_type": "code",
   "execution_count": null,
   "metadata": {},
   "outputs": [],
   "source": [
    "hier_tree = networkx.readwrite.json_graph.node_link_graph(\n",
    "    json.loads(pathlib.Path(\"hier_tree.json\").read_text(encoding=\"utf-8\"))\n",
    ")\n",
    "hier_ports = networkx.readwrite.json_graph.node_link_graph(\n",
    "    json.loads(pathlib.Path(\"hier_ports.json\").read_text(encoding=\"utf-8\"))\n",
    ")\n",
    "\n",
    "hier_xelk = ipyelk.nx.XELK(source=(hier_ports, hier_tree))\n",
    "hier_elk = ipyelk.ElkDiagram(hier_xelk.to_dict())"
   ]
  },
  {
   "cell_type": "code",
   "execution_count": null,
   "metadata": {},
   "outputs": [],
   "source": [
    "class ToggleCollapsedBtn(ipyelk.tools.ToolButton):\n",
    "    @traitlets.default(\"description\")\n",
    "    def _default_description(self):\n",
    "        return \"Toggle Collapsed\"\n",
    "\n",
    "    def handler(self, *args):\n",
    "        diagram = self.app.diagram\n",
    "        transformer = self.app.transformer\n",
    "        graph, tree = transformer.source\n",
    "\n",
    "        for element_id in diagram.selected:\n",
    "            if element_id in tree:\n",
    "                for child in tree.neighbors(element_id):\n",
    "                    state = tree.nodes[child].get(\"hidden\", False)\n",
    "                    tree.nodes[child][\"hidden\"] = not state\n",
    "                diagram.value = transformer.to_dict()"
   ]
  },
  {
   "cell_type": "code",
   "execution_count": null,
   "metadata": {},
   "outputs": [],
   "source": [
    "elk_app = ipyelk.Elk(transformer=hier_xelk, layout=dict(display=\"flex\", flex=\"1\"))\n",
    "toggle = ipyelk.tools.ToggleCollapsedBtn(app=elk_app)\n",
    "box = ipywidgets.VBox(\n",
    "    [\n",
    "        ipywidgets.HBox(\n",
    "            [ipywidgets.HTML(\"<h2>👇 click a group node then click 👉</h2>\"), toggle]\n",
    "        ),\n",
    "        elk_app,\n",
    "    ],\n",
    "    layout=dict(height=\"100%\"),\n",
    ")\n",
    "box"
   ]
  },
  {
   "cell_type": "markdown",
   "metadata": {},
   "source": [
    "## Custom Styling For Collaping Hierarchical Example\n",
    "\n",
    "The style dictionary takes the first key and adds a parent selector based on the current\n",
    "`StyleWidget`'s id. This helps to namespace the css selectors but also means that the\n",
    "leading space in the style dictionary keys is intentional and is a descendant selector\n",
    "from the root.\n",
    "\n",
    "The `.slack-port` and `.slack-edge` are custom css classes applied by the XELK\n",
    "transformer when collapsing a node causes either a source or destination of a tunneling\n",
    "edges to disapear requiring the introduction of a new edge and port at a higher level."
   ]
  },
  {
   "cell_type": "code",
   "execution_count": null,
   "metadata": {},
   "outputs": [],
   "source": [
    "elk_app.style = {\n",
    "    \" rect\": {\"opacity\": \".75\", \"transition\": \"all 0.2s\"},\n",
    "    \" .slack-port>rect\": {\"fill\": \"red\", \"opacity\": \".25\", \"transition\": \"all 0.2s\"},\n",
    "    \" .slack-edge>path\": {\n",
    "        \"stroke\": \"red\",\n",
    "        \"opacity\": \".25\",\n",
    "        \"stroke-dasharray\": \"4\",\n",
    "        \"transition\": \"all 0.2s\",\n",
    "        \"stroke-width\": \"2px\",\n",
    "    },\n",
    "    \" .slack-edge>path.edge.arrow\": {\"fill\": \"red\", \"opacity\": \".25\"},\n",
    "}"
   ]
  },
  {
   "cell_type": "markdown",
   "metadata": {},
   "source": [
    "## 🦌 Learn More 📖\n",
    "\n",
    "- [🦌 Introducing ELK 👋](./00_Introduction.ipynb)\n",
    "- [🦌 Linking ELK Diagrams 🔗](./01_Linking.ipynb)\n",
    "- [🦌 ELK Transformer 🤖](./02_Transformer.ipynb)\n",
    "- [🦌 ELK App 🚀](./03_App.ipynb)\n",
    "- [🦌 Interactive ELK App 🕹️](./04_Interactive.ipynb)"
   ]
  }
 ],
 "metadata": {
  "kernelspec": {
   "display_name": "Python 3",
   "language": "python",
   "name": "python3"
  },
  "language_info": {
   "codemirror_mode": {
    "name": "ipython",
    "version": 3
   },
   "file_extension": ".py",
   "mimetype": "text/x-python",
   "name": "python",
   "nbconvert_exporter": "python",
   "pygments_lexer": "ipython3",
   "version": "3.7.8"
  }
 },
 "nbformat": 4,
 "nbformat_minor": 4
}
