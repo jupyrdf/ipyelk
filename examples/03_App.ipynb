{
 "cells": [
  {
   "cell_type": "markdown",
   "metadata": {},
   "source": [
    "# 🦌 ELK App 🚀\n",
    "\n",
    "This is a high-level widget for interacting with ELK Transformers and ELK Diagrams"
   ]
  },
  {
   "cell_type": "code",
   "execution_count": null,
   "metadata": {},
   "outputs": [],
   "source": [
    "import json\n",
    "import pathlib\n",
    "\n",
    "import importnb\n",
    "import ipywidgets\n",
    "import networkx\n",
    "import traitlets\n",
    "\n",
    "import ipyelk\n",
    "\n",
    "# import ipyelk.tools\n",
    "# import ipyelk.tools.tools"
   ]
  },
  {
   "cell_type": "code",
   "execution_count": null,
   "metadata": {},
   "outputs": [],
   "source": [
    "with importnb.Notebook():\n",
    "    from __02_Transformer import a_hierarchical_elk_example"
   ]
  },
  {
   "cell_type": "code",
   "execution_count": null,
   "metadata": {},
   "outputs": [],
   "source": [
    "def an_elk_app_example(elk=None):\n",
    "    elk = elk or a_hierarchical_elk_example()\n",
    "    #     app = ipyelk.Elk(transformer=xelk, layout=dict(display=\"flex\", flex=\"1\"))\n",
    "    #     toggle = ipyelk.tools.tools.ToggleCollapsedBtn(app=app)\n",
    "    #     fit = ipyelk.tools.tools.FitBtn(app=app)\n",
    "    #     app.toolbar.commands = [fit, toggle]\n",
    "    box = ipywidgets.VBox(\n",
    "        [\n",
    "            ipywidgets.HBox(\n",
    "                [ipywidgets.HTML(\"<h2>👇 click a group node then click 👉</h2>\"), toggle]\n",
    "            ),\n",
    "            elk,\n",
    "        ],\n",
    "        layout=dict(height=\"100%\"),\n",
    "    )\n",
    "    return app, box, elk"
   ]
  },
  {
   "cell_type": "code",
   "execution_count": null,
   "metadata": {},
   "outputs": [],
   "source": [
    "if __name__ == \"__main__\":\n",
    "    app, box, elk = an_elk_app_example()\n",
    "    display(box)"
   ]
  },
  {
   "cell_type": "markdown",
   "metadata": {},
   "source": [
    "#### Command Buttons can be customized to tailor the look and feel"
   ]
  },
  {
   "cell_type": "code",
   "execution_count": null,
   "metadata": {},
   "outputs": [],
   "source": [
    "def an_elk_app_with_a_custom_tool_button():\n",
    "    app, box, xelk, elk = an_elk_app_example()\n",
    "    fit = app.toolbar.commands[0]\n",
    "    fit.icon = \"arrows-alt\"\n",
    "    fit.tooltip = \"Fit Diagram\"\n",
    "    fit.layout.width = \"5em\"\n",
    "    fit.description = \"\"\n",
    "    return app, box, xelk, elk"
   ]
  },
  {
   "cell_type": "code",
   "execution_count": null,
   "metadata": {},
   "outputs": [],
   "source": [
    "if __name__ == \"__main__\":\n",
    "    display(an_elk_app_with_a_custom_tool_button()[1])"
   ]
  },
  {
   "cell_type": "markdown",
   "metadata": {},
   "source": [
    "#### Demonstrating adding close button\n",
    "\n",
    "Adding a callable to an `Elk` Application's Toolbar `on_close` will result in a close\n",
    "button appearing in the toolbar which will fire that function when pressed."
   ]
  },
  {
   "cell_type": "code",
   "execution_count": null,
   "metadata": {},
   "outputs": [],
   "source": [
    "def an_elk_app_with_custom_close():\n",
    "    app, box, xelk, elk = an_elk_app_example()\n",
    "\n",
    "    out = ipywidgets.Output()\n",
    "    with out:\n",
    "        print(\"  ┌ Press the close button!\\n\" \"  │\\n\" \"  │\\n\" \"  │\\n\" \"◀─╯\")\n",
    "\n",
    "    def simulating_close():\n",
    "        with out:\n",
    "            print(\"─▸Toolbar close button pressed!\")\n",
    "\n",
    "    app.toolbar.on_close = simulating_close\n",
    "    return app, ipywidgets.HBox([box, out]), xelk, elk"
   ]
  },
  {
   "cell_type": "code",
   "execution_count": null,
   "metadata": {},
   "outputs": [],
   "source": [
    "if __name__ == \"__main__\":\n",
    "    display(an_elk_app_with_custom_close()[1])"
   ]
  },
  {
   "cell_type": "markdown",
   "metadata": {},
   "source": [
    "## Custom Styling For Collaping Hierarchical Example\n",
    "\n",
    "The style dictionary takes the first key and adds a parent selector based on the current\n",
    "`StyleWidget`'s id. This helps to namespace the css selectors but also means that the\n",
    "leading space in the style dictionary keys is intentional and is a descendant selector\n",
    "from the root.\n",
    "\n",
    "The `.slack-port` and `.slack-edge` are custom css classes applied by the XELK\n",
    "transformer when collapsing a node causes either a source or destination of a tunneling\n",
    "edges to disapear requiring the introduction of a new edge and port at a higher level."
   ]
  },
  {
   "cell_type": "code",
   "execution_count": null,
   "metadata": {},
   "outputs": [],
   "source": [
    "def a_styled_elk_app_example():\n",
    "    app, box, xelk, elk = an_elk_app_example()\n",
    "    app.style = {\n",
    "        \" rect\": {\"opacity\": \".75\", \"transition\": \"all 0.2s\"},\n",
    "        \" .slack-port>rect\": {\n",
    "            \"fill\": \"red\",\n",
    "            \"opacity\": \".25\",\n",
    "            \"transition\": \"all 0.2s\",\n",
    "        },\n",
    "        \" .slack-edge>path\": {\n",
    "            \"stroke\": \"red\",\n",
    "            \"opacity\": \".25\",\n",
    "            \"stroke-dasharray\": \"4\",\n",
    "            \"transition\": \"all 0.2s\",\n",
    "            \"stroke-width\": \"2px\",\n",
    "        },\n",
    "        \" .slack-edge>path.edge.arrow\": {\"fill\": \"red\", \"opacity\": \".25\"},\n",
    "    }\n",
    "    return app, box, xelk, elk"
   ]
  },
  {
   "cell_type": "code",
   "execution_count": null,
   "metadata": {},
   "outputs": [],
   "source": [
    "if __name__ == \"__main__\":\n",
    "    display(a_styled_elk_app_example()[1])"
   ]
  },
  {
   "cell_type": "markdown",
   "metadata": {},
   "source": [
    "### Custom `ElkNode` css classes\n",
    "\n",
    "Custom css classes can be passed to `ElkNode`, `ElkPort`, and `ElkEdge`. The `XELK`\n",
    "transformer has a nested dictionary where the keys are nodes in the source networkx\n",
    "graph and the values are another dictionary with Elk types as keys and values are sets\n",
    "of strings. This set gets applied to the Elk types that are generated for the given\n",
    "networkx node."
   ]
  },
  {
   "cell_type": "code",
   "execution_count": null,
   "metadata": {},
   "outputs": [],
   "source": [
    "from ipyelk.diagram.elk_model import ElkEdge, ElkLabel, ElkNode, ElkRoot\n",
    "\n",
    "\n",
    "def a_more_stylish_elk_app_example():\n",
    "    app, box, xelk, elk = a_styled_elk_app_example()\n",
    "    app.transformer.css_classes = {\n",
    "        \"n1\": {\n",
    "            ElkNode: set([\"example-custom-class\"]),\n",
    "            ElkLabel: set([\"example-custom-text\"]),\n",
    "            #         shape:\"shoe\",\n",
    "        },\n",
    "        ElkRoot: {\n",
    "            ElkEdge: set(\n",
    "                [\"example-styled-edge\"]\n",
    "            ),  # colors edges under the root ElkJson Node\n",
    "        },\n",
    "    }\n",
    "\n",
    "    elktyped_css = {\n",
    "        \" .example-custom-class>rect.elknode\": {\"fill\": \"grey\", \"opacity\": \".25\"},\n",
    "        \" .example-styled-edge>.elkedge\": {\"stroke\": \"green\"},\n",
    "        \" text.example-custom-text.elklabel\": {\"fill\": \"red\"},\n",
    "    }\n",
    "    app.style = {**app.style, **elktyped_css}\n",
    "    app.refresh()\n",
    "    return app, box, xelk, elk"
   ]
  },
  {
   "cell_type": "code",
   "execution_count": null,
   "metadata": {},
   "outputs": [],
   "source": [
    "if __name__ == \"__main__\":\n",
    "    display(a_more_stylish_elk_app_example()[1])"
   ]
  },
  {
   "cell_type": "markdown",
   "metadata": {},
   "source": [
    "## 🦌 Learn More 📖\n",
    "\n",
    "See the [other examples](./_index.ipynb)."
   ]
  }
 ],
 "metadata": {
  "kernelspec": {
   "display_name": "Python 3",
   "language": "python",
   "name": "python3"
  },
  "language_info": {
   "codemirror_mode": {
    "name": "ipython",
    "version": 3
   },
   "file_extension": ".py",
   "mimetype": "text/x-python",
   "name": "python",
   "nbconvert_exporter": "python",
   "pygments_lexer": "ipython3",
   "version": "3.7.10"
  }
 },
 "nbformat": 4,
 "nbformat_minor": 4
}
