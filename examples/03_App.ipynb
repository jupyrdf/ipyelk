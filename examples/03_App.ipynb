{
 "cells": [
  {
   "cell_type": "markdown",
   "metadata": {},
   "source": [
    "# 🦌 ELK App 🚀\n",
    "\n",
    "This is a high-level widget for interacting with ELK Transformers and ELK Diagrams"
   ]
  },
  {
   "cell_type": "code",
   "execution_count": null,
   "metadata": {},
   "outputs": [],
   "source": [
    "if __name__ == \"__main__\":\n",
    "    %pip install -q -r requirements.txt"
   ]
  },
  {
   "cell_type": "code",
   "execution_count": null,
   "metadata": {},
   "outputs": [],
   "source": [
    "import json\n",
    "import pathlib\n",
    "\n",
    "import importnb\n",
    "import ipywidgets\n",
    "import ipywidgets as W\n",
    "import networkx\n",
    "import traitlets\n",
    "\n",
    "import ipyelk\n",
    "import ipyelk.tools\n",
    "from ipyelk.tools import Selection, ToggleCollapsedTool"
   ]
  },
  {
   "cell_type": "code",
   "execution_count": null,
   "metadata": {},
   "outputs": [],
   "source": [
    "with importnb.Notebook():\n",
    "    from __02_Transformer import a_hierarchical_elk_example"
   ]
  },
  {
   "cell_type": "code",
   "execution_count": null,
   "metadata": {
    "tags": []
   },
   "outputs": [],
   "source": [
    "def an_elk_app_example(elk=None):\n",
    "    elk = elk or a_hierarchical_elk_example()\n",
    "    collapser = elk.get_tool(ipyelk.tools.ToggleCollapsedTool)\n",
    "    toggle = ipywidgets.Button(description=\"Toggle\")\n",
    "    toggle.on_click(collapser.handler)\n",
    "\n",
    "    box = ipywidgets.VBox(\n",
    "        [\n",
    "            ipywidgets.HBox(\n",
    "                [\n",
    "                    ipywidgets.HTML(\"<h2>👇 click a group node then click 👉</h2>\"),\n",
    "                    toggle,\n",
    "                ]\n",
    "            ),\n",
    "            elk,\n",
    "        ],\n",
    "        layout=dict(height=\"100%\"),\n",
    "    )\n",
    "    return box, elk\n",
    "\n",
    "\n",
    "def setup_control_overlay(elk):\n",
    "    select_tool = elk.get_tool(Selection)\n",
    "    toggle_tool = elk.get_tool(ToggleCollapsedTool)\n",
    "    empty = W.VBox()\n",
    "\n",
    "    def check_icon(*args):\n",
    "        el = list(select_tool.elements())[0]\n",
    "        children = getattr(el, \"children\", [])\n",
    "        test = any(c.properties.hidden for c in el.children)\n",
    "        if test:\n",
    "            icon = \"plus\"\n",
    "        else:\n",
    "            icon = \"minus\"\n",
    "        toggle_tool.ui.icon = icon\n",
    "        toggle_tool.ui.description = \"\"\n",
    "        toggle_tool.ui.layout.width = \"35px\"\n",
    "        return icon\n",
    "\n",
    "    def on_select(change):\n",
    "\n",
    "        for el in select_tool.elements():\n",
    "            children = getattr(el, \"children\", [])\n",
    "            if children:\n",
    "\n",
    "                elk.view.control_overlay.children = [toggle_tool.ui]\n",
    "                check_icon()\n",
    "            else:\n",
    "                elk.view.control_overlay.children = [empty]\n",
    "\n",
    "    select_tool.observe(on_select, \"ids\")\n",
    "    toggle_tool.on_run(check_icon)"
   ]
  },
  {
   "cell_type": "code",
   "execution_count": null,
   "metadata": {
    "tags": []
   },
   "outputs": [],
   "source": [
    "if __name__ == \"__main__\":\n",
    "    box, elk = an_elk_app_example()\n",
    "    setup_control_overlay(elk)\n",
    "    display(box)"
   ]
  },
  {
   "cell_type": "markdown",
   "metadata": {},
   "source": [
    "#### Command Buttons can be customized to tailor the look and feel"
   ]
  },
  {
   "cell_type": "code",
   "execution_count": null,
   "metadata": {
    "tags": []
   },
   "outputs": [],
   "source": [
    "def an_elk_app_with_a_custom_tool_button():\n",
    "    box, elk = an_elk_app_example()\n",
    "    fit = elk.get_tool(ipyelk.tools.FitTool).ui\n",
    "    fit.icon = \"arrows-alt\"\n",
    "    fit.tooltip = \"Fit Diagram\"\n",
    "    fit.layout.width = \"5em\"\n",
    "    fit.description = \"\"\n",
    "    return box, elk"
   ]
  },
  {
   "cell_type": "code",
   "execution_count": null,
   "metadata": {},
   "outputs": [],
   "source": [
    "if __name__ == \"__main__\":\n",
    "    display(an_elk_app_with_a_custom_tool_button()[1])"
   ]
  },
  {
   "cell_type": "markdown",
   "metadata": {},
   "source": [
    "#### Demonstrating adding close button\n",
    "\n",
    "Adding a callable to an `Elk` Application's Toolbar `on_close` will result in a close\n",
    "button appearing in the toolbar which will fire that function when pressed."
   ]
  },
  {
   "cell_type": "code",
   "execution_count": null,
   "metadata": {},
   "outputs": [],
   "source": [
    "def an_elk_app_with_custom_close():\n",
    "    box, elk = an_elk_app_example()\n",
    "\n",
    "    out = ipywidgets.Output()\n",
    "    with out:\n",
    "        print(\"  ┌ Press the close button!\\n\" \"  │\\n\" \"  │\\n\" \"  │\\n\" \"◀─╯\")\n",
    "\n",
    "    def simulating_close():\n",
    "        with out:\n",
    "            print(\"─▸Toolbar close button pressed!\")\n",
    "\n",
    "    elk.toolbar.on_close = simulating_close\n",
    "    return ipywidgets.HBox([box, out]), elk"
   ]
  },
  {
   "cell_type": "code",
   "execution_count": null,
   "metadata": {},
   "outputs": [],
   "source": [
    "if __name__ == \"__main__\":\n",
    "    display(an_elk_app_with_custom_close()[1])"
   ]
  },
  {
   "cell_type": "markdown",
   "metadata": {},
   "source": [
    "## Custom Styling For Collaping Hierarchical Example\n",
    "\n",
    "The style dictionary takes the first key and adds a parent selector based on the current\n",
    "`StyleWidget`'s id. This helps to namespace the css selectors but also means that the\n",
    "leading space in the style dictionary keys is intentional and is a descendant selector\n",
    "from the root.\n",
    "\n",
    "The `.slack-port` and `.slack-edge` are custom css classes applied by the XELK\n",
    "transformer when collapsing a node causes either a source or destination of a tunneling\n",
    "edges to disapear requiring the introduction of a new edge and port at a higher level."
   ]
  },
  {
   "cell_type": "code",
   "execution_count": null,
   "metadata": {},
   "outputs": [],
   "source": [
    "def a_styled_elk_app_example():\n",
    "    box, elk = an_elk_app_example()\n",
    "    elk.style = {\n",
    "        \" rect\": {\"opacity\": \".75\", \"transition\": \"all 0.2s\"},\n",
    "        \" .slack-port>rect\": {\n",
    "            \"fill\": \"red\",\n",
    "            \"opacity\": \".25\",\n",
    "            \"transition\": \"all 0.2s\",\n",
    "        },\n",
    "        \" .slack-edge>path\": {\n",
    "            \"stroke\": \"red\",\n",
    "            \"opacity\": \".25\",\n",
    "            \"stroke-dasharray\": \"4\",\n",
    "            \"transition\": \"all 0.2s\",\n",
    "            \"stroke-width\": \"2px\",\n",
    "        },\n",
    "        \" .slack-edge>path.edge.arrow\": {\"fill\": \"red\", \"opacity\": \".25\"},\n",
    "    }\n",
    "    return box, elk"
   ]
  },
  {
   "cell_type": "code",
   "execution_count": null,
   "metadata": {},
   "outputs": [],
   "source": [
    "if __name__ == \"__main__\":\n",
    "    box, elk = a_styled_elk_app_example()\n",
    "    display(elk)"
   ]
  },
  {
   "cell_type": "markdown",
   "metadata": {},
   "source": [
    "## 🦌 Learn More 📖\n",
    "\n",
    "See the [other examples](./_index.ipynb)."
   ]
  }
 ],
 "metadata": {
  "kernelspec": {
   "display_name": "Python 3 (ipykernel)",
   "language": "python",
   "name": "python3"
  },
  "language_info": {
   "codemirror_mode": {
    "name": "ipython",
    "version": 3
   },
   "file_extension": ".py",
   "mimetype": "text/x-python",
   "name": "python",
   "nbconvert_exporter": "python",
   "pygments_lexer": "ipython3",
   "version": "3.10.6"
  }
 },
 "nbformat": 4,
 "nbformat_minor": 4
}
