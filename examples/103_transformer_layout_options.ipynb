{
 "cells": [
  {
   "cell_type": "markdown",
   "metadata": {},
   "source": [
    "# 🦌 ELK XELK Transformer Layout Options 🤖\n",
    "\n",
    "The `XELKTypedLayout` generates a nested dictionary that controls various\n",
    "[Layout Options](https://www.eclipse.org/elk/reference/options.html) that can be passed\n",
    "to Elk. Currently only a subset of Layout Options are implemented and not all\n",
    "interdepenencies are taken into account."
   ]
  },
  {
   "cell_type": "code",
   "execution_count": null,
   "metadata": {},
   "outputs": [],
   "source": [
    "import json\n",
    "import pathlib\n",
    "\n",
    "import importnb\n",
    "import ipywidgets\n",
    "import networkx\n",
    "import traitlets\n",
    "from IPython.display import JSON, display\n",
    "\n",
    "import ipyelk\n",
    "import ipyelk.nx\n",
    "import ipyelk.tools\n",
    "from ipyelk.diagram import layout_options"
   ]
  },
  {
   "cell_type": "code",
   "execution_count": null,
   "metadata": {},
   "outputs": [],
   "source": [
    "with importnb.Notebook():\n",
    "    from __02_Transformer import (\n",
    "        a_collapsible_elk_example,\n",
    "        a_flat_elk_json_example,\n",
    "        a_hierarchical_elk_example,\n",
    "    )"
   ]
  },
  {
   "cell_type": "code",
   "execution_count": null,
   "metadata": {},
   "outputs": [],
   "source": [
    "if __name__ == \"__main__\":\n",
    "    xelk_typed_layout = ipyelk.nx.XELKTypedLayout()"
   ]
  },
  {
   "cell_type": "markdown",
   "metadata": {},
   "source": [
    "The output `value` of the widget is a nested dictionary. Top level keys are nodes in\n",
    "networkx. The keys of the next level are `ElkGraphElements` e.g. (`ElkNode`, `ElkLabel`,\n",
    "...). The last layer are actual Elk layout options key value pairs.\n",
    "\n",
    "The `XELK` transformer will look to this structure to identify layout options based on\n",
    "Networkx node and which ElkGraphElements generated from the node."
   ]
  },
  {
   "cell_type": "code",
   "execution_count": null,
   "metadata": {},
   "outputs": [],
   "source": [
    "if __name__ == \"__main__\":\n",
    "    display(xelk_typed_layout, JSON(xelk_typed_layout.value))"
   ]
  },
  {
   "cell_type": "markdown",
   "metadata": {},
   "source": [
    "## Flat structure\n",
    "\n",
    "A `networkx.MultiDigraph` can be used to create a flat graph.\n",
    "\n",
    "> _TODO: There should be an option to specify if ports should be created or only connect\n",
    "> edges between the nodes_"
   ]
  },
  {
   "cell_type": "code",
   "execution_count": null,
   "metadata": {},
   "outputs": [],
   "source": [
    "def a_flat_elk_json_example_with_layouts(layouts=None):\n",
    "    layouts = layouts or ipyelk.nx.XELKTypedLayout()\n",
    "    elk, xelk = a_flat_elk_json_example()\n",
    "    xelk.layouts = layouts.value\n",
    "\n",
    "    def _element_type_opt_change(change):\n",
    "        xelk.layouts = xelk_typed_layout.value\n",
    "        xelk.refresh()\n",
    "\n",
    "    layouts.observe(_element_type_opt_change, \"value\")\n",
    "    box = ipywidgets.HBox([elk, layouts])\n",
    "    return box, layouts, xelk, elk"
   ]
  },
  {
   "cell_type": "code",
   "execution_count": null,
   "metadata": {},
   "outputs": [],
   "source": [
    "if __name__ == \"__main__\":\n",
    "    display(a_flat_elk_json_example_with_layouts(xelk_typed_layout)[0])"
   ]
  },
  {
   "cell_type": "markdown",
   "metadata": {},
   "source": [
    "## Hierarchical Diagram with Ports"
   ]
  },
  {
   "cell_type": "code",
   "execution_count": null,
   "metadata": {},
   "outputs": [],
   "source": [
    "def a_hierarchical_elk_example_with_layouts(layouts=None):\n",
    "    layouts = layouts or ipyelk.nx.XELKTypedLayout()\n",
    "    box, elk, xelk = a_collapsible_elk_example()\n",
    "    box.layout.flex = \"1\"\n",
    "    xelk.layouts = layouts.value\n",
    "\n",
    "    def _type_opt_change(change):\n",
    "        xelk.layouts = layouts.value\n",
    "        xelk.refresh()\n",
    "\n",
    "    layouts.observe(_type_opt_change, \"value\")\n",
    "\n",
    "    box2 = ipywidgets.HBox([box, layouts], layout=dict(max_height=\"60vh\"))\n",
    "    return box2, elk, xelk, layouts"
   ]
  },
  {
   "cell_type": "code",
   "execution_count": null,
   "metadata": {},
   "outputs": [],
   "source": [
    "if __name__ == \"__main__\":\n",
    "    display(a_hierarchical_elk_example_with_layouts()[0])"
   ]
  },
  {
   "cell_type": "markdown",
   "metadata": {},
   "source": [
    "## 🦌 Learn More 📖\n",
    "\n",
    "See the [other examples](./_index.ipynb)."
   ]
  }
 ],
 "metadata": {
  "kernelspec": {
   "display_name": "Python 3",
   "language": "python",
   "name": "python3"
  },
  "language_info": {
   "codemirror_mode": {
    "name": "ipython",
    "version": 3
   },
   "file_extension": ".py",
   "mimetype": "text/x-python",
   "name": "python",
   "nbconvert_exporter": "python",
   "pygments_lexer": "ipython3",
   "version": "3.7.9"
  }
 },
 "nbformat": 4,
 "nbformat_minor": 4
}
