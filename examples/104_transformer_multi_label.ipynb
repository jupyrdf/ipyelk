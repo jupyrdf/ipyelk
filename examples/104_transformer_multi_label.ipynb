{
 "cells": [
  {
   "cell_type": "markdown",
   "metadata": {},
   "source": [
    "# 🦌 ELK Transformer Node Labels 🗄️\n",
    "\n",
    "Example of using the `XELK` Transformer with explicitly declared labels in the node data"
   ]
  },
  {
   "cell_type": "code",
   "execution_count": null,
   "metadata": {},
   "outputs": [],
   "source": [
    "import json\n",
    "import pathlib\n",
    "\n",
    "import ipywidgets\n",
    "import networkx\n",
    "import traitlets\n",
    "from IPython.display import JSON\n",
    "\n",
    "import ipyelk\n",
    "import ipyelk.nx\n",
    "import ipyelk.tools\n",
    "from ipyelk import Elk\n",
    "from ipyelk.diagram import layout_options\n",
    "from ipyelk.diagram.elk_model import ElkLabel, ElkNode"
   ]
  },
  {
   "cell_type": "markdown",
   "metadata": {},
   "source": [
    "# Example building a simple Networkx Graph with explicit ElkLabels\n",
    "\n",
    "This demonstrates passing a list of labels from the Networkx node data to the `XELK`\n",
    "transformer. These labels can be either a string, a dictionary with correct ElkLabel\n",
    "schema, or an instance of an ElkLabel. `layoutOptions` explicitly set on the labels take\n",
    "priority over those inherited."
   ]
  },
  {
   "cell_type": "code",
   "execution_count": null,
   "metadata": {},
   "outputs": [],
   "source": [
    "def an_example_explicit_node_labels(layouts=None):\n",
    "    layouts = layouts or ipyelk.nx.XELKTypedLayout()\n",
    "\n",
    "    g = networkx.Graph()\n",
    "    g.add_node(\n",
    "        \"complex_label\",\n",
    "        labels=[\n",
    "            \"Main Node Label\",  # will move according to typed_layout NodeLabelPlacement\n",
    "            ElkLabel(\n",
    "                id=\"node_type_label\",\n",
    "                text=\"«Type»\",\n",
    "                properties={\n",
    "                    \"cssClasses\": \"node_type_label\",\n",
    "                },\n",
    "            ),\n",
    "            ElkLabel(\n",
    "                id=\"value_label\",\n",
    "                text=\"Value: ☠️\",\n",
    "                layoutOptions=layout_options.OptionsWidget(\n",
    "                    options=[\n",
    "                        layout_options.NodeLabelPlacement(\n",
    "                            vertical=\"bottom\", horizontal=\"left\"\n",
    "                        ),\n",
    "                    ]\n",
    "                ).value,\n",
    "            ),\n",
    "            dict(\n",
    "                id=\"new_value_label\",\n",
    "                text=\"New Value: 👻\",\n",
    "                layoutOptions=layout_options.OptionsWidget(\n",
    "                    options=[\n",
    "                        layout_options.NodeLabelPlacement(\n",
    "                            vertical=\"bottom\", horizontal=\"right\"\n",
    "                        ),\n",
    "                    ]\n",
    "                ).value,\n",
    "            ),\n",
    "        ],\n",
    "    )\n",
    "\n",
    "    elk = Elk(\n",
    "        transformer=ipyelk.nx.XELK(\n",
    "            source=(g, None),\n",
    "            label_key=\"labels\",\n",
    "            layouts=layouts.value,\n",
    "        ),\n",
    "        style={\n",
    "            \" text.elklabel.node_type_label\": {\n",
    "                \"font-style\": \"italic\",\n",
    "            }\n",
    "        },\n",
    "    )\n",
    "\n",
    "    def _element_type_opt_change(change):\n",
    "        elk.transformer.layouts = layouts.value\n",
    "        elk.refresh()\n",
    "\n",
    "    layouts.observe(_element_type_opt_change, \"value\")\n",
    "    elk.layout.flex = \"1\"\n",
    "\n",
    "    box = ipywidgets.HBox([elk, layouts], layout=dict(height=\"60vh\"))\n",
    "    return box, elk, layouts"
   ]
  },
  {
   "cell_type": "markdown",
   "metadata": {},
   "source": [
    "The `typed_layout` widget can be used to adjust main title position by changing `Label`\n",
    "-> `Node Label Placement`"
   ]
  },
  {
   "cell_type": "code",
   "execution_count": null,
   "metadata": {},
   "outputs": [],
   "source": [
    "if __name__ == \"__main__\":\n",
    "    display(an_example_explicit_node_labels()[0])"
   ]
  }
 ],
 "metadata": {
  "kernelspec": {
   "display_name": "Python 3",
   "language": "python",
   "name": "python3"
  },
  "language_info": {
   "codemirror_mode": {
    "name": "ipython",
    "version": 3
   },
   "file_extension": ".py",
   "mimetype": "text/x-python",
   "name": "python",
   "nbconvert_exporter": "python",
   "pygments_lexer": "ipython3",
   "version": "3.7.9"
  }
 },
 "nbformat": 4,
 "nbformat_minor": 4
}
