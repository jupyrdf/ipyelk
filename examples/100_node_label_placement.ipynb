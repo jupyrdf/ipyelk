{
 "cells": [
  {
   "cell_type": "markdown",
   "metadata": {},
   "source": [
    "# 🦌 Node Label Placement 🏷️"
   ]
  },
  {
   "cell_type": "code",
   "execution_count": null,
   "metadata": {},
   "outputs": [],
   "source": [
    "import asyncio\n",
    "import copy\n",
    "import json\n",
    "\n",
    "import importnb\n",
    "import ipywidgets as W\n",
    "import traitlets as T\n",
    "from IPython.display import display\n",
    "\n",
    "import ipyelk\n",
    "from ipyelk.diagram import layout_options"
   ]
  },
  {
   "cell_type": "code",
   "execution_count": null,
   "metadata": {},
   "outputs": [],
   "source": [
    "with importnb.Notebook():\n",
    "    from __00_Introduction import a_simple_elk_json_example"
   ]
  },
  {
   "cell_type": "code",
   "execution_count": null,
   "metadata": {},
   "outputs": [],
   "source": [
    "if __name__ == \"__main__\":\n",
    "    nlp = layout_options.NodeLabelPlacement()\n",
    "    display(nlp)"
   ]
  },
  {
   "cell_type": "markdown",
   "metadata": {},
   "source": [
    "ELKJSON build acceptable value for the label placement"
   ]
  },
  {
   "cell_type": "code",
   "execution_count": null,
   "metadata": {},
   "outputs": [],
   "source": [
    "if __name__ == \"__main__\":\n",
    "    display(nlp.value)"
   ]
  },
  {
   "cell_type": "markdown",
   "metadata": {},
   "source": [
    "### Example connecting NodeLabelPlacement widget value to the label layoutOptions"
   ]
  },
  {
   "cell_type": "code",
   "execution_count": null,
   "metadata": {},
   "outputs": [],
   "source": [
    "async def update_label_layout_options(node, options, sizer, node_options=None):\n",
    "    \"\"\"Recurse through the nodes and update layout options\"\"\"\n",
    "    if node_options:\n",
    "        node.pop(\"width\", None)\n",
    "        node.pop(\"height\", None)\n",
    "        node[\"layoutOptions\"] = node_options\n",
    "\n",
    "    for label in node.get(\"labels\", []):\n",
    "        if \"layoutOptions\" in label:\n",
    "            label[\"layoutOptions\"].update(options)\n",
    "        else:\n",
    "            label[\"layoutOptions\"] = options\n",
    "\n",
    "        # removing rigid x and y placement\n",
    "        label.pop(\"x\", None)\n",
    "        label.pop(\"y\", None)\n",
    "\n",
    "        # updating label size with measured values from the DOM\n",
    "        size = await sizer.measure(label.get(\"text\"))\n",
    "        label[\"height\"] = size.height\n",
    "        label[\"width\"] = size.width\n",
    "\n",
    "    for child in node.get(\"children\", []):\n",
    "        await update_label_layout_options(child, options, sizer, node_options)"
   ]
  },
  {
   "cell_type": "code",
   "execution_count": null,
   "metadata": {},
   "outputs": [],
   "source": [
    "def an_elk_example_with_custom_node_label_placement(nlp=None, update_options=None):\n",
    "    update_options = update_options or update_label_layout_options\n",
    "    elk = a_simple_elk_json_example()\n",
    "    original_value = copy.deepcopy(elk.value)\n",
    "    sizer = ipyelk.diagram.ElkTextSizer()\n",
    "    nlp = nlp or layout_options.NodeLabelPlacement()\n",
    "\n",
    "    async def update_json():\n",
    "        elk_json = copy.deepcopy(original_value)\n",
    "        elk_json[\"properties\"] = {\"algorithm\": \"layered\"}\n",
    "        layoutOptions = {\"nodeLabels.placement\": nlp.value}\n",
    "        await update_options(elk_json, layoutOptions, sizer)\n",
    "        elk.value = elk_json\n",
    "\n",
    "    def refresh(change=None):\n",
    "        \"\"\"Wrapper function for scheduling the async update_json function\"\"\"\n",
    "        asyncio.create_task(update_json())\n",
    "\n",
    "    nlp.observe(refresh, \"value\")\n",
    "    refresh()\n",
    "    box = W.HBox([elk, nlp], layout={\"height\": \"400px\"})\n",
    "    return box, refresh, nlp, sizer, elk"
   ]
  },
  {
   "cell_type": "code",
   "execution_count": null,
   "metadata": {},
   "outputs": [],
   "source": [
    "if __name__ == \"__main__\":\n",
    "    box, refresh, nlp, sizer, elk = an_elk_example_with_custom_node_label_placement(nlp)\n",
    "    display(box)"
   ]
  },
  {
   "cell_type": "markdown",
   "metadata": {},
   "source": [
    "## 🦌 Learn More 📖\n",
    "\n",
    "See the [other examples](./_index.ipynb)."
   ]
  }
 ],
 "metadata": {
  "kernelspec": {
   "display_name": "Python 3",
   "language": "python",
   "name": "python3"
  },
  "language_info": {
   "codemirror_mode": {
    "name": "ipython",
    "version": 3
   },
   "file_extension": ".py",
   "mimetype": "text/x-python",
   "name": "python",
   "nbconvert_exporter": "python",
   "pygments_lexer": "ipython3",
   "version": "3.7.9"
  }
 },
 "nbformat": 4,
 "nbformat_minor": 4
}
