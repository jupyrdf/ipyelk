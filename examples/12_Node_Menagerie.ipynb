{
 "cells": [
  {
   "cell_type": "markdown",
   "metadata": {},
   "source": [
    "# 🦌 Node Menagerie ⚡\n",
    "\n",
    "Demonstrating the variety of Node Shapes and introduce the `Symbol` classes:\n",
    "\n",
    "- Rect - A rectangular node\n",
    "- Circle - A circlular node\n",
    "- Ellipse - An elliptical node\n",
    "- Diamond - A diamond node\n",
    "- Comment - A mostly rectangular node that has been notched in the upper right corner\n",
    "- Image - Wrapper for a `image` svg tag\n",
    "- Path - Wrapper for a `path` svg tag\n",
    "- SVG - embed raw svg\n",
    "\n",
    "- Widget - embed other jupyterlab widgets\n",
    "- HTML - embed a html sting\n",
    "\n",
    "These classes help to generate the valid ElkJSON structures that can be added to a\n",
    "networkx graphs and passed to the Elk display widgets. The generated JSON has\n",
    "`properties` -> `type` set to a value that will be inspected on the frontend to render\n",
    "the appropriate shape. When calling a shapes `to_json` method an `id` arguement should\n",
    "be supplied and will be included in the output dictionary."
   ]
  },
  {
   "cell_type": "code",
   "execution_count": 1,
   "metadata": {},
   "outputs": [],
   "source": [
    "import importnb\n",
    "\n",
    "# import ipyelk.diagram.elk_export\n",
    "import ipywidgets as W\n",
    "import networkx as nx\n",
    "from IPython.display import SVG\n",
    "\n",
    "import ipyelk\n",
    "import ipyelk.nx\n",
    "import ipyelk.tools\n",
    "import ipyelk.tools.tools\n",
    "\n",
    "# from ipyelk.contrib.library import logic_gates as logic\n",
    "from ipyelk.contrib.molds import connectors as conn\n",
    "from ipyelk.contrib.molds import structures\n",
    "from ipyelk.elements import EndpointSymbol, Symbol, SymbolSpec, shapes, layout_options as opt\n",
    "from ipyelk.loaders import NXLoader"
   ]
  },
  {
   "cell_type": "markdown",
   "metadata": {},
   "source": [
    "### Symbol Example"
   ]
  },
  {
   "cell_type": "code",
   "execution_count": 2,
   "metadata": {},
   "outputs": [
    {
     "data": {
      "text/plain": [
       "150"
      ]
     },
     "execution_count": 2,
     "metadata": {},
     "output_type": "execute_result"
    }
   ],
   "source": [
    "shapes.HTML(use=\"<h1>Hello World</h1>\").dict().get('width') or 150"
   ]
  },
  {
   "cell_type": "code",
   "execution_count": 3,
   "metadata": {},
   "outputs": [
    {
     "data": {
      "text/plain": [
       "('org.eclipse.elk.nodeLabels.placement', 'H_LEFT V_TOP INSIDE')"
      ]
     },
     "execution_count": 3,
     "metadata": {},
     "output_type": "execute_result"
    }
   ],
   "source": [
    "opt.NodeLabelPlacement().identifier, opt.NodeLabelPlacement().value"
   ]
  },
  {
   "cell_type": "code",
   "execution_count": 4,
   "metadata": {},
   "outputs": [],
   "source": [
    "def symbol_example():\n",
    "    g = nx.Graph()\n",
    "    tree = nx.DiGraph()\n",
    "\n",
    "    width = 150\n",
    "    height = 100\n",
    "\n",
    "    collection = [\n",
    "        shapes.Image(\n",
    "            use=\"./files/examples/untitled_example.svg\",\n",
    "        ),\n",
    "        shapes.SVG(\n",
    "            use=\"\"\"<g><rect fill=\"none\" height=\"24\" width=\"24\"/><path d=\"M17,15l1.55,1.55c-0.96,1.69-3.33,3.04-5.55,3.37V11h3V9h-3V7.82C14.16,7.4,15,6.3,15,5c0-1.65-1.35-3-3-3S9,3.35,9,5 c0,1.3,0.84,2.4,2,2.82V9H8v2h3v8.92c-2.22-0.33-4.59-1.68-5.55-3.37L7,15l-4-3v3c0,3.88,4.92,7,9,7s9-3.12,9-7v-3L17,15z M12,4 c0.55,0,1,0.45,1,1s-0.45,1-1,1s-1-0.45-1-1S11.45,4,12,4z\"/></g>\"\"\"\n",
    "        ),\n",
    "        shapes.Path(\n",
    "            use=\"M 0,0 L 0,100 L 20,30 Z\",\n",
    "        ),\n",
    "        shapes.ForeignObject(use=\"<input/>\"),\n",
    "        shapes.Rect(),\n",
    "        shapes.Diamond(),\n",
    "        shapes.Comment(),\n",
    "        shapes.Circle(radius=width / 2),\n",
    "        shapes.Ellipse(rx=width / 2, ry=height / 2),\n",
    "        shapes.HTML(use=\"<h1>Hello World</h1>\"),\n",
    "    ]\n",
    "\n",
    "    for i, shape in enumerate(collection):\n",
    "        shape_data = shape.dict()\n",
    "        data = {\n",
    "            \"width\": str(shape_data.get(\"width\") or width),\n",
    "            \"height\": str(shape_data.get(\"height\") or height),\n",
    "            \"properties\": {\"shape\": shape_data},\n",
    "            \"labels\": [{\"text\":shape.__class__.__name__}],\n",
    "        }\n",
    "        g.add_node(str(i), **data)\n",
    "\n",
    "    # configure app\n",
    "    app = ipyelk.Diagram(\n",
    "        source=NXLoader(default_node_opts=None).load(\n",
    "            graph=g,\n",
    "            hierarchy=tree,     \n",
    "        ),\n",
    "        layout={\"height\": \"100%\"},\n",
    "    )\n",
    "    return app"
   ]
  },
  {
   "cell_type": "code",
   "execution_count": 5,
   "metadata": {},
   "outputs": [
    {
     "data": {
      "application/vnd.jupyter.widget-view+json": {
       "model_id": "c4e1462309804b6293057664ef530e7b",
       "version_major": 2,
       "version_minor": 0
      },
      "text/plain": [
       "Diagram(children=[HTML(value='<style></style>', layout=Layout(display='None')), SprottyViewer(hover=Hover(tee=…"
      ]
     },
     "metadata": {},
     "output_type": "display_data"
    }
   ],
   "source": [
    "if __name__ == \"__main__\":\n",
    "    symbol_app = symbol_example()\n",
    "    display(symbol_app)"
   ]
  },
  {
   "cell_type": "code",
   "execution_count": 6,
   "metadata": {},
   "outputs": [],
   "source": [
    "\n",
    "# JSON(symbol_app.pipe.pipes[2].inlet.value.dict())"
   ]
  },
  {
   "cell_type": "code",
   "execution_count": 6,
   "metadata": {},
   "outputs": [],
   "source": [
    "root = symbol_app.view.source.index.root\n",
    "root.layoutOptions['org.eclipse.elk.algorithm']= 'org.eclipse.elk.layered'\n",
    "root.layoutOptions['org.eclipse.elk.nodeLabels.placement']= 'H_LEFT V_TOP INSIDE'\n",
    "root.layoutOptions.pop(opt.HierarchyHandling.identifier, None)\n",
    "\n",
    "symbol_app.view.source._notify_trait('value', None, None)"
   ]
  },
  {
   "cell_type": "code",
   "execution_count": 7,
   "metadata": {
    "tags": []
   },
   "outputs": [
    {
     "data": {
      "application/json": {
       "children": [
        {
         "children": [],
         "edges": [],
         "height": 100,
         "id": "0",
         "labels": [
          {
           "height": 13.65625,
           "id": "48b8501d-f009-4220-8817-dc1ff760fc18",
           "labels": [],
           "layoutOptions": {},
           "properties": {
            "cssClasses": "",
            "hidden": null,
            "key": null,
            "selectable": false,
            "shape": null
           },
           "text": "Image",
           "width": 32.421875,
           "x": 0,
           "y": 0
          }
         ],
         "layoutOptions": {},
         "ports": [],
         "properties": {
          "cssClasses": "",
          "hidden": null,
          "key": null,
          "shape": {
           "height": null,
           "type": "node:image",
           "use": "./files/examples/untitled_example.svg",
           "width": null,
           "x": null,
           "y": null
          }
         },
         "width": 150,
         "x": 12,
         "y": 1022
        },
        {
         "children": [],
         "edges": [],
         "height": 100,
         "id": "1",
         "labels": [
          {
           "height": 13.65625,
           "id": "addf64de-b46d-453c-94f2-ebaf647b50f6",
           "labels": [],
           "layoutOptions": {},
           "properties": {
            "cssClasses": "",
            "hidden": null,
            "key": null,
            "selectable": false,
            "shape": null
           },
           "text": "SVG",
           "width": 24.65625,
           "x": 0,
           "y": 0
          }
         ],
         "layoutOptions": {},
         "ports": [],
         "properties": {
          "cssClasses": "",
          "hidden": null,
          "key": null,
          "shape": {
           "height": null,
           "type": "node:svg",
           "use": "<g><rect fill=\"none\" height=\"24\" width=\"24\"/><path d=\"M17,15l1.55,1.55c-0.96,1.69-3.33,3.04-5.55,3.37V11h3V9h-3V7.82C14.16,7.4,15,6.3,15,5c0-1.65-1.35-3-3-3S9,3.35,9,5 c0,1.3,0.84,2.4,2,2.82V9H8v2h3v8.92c-2.22-0.33-4.59-1.68-5.55-3.37L7,15l-4-3v3c0,3.88,4.92,7,9,7s9-3.12,9-7v-3L17,15z M12,4 c0.55,0,1,0.45,1,1s-0.45,1-1,1s-1-0.45-1-1S11.45,4,12,4z\"/></g>",
           "width": null,
           "x": null,
           "y": null
          }
         },
         "width": 150,
         "x": 12,
         "y": 1142
        },
        {
         "children": [],
         "edges": [],
         "height": 100,
         "id": "2",
         "labels": [
          {
           "height": 13.65625,
           "id": "a4d3a1db-09fb-4eb7-9e0f-c205956f3840",
           "labels": [],
           "layoutOptions": {},
           "properties": {
            "cssClasses": "",
            "hidden": null,
            "key": null,
            "selectable": false,
            "shape": null
           },
           "text": "Path",
           "width": 24,
           "x": 0,
           "y": 0
          }
         ],
         "layoutOptions": {},
         "ports": [],
         "properties": {
          "cssClasses": "",
          "hidden": null,
          "key": null,
          "shape": {
           "height": null,
           "type": "node:path",
           "use": "M 0,0 L 0,100 L 20,30 Z",
           "width": null,
           "x": null,
           "y": null
          }
         },
         "width": 150,
         "x": 12,
         "y": 12
        },
        {
         "children": [],
         "edges": [],
         "height": 100,
         "id": "3",
         "labels": [
          {
           "height": 13.65625,
           "id": "e913d59a-a668-468f-b7d5-2556eb3750e9",
           "labels": [],
           "layoutOptions": {},
           "properties": {
            "cssClasses": "",
            "hidden": null,
            "key": null,
            "selectable": false,
            "shape": null
           },
           "text": "ForeignObject",
           "width": 73.65624237060547,
           "x": 0,
           "y": 0
          }
         ],
         "layoutOptions": {},
         "ports": [],
         "properties": {
          "cssClasses": "",
          "hidden": null,
          "key": null,
          "shape": {
           "height": null,
           "type": "node:foreignobject",
           "use": "<input/>",
           "width": null,
           "x": null,
           "y": null
          }
         },
         "width": 150,
         "x": 12,
         "y": 422
        },
        {
         "children": [],
         "edges": [],
         "height": 100,
         "id": "4",
         "labels": [
          {
           "height": 13.65625,
           "id": "92796f48-0f67-42ef-aa13-ec02aa81b7a4",
           "labels": [],
           "layoutOptions": {},
           "properties": {
            "cssClasses": "",
            "hidden": null,
            "key": null,
            "selectable": false,
            "shape": null
           },
           "text": "Rect",
           "width": 24.390625,
           "x": 0,
           "y": 0
          }
         ],
         "layoutOptions": {},
         "ports": [],
         "properties": {
          "cssClasses": "",
          "hidden": null,
          "key": null,
          "shape": {
           "height": null,
           "type": "node",
           "use": null,
           "width": null,
           "x": null,
           "y": null
          }
         },
         "width": 150,
         "x": 12,
         "y": 782
        },
        {
         "children": [],
         "edges": [],
         "height": 100,
         "id": "5",
         "labels": [
          {
           "height": 13.65625,
           "id": "2b4b0be0-fa9e-4759-8b4d-9d5cedab70e5",
           "labels": [],
           "layoutOptions": {},
           "properties": {
            "cssClasses": "",
            "hidden": null,
            "key": null,
            "selectable": false,
            "shape": null
           },
           "text": "Diamond",
           "width": 46.671871185302734,
           "x": 0,
           "y": 0
          }
         ],
         "layoutOptions": {},
         "ports": [],
         "properties": {
          "cssClasses": "",
          "hidden": null,
          "key": null,
          "shape": {
           "height": null,
           "type": "node:diamond",
           "use": null,
           "width": null,
           "x": null,
           "y": null
          }
         },
         "width": 150,
         "x": 12,
         "y": 902
        },
        {
         "children": [],
         "edges": [],
         "height": 100,
         "id": "6",
         "labels": [
          {
           "height": 13.65625,
           "id": "f24f973b-5280-4477-9508-ed7898970111",
           "labels": [],
           "layoutOptions": {},
           "properties": {
            "cssClasses": "",
            "hidden": null,
            "key": null,
            "selectable": false,
            "shape": null
           },
           "text": "Comment",
           "width": 50.953125,
           "x": 0,
           "y": 0
          }
         ],
         "layoutOptions": {},
         "ports": [],
         "properties": {
          "cssClasses": "",
          "hidden": null,
          "key": null,
          "shape": {
           "height": null,
           "type": "node:comment",
           "use": "15",
           "width": null,
           "x": null,
           "y": null
          }
         },
         "width": 150,
         "x": 12,
         "y": 662
        },
        {
         "children": [],
         "edges": [],
         "height": 150,
         "id": "7",
         "labels": [
          {
           "height": 13.65625,
           "id": "1fbe71f2-5a32-43e3-88cc-66b891ff7988",
           "labels": [],
           "layoutOptions": {},
           "properties": {
            "cssClasses": "",
            "hidden": null,
            "key": null,
            "selectable": false,
            "shape": null
           },
           "text": "Circle",
           "width": 29.8125,
           "x": 0,
           "y": 0
          }
         ],
         "layoutOptions": {},
         "ports": [],
         "properties": {
          "cssClasses": "",
          "hidden": null,
          "key": null,
          "shape": {
           "height": 150,
           "type": "node:round",
           "use": null,
           "width": 150,
           "x": 75,
           "y": 75
          }
         },
         "width": 150,
         "x": 12,
         "y": 132
        },
        {
         "children": [],
         "edges": [],
         "height": 100,
         "id": "8",
         "labels": [
          {
           "height": 13.65625,
           "id": "3403511e-fb4f-4160-b9be-11141797c4f1",
           "labels": [],
           "layoutOptions": {},
           "properties": {
            "cssClasses": "",
            "hidden": null,
            "key": null,
            "selectable": false,
            "shape": null
           },
           "text": "Ellipse",
           "width": 34.359375,
           "x": 0,
           "y": 0
          }
         ],
         "layoutOptions": {},
         "ports": [],
         "properties": {
          "cssClasses": "",
          "hidden": null,
          "key": null,
          "shape": {
           "height": 100,
           "type": "node:round",
           "use": null,
           "width": 150,
           "x": null,
           "y": null
          }
         },
         "width": 150,
         "x": 12,
         "y": 542
        },
        {
         "children": [],
         "edges": [],
         "height": 100,
         "id": "9",
         "labels": [
          {
           "height": 13.65625,
           "id": "941d9c63-d45f-4e0f-8cf7-15284b917a5d",
           "labels": [],
           "layoutOptions": {},
           "properties": {
            "cssClasses": "",
            "hidden": null,
            "key": null,
            "selectable": false,
            "shape": null
           },
           "text": "HTML",
           "width": 31.749998092651367,
           "x": 0,
           "y": 0
          }
         ],
         "layoutOptions": {},
         "ports": [],
         "properties": {
          "cssClasses": "",
          "hidden": null,
          "key": null,
          "shape": {
           "height": null,
           "type": "node:html",
           "use": "<h1>Hello World</h1>",
           "width": null,
           "x": null,
           "y": null
          }
         },
         "width": 150,
         "x": 12,
         "y": 302
        }
       ],
       "edges": [],
       "height": 1254,
       "id": "c2fe902c-acd4-430b-8d24-e088102bec36",
       "labels": [],
       "layoutOptions": {
        "org.eclipse.elk.algorithm": "org.eclipse.elk.layered",
        "org.eclipse.elk.nodeLabels.placement": "H_LEFT V_TOP INSIDE"
       },
       "ports": [],
       "properties": {
        "cssClasses": "",
        "hidden": null,
        "key": null,
        "shape": null
       },
       "width": 174,
       "x": 0,
       "y": 0
      },
      "text/plain": [
       "<IPython.core.display.JSON object>"
      ]
     },
     "execution_count": 7,
     "metadata": {
      "application/json": {
       "expanded": false,
       "root": "root"
      }
     },
     "output_type": "execute_result"
    }
   ],
   "source": [
    "from IPython.display import JSON\n",
    "JSON(symbol_app.view.source.value.dict())"
   ]
  },
  {
   "cell_type": "markdown",
   "metadata": {},
   "source": [
    "### Widget Example\n",
    "\n",
    "Demonstate how to attach jupyterlab widgets for use in diagram nodes."
   ]
  },
  {
   "cell_type": "code",
   "execution_count": 8,
   "metadata": {},
   "outputs": [],
   "source": [
    "def widget_example():\n",
    "    slider_box = W.VBox(children=[W.FloatSlider() for i in range(5)])\n",
    "\n",
    "    g = nx.Graph()\n",
    "    tree = nx.DiGraph()\n",
    "\n",
    "    g.add_node(\"sliders\")\n",
    "\n",
    "    g.add_node(\n",
    "        \"slider_box\",\n",
    "        **{\n",
    "            \"properties\": {\"shape\": shapes.Widget(widget=slider_box).dict()},\n",
    "            \"width\": 320,\n",
    "            \"height\": 200,\n",
    "        }\n",
    "    )\n",
    "    g.add_edge(\"sliders\", \"slider_box\")\n",
    "\n",
    "    for i, slider in enumerate(slider_box.children):\n",
    "        id = str(i)\n",
    "        g.add_node(\n",
    "            id,\n",
    "            **{\n",
    "                \"properties\": {\"shape\": shapes.Widget(widget=slider).dict()},\n",
    "                \"width\": 320,\n",
    "                \"height\": 40,\n",
    "            }\n",
    "        )\n",
    "        tree.add_edge(\"sliders\", id)\n",
    "\n",
    "    # configure app\n",
    "    app = ipyelk.Diagram(\n",
    "        source=NXLoader(default_node_opts=None).load(\n",
    "            graph=g,\n",
    "            hierarchy=tree,\n",
    "        ),\n",
    "        layout={\"height\": \"100%\"},\n",
    "    )\n",
    "#     toggle = ipyelk.tools.tools.ToggleCollapsedBtn(app=app)\n",
    "#     fit = ipyelk.tools.tools.FitBtn(app=app)\n",
    "#     app.toolbar.commands = [fit, toggle]\n",
    "    return app, slider_box"
   ]
  },
  {
   "cell_type": "code",
   "execution_count": 9,
   "metadata": {},
   "outputs": [
    {
     "data": {
      "application/vnd.jupyter.widget-view+json": {
       "model_id": "79b7dfbbdff64380be4c969897e057f5",
       "version_major": 2,
       "version_minor": 0
      },
      "text/plain": [
       "Diagram(children=[HTML(value='<style></style>', layout=Layout(display='None')), SprottyViewer(hover=Hover(tee=…"
      ]
     },
     "metadata": {},
     "output_type": "display_data"
    }
   ],
   "source": [
    "if __name__ == \"__main__\":\n",
    "    widget_app, sliders = widget_example()\n",
    "    display(widget_app)"
   ]
  },
  {
   "cell_type": "code",
   "execution_count": 10,
   "metadata": {},
   "outputs": [
    {
     "data": {
      "application/vnd.jupyter.widget-view+json": {
       "model_id": "27d978313791432eaac422997c5e24f9",
       "version_major": 2,
       "version_minor": 0
      },
      "text/plain": [
       "VBox(children=(FloatSlider(value=49.7), FloatSlider(value=0.0), FloatSlider(value=43.6), FloatSlider(value=0.0…"
      ]
     },
     "metadata": {},
     "output_type": "display_data"
    }
   ],
   "source": [
    "sliders"
   ]
  },
  {
   "cell_type": "markdown",
   "metadata": {},
   "source": [
    "### Nesting Diagrams"
   ]
  },
  {
   "cell_type": "code",
   "execution_count": 11,
   "metadata": {},
   "outputs": [],
   "source": [
    "def nesting_diagram_example():\n",
    "    # build graphs\n",
    "    slider_diagram, sliders = widget_example()\n",
    "    g = nx.Graph()\n",
    "    tree = nx.DiGraph()\n",
    "\n",
    "    g.add_node(\"n1\", width=40, height=40)\n",
    "    tree.add_node(\"slider_diagram\", hidden=True)\n",
    "\n",
    "    g.add_node(\n",
    "        \"slider_diagram\",\n",
    "        **{\n",
    "            \"properties\": {\"shape\": shapes.Widget(widget=slider_diagram).dict()},\n",
    "            \"width\": 400,\n",
    "            \"height\": 700,\n",
    "        }\n",
    "    )\n",
    "    tree.add_edge(\"n1\", \"slider_diagram\")\n",
    "\n",
    "    # configure app\n",
    "    app = ipyelk.Diagram(\n",
    "        source=NXLoader(default_node_opts={}).load(\n",
    "            graph=g,\n",
    "            hierarchy=tree,\n",
    "        ),\n",
    "        layout={\"height\": \"100%\"},\n",
    "    )\n",
    "#     toggle = ipyelk.tools.tools.ToggleCollapsedBtn(app=app)\n",
    "#     fit = ipyelk.tools.tools.FitBtn(app=app)\n",
    "#     app.toolbar.commands = [fit, toggle]\n",
    "    return app"
   ]
  },
  {
   "cell_type": "code",
   "execution_count": 12,
   "metadata": {},
   "outputs": [
    {
     "data": {
      "application/vnd.jupyter.widget-view+json": {
       "model_id": "0284123c9c2f470695fbf9dbd821edf0",
       "version_major": 2,
       "version_minor": 0
      },
      "text/plain": [
       "Diagram(children=[HTML(value='<style></style>', layout=Layout(display='None')), SprottyViewer(hover=Hover(tee=…"
      ]
     },
     "metadata": {},
     "output_type": "display_data"
    }
   ],
   "source": [
    "if __name__ == \"__main__\":\n",
    "    nested_app = nesting_diagram_example()\n",
    "    display(nested_app)"
   ]
  },
  {
   "cell_type": "markdown",
   "metadata": {},
   "source": [
    "# Label Icons"
   ]
  },
  {
   "cell_type": "code",
   "execution_count": 13,
   "metadata": {},
   "outputs": [],
   "source": [
    "def label_icon_example():\n",
    "    # setup icons\n",
    "    conversation_def = Symbol(\n",
    "        identifier=\"conv\",\n",
    "        element={\n",
    "            \"properties\": {\n",
    "                \"shape\": shapes.SVG(\n",
    "                    use=\"\"\"<path d=\"M24,17H8a1,1,0,0,0,0,2H24a1,1,0,0,0,0-2Z\"/><path d=\"M24,7H8A1,1,0,0,0,8,9H24a1,1,0,0,0,0-2Z\"/><path d=\"M24,12H8a1,1,0,0,0,0,2H24a1,1,0,0,0,0-2Z\"/><path d=\"M25,2H7A5,5,0,0,0,2,7V27.11a3,3,0,0,0,3,3,3,3,0,0,0,1.75-.56l6.81-4.87A3,3,0,0,1,15.45,24H25a5,5,0,0,0,5-5V7A5,5,0,0,0,25,2Zm3,17a3,3,0,0,1-3,3H15.45a4.94,4.94,0,0,0-3.11,1.09L5.58,27.92a1,1,0,0,1-1,.08A1,1,0,0,1,4,27.11V7A3,3,0,0,1,7,4H25a3,3,0,0,1,3,3Z\"/>\"\"\"\n",
    "                )\n",
    "            },\n",
    "        },\n",
    "        width=32,\n",
    "        height=32,\n",
    "    )\n",
    "\n",
    "    class_def = Symbol(\n",
    "        identifier=\"class\",\n",
    "        element={\n",
    "            \"properties\": {\n",
    "                \"shape\": shapes.SVG(\n",
    "                    use=\"\"\"<path fill=\"currentColor\" d=\"M256 8C119.033 8 8 119.033 8 256s111.033 248 248 248 248-111.033 248-248S392.967 8 256 8zm0 448c-110.532 0-200-89.451-200-200 0-110.531 89.451-200 200-200 110.532 0 200 89.451 200 200 0 110.532-89.451 200-200 200zm107.351-101.064c-9.614 9.712-45.53 41.396-104.065 41.396-82.43 0-140.484-61.425-140.484-141.567 0-79.152 60.275-139.401 139.762-139.401 55.531 0 88.738 26.62 97.593 34.779a11.965 11.965 0 0 1 1.936 15.322l-18.155 28.113c-3.841 5.95-11.966 7.282-17.499 2.921-8.595-6.776-31.814-22.538-61.708-22.538-48.303 0-77.916 35.33-77.916 80.082 0 41.589 26.888 83.692 78.277 83.692 32.657 0 56.843-19.039 65.726-27.225 5.27-4.857 13.596-4.039 17.82 1.738l19.865 27.17a11.947 11.947 0 0 1-1.152 15.518z\"/>\"\"\"\n",
    "                ),\n",
    "            }\n",
    "        },\n",
    "        width=496,\n",
    "        height=496,\n",
    "    )\n",
    "\n",
    "    bullet_def = Symbol(\n",
    "        identifier=\"bullet\",\n",
    "        element={\n",
    "            \"properties\": {\n",
    "                \"shape\": shapes.Circle(radius=4),\n",
    "            }\n",
    "        },\n",
    "        width=8,\n",
    "        height=8,\n",
    "    )\n",
    "\n",
    "    # build model graph\n",
    "    g = nx.Graph()\n",
    "    tree = nx.DiGraph()\n",
    "\n",
    "    class_icon = shapes.Icon(use=class_def.identifier, width=12, height=12)\n",
    "    conversation_icon = shapes.Icon(\n",
    "        use=conversation_def.identifier, width=12, height=12\n",
    "    )\n",
    "    bullet_icon = shapes.Icon(use=bullet_def.identifier, width=4, height=4)\n",
    "\n",
    "    # label location layout options\n",
    "    heading_opts = opt.OptionsWidget(\n",
    "        options=[\n",
    "            opt.NodeLabelPlacement(horizontal=\"center\", vertical=\"top\"),\n",
    "        ]\n",
    "    ).value\n",
    "\n",
    "    body_label_opts = opt.OptionsWidget(\n",
    "        options=[\n",
    "            opt.NodeLabelPlacement(horizontal=\"left\", vertical=\"center\"),\n",
    "        ]\n",
    "    ).value\n",
    "\n",
    "    footer_label_opts = opt.OptionsWidget(\n",
    "        options=[\n",
    "            opt.NodeLabelPlacement(horizontal=\"right\", vertical=\"bottom\"),\n",
    "        ]\n",
    "    ).value\n",
    "\n",
    "    heading_opts = opt.OptionsWidget(\n",
    "        options=[\n",
    "            opt.NodeLabelPlacement(horizontal=\"center\", vertical=\"top\"),\n",
    "        ]\n",
    "    ).value\n",
    "\n",
    "    bullet_opts = opt.OptionsWidget(\n",
    "        options=[\n",
    "            opt.LabelSpacing(spacing=4),\n",
    "        ]\n",
    "    ).value\n",
    "\n",
    "    # list of attributes to include in the body of the node:\n",
    "    attributes = [\n",
    "        \"x: float\",\n",
    "        \"y: float\",\n",
    "    ]\n",
    "\n",
    "    heading = [\n",
    "        {\n",
    "            \"id\": \"class_label\",\n",
    "            \"text\": \"Point\",\n",
    "            \"labels\": [\n",
    "                {\n",
    "                    \"id\": \"label_icon_1\",\n",
    "                    \"properties\": {\n",
    "                        \"shape\": class_icon.dict(),\n",
    "                    },\n",
    "                    \"width\": class_icon.width,\n",
    "                    \"height\": class_icon.height,\n",
    "                    \"text\": \" \",  # label text cannot be empty\n",
    "                }\n",
    "            ],\n",
    "            \"layoutOptions\": heading_opts,\n",
    "        }\n",
    "    ]\n",
    "\n",
    "    labels = heading\n",
    "    for attr in attributes:\n",
    "        bullet_pt = {\n",
    "            \"id\": f\"bullet_{attr}\",\n",
    "            \"text\": \" \",  # label text cannot be empty\n",
    "            \"properties\": {\n",
    "                \"shape\": bullet_icon.dict(),\n",
    "            },\n",
    "            \"width\": bullet_icon.width,\n",
    "            \"height\": bullet_icon.height,\n",
    "            \"layoutOptions\": bullet_opts,\n",
    "        }\n",
    "\n",
    "        attribute_label = {\n",
    "            \"id\": f\"label_{attr}\",\n",
    "            \"text\": str(attr),\n",
    "            \"layoutOptions\": body_label_opts,\n",
    "            \"labels\": [bullet_pt],\n",
    "            \"properties\": {\n",
    "                \"selectable\": True,\n",
    "            },\n",
    "        }\n",
    "        labels.append(attribute_label)\n",
    "\n",
    "    # bare icon\n",
    "    icon_label = {\n",
    "        \"id\": \"unique_id\",\n",
    "        \"text\": \" \",  # label text cannot be empty\n",
    "        \"properties\": {\n",
    "            \"shape\": conversation_icon.dict(),\n",
    "            \"selectable\": True,\n",
    "        },\n",
    "        \"width\": conversation_icon.width,\n",
    "        \"height\": conversation_icon.height,\n",
    "        \"layoutOptions\": footer_label_opts,\n",
    "    }\n",
    "    labels.append(icon_label)\n",
    "    g.add_node(\"n1\", labels=labels)\n",
    "    tree.add_edge(\"root\", \"n1\")\n",
    "\n",
    "    # configure app\n",
    "    app = ipyelk.from_nx(\n",
    "        graph=g,\n",
    "        hierarchy=tree,\n",
    "        layout={\"height\": \"100%\"},\n",
    "        style={\n",
    "            \" .hidden\": {\n",
    "                #             \"display\": \"none\",\n",
    "            }\n",
    "        },\n",
    "    )\n",
    "    app.view.symbols = SymbolSpec().add(\n",
    "        class_def,\n",
    "        conversation_def,\n",
    "        bullet_def,\n",
    "    )\n",
    "    return app"
   ]
  },
  {
   "cell_type": "code",
   "execution_count": 14,
   "metadata": {},
   "outputs": [
    {
     "data": {
      "application/vnd.jupyter.widget-view+json": {
       "model_id": "22ecfdb0ccd34157ac2c0dd624e1a12a",
       "version_major": 2,
       "version_minor": 0
      },
      "text/plain": [
       "Diagram(children=[HTML(value='<style>.styled-widget-140131147727312 .hidden{}</style>', layout=Layout(display=…"
      ]
     },
     "metadata": {},
     "output_type": "display_data"
    }
   ],
   "source": [
    "if __name__ == \"__main__\":\n",
    "    label_app = label_icon_example()\n",
    "    display(label_app)"
   ]
  }
 ],
 "metadata": {
  "kernelspec": {
   "display_name": "Python 3",
   "language": "python",
   "name": "python3"
  },
  "language_info": {
   "codemirror_mode": {
    "name": "ipython",
    "version": 3
   },
   "file_extension": ".py",
   "mimetype": "text/x-python",
   "name": "python",
   "nbconvert_exporter": "python",
   "pygments_lexer": "ipython3",
   "version": "3.7.10"
  }
 },
 "nbformat": 4,
 "nbformat_minor": 4
}
