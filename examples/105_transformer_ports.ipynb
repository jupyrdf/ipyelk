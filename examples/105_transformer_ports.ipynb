{
 "cells": [
  {
   "cell_type": "markdown",
   "metadata": {},
   "source": [
    "# 🦌 ELK Transformer Ports 🚢\n",
    "\n",
    "Example of using the `XELK` Transformer with explicitly declared ports in the node data"
   ]
  },
  {
   "cell_type": "code",
   "execution_count": null,
   "metadata": {},
   "outputs": [],
   "source": [
    "import json\n",
    "import pathlib\n",
    "\n",
    "import ipywidgets\n",
    "import networkx\n",
    "import traitlets\n",
    "from IPython.display import JSON\n",
    "\n",
    "import ipyelk\n",
    "import ipyelk.nx\n",
    "import ipyelk.tools\n",
    "from ipyelk import Elk\n",
    "from ipyelk.diagram import layout_options\n",
    "from ipyelk.diagram.elk_model import ElkLabel, ElkNode, ElkPort"
   ]
  },
  {
   "cell_type": "markdown",
   "metadata": {},
   "source": [
    "# Example building a simple Networkx Graph with explicit ElkPorts\n",
    "\n",
    "This demonstrates passing a list of labels from the Networkx node data to the `XELK`\n",
    "transformer. These labels can be either a string, a dictionary with correct ElkLabel\n",
    "schema, or an instance of an ElkLabel. `layoutOptions` explicitly set on the labels take\n",
    "priority over those inherited."
   ]
  },
  {
   "cell_type": "code",
   "execution_count": null,
   "metadata": {},
   "outputs": [],
   "source": [
    "def an_example_explicit_port_labels(layouts=None):\n",
    "    layouts = ipyelk.nx.XELKTypedLayout()\n",
    "\n",
    "    g = networkx.Graph()\n",
    "    g.add_node(\n",
    "        \"port_labels_outside\",\n",
    "        labels=\"\",\n",
    "        ports=[\n",
    "            ElkPort(\n",
    "                id=\"West1\",\n",
    "                width=5,\n",
    "                height=5,\n",
    "                labels=[\n",
    "                    ElkLabel(\n",
    "                        id=\"west1_1\",\n",
    "                        text=\"West1\",\n",
    "                    ),\n",
    "                    ElkLabel(id=\"west1_2\", text=\"[0]\"),\n",
    "                ],\n",
    "            ),\n",
    "            ElkPort(\n",
    "                id=\"West2\",\n",
    "                width=5,\n",
    "                height=5,\n",
    "                labels=[\n",
    "                    ElkLabel(id=\"west2_1\", text=\"West2\"),\n",
    "                    ElkLabel(id=\"west2_2\", text=\"[13]\"),\n",
    "                ],\n",
    "            ),\n",
    "        ],\n",
    "    )\n",
    "\n",
    "    elk = Elk(\n",
    "        transformer=ipyelk.nx.XELK(\n",
    "            source=(g, None),\n",
    "            label_key=\"labels\",\n",
    "            layouts=layouts.value,\n",
    "        ),\n",
    "        style={\n",
    "            \" text.elklabel.node_type_label\": {\n",
    "                \"font-style\": \"italic\",\n",
    "            }\n",
    "        },\n",
    "    )\n",
    "\n",
    "    def _element_type_opt_change(change):\n",
    "        elk.transformer.layouts = layouts.value\n",
    "        elk.refresh()\n",
    "\n",
    "    layouts.observe(_element_type_opt_change, \"value\")\n",
    "    elk.layout.flex = \"1\"\n",
    "\n",
    "    box = ipywidgets.HBox([elk, layouts], layout=dict(height=\"60vh\"))\n",
    "    return box, elk, layouts"
   ]
  },
  {
   "cell_type": "code",
   "execution_count": null,
   "metadata": {},
   "outputs": [],
   "source": [
    "if __name__ == \"__main__\":\n",
    "    display(an_example_explicit_port_labels()[0])"
   ]
  },
  {
   "cell_type": "markdown",
   "metadata": {},
   "source": [
    "The `typed_layout` widget can be used to adjust port positions by:main title position by\n",
    "changing `Node` -> `Port Constraints` -> Fixed Side. Then `Port` -> `Port Side`. `Port`\n",
    "-> `Port Border Offset` can be used to inset the ports. For example setting the value to\n",
    "-5 would put the ports flush with the outside node border."
   ]
  }
 ],
 "metadata": {
  "kernelspec": {
   "display_name": "Python 3",
   "language": "python",
   "name": "python3"
  },
  "language_info": {
   "codemirror_mode": {
    "name": "ipython",
    "version": 3
   },
   "file_extension": ".py",
   "mimetype": "text/x-python",
   "name": "python",
   "nbconvert_exporter": "python",
   "pygments_lexer": "ipython3",
   "version": "3.7.9"
  }
 },
 "nbformat": 4,
 "nbformat_minor": 4
}
