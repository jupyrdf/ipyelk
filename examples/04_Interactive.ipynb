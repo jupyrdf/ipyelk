{
 "cells": [
  {
   "cell_type": "markdown",
   "metadata": {},
   "source": [
    "# 🦌 Make the ELK App Interactive 🕹️\n",
    "\n",
    "This notebook shows how you can make the ELK App work dynamically with various types of\n",
    "graphs"
   ]
  },
  {
   "cell_type": "code",
   "execution_count": 1,
   "metadata": {},
   "outputs": [
    {
     "name": "stdout",
     "output_type": "stream",
     "text": [
      "Note: you may need to restart the kernel to use updated packages.\n"
     ]
    }
   ],
   "source": [
    "if __name__ == \"__main__\":\n",
    "    %pip install -q -r requirements.txt"
   ]
  },
  {
   "cell_type": "code",
   "execution_count": 2,
   "metadata": {},
   "outputs": [
    {
     "ename": "ModuleNotFoundError",
     "evalue": "No module named 'ipyelk'",
     "output_type": "error",
     "traceback": [
      "\u001b[0;31m---------------------------------------------------------------------------\u001b[0m",
      "\u001b[0;31mModuleNotFoundError\u001b[0m                       Traceback (most recent call last)",
      "Cell \u001b[0;32mIn[2], line 10\u001b[0m\n\u001b[1;32m      7\u001b[0m \u001b[38;5;28;01mimport\u001b[39;00m \u001b[38;5;21;01mnetworkx\u001b[39;00m \u001b[38;5;28;01mas\u001b[39;00m \u001b[38;5;21;01mnx\u001b[39;00m\n\u001b[1;32m      8\u001b[0m \u001b[38;5;28;01mfrom\u001b[39;00m \u001b[38;5;21;01mIPython\u001b[39;00m\u001b[38;5;21;01m.\u001b[39;00m\u001b[38;5;21;01mdisplay\u001b[39;00m \u001b[38;5;28;01mimport\u001b[39;00m JSON, display\n\u001b[0;32m---> 10\u001b[0m \u001b[38;5;28;01mimport\u001b[39;00m \u001b[38;5;21;01mipyelk\u001b[39;00m\n",
      "\u001b[0;31mModuleNotFoundError\u001b[0m: No module named 'ipyelk'"
     ]
    }
   ],
   "source": [
    "import random\n",
    "from collections import defaultdict\n",
    "from pprint import pprint\n",
    "\n",
    "import importnb\n",
    "import ipywidgets as W\n",
    "import networkx as nx\n",
    "from IPython.display import JSON, display\n",
    "\n",
    "import ipyelk"
   ]
  },
  {
   "cell_type": "code",
   "execution_count": null,
   "metadata": {},
   "outputs": [],
   "source": [
    "with importnb.Notebook():\n",
    "    from __03_App import a_styled_elk_app_example"
   ]
  },
  {
   "cell_type": "code",
   "execution_count": null,
   "metadata": {},
   "outputs": [],
   "source": [
    "def make_random_forest(number_of_nodes, hierarchy_roots=1, seed=None):\n",
    "    \"\"\"Create a random directed graph that meets NetworkX's forest criteria\"\"\"\n",
    "    if seed is not None:\n",
    "        random.seed(seed)\n",
    "\n",
    "    if hierarchy_roots < 1:\n",
    "        return None\n",
    "\n",
    "    unassigned = set(range(number_of_nodes))\n",
    "    assigned = set(random.sample(list(unassigned), hierarchy_roots))\n",
    "    unassigned -= assigned\n",
    "\n",
    "    tree_edges = []\n",
    "    while unassigned:\n",
    "        node = random.sample(list(unassigned), 1)[0]\n",
    "        tree_edges.append((random.sample(list(assigned), 1)[0], node))\n",
    "        unassigned -= {node}\n",
    "        assigned |= {node}\n",
    "\n",
    "    return nx.DiGraph(tree_edges)"
   ]
  },
  {
   "cell_type": "code",
   "execution_count": null,
   "metadata": {},
   "outputs": [],
   "source": [
    "from ipyelk.elements import iter_edges"
   ]
  },
  {
   "cell_type": "code",
   "execution_count": null,
   "metadata": {
    "tags": []
   },
   "outputs": [],
   "source": [
    "def an_elk_in_a_random_forest():\n",
    "    box, elk = a_styled_elk_app_example()\n",
    "    box.layout.flex = \"1\"\n",
    "    box.layout.height = \"100%\"\n",
    "    out = W.Output()\n",
    "    json_out = W.Output()\n",
    "    loader = ipyelk.NXLoader(root_id=\"root\")\n",
    "\n",
    "    def _update_json(change):\n",
    "        json_out.outputs = []\n",
    "        json_out.append_display_data(JSON(elk.view.source.value.dict()))\n",
    "\n",
    "    elk.view.source.observe(_update_json, \"value\")\n",
    "\n",
    "    with out:\n",
    "\n",
    "        @W.interact\n",
    "        def make_graph(\n",
    "            number_of_nodes=(5, 20),\n",
    "            percent_of_edges=(1, 99),\n",
    "            hierarchy_roots=(0, 5),\n",
    "            seed=(0, 1024),\n",
    "            debug=False,\n",
    "            padding=(0, 100),\n",
    "        ):\n",
    "            hierarchy = make_random_forest(\n",
    "                number_of_nodes=number_of_nodes,\n",
    "                hierarchy_roots=hierarchy_roots,\n",
    "                seed=seed,\n",
    "            )\n",
    "\n",
    "            number_of_edges = max(1, int(number_of_nodes * 0.01 * percent_of_edges))\n",
    "\n",
    "            graph = nx.generators.random_graphs.barabasi_albert_graph(\n",
    "                n=number_of_nodes,\n",
    "                m=number_of_edges,\n",
    "                seed=seed,\n",
    "            )\n",
    "\n",
    "            for edge in sorted(graph.edges):\n",
    "                graph.edges[edge][\"sourcePort\"] = str(edge)\n",
    "                graph.edges[edge][\"targetPort\"] = str(edge)\n",
    "\n",
    "            elk.source = loader.load(graph=graph, hierarchy=hierarchy)\n",
    "\n",
    "            if debug:\n",
    "                counter = defaultdict(list)\n",
    "                [counter[src].append(tgt) for src, tgt in graph.edges]\n",
    "                pprint(dict(counter))\n",
    "                pprint(len(list(iter_edges(elk.view.source.value))))\n",
    "\n",
    "    return (\n",
    "        W.HBox(\n",
    "            [W.VBox([make_graph.widget, json_out]), box],\n",
    "            layout=dict(height=\"100%\", flex=\"1\"),\n",
    "        ),\n",
    "        elk,\n",
    "    )"
   ]
  },
  {
   "cell_type": "code",
   "execution_count": null,
   "metadata": {
    "tags": []
   },
   "outputs": [],
   "source": [
    "if __name__ == \"__main__\":\n",
    "    box, elk = an_elk_in_a_random_forest()\n",
    "    display(box)\n",
    "    # display pipe status widget for details\n",
    "    display(elk.pipe)"
   ]
  },
  {
   "cell_type": "markdown",
   "metadata": {},
   "source": [
    "## 🦌 Learn More 📖\n",
    "\n",
    "See the [other examples](./_index.ipynb)."
   ]
  }
 ],
 "metadata": {
  "kernelspec": {
   "display_name": "Python 3 (ipykernel)",
   "language": "python",
   "name": "python3"
  },
  "language_info": {
   "codemirror_mode": {
    "name": "ipython",
    "version": 3
   },
   "file_extension": ".py",
   "mimetype": "text/x-python",
   "name": "python",
   "nbconvert_exporter": "python",
   "pygments_lexer": "ipython3",
   "version": "3.11.10"
  }
 },
 "nbformat": 4,
 "nbformat_minor": 4
}
