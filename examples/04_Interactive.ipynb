{
 "cells": [
  {
   "cell_type": "markdown",
   "metadata": {},
   "source": [
    "# 🦌 Make the ELK App Interactive 🕹️\n",
    "\n",
    "This notebook shows how you can make the ELK App work dynamically with various types of\n",
    "graphs"
   ]
  },
  {
   "cell_type": "code",
   "execution_count": null,
   "metadata": {},
   "outputs": [],
   "source": [
    "import random\n",
    "from collections import defaultdict\n",
    "from pprint import pprint\n",
    "\n",
    "import ipyelk\n",
    "import ipywidgets as W\n",
    "import networkx as nx\n",
    "from ipyelk import nx as elknx"
   ]
  },
  {
   "cell_type": "code",
   "execution_count": null,
   "metadata": {},
   "outputs": [],
   "source": [
    "elk_app = ipyelk.Elk(\n",
    "    style={\" \": {\"height\": \"100%\"}}, transformer=elknx.transformer.XELK(),\n",
    ")\n",
    "elk_app"
   ]
  },
  {
   "cell_type": "code",
   "execution_count": null,
   "metadata": {},
   "outputs": [],
   "source": [
    "def make_random_forest(number_of_nodes, hierarchy_roots=1, seed=None):\n",
    "    \"\"\" Create a random directed graph that meets NetworkX's forest criteria \"\"\"\n",
    "    if seed is not None:\n",
    "        random.seed(seed)\n",
    "\n",
    "    if hierarchy_roots < 1:\n",
    "        return None\n",
    "\n",
    "    unassigned = set(range(number_of_nodes))\n",
    "    assigned = set(random.sample(unassigned, hierarchy_roots))\n",
    "    unassigned -= assigned\n",
    "\n",
    "    tree_edges = []\n",
    "    while unassigned:\n",
    "        node = random.sample(unassigned, 1)[0]\n",
    "        tree_edges.append((random.sample(assigned, 1)[0], node))\n",
    "        unassigned -= {node}\n",
    "        assigned |= {node}\n",
    "\n",
    "    return nx.DiGraph(tree_edges)\n",
    "\n",
    "\n",
    "def find_all(obj, key):\n",
    "    \"\"\" Find all values of a given key in a dictionary\"\"\"\n",
    "    if not isinstance(obj, dict):\n",
    "        return\n",
    "\n",
    "    for k, value in obj.items():\n",
    "        if k == key:\n",
    "            yield value\n",
    "        if isinstance(value, dict):\n",
    "            for result in find_all(value, key):\n",
    "                yield result\n",
    "        elif isinstance(value, (tuple, list, set)):\n",
    "            for item in value:\n",
    "                for result in find_all(item, key):\n",
    "                    yield result\n",
    "\n",
    "\n",
    "@W.interact\n",
    "def make_graph(\n",
    "    number_of_nodes=(5, 20),\n",
    "    percent_of_edges=(1, 99),\n",
    "    hierarchy_roots=(0, 5),\n",
    "    seed=(0, 1024),\n",
    "    debug=False,\n",
    "    fit=False,\n",
    "    padding=(0, 100),\n",
    "    port_scale=(1, 20),\n",
    "    text_scale=(1, 20),\n",
    "    label_offset=(1, 10),\n",
    "):\n",
    "    hierarchy = make_random_forest(\n",
    "        number_of_nodes=number_of_nodes, hierarchy_roots=hierarchy_roots, seed=seed,\n",
    "    )\n",
    "\n",
    "    number_of_edges = max(1, int(number_of_nodes * 0.01 * percent_of_edges))\n",
    "\n",
    "    graph = nx.generators.random_graphs.barabasi_albert_graph(\n",
    "        n=number_of_nodes, m=number_of_edges, seed=seed,\n",
    "    )\n",
    "\n",
    "    for edge in sorted(graph.edges):\n",
    "        graph.edges[edge][\"sourcePort\"] = edge\n",
    "        graph.edges[edge][\"targetPort\"] = edge\n",
    "\n",
    "    elk_app.transformer.port_scale = port_scale\n",
    "    elk_app.transformer.label_offset = label_offset\n",
    "    elk_app.transformer.text_scale = text_scale\n",
    "    elk_app.transformer.source = (graph, hierarchy)\n",
    "    if fit:\n",
    "        elk_app.diagram.fit(\"root\", padding=padding)\n",
    "\n",
    "    if debug:\n",
    "        counter = defaultdict(list)\n",
    "        [counter[src].append(tgt) for src, tgt in graph.edges]\n",
    "        pprint(dict(counter))\n",
    "        pprint(sum(list(find_all(elk_app.transformer.value, \"edges\")), []))"
   ]
  },
  {
   "cell_type": "markdown",
   "metadata": {},
   "source": [
    "## 🦌 Learn More 📖\n",
    "\n",
    "- [🦌 Introducing ELK 👋](./00_Introduction.ipynb)\n",
    "- [🦌 Linking ELK Diagrams 🔗](./01_Linking.ipynb)\n",
    "- [🦌 ELK Transformer 🤖](./02_Transformer.ipynb)\n",
    "- [🦌 ELK App 🚀](./03_App.ipynb)\n",
    "- [🦌 Interactive ELK App 🕹️](./04_Interactive.ipynb)"
   ]
  }
 ],
 "metadata": {
  "kernelspec": {
   "display_name": "Python 3",
   "language": "python",
   "name": "python3"
  },
  "language_info": {
   "codemirror_mode": {
    "name": "ipython",
    "version": 3
   },
   "file_extension": ".py",
   "mimetype": "text/x-python",
   "name": "python",
   "nbconvert_exporter": "python",
   "pygments_lexer": "ipython3",
   "version": "3.7.7"
  }
 },
 "nbformat": 4,
 "nbformat_minor": 4
}
