{
 "cells": [
  {
   "cell_type": "markdown",
   "metadata": {},
   "source": [
    "# 🦌 Make the ELK App Interactive 🕹️\n",
    "\n",
    "This notebook shows how you can make the ELK App work dynamically with various types of\n",
    "graphs"
   ]
  },
  {
   "cell_type": "code",
   "execution_count": null,
   "metadata": {},
   "outputs": [],
   "source": [
    "import random\n",
    "from collections import defaultdict\n",
    "from pprint import pprint\n",
    "\n",
    "import importnb\n",
    "import ipywidgets as W\n",
    "import networkx as nx\n",
    "from IPython.display import JSON, display\n",
    "\n",
    "import ipyelk\n",
    "from ipyelk import nx as elknx"
   ]
  },
  {
   "cell_type": "code",
   "execution_count": null,
   "metadata": {},
   "outputs": [],
   "source": [
    "with importnb.Notebook():\n",
    "    from __03_App import a_more_stylish_elk_app_example"
   ]
  },
  {
   "cell_type": "code",
   "execution_count": null,
   "metadata": {},
   "outputs": [],
   "source": [
    "def make_random_forest(number_of_nodes, hierarchy_roots=1, seed=None):\n",
    "    \"\"\" Create a random directed graph that meets NetworkX's forest criteria \"\"\"\n",
    "    if seed is not None:\n",
    "        random.seed(seed)\n",
    "\n",
    "    if hierarchy_roots < 1:\n",
    "        return None\n",
    "\n",
    "    unassigned = set(range(number_of_nodes))\n",
    "    assigned = set(random.sample(unassigned, hierarchy_roots))\n",
    "    unassigned -= assigned\n",
    "\n",
    "    tree_edges = []\n",
    "    while unassigned:\n",
    "        node = random.sample(unassigned, 1)[0]\n",
    "        tree_edges.append((random.sample(assigned, 1)[0], node))\n",
    "        unassigned -= {node}\n",
    "        assigned |= {node}\n",
    "\n",
    "    return nx.DiGraph(tree_edges)"
   ]
  },
  {
   "cell_type": "code",
   "execution_count": null,
   "metadata": {},
   "outputs": [],
   "source": [
    "def find_all(obj, key):\n",
    "    \"\"\" Find all values of a given key in a dictionary\"\"\"\n",
    "    if not isinstance(obj, dict):\n",
    "        return\n",
    "\n",
    "    for k, value in obj.items():\n",
    "        if k == key:\n",
    "            yield value\n",
    "        if isinstance(value, dict):\n",
    "            for result in find_all(value, key):\n",
    "                yield result\n",
    "        elif isinstance(value, (tuple, list, set)):\n",
    "            for item in value:\n",
    "                for result in find_all(item, key):\n",
    "                    yield result"
   ]
  },
  {
   "cell_type": "code",
   "execution_count": null,
   "metadata": {},
   "outputs": [],
   "source": [
    "def an_elk_in_a_random_forest():\n",
    "    app, box, xelk, elk = a_more_stylish_elk_app_example()\n",
    "    box.layout.flex = \"1\"\n",
    "    box.layout.height = \"100%\"\n",
    "    out = W.Output()\n",
    "\n",
    "    with out:\n",
    "\n",
    "        @W.interact\n",
    "        def make_graph(\n",
    "            number_of_nodes=(5, 20),\n",
    "            percent_of_edges=(1, 99),\n",
    "            hierarchy_roots=(0, 5),\n",
    "            seed=(0, 1024),\n",
    "            debug=False,\n",
    "            fit=False,\n",
    "            padding=(0, 100),\n",
    "            port_scale=(1, 20),\n",
    "        ):\n",
    "            hierarchy = make_random_forest(\n",
    "                number_of_nodes=number_of_nodes,\n",
    "                hierarchy_roots=hierarchy_roots,\n",
    "                seed=seed,\n",
    "            )\n",
    "\n",
    "            number_of_edges = max(1, int(number_of_nodes * 0.01 * percent_of_edges))\n",
    "\n",
    "            graph = nx.generators.random_graphs.barabasi_albert_graph(\n",
    "                n=number_of_nodes,\n",
    "                m=number_of_edges,\n",
    "                seed=seed,\n",
    "            )\n",
    "\n",
    "            for edge in sorted(graph.edges):\n",
    "                graph.edges[edge][\"sourcePort\"] = edge\n",
    "                graph.edges[edge][\"targetPort\"] = edge\n",
    "\n",
    "            with app.transformer.hold_trait_notifications():\n",
    "                app.transformer.port_scale = port_scale\n",
    "                app.transformer.source = (graph, hierarchy)\n",
    "\n",
    "            if fit:\n",
    "                app.diagram.fit(\"root\", padding=padding)\n",
    "\n",
    "            if debug:\n",
    "                counter = defaultdict(list)\n",
    "                [counter[src].append(tgt) for src, tgt in graph.edges]\n",
    "                pprint(dict(counter))\n",
    "                pprint(sum(list(find_all(app.transformer.value, \"edges\")), []))\n",
    "\n",
    "            out.clear_output()\n",
    "            return JSON(app.diagram.value)\n",
    "\n",
    "    out.clear_output()\n",
    "\n",
    "    return (\n",
    "        app,\n",
    "        W.HBox([make_graph.widget, box], layout=dict(height=\"100%\", flex=\"1\")),\n",
    "        xelk,\n",
    "        elk,\n",
    "    )"
   ]
  },
  {
   "cell_type": "code",
   "execution_count": null,
   "metadata": {},
   "outputs": [],
   "source": [
    "if __name__ == \"__main__\":\n",
    "    display(an_elk_in_a_random_forest()[1])"
   ]
  },
  {
   "cell_type": "markdown",
   "metadata": {},
   "source": [
    "## 🦌 Learn More 📖\n",
    "\n",
    "See the [other examples](./_index.ipynb)."
   ]
  }
 ],
 "metadata": {
  "kernelspec": {
   "display_name": "Python 3",
   "language": "python",
   "name": "python3"
  },
  "language_info": {
   "codemirror_mode": {
    "name": "ipython",
    "version": 3
   },
   "file_extension": ".py",
   "mimetype": "text/x-python",
   "name": "python",
   "nbconvert_exporter": "python",
   "pygments_lexer": "ipython3",
   "version": "3.7.9"
  }
 },
 "nbformat": 4,
 "nbformat_minor": 4
}
