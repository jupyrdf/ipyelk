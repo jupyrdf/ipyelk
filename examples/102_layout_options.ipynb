{
 "cells": [
  {
   "cell_type": "markdown",
   "metadata": {},
   "source": [
    "# Widget Experiments for Creating UI to control Label Placement"
   ]
  },
  {
   "cell_type": "code",
   "execution_count": null,
   "metadata": {},
   "outputs": [],
   "source": [
    "import asyncio\n",
    "\n",
    "import importnb\n",
    "import ipywidgets as W\n",
    "import traitlets as T\n",
    "from IPython.display import display\n",
    "\n",
    "import ipyelk\n",
    "from ipyelk.diagram import layout_options"
   ]
  },
  {
   "cell_type": "code",
   "execution_count": null,
   "metadata": {},
   "outputs": [],
   "source": [
    "with importnb.Notebook():\n",
    "    from __100_node_label_placement import (\n",
    "        an_elk_example_with_custom_node_label_placement,\n",
    "        update_label_layout_options,\n",
    "    )"
   ]
  },
  {
   "cell_type": "code",
   "execution_count": null,
   "metadata": {},
   "outputs": [],
   "source": [
    "def a_node_options_example():\n",
    "    nlp = layout_options.NodeLabelPlacement()\n",
    "    nsc = layout_options.NodeSizeConstraints()\n",
    "    nsm = layout_options.NodeSizeMinimum()\n",
    "\n",
    "    options_widgets = layout_options.OptionsWidget(options=[nlp, nsc, nsm])\n",
    "    return options_widgets"
   ]
  },
  {
   "cell_type": "code",
   "execution_count": null,
   "metadata": {},
   "outputs": [],
   "source": [
    "if __name__ == \"__main__\":\n",
    "    options_widgets = a_node_options_example()\n",
    "    display(options_widgets)"
   ]
  },
  {
   "cell_type": "markdown",
   "metadata": {},
   "source": [
    "### Elk Layout options are available off the `value` trait"
   ]
  },
  {
   "cell_type": "code",
   "execution_count": null,
   "metadata": {},
   "outputs": [],
   "source": [
    "if __name__ == \"__main__\":\n",
    "    display(options_widgets.value)"
   ]
  },
  {
   "cell_type": "markdown",
   "metadata": {},
   "source": [
    "ELKJSON build acceptable value for the label placement"
   ]
  },
  {
   "cell_type": "markdown",
   "metadata": {},
   "source": [
    "### Example connecting Layout Options widget value to the Simple Diagram"
   ]
  },
  {
   "cell_type": "code",
   "execution_count": null,
   "metadata": {},
   "outputs": [],
   "source": [
    "def an_elk_example_with_many_options(options_widgets=None):\n",
    "    options_widgets = options_widgets or a_node_options_example()\n",
    "    nlp = options_widgets.options[0]\n",
    "\n",
    "    def update_options(node, options, sizer, node_options=None):\n",
    "        return update_label_layout_options(node, options, sizer, options_widgets.value)\n",
    "\n",
    "    box, refresh, nlp, sizer, elk = an_elk_example_with_custom_node_label_placement(\n",
    "        nlp, update_options\n",
    "    )\n",
    "\n",
    "    box = W.HBox([elk, options_widgets], layout={\"height\": \"400px\"})\n",
    "    options_widgets.observe(refresh, \"value\")\n",
    "    refresh()\n",
    "    return box, nlp, sizer, elk"
   ]
  },
  {
   "cell_type": "code",
   "execution_count": null,
   "metadata": {},
   "outputs": [],
   "source": [
    "if __name__ == \"__main__\":\n",
    "    display(an_elk_example_with_many_options(options_widgets=options_widgets)[0])"
   ]
  },
  {
   "cell_type": "markdown",
   "metadata": {},
   "source": [
    "## 🦌 Learn More 📖\n",
    "\n",
    "See the [other examples](./_index.ipynb)."
   ]
  }
 ],
 "metadata": {
  "kernelspec": {
   "display_name": "Python 3",
   "language": "python",
   "name": "python3"
  },
  "language_info": {
   "codemirror_mode": {
    "name": "ipython",
    "version": 3
   },
   "file_extension": ".py",
   "mimetype": "text/x-python",
   "name": "python",
   "nbconvert_exporter": "python",
   "pygments_lexer": "ipython3",
   "version": "3.7.9"
  }
 },
 "nbformat": 4,
 "nbformat_minor": 4
}
